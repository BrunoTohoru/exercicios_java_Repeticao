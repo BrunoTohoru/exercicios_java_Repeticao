{
  "nbformat": 4,
  "nbformat_minor": 0,
  "metadata": {
    "colab": {
      "provenance": [],
      "collapsed_sections": [
        "Kc05zZRPlx_Q",
        "APdV3rxutT3d",
        "gDz3cB0SwIMR",
        "DRX8AZicGJx3"
      ],
      "toc_visible": true,
      "authorship_tag": "ABX9TyP3GmAe0/FgwiJTpaTnNYs3",
      "include_colab_link": true
    },
    "kernelspec": {
      "name": "python3",
      "display_name": "Python 3"
    },
    "language_info": {
      "name": "python"
    },
    "accelerator": "GPU",
    "gpuClass": "standard"
  },
  "cells": [
    {
      "cell_type": "markdown",
      "metadata": {
        "id": "view-in-github",
        "colab_type": "text"
      },
      "source": [
        "<a href=\"https://colab.research.google.com/github/BrunoTohoru/exercicios_java_Repeticao/blob/main/00_tenserflow_fundamentals.ipynb\" target=\"_parent\"><img src=\"https://colab.research.google.com/assets/colab-badge.svg\" alt=\"Open In Colab\"/></a>"
      ]
    },
    {
      "cell_type": "markdown",
      "source": [
        "#Aqui veremos alguns dos fundamentos e conseitos do tensor usando TenserFlow\n",
        "\n",
        "Mais especificamente, vamos ter:\n",
        "* Introdução de Tensors\n",
        "* Coletar informações dos Tensors\n",
        "* Manipular Tensors\n",
        "* Tensors & Numpy\n",
        "* Usar @tf.function (um jeito de agilizar as funcções regulares de Python)\n",
        "* Usar GPUs com TenserFlow (ou TPUs)\n",
        "* Exercicios para fixação"
      ],
      "metadata": {
        "id": "VxK65PModFLi"
      }
    },
    {
      "cell_type": "markdown",
      "source": [
        "#Introdução de Tensors"
      ],
      "metadata": {
        "id": "EZBHj2iKbbTM"
      }
    },
    {
      "cell_type": "code",
      "source": [
        "# Import TensorFlow\n",
        "import tensorflow as tf\n",
        "print(tf.__version__)"
      ],
      "metadata": {
        "colab": {
          "base_uri": "https://localhost:8080/"
        },
        "id": "y26oJFEjdeDa",
        "outputId": "15abd63f-9583-410d-b0a3-3c8b50738eb3"
      },
      "execution_count": 2,
      "outputs": [
        {
          "output_type": "stream",
          "name": "stdout",
          "text": [
            "2.12.0\n"
          ]
        }
      ]
    },
    {
      "cell_type": "code",
      "source": [
        "# Criando Tensors com tf.constant()\n",
        "scalar = tf.constant(7)\n",
        "scalar"
      ],
      "metadata": {
        "colab": {
          "base_uri": "https://localhost:8080/"
        },
        "id": "otfCh57KeFys",
        "outputId": "86708b09-8ed9-40b4-a2e2-b265c8933850"
      },
      "execution_count": 3,
      "outputs": [
        {
          "output_type": "execute_result",
          "data": {
            "text/plain": [
              "<tf.Tensor: shape=(), dtype=int32, numpy=7>"
            ]
          },
          "metadata": {},
          "execution_count": 3
        }
      ]
    },
    {
      "cell_type": "code",
      "source": [
        "# Checando o número de dimensões de um Tensor (ndim refere-se ao número de dimensões)\n",
        "scalar.ndim"
      ],
      "metadata": {
        "colab": {
          "base_uri": "https://localhost:8080/"
        },
        "id": "Rm-i0Lczev9v",
        "outputId": "e9641ea2-6dd1-4e61-c9c9-0533a61ee5e9"
      },
      "execution_count": 4,
      "outputs": [
        {
          "output_type": "execute_result",
          "data": {
            "text/plain": [
              "0"
            ]
          },
          "metadata": {},
          "execution_count": 4
        }
      ]
    },
    {
      "cell_type": "code",
      "source": [
        "# Criando um vetor\n",
        "vector = tf.constant([10,10])\n",
        "vector"
      ],
      "metadata": {
        "colab": {
          "base_uri": "https://localhost:8080/"
        },
        "id": "vnRdw1PrfIm0",
        "outputId": "46046d07-e3dc-40b1-d88f-065cb35ebd98"
      },
      "execution_count": 5,
      "outputs": [
        {
          "output_type": "execute_result",
          "data": {
            "text/plain": [
              "<tf.Tensor: shape=(2,), dtype=int32, numpy=array([10, 10], dtype=int32)>"
            ]
          },
          "metadata": {},
          "execution_count": 5
        }
      ]
    },
    {
      "cell_type": "code",
      "source": [
        "# Checando a dimensão do vetor\n",
        "vector.ndim"
      ],
      "metadata": {
        "colab": {
          "base_uri": "https://localhost:8080/"
        },
        "id": "LWh8D7aJfX6s",
        "outputId": "0817cb77-2bb4-4cb7-9baa-5101d61071bd"
      },
      "execution_count": 6,
      "outputs": [
        {
          "output_type": "execute_result",
          "data": {
            "text/plain": [
              "1"
            ]
          },
          "metadata": {},
          "execution_count": 6
        }
      ]
    },
    {
      "cell_type": "code",
      "source": [
        "# Criando a matriz (tem mais de uma dimensão)\n",
        "matrix = tf.constant([[10,7],\n",
        "                      [7,10]])\n",
        "matrix"
      ],
      "metadata": {
        "colab": {
          "base_uri": "https://localhost:8080/"
        },
        "id": "9BcDkoE_fhww",
        "outputId": "dadf07ac-a1af-4d70-dc3f-a62dcfbab7aa"
      },
      "execution_count": 7,
      "outputs": [
        {
          "output_type": "execute_result",
          "data": {
            "text/plain": [
              "<tf.Tensor: shape=(2, 2), dtype=int32, numpy=\n",
              "array([[10,  7],\n",
              "       [ 7, 10]], dtype=int32)>"
            ]
          },
          "metadata": {},
          "execution_count": 7
        }
      ]
    },
    {
      "cell_type": "code",
      "source": [
        "matrix.ndim"
      ],
      "metadata": {
        "colab": {
          "base_uri": "https://localhost:8080/"
        },
        "id": "gEqjCke2f4FP",
        "outputId": "ffd0f383-4df7-4c09-b0a4-82a1dd05b09e"
      },
      "execution_count": 8,
      "outputs": [
        {
          "output_type": "execute_result",
          "data": {
            "text/plain": [
              "2"
            ]
          },
          "metadata": {},
          "execution_count": 8
        }
      ]
    },
    {
      "cell_type": "code",
      "source": [
        "# Criando uma nova matriz\n",
        "another_matrix = tf.constant([[10.,7.],\n",
        "                              [3.,2.],\n",
        "                              [8.,9.]], dtype=tf.float16) # especificando o tipo de dado com o comando dtype\n",
        "another_matrix"
      ],
      "metadata": {
        "colab": {
          "base_uri": "https://localhost:8080/"
        },
        "id": "C3J-cuRef_d_",
        "outputId": "505e3404-3647-4544-b07d-7380fc85abc2"
      },
      "execution_count": 9,
      "outputs": [
        {
          "output_type": "execute_result",
          "data": {
            "text/plain": [
              "<tf.Tensor: shape=(3, 2), dtype=float16, numpy=\n",
              "array([[10.,  7.],\n",
              "       [ 3.,  2.],\n",
              "       [ 8.,  9.]], dtype=float16)>"
            ]
          },
          "metadata": {},
          "execution_count": 9
        }
      ]
    },
    {
      "cell_type": "code",
      "source": [
        "# Qual o número de dimensões que aparecerá usando o ndim?\n",
        "another_matrix.ndim"
      ],
      "metadata": {
        "colab": {
          "base_uri": "https://localhost:8080/"
        },
        "id": "_zOUxuX1g3Ye",
        "outputId": "459f5938-0be4-4d7b-ea97-5f07b6a82d5e"
      },
      "execution_count": 10,
      "outputs": [
        {
          "output_type": "execute_result",
          "data": {
            "text/plain": [
              "2"
            ]
          },
          "metadata": {},
          "execution_count": 10
        }
      ]
    },
    {
      "cell_type": "code",
      "source": [
        "# Vamos criar um Tensor\n",
        "tensor = tf.constant([[[1, 2, 3],\n",
        "                      [4, 5, 6]],\n",
        "                     [[7, 8, 9],\n",
        "                      [10, 11, 12]],\n",
        "                     [[13, 14, 15],\n",
        "                      [16, 17, 18]]])\n",
        "tensor"
      ],
      "metadata": {
        "colab": {
          "base_uri": "https://localhost:8080/"
        },
        "id": "ADxBxZErhPr-",
        "outputId": "248a93e3-1d47-40a2-c82f-3973da928ede"
      },
      "execution_count": 11,
      "outputs": [
        {
          "output_type": "execute_result",
          "data": {
            "text/plain": [
              "<tf.Tensor: shape=(3, 2, 3), dtype=int32, numpy=\n",
              "array([[[ 1,  2,  3],\n",
              "        [ 4,  5,  6]],\n",
              "\n",
              "       [[ 7,  8,  9],\n",
              "        [10, 11, 12]],\n",
              "\n",
              "       [[13, 14, 15],\n",
              "        [16, 17, 18]]], dtype=int32)>"
            ]
          },
          "metadata": {},
          "execution_count": 11
        }
      ]
    },
    {
      "cell_type": "code",
      "source": [
        "tensor.ndim"
      ],
      "metadata": {
        "colab": {
          "base_uri": "https://localhost:8080/"
        },
        "id": "3f1nPnc6iVUi",
        "outputId": "2620c740-ff2f-4a7f-8bff-8d026b75a0b4"
      },
      "execution_count": 12,
      "outputs": [
        {
          "output_type": "execute_result",
          "data": {
            "text/plain": [
              "3"
            ]
          },
          "metadata": {},
          "execution_count": 12
        }
      ]
    },
    {
      "cell_type": "markdown",
      "source": [
        "O que crimaos até agora:\n",
        "* Scalar: Um elemento apenas\n",
        "* Vector: Um vetor unidimencional de elementos\n",
        "* Matrix: Uma matriz bidimensional de elementos\n",
        "* Tensor: Uma matriz n-dimensional de elementos"
      ],
      "metadata": {
        "id": "tNqPn1lxigzx"
      }
    },
    {
      "cell_type": "markdown",
      "source": [
        "### Criando Tensors com tf.Variable"
      ],
      "metadata": {
        "id": "8FzO4eZ_j6_t"
      }
    },
    {
      "cell_type": "code",
      "source": [
        "# Criando o mesmo tensor  com tf.Variable() como a de cima\n",
        "changeable_tensor = tf.Variable([10, 7])\n",
        "unchangeable_tensor = tf.constant([10, 7])\n",
        "changeable_tensor, unchangeable_tensor"
      ],
      "metadata": {
        "colab": {
          "base_uri": "https://localhost:8080/"
        },
        "id": "-7pp3LJ8jt4T",
        "outputId": "3459836b-1bfe-402a-f63e-bf99dd3d0b67"
      },
      "execution_count": 13,
      "outputs": [
        {
          "output_type": "execute_result",
          "data": {
            "text/plain": [
              "(<tf.Variable 'Variable:0' shape=(2,) dtype=int32, numpy=array([10,  7], dtype=int32)>,\n",
              " <tf.Tensor: shape=(2,), dtype=int32, numpy=array([10,  7], dtype=int32)>)"
            ]
          },
          "metadata": {},
          "execution_count": 13
        }
      ]
    },
    {
      "cell_type": "code",
      "source": [
        "# Vamos tentar mudar um dos elementos do Tensor modificável\n",
        "#changeable_tensor[0] = 7 (vai dar erro)\n",
        "#changeable_tensor"
      ],
      "metadata": {
        "id": "nwdnx8_plKDo"
      },
      "execution_count": 14,
      "outputs": []
    },
    {
      "cell_type": "code",
      "source": [
        "# E se tentarmos com .assign()\n",
        "changeable_tensor[0].assign(7)\n",
        "changeable_tensor"
      ],
      "metadata": {
        "colab": {
          "base_uri": "https://localhost:8080/"
        },
        "id": "TT8Rh4fFlikS",
        "outputId": "0ba446dd-896a-41b2-b5af-3c2d4cb58489"
      },
      "execution_count": 15,
      "outputs": [
        {
          "output_type": "execute_result",
          "data": {
            "text/plain": [
              "<tf.Variable 'Variable:0' shape=(2,) dtype=int32, numpy=array([7, 7], dtype=int32)>"
            ]
          },
          "metadata": {},
          "execution_count": 15
        }
      ]
    },
    {
      "cell_type": "markdown",
      "source": [
        "### Criando aleatoriamento Tensors\n",
        "\n"
      ],
      "metadata": {
        "id": "Kc05zZRPlx_Q"
      }
    },
    {
      "cell_type": "code",
      "source": [
        "# Criando dois Tensors aleatorios (mas iguais) \n",
        "random_1 = tf.random.Generator.from_seed(42) # usasse seed para reprodução\n",
        "random_1 = random_1.normal(shape = (3, 2))\n",
        "random_2 = tf.random.Generator.from_seed(42)\n",
        "random_2 = random_2.normal(shape = (3, 2))\n",
        "\n",
        "# São iguais?\n",
        "random_1, random_2, random_1 == random_2"
      ],
      "metadata": {
        "colab": {
          "base_uri": "https://localhost:8080/"
        },
        "id": "AhwI4wlcmaFJ",
        "outputId": "e60b9292-4192-45bf-ae06-13e830a8b05f"
      },
      "execution_count": 16,
      "outputs": [
        {
          "output_type": "execute_result",
          "data": {
            "text/plain": [
              "(<tf.Tensor: shape=(3, 2), dtype=float32, numpy=\n",
              " array([[-0.7565803 , -0.06854702],\n",
              "        [ 0.07595026, -1.2573844 ],\n",
              "        [-0.23193765, -1.8107855 ]], dtype=float32)>,\n",
              " <tf.Tensor: shape=(3, 2), dtype=float32, numpy=\n",
              " array([[-0.7565803 , -0.06854702],\n",
              "        [ 0.07595026, -1.2573844 ],\n",
              "        [-0.23193765, -1.8107855 ]], dtype=float32)>,\n",
              " <tf.Tensor: shape=(3, 2), dtype=bool, numpy=\n",
              " array([[ True,  True],\n",
              "        [ True,  True],\n",
              "        [ True,  True]])>)"
            ]
          },
          "metadata": {},
          "execution_count": 16
        }
      ]
    },
    {
      "cell_type": "markdown",
      "source": [
        "### Como misturar as odens dos elementos do Tensor"
      ],
      "metadata": {
        "id": "APdV3rxutT3d"
      }
    },
    {
      "cell_type": "code",
      "source": [
        "# Misturando um Tensor\n",
        "not_shuffled = tf.constant([[10, 7],\n",
        "                            [3, 4],\n",
        "                            [2, 5]])\n",
        "not_shuffled.ndim\n",
        "\n",
        "# Misturando nosso Tensor não-misturado\n",
        "tf.random.shuffle(not_shuffled)"
      ],
      "metadata": {
        "colab": {
          "base_uri": "https://localhost:8080/"
        },
        "id": "AZLp7a8TtcoJ",
        "outputId": "5ee57723-2ea7-483d-c8e3-0873a044a4c6"
      },
      "execution_count": 17,
      "outputs": [
        {
          "output_type": "execute_result",
          "data": {
            "text/plain": [
              "<tf.Tensor: shape=(3, 2), dtype=int32, numpy=\n",
              "array([[ 2,  5],\n",
              "       [ 3,  4],\n",
              "       [10,  7]], dtype=int32)>"
            ]
          },
          "metadata": {},
          "execution_count": 17
        }
      ]
    },
    {
      "cell_type": "code",
      "source": [
        "# Misturando nosso Tensor não-misturado\n",
        "tf.random.set_seed(42)\n",
        "tf.random.shuffle(not_shuffled, seed = 42)"
      ],
      "metadata": {
        "colab": {
          "base_uri": "https://localhost:8080/"
        },
        "id": "sy0_7MKuvQkH",
        "outputId": "084d369d-1b5e-4a4c-abf6-900a48c11775"
      },
      "execution_count": 18,
      "outputs": [
        {
          "output_type": "execute_result",
          "data": {
            "text/plain": [
              "<tf.Tensor: shape=(3, 2), dtype=int32, numpy=\n",
              "array([[10,  7],\n",
              "       [ 3,  4],\n",
              "       [ 2,  5]], dtype=int32)>"
            ]
          },
          "metadata": {},
          "execution_count": 18
        }
      ]
    },
    {
      "cell_type": "markdown",
      "source": [
        "###⚓**Exercicio:** Ler documentoação sobre random seed generation no TensorFlow:\n",
        "https://www.tensorflow.org/api_docs/python/tf/random/set_seed\n",
        "\n",
        "e faça mais 5 random tensors e misture eles"
      ],
      "metadata": {
        "id": "gDz3cB0SwIMR"
      }
    },
    {
      "cell_type": "code",
      "source": [
        "# Exercicio 01\n",
        "exec_01 = tf.constant([[[1, 2, 3],\n",
        "                        [4, 5, 6],\n",
        "                        [7, 8, 9]],\n",
        "                       [[10, 11, 12],\n",
        "                        [13, 14, 15],\n",
        "                        [16, 17, 18]],\n",
        "                       [[19, 20, 21],\n",
        "                        [22, 23, 24],\n",
        "                        [25, 26, 27]]])\n",
        "tf.random.set_seed(42) # seed global\n",
        "tf.random.shuffle(exec_01, seed = 42) # seed operacional \n",
        "\n",
        "# com seed global e operacional, não tem mudanças no shuffle"
      ],
      "metadata": {
        "colab": {
          "base_uri": "https://localhost:8080/"
        },
        "id": "oNVUuRnixs_A",
        "outputId": "6d5092b3-f235-4bdd-a1bd-6de834c92bc2"
      },
      "execution_count": 19,
      "outputs": [
        {
          "output_type": "execute_result",
          "data": {
            "text/plain": [
              "<tf.Tensor: shape=(3, 3, 3), dtype=int32, numpy=\n",
              "array([[[ 1,  2,  3],\n",
              "        [ 4,  5,  6],\n",
              "        [ 7,  8,  9]],\n",
              "\n",
              "       [[10, 11, 12],\n",
              "        [13, 14, 15],\n",
              "        [16, 17, 18]],\n",
              "\n",
              "       [[19, 20, 21],\n",
              "        [22, 23, 24],\n",
              "        [25, 26, 27]]], dtype=int32)>"
            ]
          },
          "metadata": {},
          "execution_count": 19
        }
      ]
    },
    {
      "cell_type": "code",
      "source": [
        "# Exercicio 02\n",
        "exec_02 = tf.constant([[[1, 2, 3],\n",
        "                        [4, 5, 6],\n",
        "                        [7, 8, 9]],\n",
        "                       [[10, 11, 12],\n",
        "                        [13, 14, 15],\n",
        "                        [16, 17, 18]],\n",
        "                       [[19, 20, 21],\n",
        "                        [22, 23, 24],\n",
        "                        [25, 26, 27]]])\n",
        "tf.random.shuffle(exec_02)\n",
        "\n",
        "# sem seed global e operacional (seed global é default), tem mudanças no shuffle"
      ],
      "metadata": {
        "colab": {
          "base_uri": "https://localhost:8080/"
        },
        "id": "Cdf9e1qmAvRx",
        "outputId": "34bbbf87-3112-4ac6-cb61-6288c3b87b74"
      },
      "execution_count": 20,
      "outputs": [
        {
          "output_type": "execute_result",
          "data": {
            "text/plain": [
              "<tf.Tensor: shape=(3, 3, 3), dtype=int32, numpy=\n",
              "array([[[10, 11, 12],\n",
              "        [13, 14, 15],\n",
              "        [16, 17, 18]],\n",
              "\n",
              "       [[19, 20, 21],\n",
              "        [22, 23, 24],\n",
              "        [25, 26, 27]],\n",
              "\n",
              "       [[ 1,  2,  3],\n",
              "        [ 4,  5,  6],\n",
              "        [ 7,  8,  9]]], dtype=int32)>"
            ]
          },
          "metadata": {},
          "execution_count": 20
        }
      ]
    },
    {
      "cell_type": "code",
      "source": [
        "# Exercicio 03\n",
        "exec_03 = tf.constant([[[1, 2, 3],\n",
        "                        [4, 5, 6],\n",
        "                        [7, 8, 9]],\n",
        "                       [[10, 11, 12],\n",
        "                        [13, 14, 15],\n",
        "                        [16, 17, 18]],\n",
        "                       [[19, 20, 21],\n",
        "                        [22, 23, 24],\n",
        "                        [25, 26, 27]]])\n",
        "tf.random.shuffle(exec_03, seed = 12)\n",
        "\n",
        "# apenas seed operacional, tem mudanças no shuffle"
      ],
      "metadata": {
        "colab": {
          "base_uri": "https://localhost:8080/"
        },
        "id": "5TjMpxBPCYw5",
        "outputId": "35d3dbbe-8ae8-42ce-f63e-8a1c598360f6"
      },
      "execution_count": 21,
      "outputs": [
        {
          "output_type": "execute_result",
          "data": {
            "text/plain": [
              "<tf.Tensor: shape=(3, 3, 3), dtype=int32, numpy=\n",
              "array([[[19, 20, 21],\n",
              "        [22, 23, 24],\n",
              "        [25, 26, 27]],\n",
              "\n",
              "       [[10, 11, 12],\n",
              "        [13, 14, 15],\n",
              "        [16, 17, 18]],\n",
              "\n",
              "       [[ 1,  2,  3],\n",
              "        [ 4,  5,  6],\n",
              "        [ 7,  8,  9]]], dtype=int32)>"
            ]
          },
          "metadata": {},
          "execution_count": 21
        }
      ]
    },
    {
      "cell_type": "code",
      "source": [
        "# Exercicio 04\n",
        "exec_04 = tf.constant([[[1, 2, 3],\n",
        "                        [4, 5, 6],\n",
        "                        [7, 8, 9]],\n",
        "                       [[10, 11, 12],\n",
        "                        [13, 14, 15],\n",
        "                        [16, 17, 18]],\n",
        "                       [[19, 20, 21],\n",
        "                        [22, 23, 24],\n",
        "                        [25, 26, 27]]])\n",
        "tf.random.set_seed(60)\n",
        "tf.random.shuffle(exec_04)\n",
        "\n",
        "# apenas seed global, porém só há mudanças caso mude o parâmetro do seed"
      ],
      "metadata": {
        "colab": {
          "base_uri": "https://localhost:8080/"
        },
        "id": "RqaQwbFWDAgh",
        "outputId": "127aa1e8-f288-4324-8099-560b2421d567"
      },
      "execution_count": 22,
      "outputs": [
        {
          "output_type": "execute_result",
          "data": {
            "text/plain": [
              "<tf.Tensor: shape=(3, 3, 3), dtype=int32, numpy=\n",
              "array([[[ 1,  2,  3],\n",
              "        [ 4,  5,  6],\n",
              "        [ 7,  8,  9]],\n",
              "\n",
              "       [[19, 20, 21],\n",
              "        [22, 23, 24],\n",
              "        [25, 26, 27]],\n",
              "\n",
              "       [[10, 11, 12],\n",
              "        [13, 14, 15],\n",
              "        [16, 17, 18]]], dtype=int32)>"
            ]
          },
          "metadata": {},
          "execution_count": 22
        }
      ]
    },
    {
      "cell_type": "code",
      "source": [
        "# Exercicio 05\n",
        "exec_05 = tf.constant([[[1, 2, 3],\n",
        "                        [4, 5, 6],\n",
        "                        [7, 8, 9]],\n",
        "                       [[10, 11, 12],\n",
        "                        [13, 14, 15],\n",
        "                        [16, 17, 18]],\n",
        "                       [[19, 20, 21],\n",
        "                        [22, 23, 24],\n",
        "                        [25, 26, 27]]])\n",
        "tf.random.set_seed(None)\n",
        "tf.random.shuffle(exec_05, seed = None)\n",
        "\n",
        "# Mesmo com ambos seed com None, há mudanças no Tensor"
      ],
      "metadata": {
        "colab": {
          "base_uri": "https://localhost:8080/"
        },
        "id": "sR1_HWX3EQO7",
        "outputId": "41698750-201d-472c-b71b-1a64561c8a11"
      },
      "execution_count": 23,
      "outputs": [
        {
          "output_type": "execute_result",
          "data": {
            "text/plain": [
              "<tf.Tensor: shape=(3, 3, 3), dtype=int32, numpy=\n",
              "array([[[ 1,  2,  3],\n",
              "        [ 4,  5,  6],\n",
              "        [ 7,  8,  9]],\n",
              "\n",
              "       [[10, 11, 12],\n",
              "        [13, 14, 15],\n",
              "        [16, 17, 18]],\n",
              "\n",
              "       [[19, 20, 21],\n",
              "        [22, 23, 24],\n",
              "        [25, 26, 27]]], dtype=int32)>"
            ]
          },
          "metadata": {},
          "execution_count": 23
        }
      ]
    },
    {
      "cell_type": "markdown",
      "source": [
        "### Outros jeitos de criar Tensors"
      ],
      "metadata": {
        "id": "DRX8AZicGJx3"
      }
    },
    {
      "cell_type": "code",
      "source": [
        "# Cria um Tensor de apenas 1's\n",
        "tf.ones([10, 7]) "
      ],
      "metadata": {
        "colab": {
          "base_uri": "https://localhost:8080/"
        },
        "id": "Nr3WiDmNGUbj",
        "outputId": "89c6e92c-1fa5-45ec-a553-33efd005208c"
      },
      "execution_count": 24,
      "outputs": [
        {
          "output_type": "execute_result",
          "data": {
            "text/plain": [
              "<tf.Tensor: shape=(10, 7), dtype=float32, numpy=\n",
              "array([[1., 1., 1., 1., 1., 1., 1.],\n",
              "       [1., 1., 1., 1., 1., 1., 1.],\n",
              "       [1., 1., 1., 1., 1., 1., 1.],\n",
              "       [1., 1., 1., 1., 1., 1., 1.],\n",
              "       [1., 1., 1., 1., 1., 1., 1.],\n",
              "       [1., 1., 1., 1., 1., 1., 1.],\n",
              "       [1., 1., 1., 1., 1., 1., 1.],\n",
              "       [1., 1., 1., 1., 1., 1., 1.],\n",
              "       [1., 1., 1., 1., 1., 1., 1.],\n",
              "       [1., 1., 1., 1., 1., 1., 1.]], dtype=float32)>"
            ]
          },
          "metadata": {},
          "execution_count": 24
        }
      ]
    },
    {
      "cell_type": "code",
      "source": [
        "# Cria um Tensor de apenas 0's\n",
        "tf.zeros(shape = (10, 7))"
      ],
      "metadata": {
        "colab": {
          "base_uri": "https://localhost:8080/"
        },
        "id": "lmVrIRuAGoF_",
        "outputId": "662f77cd-c42f-4d1a-f4fb-76ee0bf41948"
      },
      "execution_count": 25,
      "outputs": [
        {
          "output_type": "execute_result",
          "data": {
            "text/plain": [
              "<tf.Tensor: shape=(10, 7), dtype=float32, numpy=\n",
              "array([[0., 0., 0., 0., 0., 0., 0.],\n",
              "       [0., 0., 0., 0., 0., 0., 0.],\n",
              "       [0., 0., 0., 0., 0., 0., 0.],\n",
              "       [0., 0., 0., 0., 0., 0., 0.],\n",
              "       [0., 0., 0., 0., 0., 0., 0.],\n",
              "       [0., 0., 0., 0., 0., 0., 0.],\n",
              "       [0., 0., 0., 0., 0., 0., 0.],\n",
              "       [0., 0., 0., 0., 0., 0., 0.],\n",
              "       [0., 0., 0., 0., 0., 0., 0.],\n",
              "       [0., 0., 0., 0., 0., 0., 0.]], dtype=float32)>"
            ]
          },
          "metadata": {},
          "execution_count": 25
        }
      ]
    },
    {
      "cell_type": "markdown",
      "source": [
        "### Transformar vetores NumPy em Tensors\n",
        "\n",
        "A principal diferença entre vetores NumPy e TensorFlow Tensors é que Tensors podem rodar em GPU (mais rapidos para computação numérica)."
      ],
      "metadata": {
        "id": "yJPbqoUrHMtL"
      }
    },
    {
      "cell_type": "code",
      "source": [
        "# Também podemos transformar vetores Numpy em Tensors\n",
        "import numpy as np\n",
        "numpy_A = np.arange(1, 25, dtype=np.int32)\n",
        "numpy_A\n",
        "\n",
        "# X = tf.constant(some_matrix) # capital for matrix or tensor\n",
        "# Y = tf.constant(vector) # non-capital for vector"
      ],
      "metadata": {
        "colab": {
          "base_uri": "https://localhost:8080/"
        },
        "id": "QqFRbFVMHDE0",
        "outputId": "517e6f29-cc18-411e-995c-a3ce84007e6b"
      },
      "execution_count": 26,
      "outputs": [
        {
          "output_type": "execute_result",
          "data": {
            "text/plain": [
              "array([ 1,  2,  3,  4,  5,  6,  7,  8,  9, 10, 11, 12, 13, 14, 15, 16, 17,\n",
              "       18, 19, 20, 21, 22, 23, 24], dtype=int32)"
            ]
          },
          "metadata": {},
          "execution_count": 26
        }
      ]
    },
    {
      "cell_type": "code",
      "source": [
        "A = tf.constant(numpy_A, shape=(2,3,4))\n",
        "B = tf.constant(numpy_A)\n",
        "A, B"
      ],
      "metadata": {
        "colab": {
          "base_uri": "https://localhost:8080/"
        },
        "id": "B-vRo0e3IR0w",
        "outputId": "5baa9782-9e5b-4cb7-f35c-ef8e12eccb43"
      },
      "execution_count": 27,
      "outputs": [
        {
          "output_type": "execute_result",
          "data": {
            "text/plain": [
              "(<tf.Tensor: shape=(2, 3, 4), dtype=int32, numpy=\n",
              " array([[[ 1,  2,  3,  4],\n",
              "         [ 5,  6,  7,  8],\n",
              "         [ 9, 10, 11, 12]],\n",
              " \n",
              "        [[13, 14, 15, 16],\n",
              "         [17, 18, 19, 20],\n",
              "         [21, 22, 23, 24]]], dtype=int32)>,\n",
              " <tf.Tensor: shape=(24,), dtype=int32, numpy=\n",
              " array([ 1,  2,  3,  4,  5,  6,  7,  8,  9, 10, 11, 12, 13, 14, 15, 16, 17,\n",
              "        18, 19, 20, 21, 22, 23, 24], dtype=int32)>)"
            ]
          },
          "metadata": {},
          "execution_count": 27
        }
      ]
    },
    {
      "cell_type": "code",
      "source": [
        "# Exercicio, criando NumPy arrays e transforamando eles em Tensors\n",
        "import numpy as np\n",
        "import tensorflow as tf\n",
        "#criação de um vetor NumPy\n",
        "exerc_06 = np.arange(1, 21, dtype=np.int32)\n",
        "exerc_06\n",
        "#transformando em Tensor\n",
        "exerc_06_tensor1 = tf.constant(exerc_06, shape=(4,5))\n",
        "exerc_06_tensor2 = tf.constant(exerc_06, shape=(2,2,5))\n",
        "exerc_06_tensor1,exerc_06_tensor2"
      ],
      "metadata": {
        "colab": {
          "base_uri": "https://localhost:8080/"
        },
        "id": "SKRjjr4FsQ2V",
        "outputId": "d9d6d893-ed58-47c3-c2f7-36663e0807db"
      },
      "execution_count": 28,
      "outputs": [
        {
          "output_type": "execute_result",
          "data": {
            "text/plain": [
              "(<tf.Tensor: shape=(4, 5), dtype=int32, numpy=\n",
              " array([[ 1,  2,  3,  4,  5],\n",
              "        [ 6,  7,  8,  9, 10],\n",
              "        [11, 12, 13, 14, 15],\n",
              "        [16, 17, 18, 19, 20]], dtype=int32)>,\n",
              " <tf.Tensor: shape=(2, 2, 5), dtype=int32, numpy=\n",
              " array([[[ 1,  2,  3,  4,  5],\n",
              "         [ 6,  7,  8,  9, 10]],\n",
              " \n",
              "        [[11, 12, 13, 14, 15],\n",
              "         [16, 17, 18, 19, 20]]], dtype=int32)>)"
            ]
          },
          "metadata": {},
          "execution_count": 28
        }
      ]
    },
    {
      "cell_type": "markdown",
      "source": [
        "### Colhendo informações dos Tensors\n",
        "Quando utilizando um Tensor, provavelmente precisará prestar atenção nos atributos abaixo:\n",
        "* Shape (tensor.shape)\n",
        "* Rank (tensor.ndim)\n",
        "* Axis or dimensão (tensor[0], tensor[:, 1]...)\n",
        "* Tamanho (tf.size(tensor))"
      ],
      "metadata": {
        "id": "DalyeRcdJIkm"
      }
    },
    {
      "cell_type": "code",
      "source": [
        "# Criando um rank 4 Tensor (4 dimensões)\n",
        "rank_4_tensor = tf.zeros(shape=[2, 3, 4, 5])\n",
        "rank_4_tensor"
      ],
      "metadata": {
        "colab": {
          "base_uri": "https://localhost:8080/"
        },
        "id": "x5gmeeHXJOFj",
        "outputId": "d7a4907d-a824-499c-cbb7-2aee6751b2be"
      },
      "execution_count": 29,
      "outputs": [
        {
          "output_type": "execute_result",
          "data": {
            "text/plain": [
              "<tf.Tensor: shape=(2, 3, 4, 5), dtype=float32, numpy=\n",
              "array([[[[0., 0., 0., 0., 0.],\n",
              "         [0., 0., 0., 0., 0.],\n",
              "         [0., 0., 0., 0., 0.],\n",
              "         [0., 0., 0., 0., 0.]],\n",
              "\n",
              "        [[0., 0., 0., 0., 0.],\n",
              "         [0., 0., 0., 0., 0.],\n",
              "         [0., 0., 0., 0., 0.],\n",
              "         [0., 0., 0., 0., 0.]],\n",
              "\n",
              "        [[0., 0., 0., 0., 0.],\n",
              "         [0., 0., 0., 0., 0.],\n",
              "         [0., 0., 0., 0., 0.],\n",
              "         [0., 0., 0., 0., 0.]]],\n",
              "\n",
              "\n",
              "       [[[0., 0., 0., 0., 0.],\n",
              "         [0., 0., 0., 0., 0.],\n",
              "         [0., 0., 0., 0., 0.],\n",
              "         [0., 0., 0., 0., 0.]],\n",
              "\n",
              "        [[0., 0., 0., 0., 0.],\n",
              "         [0., 0., 0., 0., 0.],\n",
              "         [0., 0., 0., 0., 0.],\n",
              "         [0., 0., 0., 0., 0.]],\n",
              "\n",
              "        [[0., 0., 0., 0., 0.],\n",
              "         [0., 0., 0., 0., 0.],\n",
              "         [0., 0., 0., 0., 0.],\n",
              "         [0., 0., 0., 0., 0.]]]], dtype=float32)>"
            ]
          },
          "metadata": {},
          "execution_count": 29
        }
      ]
    },
    {
      "cell_type": "code",
      "source": [
        "rank_4_tensor.shape, rank_4_tensor.ndim, tf.size(rank_4_tensor)"
      ],
      "metadata": {
        "colab": {
          "base_uri": "https://localhost:8080/"
        },
        "id": "1dY4hv_mwcx9",
        "outputId": "40e07a94-ea80-4cf8-94c8-5fff2cb0882d"
      },
      "execution_count": 30,
      "outputs": [
        {
          "output_type": "execute_result",
          "data": {
            "text/plain": [
              "(TensorShape([2, 3, 4, 5]), 4, <tf.Tensor: shape=(), dtype=int32, numpy=120>)"
            ]
          },
          "metadata": {},
          "execution_count": 30
        }
      ]
    },
    {
      "cell_type": "code",
      "source": [
        "# Pegando varios atributos do Tensor\n",
        "print(\"Tipo de dados de todos os elementos:\", rank_4_tensor.dtype)\n",
        "print(\"Numero de dimensões (rank):\", rank_4_tensor.ndim)\n",
        "print(\"Shape do Tensor:\", rank_4_tensor.shape)\n",
        "print(\"Elementos pelo eixo 0:\", rank_4_tensor.shape[0])\n",
        "print(\"Elementos pelo último eixo:\", rank_4_tensor.shape[-1])\n",
        "print(\"Total de numeros de elementos no Tensor:\", tf.size(rank_4_tensor).numpy())"
      ],
      "metadata": {
        "colab": {
          "base_uri": "https://localhost:8080/"
        },
        "id": "ooaI6yGewq0H",
        "outputId": "1527f1d8-f922-40b8-efa0-feb1cdab7e39"
      },
      "execution_count": 31,
      "outputs": [
        {
          "output_type": "stream",
          "name": "stdout",
          "text": [
            "Tipo de dados de todos os elementos: <dtype: 'float32'>\n",
            "Numero de dimensões (rank): 4\n",
            "Shape do Tensor: (2, 3, 4, 5)\n",
            "Elementos pelo eixo 0: 2\n",
            "Elementos pelo último eixo: 5\n",
            "Total de numeros de elementos no Tensor: 120\n"
          ]
        }
      ]
    },
    {
      "cell_type": "markdown",
      "source": [
        "### Indexando um Tensor\n",
        "Tensors podem ser indexados como uma lista de Python"
      ],
      "metadata": {
        "id": "VweehvPLyzqi"
      }
    },
    {
      "cell_type": "code",
      "source": [
        "# Pegando os 2 primeiros elementos de cada dimensão\n",
        "rank_4_tensor[:2, :2, :2, :2]"
      ],
      "metadata": {
        "colab": {
          "base_uri": "https://localhost:8080/"
        },
        "id": "ZBdIJr4vy-Aw",
        "outputId": "ae51c0a6-5c16-4e8e-d673-57dbc7eb80aa"
      },
      "execution_count": 32,
      "outputs": [
        {
          "output_type": "execute_result",
          "data": {
            "text/plain": [
              "<tf.Tensor: shape=(2, 2, 2, 2), dtype=float32, numpy=\n",
              "array([[[[0., 0.],\n",
              "         [0., 0.]],\n",
              "\n",
              "        [[0., 0.],\n",
              "         [0., 0.]]],\n",
              "\n",
              "\n",
              "       [[[0., 0.],\n",
              "         [0., 0.]],\n",
              "\n",
              "        [[0., 0.],\n",
              "         [0., 0.]]]], dtype=float32)>"
            ]
          },
          "metadata": {},
          "execution_count": 32
        }
      ]
    },
    {
      "cell_type": "code",
      "source": [
        "# Pegar o primeiro elemento de cada dimensão, exceto da ultima dimensão\n",
        "rank_4_tensor[:1, :1, :1, :]"
      ],
      "metadata": {
        "colab": {
          "base_uri": "https://localhost:8080/"
        },
        "id": "B8vnrqK7zgR3",
        "outputId": "6dfe12f3-0e26-4768-87cb-e7b5665dfb43"
      },
      "execution_count": 33,
      "outputs": [
        {
          "output_type": "execute_result",
          "data": {
            "text/plain": [
              "<tf.Tensor: shape=(1, 1, 1, 5), dtype=float32, numpy=array([[[[0., 0., 0., 0., 0.]]]], dtype=float32)>"
            ]
          },
          "metadata": {},
          "execution_count": 33
        }
      ]
    },
    {
      "cell_type": "code",
      "source": [
        "rank_4_tensor[:1, :1, :, :1]\n"
      ],
      "metadata": {
        "colab": {
          "base_uri": "https://localhost:8080/"
        },
        "id": "pmRu4nD90Nii",
        "outputId": "2cd895a0-5239-4edf-a333-47fb57614ff6"
      },
      "execution_count": 34,
      "outputs": [
        {
          "output_type": "execute_result",
          "data": {
            "text/plain": [
              "<tf.Tensor: shape=(1, 1, 4, 1), dtype=float32, numpy=\n",
              "array([[[[0.],\n",
              "         [0.],\n",
              "         [0.],\n",
              "         [0.]]]], dtype=float32)>"
            ]
          },
          "metadata": {},
          "execution_count": 34
        }
      ]
    },
    {
      "cell_type": "code",
      "source": [
        "rank_4_tensor[:1, :, :1, :1]\n"
      ],
      "metadata": {
        "colab": {
          "base_uri": "https://localhost:8080/"
        },
        "id": "uZFdlyBP0Ovk",
        "outputId": "9a2e3a1a-2667-484d-e077-4b71581ac3b1"
      },
      "execution_count": 35,
      "outputs": [
        {
          "output_type": "execute_result",
          "data": {
            "text/plain": [
              "<tf.Tensor: shape=(1, 3, 1, 1), dtype=float32, numpy=\n",
              "array([[[[0.]],\n",
              "\n",
              "        [[0.]],\n",
              "\n",
              "        [[0.]]]], dtype=float32)>"
            ]
          },
          "metadata": {},
          "execution_count": 35
        }
      ]
    },
    {
      "cell_type": "code",
      "source": [
        "rank_4_tensor[:, :1, :1, :1]"
      ],
      "metadata": {
        "colab": {
          "base_uri": "https://localhost:8080/"
        },
        "id": "ohui2-SP0QXv",
        "outputId": "7d307f70-e4d7-493a-e5b0-c2cddca8355c"
      },
      "execution_count": 36,
      "outputs": [
        {
          "output_type": "execute_result",
          "data": {
            "text/plain": [
              "<tf.Tensor: shape=(2, 1, 1, 1), dtype=float32, numpy=\n",
              "array([[[[0.]]],\n",
              "\n",
              "\n",
              "       [[[0.]]]], dtype=float32)>"
            ]
          },
          "metadata": {},
          "execution_count": 36
        }
      ]
    },
    {
      "cell_type": "code",
      "source": [
        "# Criando um Tensor rank 2 (2 dimensões)\n",
        "rank_2_tensor = tf.constant([[1, 2, 3, 4],\n",
        "                             [5 ,6 ,7, 8]])\n",
        "rank_2_tensor.shape, rank_2_tensor.ndim"
      ],
      "metadata": {
        "colab": {
          "base_uri": "https://localhost:8080/"
        },
        "id": "X4NJC_eW0bsS",
        "outputId": "cf2a9944-1079-4473-dfb3-4af3d3d6879f"
      },
      "execution_count": 37,
      "outputs": [
        {
          "output_type": "execute_result",
          "data": {
            "text/plain": [
              "(TensorShape([2, 4]), 2)"
            ]
          },
          "metadata": {},
          "execution_count": 37
        }
      ]
    },
    {
      "cell_type": "code",
      "source": [
        "# Pegando o ultimo elemento de cada dimensão do Tensor rank 2\n",
        "rank_2_tensor[:, -1]"
      ],
      "metadata": {
        "colab": {
          "base_uri": "https://localhost:8080/"
        },
        "id": "qOgiLRpQ1IGJ",
        "outputId": "567d4543-dc27-40b5-e1b9-68835bfbe86e"
      },
      "execution_count": 38,
      "outputs": [
        {
          "output_type": "execute_result",
          "data": {
            "text/plain": [
              "<tf.Tensor: shape=(2,), dtype=int32, numpy=array([4, 8], dtype=int32)>"
            ]
          },
          "metadata": {},
          "execution_count": 38
        }
      ]
    },
    {
      "cell_type": "code",
      "source": [
        "# Adicionando uma dimensão extra em nosso Tensor rank 2\n",
        "rank_3_tensor = rank_2_tensor[..., tf.newaxis]\n",
        "rank_3_tensor"
      ],
      "metadata": {
        "colab": {
          "base_uri": "https://localhost:8080/"
        },
        "id": "BL68IYgA1-Tr",
        "outputId": "28209507-4a16-47a1-da64-115b0e68b1e8"
      },
      "execution_count": 39,
      "outputs": [
        {
          "output_type": "execute_result",
          "data": {
            "text/plain": [
              "<tf.Tensor: shape=(2, 4, 1), dtype=int32, numpy=\n",
              "array([[[1],\n",
              "        [2],\n",
              "        [3],\n",
              "        [4]],\n",
              "\n",
              "       [[5],\n",
              "        [6],\n",
              "        [7],\n",
              "        [8]]], dtype=int32)>"
            ]
          },
          "metadata": {},
          "execution_count": 39
        }
      ]
    },
    {
      "cell_type": "code",
      "source": [
        "# Alternativa para tf.newaxis\n",
        "tf.expand_dims(rank_2_tensor, axis=-1) # \"-1\" significa expandir o última dimensão"
      ],
      "metadata": {
        "colab": {
          "base_uri": "https://localhost:8080/"
        },
        "id": "Ldyw2qCR2mMt",
        "outputId": "7e86e789-c2fd-43d1-a786-713db46a0c98"
      },
      "execution_count": 40,
      "outputs": [
        {
          "output_type": "execute_result",
          "data": {
            "text/plain": [
              "<tf.Tensor: shape=(2, 4, 1), dtype=int32, numpy=\n",
              "array([[[1],\n",
              "        [2],\n",
              "        [3],\n",
              "        [4]],\n",
              "\n",
              "       [[5],\n",
              "        [6],\n",
              "        [7],\n",
              "        [8]]], dtype=int32)>"
            ]
          },
          "metadata": {},
          "execution_count": 40
        }
      ]
    },
    {
      "cell_type": "code",
      "source": [
        "tf.expand_dims(rank_2_tensor, axis=0) # expandindo a dimensão 0 você adiciona uma dimensão no início do shape"
      ],
      "metadata": {
        "colab": {
          "base_uri": "https://localhost:8080/"
        },
        "id": "JkaMIAom3Jin",
        "outputId": "5040ea57-5b43-4878-9307-507b1aa96139"
      },
      "execution_count": 41,
      "outputs": [
        {
          "output_type": "execute_result",
          "data": {
            "text/plain": [
              "<tf.Tensor: shape=(1, 2, 4), dtype=int32, numpy=\n",
              "array([[[1, 2, 3, 4],\n",
              "        [5, 6, 7, 8]]], dtype=int32)>"
            ]
          },
          "metadata": {},
          "execution_count": 41
        }
      ]
    },
    {
      "cell_type": "markdown",
      "source": [
        "### Manipulando Tensores (tensores operacionais)\n",
        "**Manipulação com operadores e funções**\n",
        "\n",
        "Operadores -> +, -, *, /\n",
        "\n",
        "Funções -> tf.math. ... add, substract, multiply, divide"
      ],
      "metadata": {
        "id": "ResqoyiE3rT6"
      }
    },
    {
      "cell_type": "code",
      "source": [
        "# Você pode adicionar valores para os tensores usando operadores aditivos\n",
        "tensor = tf.constant([[10, 7],[3, 4]])\n",
        "tensor + 10"
      ],
      "metadata": {
        "colab": {
          "base_uri": "https://localhost:8080/"
        },
        "id": "0Ut1rLcH3zeT",
        "outputId": "7e34cc99-c771-44bb-e256-3c2adb2ca935"
      },
      "execution_count": 42,
      "outputs": [
        {
          "output_type": "execute_result",
          "data": {
            "text/plain": [
              "<tf.Tensor: shape=(2, 2), dtype=int32, numpy=\n",
              "array([[20, 17],\n",
              "       [13, 14]], dtype=int32)>"
            ]
          },
          "metadata": {},
          "execution_count": 42
        }
      ]
    },
    {
      "cell_type": "code",
      "source": [
        "# O tensor original não é alterado\n",
        "tensor"
      ],
      "metadata": {
        "colab": {
          "base_uri": "https://localhost:8080/"
        },
        "id": "t3d75ZIz4YXB",
        "outputId": "df995bdc-d324-4f51-c26e-3f1c6bdbb9b8"
      },
      "execution_count": 43,
      "outputs": [
        {
          "output_type": "execute_result",
          "data": {
            "text/plain": [
              "<tf.Tensor: shape=(2, 2), dtype=int32, numpy=\n",
              "array([[10,  7],\n",
              "       [ 3,  4]], dtype=int32)>"
            ]
          },
          "metadata": {},
          "execution_count": 43
        }
      ]
    },
    {
      "cell_type": "code",
      "source": [
        "# Multiplicação também funciona\n",
        "tensor * 10"
      ],
      "metadata": {
        "colab": {
          "base_uri": "https://localhost:8080/"
        },
        "id": "XLr0zInE4kf9",
        "outputId": "b8195095-2de1-43de-ab96-b1f7d1b4d9b1"
      },
      "execution_count": 44,
      "outputs": [
        {
          "output_type": "execute_result",
          "data": {
            "text/plain": [
              "<tf.Tensor: shape=(2, 2), dtype=int32, numpy=\n",
              "array([[100,  70],\n",
              "       [ 30,  40]], dtype=int32)>"
            ]
          },
          "metadata": {},
          "execution_count": 44
        }
      ]
    },
    {
      "cell_type": "code",
      "source": [
        "# Podemos usar a função TensorFlow built-in também\n",
        "tf.multiply(tensor, 10)"
      ],
      "metadata": {
        "colab": {
          "base_uri": "https://localhost:8080/"
        },
        "id": "thdH5tSS4uSj",
        "outputId": "ad916edf-2507-4e08-f20c-4dbbaddc1f8e"
      },
      "execution_count": 45,
      "outputs": [
        {
          "output_type": "execute_result",
          "data": {
            "text/plain": [
              "<tf.Tensor: shape=(2, 2), dtype=int32, numpy=\n",
              "array([[100,  70],\n",
              "       [ 30,  40]], dtype=int32)>"
            ]
          },
          "metadata": {},
          "execution_count": 45
        }
      ]
    },
    {
      "cell_type": "markdown",
      "source": [
        "**Multiplicação de Matrizes**\n",
        "\n",
        "Em Machine Learnig, multiplicação de matrizes são as operações mais comuns em Tensores\n",
        "\n",
        "**tf.matmul ou tf.linalg.matmul**\n",
        "\n",
        "linalg - algebra linear\n",
        "\n",
        "matmul - multiplicação de matrizes\n",
        "\n",
        "Existem regras para realizar a multiplicação de matrizes:\n",
        "1. As dimensões internas devem ser iguais\n",
        "2. A matriz resultante deve ter o mesmo shape das dimensões externas"
      ],
      "metadata": {
        "id": "vejHVtak6HXA"
      }
    },
    {
      "cell_type": "code",
      "source": [
        "# Multiplicação de matrizes em TensorFlow\n",
        "print(tensor)\n",
        "tf.matmul(tensor, tensor) # é diferente de (tensor * tensor)"
      ],
      "metadata": {
        "colab": {
          "base_uri": "https://localhost:8080/"
        },
        "id": "KT76G5U06Rvt",
        "outputId": "0ef2b3e7-afef-433f-8e36-7ed39710fdad"
      },
      "execution_count": 46,
      "outputs": [
        {
          "output_type": "stream",
          "name": "stdout",
          "text": [
            "tf.Tensor(\n",
            "[[10  7]\n",
            " [ 3  4]], shape=(2, 2), dtype=int32)\n"
          ]
        },
        {
          "output_type": "execute_result",
          "data": {
            "text/plain": [
              "<tf.Tensor: shape=(2, 2), dtype=int32, numpy=\n",
              "array([[121,  98],\n",
              "       [ 42,  37]], dtype=int32)>"
            ]
          },
          "metadata": {},
          "execution_count": 46
        }
      ]
    },
    {
      "cell_type": "code",
      "source": [
        "# Multiplicação de matrizes com operador Python \"@\"\n",
        "tensor @ tensor"
      ],
      "metadata": {
        "colab": {
          "base_uri": "https://localhost:8080/"
        },
        "id": "AdM4YQnPc7ub",
        "outputId": "94d95b71-fb3a-422c-973b-71c701a3c41d"
      },
      "execution_count": 47,
      "outputs": [
        {
          "output_type": "execute_result",
          "data": {
            "text/plain": [
              "<tf.Tensor: shape=(2, 2), dtype=int32, numpy=\n",
              "array([[121,  98],\n",
              "       [ 42,  37]], dtype=int32)>"
            ]
          },
          "metadata": {},
          "execution_count": 47
        }
      ]
    },
    {
      "cell_type": "code",
      "source": [
        "# Criando Tensors (3, 2)\n",
        "X = tf.constant([[1, 2],\n",
        "                 [3, 4],\n",
        "                 [5, 6]])\n",
        "# Criando outro (2, 3)\n",
        "Y = tf.constant([[7, 8, 9],\n",
        "                 [10, 11, 12]])\n",
        "# Criando outro (3, 2)\n",
        "Z = tf.constant([[7 ,8],\n",
        "                 [9 ,10],\n",
        "                 [11, 12]])\n",
        "X, Y, Z"
      ],
      "metadata": {
        "colab": {
          "base_uri": "https://localhost:8080/"
        },
        "id": "-PA3O7BZdig9",
        "outputId": "b6dcc322-7cd3-4222-aeea-82675686d11a"
      },
      "execution_count": 48,
      "outputs": [
        {
          "output_type": "execute_result",
          "data": {
            "text/plain": [
              "(<tf.Tensor: shape=(3, 2), dtype=int32, numpy=\n",
              " array([[1, 2],\n",
              "        [3, 4],\n",
              "        [5, 6]], dtype=int32)>,\n",
              " <tf.Tensor: shape=(2, 3), dtype=int32, numpy=\n",
              " array([[ 7,  8,  9],\n",
              "        [10, 11, 12]], dtype=int32)>,\n",
              " <tf.Tensor: shape=(3, 2), dtype=int32, numpy=\n",
              " array([[ 7,  8],\n",
              "        [ 9, 10],\n",
              "        [11, 12]], dtype=int32)>)"
            ]
          },
          "metadata": {},
          "execution_count": 48
        }
      ]
    },
    {
      "cell_type": "code",
      "source": [
        "# Multiplicando X e Y de (3,2) e (2, 3) shape\n",
        "X @ Y"
      ],
      "metadata": {
        "colab": {
          "base_uri": "https://localhost:8080/"
        },
        "id": "h6PiAUV7eL4_",
        "outputId": "abd7a639-09cb-4b8c-d694-cee2101b6832"
      },
      "execution_count": 49,
      "outputs": [
        {
          "output_type": "execute_result",
          "data": {
            "text/plain": [
              "<tf.Tensor: shape=(3, 3), dtype=int32, numpy=\n",
              "array([[ 27,  30,  33],\n",
              "       [ 61,  68,  75],\n",
              "       [ 95, 106, 117]], dtype=int32)>"
            ]
          },
          "metadata": {},
          "execution_count": 49
        }
      ]
    },
    {
      "cell_type": "code",
      "source": [
        "# Vamos mudar o shape do Z\n",
        "tf.reshape(Z, shape=(2, 3))"
      ],
      "metadata": {
        "colab": {
          "base_uri": "https://localhost:8080/"
        },
        "id": "iDzSXIRKhx0p",
        "outputId": "cdb077e2-3b6c-4824-c287-0b74d70bec8d"
      },
      "execution_count": 50,
      "outputs": [
        {
          "output_type": "execute_result",
          "data": {
            "text/plain": [
              "<tf.Tensor: shape=(2, 3), dtype=int32, numpy=\n",
              "array([[ 7,  8,  9],\n",
              "       [10, 11, 12]], dtype=int32)>"
            ]
          },
          "metadata": {},
          "execution_count": 50
        }
      ]
    },
    {
      "cell_type": "code",
      "source": [
        "# Tentando multiplicar X pelo reshape Z\n",
        "X @ tf.reshape(Z, shape=(2, 3))"
      ],
      "metadata": {
        "colab": {
          "base_uri": "https://localhost:8080/"
        },
        "id": "rmjWOwuRiJo5",
        "outputId": "b1eb11b5-a88c-4748-f46c-7ccb578eb6a9"
      },
      "execution_count": 51,
      "outputs": [
        {
          "output_type": "execute_result",
          "data": {
            "text/plain": [
              "<tf.Tensor: shape=(3, 3), dtype=int32, numpy=\n",
              "array([[ 27,  30,  33],\n",
              "       [ 61,  68,  75],\n",
              "       [ 95, 106, 117]], dtype=int32)>"
            ]
          },
          "metadata": {},
          "execution_count": 51
        }
      ]
    },
    {
      "cell_type": "code",
      "source": [
        "tf.matmul(X, tf.reshape(Z, shape = (2, 3)))"
      ],
      "metadata": {
        "colab": {
          "base_uri": "https://localhost:8080/"
        },
        "id": "t7Pvu6lQiax7",
        "outputId": "abc88f39-2e19-4bd2-aa5c-9c35fbf9079a"
      },
      "execution_count": 52,
      "outputs": [
        {
          "output_type": "execute_result",
          "data": {
            "text/plain": [
              "<tf.Tensor: shape=(3, 3), dtype=int32, numpy=\n",
              "array([[ 27,  30,  33],\n",
              "       [ 61,  68,  75],\n",
              "       [ 95, 106, 117]], dtype=int32)>"
            ]
          },
          "metadata": {},
          "execution_count": 52
        }
      ]
    },
    {
      "cell_type": "code",
      "source": [
        "# Podemos traspor\n",
        "X, tf.transpose(X), tf.reshape(X, shape = (2, 3))"
      ],
      "metadata": {
        "colab": {
          "base_uri": "https://localhost:8080/"
        },
        "id": "VvAmYYQ7jSiY",
        "outputId": "fbf7e6b8-8ffe-4b31-f883-fb76e59bbc3a"
      },
      "execution_count": 53,
      "outputs": [
        {
          "output_type": "execute_result",
          "data": {
            "text/plain": [
              "(<tf.Tensor: shape=(3, 2), dtype=int32, numpy=\n",
              " array([[1, 2],\n",
              "        [3, 4],\n",
              "        [5, 6]], dtype=int32)>,\n",
              " <tf.Tensor: shape=(2, 3), dtype=int32, numpy=\n",
              " array([[1, 3, 5],\n",
              "        [2, 4, 6]], dtype=int32)>,\n",
              " <tf.Tensor: shape=(2, 3), dtype=int32, numpy=\n",
              " array([[1, 2, 3],\n",
              "        [4, 5, 6]], dtype=int32)>)"
            ]
          },
          "metadata": {},
          "execution_count": 53
        }
      ]
    },
    {
      "cell_type": "code",
      "source": [
        "# Multiplicar matrizes com transpose é correto, com reshape não lhe da os valores ideais\n",
        "tf.matmul(tf.transpose(X), Z)"
      ],
      "metadata": {
        "colab": {
          "base_uri": "https://localhost:8080/"
        },
        "id": "rg0ABfpWkIqg",
        "outputId": "281d69a1-5cba-4aa0-8a82-41e9a9962240"
      },
      "execution_count": 54,
      "outputs": [
        {
          "output_type": "execute_result",
          "data": {
            "text/plain": [
              "<tf.Tensor: shape=(2, 2), dtype=int32, numpy=\n",
              "array([[ 89,  98],\n",
              "       [116, 128]], dtype=int32)>"
            ]
          },
          "metadata": {},
          "execution_count": 54
        }
      ]
    },
    {
      "cell_type": "markdown",
      "source": [
        "** Multiplicação de matrizes / DOT PRODUCT **\n",
        "\n",
        "Você consegue multiplicar utilizando\n",
        "\n",
        "* tf.matmul() ou tf.linalg.matmul()\n",
        "\n",
        "* tf.tensordot()"
      ],
      "metadata": {
        "id": "Uh6jsd1Okw0I"
      }
    },
    {
      "cell_type": "code",
      "source": [
        "# Realizar a multiplicação transpondo X ou Y\n",
        "tf.matmul(X, tf.transpose(Z))"
      ],
      "metadata": {
        "colab": {
          "base_uri": "https://localhost:8080/"
        },
        "id": "7xOZhFYp_lWg",
        "outputId": "b4900b75-5d41-454a-8691-2711edf2c504"
      },
      "execution_count": 55,
      "outputs": [
        {
          "output_type": "execute_result",
          "data": {
            "text/plain": [
              "<tf.Tensor: shape=(3, 3), dtype=int32, numpy=\n",
              "array([[ 23,  29,  35],\n",
              "       [ 53,  67,  81],\n",
              "       [ 83, 105, 127]], dtype=int32)>"
            ]
          },
          "metadata": {},
          "execution_count": 55
        }
      ]
    },
    {
      "cell_type": "markdown",
      "source": [
        "### Mudando o tipo de dado do Tensor"
      ],
      "metadata": {
        "id": "urLXuQ7UDhMR"
      }
    },
    {
      "cell_type": "code",
      "source": [
        "# Criando um novo Tensor \n",
        "B = tf.constant([1.7, 7.4])\n",
        "B.dtype"
      ],
      "metadata": {
        "colab": {
          "base_uri": "https://localhost:8080/"
        },
        "id": "XZNrjSswDpVQ",
        "outputId": "dbcdc4f9-f07e-41ca-840e-7970b8b78b0d"
      },
      "execution_count": 56,
      "outputs": [
        {
          "output_type": "execute_result",
          "data": {
            "text/plain": [
              "tf.float32"
            ]
          },
          "metadata": {},
          "execution_count": 56
        }
      ]
    },
    {
      "cell_type": "code",
      "source": [
        "C = tf.constant([7, 10])\n",
        "C.dtype"
      ],
      "metadata": {
        "colab": {
          "base_uri": "https://localhost:8080/"
        },
        "id": "fHUNAFYwpDGV",
        "outputId": "e7ae1fa8-f89a-4312-942c-34adcd03d000"
      },
      "execution_count": 57,
      "outputs": [
        {
          "output_type": "execute_result",
          "data": {
            "text/plain": [
              "tf.int32"
            ]
          },
          "metadata": {},
          "execution_count": 57
        }
      ]
    },
    {
      "cell_type": "code",
      "source": [
        "# Mudar de float32 para float16 (reduz precisão e aumenta velocidade)\n",
        "D = tf.cast(B, dtype=tf.float16)\n",
        "D, D.dtype"
      ],
      "metadata": {
        "colab": {
          "base_uri": "https://localhost:8080/"
        },
        "id": "4KcTysjKpL0U",
        "outputId": "fdf327cb-9c8c-4ac6-f86a-547ff7db4eae"
      },
      "execution_count": 58,
      "outputs": [
        {
          "output_type": "execute_result",
          "data": {
            "text/plain": [
              "(<tf.Tensor: shape=(2,), dtype=float16, numpy=array([1.7, 7.4], dtype=float16)>,\n",
              " tf.float16)"
            ]
          },
          "metadata": {},
          "execution_count": 58
        }
      ]
    },
    {
      "cell_type": "code",
      "source": [
        "# Mudar de int32 para int16\n",
        "E = tf.cast(C, dtype=tf.int16)\n",
        "E, E.dtype"
      ],
      "metadata": {
        "colab": {
          "base_uri": "https://localhost:8080/"
        },
        "id": "mJQRHMpJqEia",
        "outputId": "d1b99bcd-7928-48db-868d-5f5338bd0529"
      },
      "execution_count": 59,
      "outputs": [
        {
          "output_type": "execute_result",
          "data": {
            "text/plain": [
              "(<tf.Tensor: shape=(2,), dtype=int16, numpy=array([ 7, 10], dtype=int16)>,\n",
              " tf.int16)"
            ]
          },
          "metadata": {},
          "execution_count": 59
        }
      ]
    },
    {
      "cell_type": "markdown",
      "source": [
        "### Agregando Tensors\n",
        "\n",
        "Agregando Tensors = resumo de vários valores em uma quantidade menor de dados que os represente"
      ],
      "metadata": {
        "id": "wpTfY9G4qjMl"
      }
    },
    {
      "cell_type": "code",
      "source": [
        "# Pegando os valores absolutos\n",
        "D = tf.constant([-7, -10])\n",
        "D"
      ],
      "metadata": {
        "colab": {
          "base_uri": "https://localhost:8080/"
        },
        "id": "STfzmYTorN4x",
        "outputId": "bc10efe2-3cb3-427c-c316-1e3510ded5af"
      },
      "execution_count": 60,
      "outputs": [
        {
          "output_type": "execute_result",
          "data": {
            "text/plain": [
              "<tf.Tensor: shape=(2,), dtype=int32, numpy=array([ -7, -10], dtype=int32)>"
            ]
          },
          "metadata": {},
          "execution_count": 60
        }
      ]
    },
    {
      "cell_type": "code",
      "source": [
        "tf.abs(D)"
      ],
      "metadata": {
        "colab": {
          "base_uri": "https://localhost:8080/"
        },
        "id": "rxxqTUP_rv3Y",
        "outputId": "ecd05883-39db-458f-f993-fd34b528dc1e"
      },
      "execution_count": 61,
      "outputs": [
        {
          "output_type": "execute_result",
          "data": {
            "text/plain": [
              "<tf.Tensor: shape=(2,), dtype=int32, numpy=array([ 7, 10], dtype=int32)>"
            ]
          },
          "metadata": {},
          "execution_count": 61
        }
      ]
    },
    {
      "cell_type": "markdown",
      "source": [
        "Vamos ver algumas formas de agregação:\n",
        "* Pegar o minimo\n",
        "* Pegar o maximo\n",
        "* Pegar a média\n",
        "* Pegar a somatória"
      ],
      "metadata": {
        "id": "CHPTqhMxr94i"
      }
    },
    {
      "cell_type": "code",
      "source": [
        "# Criando um Tensor pro exercicio\n",
        "exerc_07_numpy = np.arange(1, 25, dtype = np.int16)\n",
        "exerc_07 = tf.constant(exerc_07_numpy, shape = (2, 3, 4))\n",
        "exerc_07"
      ],
      "metadata": {
        "colab": {
          "base_uri": "https://localhost:8080/"
        },
        "id": "F7H1YJp5sc0E",
        "outputId": "1b0c599b-b947-4c83-f410-ce0a5162a88f"
      },
      "execution_count": 62,
      "outputs": [
        {
          "output_type": "execute_result",
          "data": {
            "text/plain": [
              "<tf.Tensor: shape=(2, 3, 4), dtype=int16, numpy=\n",
              "array([[[ 1,  2,  3,  4],\n",
              "        [ 5,  6,  7,  8],\n",
              "        [ 9, 10, 11, 12]],\n",
              "\n",
              "       [[13, 14, 15, 16],\n",
              "        [17, 18, 19, 20],\n",
              "        [21, 22, 23, 24]]], dtype=int16)>"
            ]
          },
          "metadata": {},
          "execution_count": 62
        }
      ]
    },
    {
      "cell_type": "code",
      "source": [
        "# Exercicio 07.1 - pegando minimo\n",
        "tf.reduce_min(exerc_07)"
      ],
      "metadata": {
        "colab": {
          "base_uri": "https://localhost:8080/"
        },
        "id": "Vwv3lcDyuN5y",
        "outputId": "fa19bb1d-75ed-4cbd-c082-1f002478cf2d"
      },
      "execution_count": 63,
      "outputs": [
        {
          "output_type": "execute_result",
          "data": {
            "text/plain": [
              "<tf.Tensor: shape=(), dtype=int16, numpy=1>"
            ]
          },
          "metadata": {},
          "execution_count": 63
        }
      ]
    },
    {
      "cell_type": "code",
      "source": [
        "# Exercicio 07.2 - pegando máximo\n",
        "tf.reduce_max(exerc_07)"
      ],
      "metadata": {
        "colab": {
          "base_uri": "https://localhost:8080/"
        },
        "id": "Q2rTYaV4ufcG",
        "outputId": "badba99a-4b93-4d04-abdb-3fc7aa014c74"
      },
      "execution_count": 64,
      "outputs": [
        {
          "output_type": "execute_result",
          "data": {
            "text/plain": [
              "<tf.Tensor: shape=(), dtype=int16, numpy=24>"
            ]
          },
          "metadata": {},
          "execution_count": 64
        }
      ]
    },
    {
      "cell_type": "code",
      "source": [
        "# Exercicio 07.3 - pegando máximo\n",
        "tf.reduce_mean(exerc_07)"
      ],
      "metadata": {
        "colab": {
          "base_uri": "https://localhost:8080/"
        },
        "id": "ORypBCm-uxJ0",
        "outputId": "446a4e6a-ed09-4481-8d4f-041a01a6b1f2"
      },
      "execution_count": 65,
      "outputs": [
        {
          "output_type": "execute_result",
          "data": {
            "text/plain": [
              "<tf.Tensor: shape=(), dtype=int16, numpy=12>"
            ]
          },
          "metadata": {},
          "execution_count": 65
        }
      ]
    },
    {
      "cell_type": "code",
      "source": [
        "# Exercicio 07.4 - pegando máximo\n",
        "tf.reduce_sum(exerc_07)"
      ],
      "metadata": {
        "colab": {
          "base_uri": "https://localhost:8080/"
        },
        "id": "mmAYOMuuu8BX",
        "outputId": "0f8e1fd9-321a-4299-c0a3-39052a2a8eb8"
      },
      "execution_count": 66,
      "outputs": [
        {
          "output_type": "execute_result",
          "data": {
            "text/plain": [
              "<tf.Tensor: shape=(), dtype=int16, numpy=300>"
            ]
          },
          "metadata": {},
          "execution_count": 66
        }
      ]
    },
    {
      "cell_type": "code",
      "source": [
        "# Criando um Tensor aleatório com valores de 0 a 100 de tamanho 50\n",
        "E = tf.constant(np.random.randint(0,100, size=50)) # CRIANDO UM VETOR ALEATÓRIOOOOOO\n",
        "E"
      ],
      "metadata": {
        "colab": {
          "base_uri": "https://localhost:8080/"
        },
        "id": "r89acwd9vO9j",
        "outputId": "88a4339c-b95e-476a-b76d-1a83492b8bbc"
      },
      "execution_count": 67,
      "outputs": [
        {
          "output_type": "execute_result",
          "data": {
            "text/plain": [
              "<tf.Tensor: shape=(50,), dtype=int64, numpy=\n",
              "array([87, 75, 34, 63, 83, 50, 27,  7, 23, 38, 15, 18, 11, 86, 31, 31, 45,\n",
              "       51, 42, 43, 29, 29, 47, 31, 55,  5, 27,  7, 19, 26, 22, 44, 22, 23,\n",
              "       44, 27, 81, 14, 18, 94, 11, 20, 21, 90, 23,  7, 35,  0, 55, 85])>"
            ]
          },
          "metadata": {},
          "execution_count": 67
        }
      ]
    },
    {
      "cell_type": "code",
      "source": [
        "tf.size(E), E.shape, E.ndim"
      ],
      "metadata": {
        "colab": {
          "base_uri": "https://localhost:8080/"
        },
        "id": "o4Wy52auvnfE",
        "outputId": "a0b28e9b-1a95-43ad-d67e-11c8c4b21b29"
      },
      "execution_count": 68,
      "outputs": [
        {
          "output_type": "execute_result",
          "data": {
            "text/plain": [
              "(<tf.Tensor: shape=(), dtype=int32, numpy=50>, TensorShape([50]), 1)"
            ]
          },
          "metadata": {},
          "execution_count": 68
        }
      ]
    },
    {
      "cell_type": "code",
      "source": [
        "Emin = tf.reduce_min(E)\n",
        "Emax = tf.reduce_max(E)\n",
        "Emean = tf.reduce_mean(E)\n",
        "Esum = tf.reduce_sum(E)\n",
        "Emin, Emax, Emean, Esum"
      ],
      "metadata": {
        "colab": {
          "base_uri": "https://localhost:8080/"
        },
        "id": "opB8DTvyv0mr",
        "outputId": "e163ac3b-559a-491f-902e-2e21bf55ce4a"
      },
      "execution_count": 69,
      "outputs": [
        {
          "output_type": "execute_result",
          "data": {
            "text/plain": [
              "(<tf.Tensor: shape=(), dtype=int64, numpy=0>,\n",
              " <tf.Tensor: shape=(), dtype=int64, numpy=94>,\n",
              " <tf.Tensor: shape=(), dtype=int64, numpy=37>,\n",
              " <tf.Tensor: shape=(), dtype=int64, numpy=1871>)"
            ]
          },
          "metadata": {},
          "execution_count": 69
        }
      ]
    },
    {
      "cell_type": "markdown",
      "source": [
        "⚓**Exercicio:** Encontre a variância e o desvio padrão da Tensor E"
      ],
      "metadata": {
        "id": "l4YEUNoZwd_Q"
      }
    },
    {
      "cell_type": "code",
      "source": [
        "# Exercício 08.1 - encontrando a variancia do Tensor E\n",
        "Evar = tf.cast(E, dtype = tf.float16)\n",
        "tf.math.reduce_variance(Evar)"
      ],
      "metadata": {
        "colab": {
          "base_uri": "https://localhost:8080/"
        },
        "id": "yj6QDLw_wwCi",
        "outputId": "33cd7b83-9183-4c36-af4f-3d06635463e7"
      },
      "execution_count": 70,
      "outputs": [
        {
          "output_type": "execute_result",
          "data": {
            "text/plain": [
              "<tf.Tensor: shape=(), dtype=float16, numpy=630.5>"
            ]
          },
          "metadata": {},
          "execution_count": 70
        }
      ]
    },
    {
      "cell_type": "code",
      "source": [
        "# Exercício 08.2 - encontrando o desvio padrão do Tensor E\n",
        "Estd = tf.cast(E, dtype = tf.float16)\n",
        "tf.math.reduce_std(Estd)"
      ],
      "metadata": {
        "colab": {
          "base_uri": "https://localhost:8080/"
        },
        "id": "R58KLnXpyYxe",
        "outputId": "7349ee1c-658b-43b9-9960-1b7b81c3fffa"
      },
      "execution_count": 71,
      "outputs": [
        {
          "output_type": "execute_result",
          "data": {
            "text/plain": [
              "<tf.Tensor: shape=(), dtype=float16, numpy=25.11>"
            ]
          },
          "metadata": {},
          "execution_count": 71
        }
      ]
    },
    {
      "cell_type": "markdown",
      "source": [
        "Também pode ser usado:\n",
        "\n",
        "import tensorflow_probability as std\n",
        "\n",
        "std.stats.variance(E)"
      ],
      "metadata": {
        "id": "wfF07vjnzo-n"
      }
    },
    {
      "cell_type": "markdown",
      "source": [
        "### Encontrando o máximo e mínimo posicional\n"
      ],
      "metadata": {
        "id": "UcbJPZtj0u-Z"
      }
    },
    {
      "cell_type": "code",
      "source": [
        "# Criando um novvo Tensor\n",
        "tf.random.set_seed(42)\n",
        "F = tf.random.uniform(shape=[50])\n",
        "F"
      ],
      "metadata": {
        "colab": {
          "base_uri": "https://localhost:8080/"
        },
        "id": "or4x3Atg24Vh",
        "outputId": "61357854-cfae-4184-c3e0-f03602fc2a83"
      },
      "execution_count": 72,
      "outputs": [
        {
          "output_type": "execute_result",
          "data": {
            "text/plain": [
              "<tf.Tensor: shape=(50,), dtype=float32, numpy=\n",
              "array([0.6645621 , 0.44100678, 0.3528825 , 0.46448255, 0.03366041,\n",
              "       0.68467236, 0.74011743, 0.8724445 , 0.22632635, 0.22319686,\n",
              "       0.3103881 , 0.7223358 , 0.13318717, 0.5480639 , 0.5746088 ,\n",
              "       0.8996835 , 0.00946367, 0.5212307 , 0.6345445 , 0.1993283 ,\n",
              "       0.72942245, 0.54583454, 0.10756552, 0.6767061 , 0.6602763 ,\n",
              "       0.33695042, 0.60141766, 0.21062577, 0.8527372 , 0.44062173,\n",
              "       0.9485276 , 0.23752594, 0.81179297, 0.5263394 , 0.494308  ,\n",
              "       0.21612847, 0.8457197 , 0.8718841 , 0.3083862 , 0.6868038 ,\n",
              "       0.23764038, 0.7817228 , 0.9671384 , 0.06870162, 0.79873943,\n",
              "       0.66028714, 0.5871513 , 0.16461694, 0.7381023 , 0.32054043],\n",
              "      dtype=float32)>"
            ]
          },
          "metadata": {},
          "execution_count": 72
        }
      ]
    },
    {
      "cell_type": "code",
      "source": [
        "# Encontrando a posição do maior valor do Tensor F\n",
        "tf.argmax(F)"
      ],
      "metadata": {
        "colab": {
          "base_uri": "https://localhost:8080/"
        },
        "id": "dkmXmY9000PY",
        "outputId": "c468e280-6aad-4ec1-917c-7d1d2cb4a5fa"
      },
      "execution_count": 73,
      "outputs": [
        {
          "output_type": "execute_result",
          "data": {
            "text/plain": [
              "<tf.Tensor: shape=(), dtype=int64, numpy=42>"
            ]
          },
          "metadata": {},
          "execution_count": 73
        }
      ]
    },
    {
      "cell_type": "code",
      "source": [
        "# Pegando o valor pela posição (index ou índice)\n",
        "F[tf.argmax(F)]"
      ],
      "metadata": {
        "colab": {
          "base_uri": "https://localhost:8080/"
        },
        "id": "QJmCJlAF4Ovv",
        "outputId": "975baad0-6362-4d76-8aa9-cf9899ba88fb"
      },
      "execution_count": 74,
      "outputs": [
        {
          "output_type": "execute_result",
          "data": {
            "text/plain": [
              "<tf.Tensor: shape=(), dtype=float32, numpy=0.9671384>"
            ]
          },
          "metadata": {},
          "execution_count": 74
        }
      ]
    },
    {
      "cell_type": "code",
      "source": [
        "# Pelo compararmos os valores máximos pelos dois metodos teremos:\n",
        "F[tf.argmax(F)] == tf.reduce_max(F) # TRUE / VERDADEIRO"
      ],
      "metadata": {
        "colab": {
          "base_uri": "https://localhost:8080/"
        },
        "id": "iKZmG-1Q4fJ9",
        "outputId": "bd767911-b353-4793-d695-fc0f6312008f"
      },
      "execution_count": 75,
      "outputs": [
        {
          "output_type": "execute_result",
          "data": {
            "text/plain": [
              "<tf.Tensor: shape=(), dtype=bool, numpy=True>"
            ]
          },
          "metadata": {},
          "execution_count": 75
        }
      ]
    },
    {
      "cell_type": "code",
      "source": [
        "# Encontrando a posição do menor valor do Tensor F\n",
        "tf.argmin(F)"
      ],
      "metadata": {
        "colab": {
          "base_uri": "https://localhost:8080/"
        },
        "id": "Mrio0pe31lK9",
        "outputId": "02fd4827-a41b-4fd4-8327-29cf12f1abb8"
      },
      "execution_count": 76,
      "outputs": [
        {
          "output_type": "execute_result",
          "data": {
            "text/plain": [
              "<tf.Tensor: shape=(), dtype=int64, numpy=16>"
            ]
          },
          "metadata": {},
          "execution_count": 76
        }
      ]
    },
    {
      "cell_type": "code",
      "source": [
        "# Pegando o valor pela posição (index ou índice)\n",
        "F[tf.argmin(F)]"
      ],
      "metadata": {
        "colab": {
          "base_uri": "https://localhost:8080/"
        },
        "id": "BQwXGyCH5G5D",
        "outputId": "4f53c637-78cd-4524-ed5f-6cf3878448ce"
      },
      "execution_count": 77,
      "outputs": [
        {
          "output_type": "execute_result",
          "data": {
            "text/plain": [
              "<tf.Tensor: shape=(), dtype=float32, numpy=0.009463668>"
            ]
          },
          "metadata": {},
          "execution_count": 77
        }
      ]
    },
    {
      "cell_type": "markdown",
      "source": [
        "### Diminuindo o Tensor (remover todas as dimensões unitárias)\n"
      ],
      "metadata": {
        "id": "cjxOOjYU5Srw"
      }
    },
    {
      "cell_type": "code",
      "source": [
        "# Criando um Tensor\n",
        "tf.random.set_seed(42)\n",
        "G = tf.constant(tf.random.uniform(shape=[50]), shape = (1, 1, 1, 1, 50))\n",
        "G"
      ],
      "metadata": {
        "colab": {
          "base_uri": "https://localhost:8080/"
        },
        "id": "fucOHF_45gp4",
        "outputId": "5f76133c-8723-4df1-ec87-ae9d69e9452b"
      },
      "execution_count": 78,
      "outputs": [
        {
          "output_type": "execute_result",
          "data": {
            "text/plain": [
              "<tf.Tensor: shape=(1, 1, 1, 1, 50), dtype=float32, numpy=\n",
              "array([[[[[0.6645621 , 0.44100678, 0.3528825 , 0.46448255, 0.03366041,\n",
              "           0.68467236, 0.74011743, 0.8724445 , 0.22632635, 0.22319686,\n",
              "           0.3103881 , 0.7223358 , 0.13318717, 0.5480639 , 0.5746088 ,\n",
              "           0.8996835 , 0.00946367, 0.5212307 , 0.6345445 , 0.1993283 ,\n",
              "           0.72942245, 0.54583454, 0.10756552, 0.6767061 , 0.6602763 ,\n",
              "           0.33695042, 0.60141766, 0.21062577, 0.8527372 , 0.44062173,\n",
              "           0.9485276 , 0.23752594, 0.81179297, 0.5263394 , 0.494308  ,\n",
              "           0.21612847, 0.8457197 , 0.8718841 , 0.3083862 , 0.6868038 ,\n",
              "           0.23764038, 0.7817228 , 0.9671384 , 0.06870162, 0.79873943,\n",
              "           0.66028714, 0.5871513 , 0.16461694, 0.7381023 , 0.32054043]]]]],\n",
              "      dtype=float32)>"
            ]
          },
          "metadata": {},
          "execution_count": 78
        }
      ]
    },
    {
      "cell_type": "code",
      "source": [
        "G.shape"
      ],
      "metadata": {
        "colab": {
          "base_uri": "https://localhost:8080/"
        },
        "id": "Q_fYnnXo5_9E",
        "outputId": "e1da9520-df6f-4a59-f2f2-7f8d21f6f2e1"
      },
      "execution_count": 79,
      "outputs": [
        {
          "output_type": "execute_result",
          "data": {
            "text/plain": [
              "TensorShape([1, 1, 1, 1, 50])"
            ]
          },
          "metadata": {},
          "execution_count": 79
        }
      ]
    },
    {
      "cell_type": "code",
      "source": [
        "G_squeezed = tf.squeeze(G)\n",
        "G_squeezed, G_squeezed.shape"
      ],
      "metadata": {
        "colab": {
          "base_uri": "https://localhost:8080/"
        },
        "id": "zIFlPvpk6DSq",
        "outputId": "9bbffb0c-84a5-4a69-a568-bab19de3b4ce"
      },
      "execution_count": 80,
      "outputs": [
        {
          "output_type": "execute_result",
          "data": {
            "text/plain": [
              "(<tf.Tensor: shape=(50,), dtype=float32, numpy=\n",
              " array([0.6645621 , 0.44100678, 0.3528825 , 0.46448255, 0.03366041,\n",
              "        0.68467236, 0.74011743, 0.8724445 , 0.22632635, 0.22319686,\n",
              "        0.3103881 , 0.7223358 , 0.13318717, 0.5480639 , 0.5746088 ,\n",
              "        0.8996835 , 0.00946367, 0.5212307 , 0.6345445 , 0.1993283 ,\n",
              "        0.72942245, 0.54583454, 0.10756552, 0.6767061 , 0.6602763 ,\n",
              "        0.33695042, 0.60141766, 0.21062577, 0.8527372 , 0.44062173,\n",
              "        0.9485276 , 0.23752594, 0.81179297, 0.5263394 , 0.494308  ,\n",
              "        0.21612847, 0.8457197 , 0.8718841 , 0.3083862 , 0.6868038 ,\n",
              "        0.23764038, 0.7817228 , 0.9671384 , 0.06870162, 0.79873943,\n",
              "        0.66028714, 0.5871513 , 0.16461694, 0.7381023 , 0.32054043],\n",
              "       dtype=float32)>,\n",
              " TensorShape([50]))"
            ]
          },
          "metadata": {},
          "execution_count": 80
        }
      ]
    },
    {
      "cell_type": "markdown",
      "source": [
        "### One-Hot Encoding Tensors\n",
        "\n",
        "Uma forma de codificação numérica para melhor entendimento das linhas neurais"
      ],
      "metadata": {
        "id": "FYyxdZL77PRy"
      }
    },
    {
      "cell_type": "code",
      "source": [
        "# Criando uma lista de índices\n",
        "some_list = [0, 1, 2, 3] # poderia ser red, green, blue, purple\n",
        "\n",
        "# One hot encode nosssa lista\n",
        "tf.one_hot(some_list, tf.size(some_list))"
      ],
      "metadata": {
        "colab": {
          "base_uri": "https://localhost:8080/"
        },
        "id": "4OONo6-q8Fxr",
        "outputId": "a8d1efe5-d386-4993-b33f-bec0466a5b43"
      },
      "execution_count": 81,
      "outputs": [
        {
          "output_type": "execute_result",
          "data": {
            "text/plain": [
              "<tf.Tensor: shape=(4, 4), dtype=float32, numpy=\n",
              "array([[1., 0., 0., 0.],\n",
              "       [0., 1., 0., 0.],\n",
              "       [0., 0., 1., 0.],\n",
              "       [0., 0., 0., 1.]], dtype=float32)>"
            ]
          },
          "metadata": {},
          "execution_count": 81
        }
      ]
    },
    {
      "cell_type": "code",
      "source": [
        "# Especificando os valores customizáveis para one hot encoding\n",
        "tf.one_hot(some_list, tf.size(some_list), on_value=\"x\", off_value=\"y\")"
      ],
      "metadata": {
        "colab": {
          "base_uri": "https://localhost:8080/"
        },
        "id": "B-8ZzvhW9cKo",
        "outputId": "aac087a2-0161-4607-c061-9074ca190eaa"
      },
      "execution_count": 82,
      "outputs": [
        {
          "output_type": "execute_result",
          "data": {
            "text/plain": [
              "<tf.Tensor: shape=(4, 4), dtype=string, numpy=\n",
              "array([[b'x', b'y', b'y', b'y'],\n",
              "       [b'y', b'x', b'y', b'y'],\n",
              "       [b'y', b'y', b'x', b'y'],\n",
              "       [b'y', b'y', b'y', b'x']], dtype=object)>"
            ]
          },
          "metadata": {},
          "execution_count": 82
        }
      ]
    },
    {
      "cell_type": "markdown",
      "source": [
        "### Squaring, log, square root"
      ],
      "metadata": {
        "id": "ZjVnuYfZ-bQ3"
      }
    },
    {
      "cell_type": "code",
      "source": [
        "# Criando um novo Tensor\n",
        "H = tf.range(1, 10)\n",
        "H"
      ],
      "metadata": {
        "colab": {
          "base_uri": "https://localhost:8080/"
        },
        "id": "MUKevL-Y-inu",
        "outputId": "261c9cb3-d4b1-489b-9089-7cd0f8ffa82c"
      },
      "execution_count": 83,
      "outputs": [
        {
          "output_type": "execute_result",
          "data": {
            "text/plain": [
              "<tf.Tensor: shape=(9,), dtype=int32, numpy=array([1, 2, 3, 4, 5, 6, 7, 8, 9], dtype=int32)>"
            ]
          },
          "metadata": {},
          "execution_count": 83
        }
      ]
    },
    {
      "cell_type": "code",
      "source": [
        "# Square / ao quadrado\n",
        "tf.square(H)"
      ],
      "metadata": {
        "colab": {
          "base_uri": "https://localhost:8080/"
        },
        "id": "-4lphW-G-pGZ",
        "outputId": "64317c73-11a6-4374-83e0-f018b2878e7f"
      },
      "execution_count": 84,
      "outputs": [
        {
          "output_type": "execute_result",
          "data": {
            "text/plain": [
              "<tf.Tensor: shape=(9,), dtype=int32, numpy=array([ 1,  4,  9, 16, 25, 36, 49, 64, 81], dtype=int32)>"
            ]
          },
          "metadata": {},
          "execution_count": 84
        }
      ]
    },
    {
      "cell_type": "code",
      "source": [
        "# Square root / raiz ao quadrado\n",
        "tf.sqrt(tf.cast(H, dtype = tf.float16))"
      ],
      "metadata": {
        "colab": {
          "base_uri": "https://localhost:8080/"
        },
        "id": "nsuxmd92-yJG",
        "outputId": "5332d649-7a21-4408-90df-645b943b12a0"
      },
      "execution_count": 85,
      "outputs": [
        {
          "output_type": "execute_result",
          "data": {
            "text/plain": [
              "<tf.Tensor: shape=(9,), dtype=float16, numpy=\n",
              "array([1.   , 1.414, 1.732, 2.   , 2.236, 2.45 , 2.646, 2.828, 3.   ],\n",
              "      dtype=float16)>"
            ]
          },
          "metadata": {},
          "execution_count": 85
        }
      ]
    },
    {
      "cell_type": "code",
      "source": [
        "# Log\n",
        "tf.math.log(tf.cast(H, dtype=tf.float16))"
      ],
      "metadata": {
        "colab": {
          "base_uri": "https://localhost:8080/"
        },
        "id": "i6mslV4R_ZbU",
        "outputId": "190ab842-fb33-4611-cf33-1e33ff41d036"
      },
      "execution_count": 86,
      "outputs": [
        {
          "output_type": "execute_result",
          "data": {
            "text/plain": [
              "<tf.Tensor: shape=(9,), dtype=float16, numpy=\n",
              "array([0.    , 0.6934, 1.099 , 1.387 , 1.609 , 1.792 , 1.946 , 2.08  ,\n",
              "       2.197 ], dtype=float16)>"
            ]
          },
          "metadata": {},
          "execution_count": 86
        }
      ]
    },
    {
      "cell_type": "markdown",
      "source": [
        "### Pow, Subtract, Add"
      ],
      "metadata": {
        "id": "bSDqqYirM2xj"
      }
    },
    {
      "cell_type": "code",
      "source": [
        "# Criando um Tensor exemplo\n",
        "tf.random.set_seed(42)\n",
        "exemplo1 = tf.random.uniform([50])\n",
        "exemplo2 = tf.random.uniform([50])\n",
        "exemplo1, exemplo2"
      ],
      "metadata": {
        "colab": {
          "base_uri": "https://localhost:8080/"
        },
        "id": "e8PR9pI5Nt3b",
        "outputId": "bc1b2b86-9674-4483-afdc-e166a3db07e9"
      },
      "execution_count": 87,
      "outputs": [
        {
          "output_type": "execute_result",
          "data": {
            "text/plain": [
              "(<tf.Tensor: shape=(50,), dtype=float32, numpy=\n",
              " array([0.6645621 , 0.44100678, 0.3528825 , 0.46448255, 0.03366041,\n",
              "        0.68467236, 0.74011743, 0.8724445 , 0.22632635, 0.22319686,\n",
              "        0.3103881 , 0.7223358 , 0.13318717, 0.5480639 , 0.5746088 ,\n",
              "        0.8996835 , 0.00946367, 0.5212307 , 0.6345445 , 0.1993283 ,\n",
              "        0.72942245, 0.54583454, 0.10756552, 0.6767061 , 0.6602763 ,\n",
              "        0.33695042, 0.60141766, 0.21062577, 0.8527372 , 0.44062173,\n",
              "        0.9485276 , 0.23752594, 0.81179297, 0.5263394 , 0.494308  ,\n",
              "        0.21612847, 0.8457197 , 0.8718841 , 0.3083862 , 0.6868038 ,\n",
              "        0.23764038, 0.7817228 , 0.9671384 , 0.06870162, 0.79873943,\n",
              "        0.66028714, 0.5871513 , 0.16461694, 0.7381023 , 0.32054043],\n",
              "       dtype=float32)>,\n",
              " <tf.Tensor: shape=(50,), dtype=float32, numpy=\n",
              " array([0.68789124, 0.48447883, 0.9309944 , 0.252187  , 0.73115396,\n",
              "        0.89256823, 0.94674826, 0.7493341 , 0.34925628, 0.54718256,\n",
              "        0.26160395, 0.69734323, 0.11962581, 0.53484344, 0.7148968 ,\n",
              "        0.87501776, 0.33967495, 0.17377627, 0.4418521 , 0.9008261 ,\n",
              "        0.13803864, 0.12217975, 0.5754491 , 0.9417181 , 0.9186585 ,\n",
              "        0.59708476, 0.6109482 , 0.82086265, 0.83269787, 0.8915849 ,\n",
              "        0.01377225, 0.49807465, 0.57503664, 0.6856195 , 0.75972784,\n",
              "        0.908944  , 0.40900218, 0.8765154 , 0.53890026, 0.42733097,\n",
              "        0.401173  , 0.66623247, 0.16348064, 0.18220246, 0.97040176,\n",
              "        0.06139731, 0.53034747, 0.9869994 , 0.4746945 , 0.8646754 ],\n",
              "       dtype=float32)>)"
            ]
          },
          "metadata": {},
          "execution_count": 87
        }
      ]
    },
    {
      "cell_type": "code",
      "source": [
        "# usando Pow\n",
        "tf.pow(exemplo1, exemplo2) # Calcula a potência de um valor para outro."
      ],
      "metadata": {
        "colab": {
          "base_uri": "https://localhost:8080/"
        },
        "id": "YSbJ2osVOx5O",
        "outputId": "44328683-4dc2-4230-e2b8-67e7fca4bb14"
      },
      "execution_count": 88,
      "outputs": [
        {
          "output_type": "execute_result",
          "data": {
            "text/plain": [
              "<tf.Tensor: shape=(50,), dtype=float32, numpy=\n",
              "array([0.7549597 , 0.67257583, 0.37918064, 0.8241647 , 0.08377174,\n",
              "       0.71311104, 0.752074  , 0.9028026 , 0.5951647 , 0.44016293,\n",
              "       0.73634326, 0.79706305, 0.78571147, 0.72496253, 0.6729395 ,\n",
              "       0.9116491 , 0.20536107, 0.89294875, 0.8179324 , 0.23390172,\n",
              "       0.9573832 , 0.9286973 , 0.27718973, 0.6922846 , 0.6829509 ,\n",
              "       0.5222962 , 0.73297316, 0.27841702, 0.8757698 , 0.48156464,\n",
              "       0.9992725 , 0.48871708, 0.88700837, 0.64401275, 0.5854927 ,\n",
              "       0.24847943, 0.93376034, 0.8867704 , 0.53048503, 0.8516743 ,\n",
              "       0.5618703 , 0.8486884 , 0.9945524 , 0.6138928 , 0.8040698 ,\n",
              "       0.9748371 , 0.7539754 , 0.16852367, 0.86575633, 0.37389448],\n",
              "      dtype=float32)>"
            ]
          },
          "metadata": {},
          "execution_count": 88
        }
      ]
    },
    {
      "cell_type": "code",
      "source": [
        "# Usando Subtract\n",
        "tf.subtract(exemplo1, exemplo2) # Subtrai os Tensors"
      ],
      "metadata": {
        "colab": {
          "base_uri": "https://localhost:8080/"
        },
        "id": "kvXEmXlbPMm8",
        "outputId": "c84816ce-f557-4d49-99a1-7381143d4d7e"
      },
      "execution_count": 89,
      "outputs": [
        {
          "output_type": "execute_result",
          "data": {
            "text/plain": [
              "<tf.Tensor: shape=(50,), dtype=float32, numpy=\n",
              "array([-0.02332914, -0.04347205, -0.5781119 ,  0.21229553, -0.69749355,\n",
              "       -0.20789587, -0.20663083,  0.12311041, -0.12292993, -0.3239857 ,\n",
              "        0.04878414,  0.02499259,  0.01356137,  0.01322043, -0.140288  ,\n",
              "        0.02466571, -0.33021128,  0.34745443,  0.1926924 , -0.7014978 ,\n",
              "        0.5913838 ,  0.4236548 , -0.4678836 , -0.26501203, -0.2583822 ,\n",
              "       -0.26013434, -0.00953054, -0.6102369 ,  0.02003932, -0.45096314,\n",
              "        0.9347553 , -0.2605487 ,  0.23675632, -0.15928006, -0.26541984,\n",
              "       -0.69281554,  0.4367175 , -0.00463128, -0.23051405,  0.25947285,\n",
              "       -0.16353261,  0.11549032,  0.80365777, -0.11350083, -0.17166233,\n",
              "        0.5988898 ,  0.05680382, -0.82238245,  0.26340783, -0.544135  ],\n",
              "      dtype=float32)>"
            ]
          },
          "metadata": {},
          "execution_count": 89
        }
      ]
    },
    {
      "cell_type": "code",
      "source": [
        "# Usando Add\n",
        "tf.add(exemplo1, exemplo2) # Soma os tensors"
      ],
      "metadata": {
        "colab": {
          "base_uri": "https://localhost:8080/"
        },
        "id": "Pl_B1innPjPB",
        "outputId": "113cc392-f6a6-4bd5-f191-b5d1ae334b36"
      },
      "execution_count": 90,
      "outputs": [
        {
          "output_type": "execute_result",
          "data": {
            "text/plain": [
              "<tf.Tensor: shape=(50,), dtype=float32, numpy=\n",
              "array([1.3524534 , 0.9254856 , 1.2838769 , 0.71666956, 0.7648144 ,\n",
              "       1.5772406 , 1.6868657 , 1.6217786 , 0.5755826 , 0.7703794 ,\n",
              "       0.57199204, 1.419679  , 0.25281298, 1.0829073 , 1.2895056 ,\n",
              "       1.7747012 , 0.34913862, 0.69500697, 1.0763966 , 1.1001544 ,\n",
              "       0.8674611 , 0.6680143 , 0.68301463, 1.6184242 , 1.5789348 ,\n",
              "       0.9340352 , 1.2123659 , 1.0314884 , 1.685435  , 1.3322066 ,\n",
              "       0.9622998 , 0.7356006 , 1.3868296 , 1.2119589 , 1.2540358 ,\n",
              "       1.1250725 , 1.2547219 , 1.7483995 , 0.84728646, 1.1141348 ,\n",
              "       0.6388134 , 1.4479553 , 1.130619  , 0.25090408, 1.7691412 ,\n",
              "       0.72168446, 1.1174988 , 1.1516163 , 1.2127968 , 1.1852158 ],\n",
              "      dtype=float32)>"
            ]
          },
          "metadata": {},
          "execution_count": 90
        }
      ]
    },
    {
      "cell_type": "markdown",
      "source": [
        "### Tensors e NumPy\n",
        "\n",
        "TensorFlow interagem muito bem com os vetores NumPy"
      ],
      "metadata": {
        "id": "BvJWsdNSP4vW"
      }
    },
    {
      "cell_type": "code",
      "source": [
        "# Creando um Tensor diretamente do vetor NumPy\n",
        "J = tf.constant(np.array([3., 7., 10.]))\n",
        "J"
      ],
      "metadata": {
        "colab": {
          "base_uri": "https://localhost:8080/"
        },
        "id": "hPreK_dFP8jK",
        "outputId": "b5707e38-345c-4dee-cf0a-1bac02f10802"
      },
      "execution_count": 91,
      "outputs": [
        {
          "output_type": "execute_result",
          "data": {
            "text/plain": [
              "<tf.Tensor: shape=(3,), dtype=float64, numpy=array([ 3.,  7., 10.])>"
            ]
          },
          "metadata": {},
          "execution_count": 91
        }
      ]
    },
    {
      "cell_type": "code",
      "source": [
        "# Conveerter o Tensor para NumPy array 1/2\n",
        "np.array(J), type(np.array(J))"
      ],
      "metadata": {
        "colab": {
          "base_uri": "https://localhost:8080/"
        },
        "id": "7EcCAR3pQggW",
        "outputId": "8ef08423-5043-45de-9ffd-cfdbd5b02fbf"
      },
      "execution_count": 92,
      "outputs": [
        {
          "output_type": "execute_result",
          "data": {
            "text/plain": [
              "(array([ 3.,  7., 10.]), numpy.ndarray)"
            ]
          },
          "metadata": {},
          "execution_count": 92
        }
      ]
    },
    {
      "cell_type": "code",
      "source": [
        "# Converteer Tensor para um Numpy array 2/2\n",
        "J.numpy(), type(J.numpy())"
      ],
      "metadata": {
        "colab": {
          "base_uri": "https://localhost:8080/"
        },
        "id": "V6RKbvepQyT7",
        "outputId": "c5269ec5-f2da-4859-eb32-84b45583f3f2"
      },
      "execution_count": 93,
      "outputs": [
        {
          "output_type": "execute_result",
          "data": {
            "text/plain": [
              "(array([ 3.,  7., 10.]), numpy.ndarray)"
            ]
          },
          "metadata": {},
          "execution_count": 93
        }
      ]
    },
    {
      "cell_type": "code",
      "source": [
        "# A funcionalidade nesse processo é de se poder manipulars os elementos em NumPy de modo que não se consegue com TensorFlow\n",
        "J = tf.constant([3.])\n",
        "J.numpy()[0]"
      ],
      "metadata": {
        "colab": {
          "base_uri": "https://localhost:8080/"
        },
        "id": "Jc9c9BK4RIig",
        "outputId": "c98903de-cb6b-46be-cf97-9002cf3eafeb"
      },
      "execution_count": 94,
      "outputs": [
        {
          "output_type": "execute_result",
          "data": {
            "text/plain": [
              "3.0"
            ]
          },
          "metadata": {},
          "execution_count": 94
        }
      ]
    },
    {
      "cell_type": "code",
      "source": [
        "# Tipo padrão de cada um é levemente diferente\n",
        "numpy_J = tf.constant(np.array([3., 7., 10.]))\n",
        "tensor_J = tf.constant([3., 7., 10.,])\n",
        "\n",
        "# Verificando os tipos de dados de cada um\n",
        "numpy_J.dtype, tensor_J.dtype"
      ],
      "metadata": {
        "colab": {
          "base_uri": "https://localhost:8080/"
        },
        "id": "shFCAX2wRkOy",
        "outputId": "f0725832-f2bf-49d6-cef5-cab7d53b99d3"
      },
      "execution_count": 95,
      "outputs": [
        {
          "output_type": "execute_result",
          "data": {
            "text/plain": [
              "(tf.float64, tf.float32)"
            ]
          },
          "metadata": {},
          "execution_count": 95
        }
      ]
    },
    {
      "cell_type": "markdown",
      "source": [
        "### Achando o acesso aos GPUs\n"
      ],
      "metadata": {
        "id": "IYzs3NlfTB6i"
      }
    },
    {
      "cell_type": "code",
      "source": [
        "# Comando para sabeermos em que tipo de hardware está rodando\n",
        "tf.config.list_physical_devices() # está rodando em um CPU"
      ],
      "metadata": {
        "colab": {
          "base_uri": "https://localhost:8080/"
        },
        "id": "3XWeQakFTNZg",
        "outputId": "ee59862b-e5e8-4326-9551-a2435784f789"
      },
      "execution_count": 98,
      "outputs": [
        {
          "output_type": "execute_result",
          "data": {
            "text/plain": [
              "[PhysicalDevice(name='/physical_device:CPU:0', device_type='CPU'),\n",
              " PhysicalDevice(name='/physical_device:GPU:0', device_type='GPU')]"
            ]
          },
          "metadata": {},
          "execution_count": 98
        }
      ]
    },
    {
      "cell_type": "code",
      "source": [
        "tf.config.list_physical_devices(\"GPU\") # '[]' -> indica que não há GPUs"
      ],
      "metadata": {
        "colab": {
          "base_uri": "https://localhost:8080/"
        },
        "id": "U_vp08GFTzud",
        "outputId": "53b2b381-3150-49bf-d8f7-bd7138016e22"
      },
      "execution_count": 97,
      "outputs": [
        {
          "output_type": "execute_result",
          "data": {
            "text/plain": [
              "[PhysicalDevice(name='/physical_device:GPU:0', device_type='GPU')]"
            ]
          },
          "metadata": {},
          "execution_count": 97
        }
      ]
    },
    {
      "cell_type": "code",
      "source": [
        "!nvidia-smi # Comando para sabermos que tipo de GPU está rodando"
      ],
      "metadata": {
        "colab": {
          "base_uri": "https://localhost:8080/"
        },
        "id": "qJn_GB3HU0rX",
        "outputId": "22c289b9-d406-4256-edae-5e48ca40a518"
      },
      "execution_count": 99,
      "outputs": [
        {
          "output_type": "stream",
          "name": "stdout",
          "text": [
            "Thu May  4 19:56:00 2023       \n",
            "+-----------------------------------------------------------------------------+\n",
            "| NVIDIA-SMI 525.85.12    Driver Version: 525.85.12    CUDA Version: 12.0     |\n",
            "|-------------------------------+----------------------+----------------------+\n",
            "| GPU  Name        Persistence-M| Bus-Id        Disp.A | Volatile Uncorr. ECC |\n",
            "| Fan  Temp  Perf  Pwr:Usage/Cap|         Memory-Usage | GPU-Util  Compute M. |\n",
            "|                               |                      |               MIG M. |\n",
            "|===============================+======================+======================|\n",
            "|   0  Tesla T4            Off  | 00000000:00:04.0 Off |                    0 |\n",
            "| N/A   42C    P0    26W /  70W |    375MiB / 15360MiB |      0%      Default |\n",
            "|                               |                      |                  N/A |\n",
            "+-------------------------------+----------------------+----------------------+\n",
            "                                                                               \n",
            "+-----------------------------------------------------------------------------+\n",
            "| Processes:                                                                  |\n",
            "|  GPU   GI   CI        PID   Type   Process name                  GPU Memory |\n",
            "|        ID   ID                                                   Usage      |\n",
            "|=============================================================================|\n",
            "+-----------------------------------------------------------------------------+\n"
          ]
        }
      ]
    },
    {
      "cell_type": "markdown",
      "source": [
        "❗**Note:** Se temos acesso a um CUDA-enabled GPU, TensorFlow vai automaticamente usar-lo sempre que possível"
      ],
      "metadata": {
        "id": "csfRbbkdVWEw"
      }
    },
    {
      "cell_type": "markdown",
      "source": [
        "### Exercício extracurricular\n"
      ],
      "metadata": {
        "id": "98ZzV5335vJH"
      }
    },
    {
      "cell_type": "code",
      "source": [
        "# Exercicio 01 - Create a vector, scalar, matrix and tensor with values of your choosing using tf.constant().\n",
        "import tensorflow as tf\n",
        "import numpy as np\n",
        "# Com Numpy\n",
        "scalarnp = np.arange(1) # Scalar ou tensor 0-dim\n",
        "vetornp = np.arange(10) # Vetor ou tensor 1-dim\n",
        "matriznp = np.full((3, 3), 9) # Matriz ou tensor 2-dim\n",
        "tensornp = np.full((2, 3, 4), 24) # Tensor 3-dim\n",
        "# Com TensorFlow\n",
        "scalartf = tf.constant([0])\n",
        "vetortf = tf.constant([1, 2, 3, 4, 5, 6])\n",
        "matriztf = tf.constant([[1, 2, 3],\n",
        "                        [4, 5, 6],\n",
        "                        [7, 8, 9]])\n",
        "tensortf = tf.constant([[[1, 2],\n",
        "                         [3, 4]],\n",
        "                        \n",
        "                        [[5, 6],\n",
        "                         [7, 8]]])\n",
        "tensortf"
      ],
      "metadata": {
        "colab": {
          "base_uri": "https://localhost:8080/"
        },
        "id": "eS1HB67K59P_",
        "outputId": "56bc8164-90f2-4468-8292-1249aab29c32"
      },
      "execution_count": 15,
      "outputs": [
        {
          "output_type": "execute_result",
          "data": {
            "text/plain": [
              "<tf.Tensor: shape=(2, 2, 2), dtype=int32, numpy=\n",
              "array([[[1, 2],\n",
              "        [3, 4]],\n",
              "\n",
              "       [[5, 6],\n",
              "        [7, 8]]], dtype=int32)>"
            ]
          },
          "metadata": {},
          "execution_count": 15
        }
      ]
    },
    {
      "cell_type": "code",
      "source": [
        "# Exercicio 02 - Find the shape, rank and size of the tensors you created in 1.\n",
        "print(scalartf.shape, scalartf.ndim, tf.size(scalartf)) # Scalar\n",
        "print(vetortf.shape, vetortf.ndim, tf.size(vetortf)) # Vetor\n",
        "print(matriztf.shape, matriztf.ndim, tf.size(matriztf)) # Matriz\n",
        "print(tensortf.shape, tensortf.ndim, tf.size(tensortf)) # Tensor"
      ],
      "metadata": {
        "colab": {
          "base_uri": "https://localhost:8080/"
        },
        "id": "DQ3D-6zX_Gii",
        "outputId": "b27e018d-474d-4764-f278-86f8ae796300"
      },
      "execution_count": 20,
      "outputs": [
        {
          "output_type": "stream",
          "name": "stdout",
          "text": [
            "(1,) 1 tf.Tensor(1, shape=(), dtype=int32)\n",
            "(6,) 1 tf.Tensor(6, shape=(), dtype=int32)\n",
            "(3, 3) 2 tf.Tensor(9, shape=(), dtype=int32)\n",
            "(2, 2, 2) 3 tf.Tensor(8, shape=(), dtype=int32)\n"
          ]
        }
      ]
    },
    {
      "cell_type": "code",
      "source": [
        "# Exercicio 03 - Create two tensors containing random values between 0 and 1 with shape [5, 300].\n",
        "# Tensor01\n",
        "tf.random.set_seed(42)\n",
        "tensor01 = tf.random.uniform(shape=[5, 300], minval=0, maxval=1, dtype=tf.float16)\n",
        "print(tensor01)\n",
        "# Tensor02\n",
        "tensor02 = tf.random.uniform(shape=[5, 300], minval=0, maxval=1, dtype=tf.float16)\n",
        "print(tensor02)"
      ],
      "metadata": {
        "colab": {
          "base_uri": "https://localhost:8080/"
        },
        "id": "AEZxIZP9Bhfu",
        "outputId": "a511bb10-dad7-4bad-89bb-dcc1b04a1a9b"
      },
      "execution_count": 26,
      "outputs": [
        {
          "output_type": "stream",
          "name": "stdout",
          "text": [
            "tf.Tensor(\n",
            "[[0.0928  0.7275  0.8135  ... 0.1455  0.624   0.02637]\n",
            " [0.3408  0.3252  0.03906 ... 0.964   0.3955  0.747  ]\n",
            " [0.4727  0.1084  0.2158  ... 0.6436  0.7715  0.535  ]\n",
            " [0.577   0.2783  0.3887  ... 0.8467  0.552   0.955  ]\n",
            " [0.3613  0.00879 0.718   ... 0.3408  0.4941  0.549  ]], shape=(5, 300), dtype=float16)\n",
            "tf.Tensor(\n",
            "[[0.2051  0.8506  0.706   ... 0.4883  0.12305 0.9316 ]\n",
            " [0.1445  0.962   0.291   ... 0.8564  0.6377  0.02148]\n",
            " [0.3867  0.999   0.927   ... 0.9326  0.5635  0.05957]\n",
            " [0.789   0.4307  0.2031  ... 0.8545  0.9434  0.02344]\n",
            " [0.6836  0.749   0.7275  ... 0.463   0.9023  0.2568 ]], shape=(5, 300), dtype=float16)\n"
          ]
        }
      ]
    },
    {
      "cell_type": "code",
      "source": [
        "# Exercicio 04 - Multiply the two tensors you created in 3 using matrix multiplication.\n",
        "tf.matmul(tensor01, tf.transpose(tensor02))"
      ],
      "metadata": {
        "colab": {
          "base_uri": "https://localhost:8080/"
        },
        "id": "reM6SoKQC1kc",
        "outputId": "8d284099-cdbf-4c89-ae0c-08da6edacde3"
      },
      "execution_count": 34,
      "outputs": [
        {
          "output_type": "execute_result",
          "data": {
            "text/plain": [
              "<tf.Tensor: shape=(5, 5), dtype=float16, numpy=\n",
              "array([[70.2 , 68.75, 68.6 , 67.25, 76.4 ],\n",
              "       [75.75, 76.06, 74.7 , 76.  , 81.1 ],\n",
              "       [77.25, 78.06, 71.56, 76.7 , 81.1 ],\n",
              "       [74.8 , 77.3 , 67.94, 76.  , 78.7 ],\n",
              "       [76.4 , 76.44, 74.  , 72.4 , 79.4 ]], dtype=float16)>"
            ]
          },
          "metadata": {},
          "execution_count": 34
        }
      ]
    },
    {
      "cell_type": "code",
      "source": [
        "# Exercicio 05 - Multiply the two tensors you created in 3 using dot product.\n",
        "tensor01 @ tf.transpose(tensor02)"
      ],
      "metadata": {
        "colab": {
          "base_uri": "https://localhost:8080/"
        },
        "id": "MxO1CxBpGo6I",
        "outputId": "2f1a0fa7-04a0-4e8a-8d32-37964b16b6c1"
      },
      "execution_count": 36,
      "outputs": [
        {
          "output_type": "execute_result",
          "data": {
            "text/plain": [
              "<tf.Tensor: shape=(5, 5), dtype=float16, numpy=\n",
              "array([[70.2 , 68.75, 68.6 , 67.25, 76.4 ],\n",
              "       [75.75, 76.06, 74.7 , 76.  , 81.1 ],\n",
              "       [77.25, 78.06, 71.56, 76.7 , 81.1 ],\n",
              "       [74.8 , 77.3 , 67.94, 76.  , 78.7 ],\n",
              "       [76.4 , 76.44, 74.  , 72.4 , 79.4 ]], dtype=float16)>"
            ]
          },
          "metadata": {},
          "execution_count": 36
        }
      ]
    },
    {
      "cell_type": "code",
      "source": [
        "# Exercicio 06 - Create a tensor with random values between 0 and 1 with shape [224, 224, 3].\n",
        "tf.random.set_seed(42)\n",
        "tensor03 = tf.random.uniform(shape=[224, 224, 3], minval=0, maxval=1, dtype=tf.float16)\n",
        "print(tensor03)"
      ],
      "metadata": {
        "colab": {
          "base_uri": "https://localhost:8080/"
        },
        "id": "im4Bo8lPH6hV",
        "outputId": "86131d90-3501-47a5-ce1f-f864e4349d7d"
      },
      "execution_count": 43,
      "outputs": [
        {
          "output_type": "stream",
          "name": "stdout",
          "text": [
            "tf.Tensor(\n",
            "[[[0.0928   0.7275   0.8135  ]\n",
            "  [0.04102  0.746    0.836   ]\n",
            "  [0.042    0.0654   0.0654  ]\n",
            "  ...\n",
            "  [0.797    0.4785   0.3428  ]\n",
            "  [0.2314   0.7773   0.338   ]\n",
            "  [0.83     0.01172  0.872   ]]\n",
            "\n",
            " [[0.4336   0.252    0.9336  ]\n",
            "  [0.2354   0.667    0.785   ]\n",
            "  [0.961    0.4707   0.0654  ]\n",
            "  ...\n",
            "  [0.3691   0.2148   0.9316  ]\n",
            "  [0.7334   0.1328   0.4395  ]\n",
            "  [0.6074   0.6963   0.76    ]]\n",
            "\n",
            " [[0.5684   0.579    0.4736  ]\n",
            "  [0.8477   0.3145   0.6904  ]\n",
            "  [0.2764   0.9463   0.206   ]\n",
            "  ...\n",
            "  [0.6504   0.0947   0.2412  ]\n",
            "  [0.533    0.11035  0.414   ]\n",
            "  [0.619    0.165    0.963   ]]\n",
            "\n",
            " ...\n",
            "\n",
            " [[0.7295   0.752    0.547   ]\n",
            "  [0.8193   0.0762   0.993   ]\n",
            "  [0.4824   0.6963   0.2051  ]\n",
            "  ...\n",
            "  [0.6035   0.547    0.6465  ]\n",
            "  [0.508    0.3936   0.6826  ]\n",
            "  [0.884    0.00586  0.785   ]]\n",
            "\n",
            " [[0.9395   0.1826   0.584   ]\n",
            "  [0.2559   0.836    0.497   ]\n",
            "  [0.627    0.7393   0.1445  ]\n",
            "  ...\n",
            "  [0.8457   0.8975   0.8496  ]\n",
            "  [0.7705   0.248    0.4014  ]\n",
            "  [0.1113   0.3516   0.006836]]\n",
            "\n",
            " [[0.541    0.836    0.6133  ]\n",
            "  [0.8125   0.3838   0.2725  ]\n",
            "  [0.4023   0.0498   0.575   ]\n",
            "  ...\n",
            "  [0.8438   0.4482   0.7227  ]\n",
            "  [0.79     0.669    0.748   ]\n",
            "  [0.2676   0.2627   0.5664  ]]], shape=(224, 224, 3), dtype=float16)\n"
          ]
        }
      ]
    },
    {
      "cell_type": "code",
      "source": [
        "# Exercicio 07 - Find the min and max values of the tensor you created in 6 along the first axis.\n",
        "print(tf.reduce_min(tensor03, axis=0))"
      ],
      "metadata": {
        "colab": {
          "base_uri": "https://localhost:8080/"
        },
        "id": "Ry9UNpcJH--u",
        "outputId": "da5b7497-9f7a-4d00-92b1-3c1e7e754efd"
      },
      "execution_count": 45,
      "outputs": [
        {
          "output_type": "stream",
          "name": "stdout",
          "text": [
            "tf.Tensor(\n",
            "[[0.       0.00293  0.003906]\n",
            " [0.       0.007812 0.00293 ]\n",
            " [0.000977 0.       0.00879 ]\n",
            " [0.00586  0.003906 0.      ]\n",
            " [0.000977 0.003906 0.001953]\n",
            " [0.00293  0.000977 0.00586 ]\n",
            " [0.000977 0.004883 0.007812]\n",
            " [0.000977 0.007812 0.      ]\n",
            " [0.       0.004883 0.00879 ]\n",
            " [0.00879  0.009766 0.000977]\n",
            " [0.       0.       0.      ]\n",
            " [0.003906 0.001953 0.      ]\n",
            " [0.001953 0.004883 0.      ]\n",
            " [0.00586  0.004883 0.001953]\n",
            " [0.       0.000977 0.      ]\n",
            " [0.001953 0.007812 0.000977]\n",
            " [0.001953 0.009766 0.00293 ]\n",
            " [0.01172  0.004883 0.004883]\n",
            " [0.       0.007812 0.000977]\n",
            " [0.000977 0.01563  0.      ]\n",
            " [0.       0.       0.004883]\n",
            " [0.000977 0.003906 0.000977]\n",
            " [0.       0.001953 0.      ]\n",
            " [0.       0.01367  0.000977]\n",
            " [0.004883 0.       0.01563 ]\n",
            " [0.001953 0.003906 0.000977]\n",
            " [0.006836 0.01172  0.007812]\n",
            " [0.00293  0.003906 0.00293 ]\n",
            " [0.001953 0.003906 0.      ]\n",
            " [0.009766 0.004883 0.00879 ]\n",
            " [0.00293  0.001953 0.      ]\n",
            " [0.000977 0.006836 0.001953]\n",
            " [0.00879  0.01758  0.00293 ]\n",
            " [0.       0.000977 0.001953]\n",
            " [0.006836 0.       0.003906]\n",
            " [0.004883 0.000977 0.001953]\n",
            " [0.003906 0.00586  0.      ]\n",
            " [0.004883 0.00293  0.003906]\n",
            " [0.000977 0.007812 0.003906]\n",
            " [0.001953 0.00293  0.001953]\n",
            " [0.009766 0.007812 0.006836]\n",
            " [0.001953 0.00293  0.000977]\n",
            " [0.000977 0.007812 0.003906]\n",
            " [0.       0.000977 0.000977]\n",
            " [0.000977 0.01367  0.004883]\n",
            " [0.01465  0.006836 0.006836]\n",
            " [0.       0.003906 0.006836]\n",
            " [0.01563  0.000977 0.000977]\n",
            " [0.001953 0.004883 0.001953]\n",
            " [0.001953 0.007812 0.006836]\n",
            " [0.000977 0.003906 0.00293 ]\n",
            " [0.000977 0.000977 0.001953]\n",
            " [0.00293  0.007812 0.000977]\n",
            " [0.004883 0.       0.00293 ]\n",
            " [0.001953 0.004883 0.009766]\n",
            " [0.004883 0.003906 0.007812]\n",
            " [0.003906 0.001953 0.001953]\n",
            " [0.003906 0.000977 0.004883]\n",
            " [0.01367  0.       0.02441 ]\n",
            " [0.00293  0.00586  0.001953]\n",
            " [0.       0.003906 0.01074 ]\n",
            " [0.       0.       0.001953]\n",
            " [0.009766 0.001953 0.00879 ]\n",
            " [0.006836 0.001953 0.001953]\n",
            " [0.00586  0.00293  0.003906]\n",
            " [0.012695 0.       0.004883]\n",
            " [0.000977 0.003906 0.      ]\n",
            " [0.006836 0.01074  0.000977]\n",
            " [0.000977 0.00293  0.01953 ]\n",
            " [0.000977 0.01563  0.00293 ]\n",
            " [0.01855  0.012695 0.003906]\n",
            " [0.00293  0.0166   0.006836]\n",
            " [0.0166   0.001953 0.007812]\n",
            " [0.001953 0.000977 0.004883]\n",
            " [0.003906 0.006836 0.001953]\n",
            " [0.003906 0.001953 0.000977]\n",
            " [0.       0.004883 0.000977]\n",
            " [0.000977 0.003906 0.001953]\n",
            " [0.       0.01172  0.000977]\n",
            " [0.01758  0.006836 0.000977]\n",
            " [0.00586  0.00879  0.003906]\n",
            " [0.       0.00586  0.000977]\n",
            " [0.000977 0.00293  0.003906]\n",
            " [0.       0.003906 0.003906]\n",
            " [0.003906 0.004883 0.004883]\n",
            " [0.00879  0.001953 0.009766]\n",
            " [0.       0.003906 0.      ]\n",
            " [0.00586  0.00586  0.      ]\n",
            " [0.003906 0.006836 0.003906]\n",
            " [0.001953 0.       0.      ]\n",
            " [0.004883 0.000977 0.      ]\n",
            " [0.007812 0.00293  0.001953]\n",
            " [0.02246  0.00293  0.003906]\n",
            " [0.006836 0.000977 0.      ]\n",
            " [0.000977 0.00293  0.00293 ]\n",
            " [0.003906 0.       0.001953]\n",
            " [0.0166   0.007812 0.00293 ]\n",
            " [0.       0.000977 0.00586 ]\n",
            " [0.       0.01758  0.00586 ]\n",
            " [0.00293  0.00586  0.001953]\n",
            " [0.       0.000977 0.000977]\n",
            " [0.01172  0.003906 0.00293 ]\n",
            " [0.003906 0.01172  0.000977]\n",
            " [0.       0.000977 0.      ]\n",
            " [0.001953 0.       0.000977]\n",
            " [0.01172  0.003906 0.02246 ]\n",
            " [0.004883 0.000977 0.      ]\n",
            " [0.00586  0.007812 0.009766]\n",
            " [0.000977 0.006836 0.003906]\n",
            " [0.004883 0.000977 0.000977]\n",
            " [0.001953 0.       0.      ]\n",
            " [0.000977 0.000977 0.      ]\n",
            " [0.007812 0.004883 0.001953]\n",
            " [0.003906 0.       0.000977]\n",
            " [0.004883 0.007812 0.01172 ]\n",
            " [0.001953 0.009766 0.000977]\n",
            " [0.       0.       0.      ]\n",
            " [0.       0.       0.00293 ]\n",
            " [0.000977 0.       0.004883]\n",
            " [0.00293  0.003906 0.00293 ]\n",
            " [0.001953 0.02148  0.      ]\n",
            " [0.       0.       0.001953]\n",
            " [0.00293  0.000977 0.00293 ]\n",
            " [0.001953 0.000977 0.006836]\n",
            " [0.       0.003906 0.004883]\n",
            " [0.001953 0.000977 0.001953]\n",
            " [0.000977 0.001953 0.00879 ]\n",
            " [0.       0.003906 0.      ]\n",
            " [0.00586  0.       0.006836]\n",
            " [0.       0.004883 0.004883]\n",
            " [0.009766 0.001953 0.00293 ]\n",
            " [0.007812 0.001953 0.001953]\n",
            " [0.009766 0.000977 0.003906]\n",
            " [0.       0.000977 0.000977]\n",
            " [0.001953 0.02344  0.004883]\n",
            " [0.00879  0.000977 0.004883]\n",
            " [0.001953 0.       0.012695]\n",
            " [0.001953 0.01367  0.      ]\n",
            " [0.000977 0.001953 0.001953]\n",
            " [0.       0.00879  0.00879 ]\n",
            " [0.00586  0.       0.000977]\n",
            " [0.       0.01172  0.00293 ]\n",
            " [0.00293  0.00293  0.006836]\n",
            " [0.004883 0.00586  0.001953]\n",
            " [0.000977 0.       0.      ]\n",
            " [0.003906 0.012695 0.001953]\n",
            " [0.00293  0.       0.007812]\n",
            " [0.01172  0.004883 0.      ]\n",
            " [0.       0.00586  0.001953]\n",
            " [0.000977 0.       0.      ]\n",
            " [0.001953 0.       0.00586 ]\n",
            " [0.00293  0.       0.000977]\n",
            " [0.001953 0.       0.004883]\n",
            " [0.000977 0.000977 0.00586 ]\n",
            " [0.000977 0.       0.001953]\n",
            " [0.       0.012695 0.003906]\n",
            " [0.001953 0.004883 0.01367 ]\n",
            " [0.       0.       0.007812]\n",
            " [0.001953 0.007812 0.00293 ]\n",
            " [0.006836 0.00586  0.01855 ]\n",
            " [0.00293  0.00293  0.000977]\n",
            " [0.000977 0.003906 0.007812]\n",
            " [0.000977 0.007812 0.      ]\n",
            " [0.001953 0.       0.000977]\n",
            " [0.009766 0.000977 0.00293 ]\n",
            " [0.00586  0.001953 0.      ]\n",
            " [0.009766 0.004883 0.000977]\n",
            " [0.009766 0.003906 0.01074 ]\n",
            " [0.003906 0.00293  0.000977]\n",
            " [0.001953 0.000977 0.001953]\n",
            " [0.000977 0.006836 0.02344 ]\n",
            " [0.       0.       0.000977]\n",
            " [0.001953 0.007812 0.000977]\n",
            " [0.00293  0.000977 0.007812]\n",
            " [0.       0.000977 0.003906]\n",
            " [0.000977 0.003906 0.      ]\n",
            " [0.004883 0.007812 0.      ]\n",
            " [0.00586  0.       0.001953]\n",
            " [0.       0.000977 0.003906]\n",
            " [0.000977 0.00293  0.01367 ]\n",
            " [0.       0.000977 0.001953]\n",
            " [0.       0.001953 0.00879 ]\n",
            " [0.001953 0.006836 0.      ]\n",
            " [0.001953 0.000977 0.003906]\n",
            " [0.01172  0.000977 0.001953]\n",
            " [0.00293  0.       0.      ]\n",
            " [0.003906 0.00293  0.003906]\n",
            " [0.       0.00586  0.      ]\n",
            " [0.02441  0.004883 0.000977]\n",
            " [0.       0.01758  0.000977]\n",
            " [0.001953 0.00293  0.00293 ]\n",
            " [0.       0.000977 0.00586 ]\n",
            " [0.00293  0.001953 0.01172 ]\n",
            " [0.007812 0.000977 0.001953]\n",
            " [0.       0.000977 0.001953]\n",
            " [0.000977 0.00293  0.006836]\n",
            " [0.02246  0.02148  0.003906]\n",
            " [0.       0.01465  0.00293 ]\n",
            " [0.000977 0.012695 0.004883]\n",
            " [0.004883 0.001953 0.      ]\n",
            " [0.       0.001953 0.00586 ]\n",
            " [0.000977 0.       0.      ]\n",
            " [0.000977 0.004883 0.003906]\n",
            " [0.00293  0.       0.001953]\n",
            " [0.       0.       0.006836]\n",
            " [0.000977 0.001953 0.      ]\n",
            " [0.       0.000977 0.003906]\n",
            " [0.004883 0.01074  0.00293 ]\n",
            " [0.007812 0.000977 0.000977]\n",
            " [0.004883 0.       0.00293 ]\n",
            " [0.000977 0.00879  0.007812]\n",
            " [0.00586  0.       0.001953]\n",
            " [0.000977 0.004883 0.00586 ]\n",
            " [0.       0.00879  0.007812]\n",
            " [0.00586  0.003906 0.      ]\n",
            " [0.006836 0.003906 0.00293 ]\n",
            " [0.009766 0.009766 0.00586 ]\n",
            " [0.       0.001953 0.      ]\n",
            " [0.000977 0.01465  0.000977]\n",
            " [0.00293  0.01563  0.      ]\n",
            " [0.003906 0.003906 0.000977]\n",
            " [0.01465  0.003906 0.001953]\n",
            " [0.       0.003906 0.000977]\n",
            " [0.000977 0.       0.      ]], shape=(224, 3), dtype=float16)\n"
          ]
        }
      ]
    },
    {
      "cell_type": "code",
      "source": [
        "# Exercicio 08 - Created a tensor with random values of shape [1, 224, 224, 3] then squeeze it to change the shape to [224, 224, 3].\n",
        "tf.random.set_seed(42)\n",
        "tensor04 = tf.random.uniform(shape=[1, 224, 224, 3])\n",
        "tensor04_squeezed = tf.squeeze(tensor04)\n",
        "tensor04.shape, tensor04_squeezed.shape"
      ],
      "metadata": {
        "colab": {
          "base_uri": "https://localhost:8080/"
        },
        "id": "rvrq5CjQJDeL",
        "outputId": "38c0dbbf-75c3-4ca2-8095-b65e7cb1d2ed"
      },
      "execution_count": 48,
      "outputs": [
        {
          "output_type": "execute_result",
          "data": {
            "text/plain": [
              "(TensorShape([1, 224, 224, 3]), TensorShape([224, 224, 3]))"
            ]
          },
          "metadata": {},
          "execution_count": 48
        }
      ]
    },
    {
      "cell_type": "code",
      "source": [
        "# Exercicio 09 - Create a tensor with shape [10] using your own choice of values, then find the index which has the maximum value.\n",
        "tf.random.set_seed(99)\n",
        "tensor05 = tf.random.uniform(shape = [10], minval = 0, maxval = 100, dtype = tf.int32)\n",
        "print(tensor05)\n",
        "tf.argmax(tensor05)\n",
        "tf.argmin(tensor05)"
      ],
      "metadata": {
        "colab": {
          "base_uri": "https://localhost:8080/"
        },
        "id": "uzaSgoJaKNCH",
        "outputId": "55bf26b4-92b8-4d3e-db81-5fa7856188dd"
      },
      "execution_count": 60,
      "outputs": [
        {
          "output_type": "stream",
          "name": "stdout",
          "text": [
            "tf.Tensor([ 6 97 67 87 23 93 10  3 29 15], shape=(10,), dtype=int32)\n"
          ]
        },
        {
          "output_type": "execute_result",
          "data": {
            "text/plain": [
              "<tf.Tensor: shape=(), dtype=int64, numpy=7>"
            ]
          },
          "metadata": {},
          "execution_count": 60
        }
      ]
    },
    {
      "cell_type": "code",
      "source": [
        "# Exercicio 10 - One-hot encode the tensor you created in 9.\n",
        "tf.one_hot(tensor05, tf.size(tensor05))"
      ],
      "metadata": {
        "colab": {
          "base_uri": "https://localhost:8080/"
        },
        "id": "sAigxo3DMZtn",
        "outputId": "9524fbd1-9db4-4c79-a1a7-cc742ba00169"
      },
      "execution_count": 61,
      "outputs": [
        {
          "output_type": "execute_result",
          "data": {
            "text/plain": [
              "<tf.Tensor: shape=(10, 10), dtype=float32, numpy=\n",
              "array([[0., 0., 0., 0., 0., 0., 1., 0., 0., 0.],\n",
              "       [0., 0., 0., 0., 0., 0., 0., 0., 0., 0.],\n",
              "       [0., 0., 0., 0., 0., 0., 0., 0., 0., 0.],\n",
              "       [0., 0., 0., 0., 0., 0., 0., 0., 0., 0.],\n",
              "       [0., 0., 0., 0., 0., 0., 0., 0., 0., 0.],\n",
              "       [0., 0., 0., 0., 0., 0., 0., 0., 0., 0.],\n",
              "       [0., 0., 0., 0., 0., 0., 0., 0., 0., 0.],\n",
              "       [0., 0., 0., 1., 0., 0., 0., 0., 0., 0.],\n",
              "       [0., 0., 0., 0., 0., 0., 0., 0., 0., 0.],\n",
              "       [0., 0., 0., 0., 0., 0., 0., 0., 0., 0.]], dtype=float32)>"
            ]
          },
          "metadata": {},
          "execution_count": 61
        }
      ]
    }
  ]
}