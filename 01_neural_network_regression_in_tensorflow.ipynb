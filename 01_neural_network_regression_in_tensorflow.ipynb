{
  "nbformat": 4,
  "nbformat_minor": 0,
  "metadata": {
    "colab": {
      "provenance": [],
      "gpuType": "T4",
      "toc_visible": true,
      "mount_file_id": "1PdihaxLbMZXZ55tdZ-DoMgTWzLzv1Au2",
      "authorship_tag": "ABX9TyMoro7OwCoLXn48WyQVEHPI",
      "include_colab_link": true
    },
    "kernelspec": {
      "name": "python3",
      "display_name": "Python 3"
    },
    "language_info": {
      "name": "python"
    },
    "accelerator": "GPU",
    "gpuClass": "standard"
  },
  "cells": [
    {
      "cell_type": "markdown",
      "metadata": {
        "id": "view-in-github",
        "colab_type": "text"
      },
      "source": [
        "<a href=\"https://colab.research.google.com/github/BrunoTohoru/exercicios_java_Repeticao/blob/main/01_neural_network_regression_in_tensorflow.ipynb\" target=\"_parent\"><img src=\"https://colab.research.google.com/assets/colab-badge.svg\" alt=\"Open In Colab\"/></a>"
      ]
    },
    {
      "cell_type": "markdown",
      "source": [
        "# Introdução a Regressão com Neural Network no TensorFlow\n",
        "\n",
        "Existem varias definições para ploblemas de regressão, mas nosso caso, vamos simplifica-lo: predição de uma variável de valor numérico baseado em combinações de outras variáveis, mais resumido... predizendo um número."
      ],
      "metadata": {
        "id": "XxQ95zbi1gMy"
      }
    },
    {
      "cell_type": "code",
      "source": [
        "# Import TensorFlow\n",
        "import tensorflow as tf\n",
        "print(tf.__version__)"
      ],
      "metadata": {
        "colab": {
          "base_uri": "https://localhost:8080/"
        },
        "id": "IpFD_2p32ljJ",
        "outputId": "0b8fd762-30a9-4d03-852d-d4afa61dc8c7"
      },
      "execution_count": null,
      "outputs": [
        {
          "output_type": "stream",
          "name": "stdout",
          "text": [
            "2.12.0\n"
          ]
        }
      ]
    },
    {
      "cell_type": "markdown",
      "source": [
        "## Criando dados para visualizar e adequar"
      ],
      "metadata": {
        "id": "Dyo6P5KH23ZB"
      }
    },
    {
      "cell_type": "code",
      "source": [
        "import numpy as np\n",
        "import matplotlib.pyplot as plt\n",
        "\n",
        "# Criando funções\n",
        "X = np.array([-7.0, -4.0, -1.0, 2.0, 5.0, 8.0, 11.0, 14.0])\n",
        "\n",
        "# Criando rotulos\n",
        "Y = np.array([3.0, 6.0, 9.0, 12.0, 15.0, 18.0, 21.0, 24.0])\n",
        "\n",
        "# Visualizar\n",
        "plt.scatter(X, Y)"
      ],
      "metadata": {
        "colab": {
          "base_uri": "https://localhost:8080/",
          "height": 452
        },
        "id": "lowhiB6l2_kA",
        "outputId": "d061fb58-d8f5-4575-a570-6c5dafaa9c65"
      },
      "execution_count": null,
      "outputs": [
        {
          "output_type": "execute_result",
          "data": {
            "text/plain": [
              "<matplotlib.collections.PathCollection at 0x7f1bc6437670>"
            ]
          },
          "metadata": {},
          "execution_count": 2
        },
        {
          "output_type": "display_data",
          "data": {
            "text/plain": [
              "<Figure size 640x480 with 1 Axes>"
            ],
            "image/png": "[encoded data removed]"
          },
          "metadata": {}
        }
      ]
    },
    {
      "cell_type": "markdown",
      "source": [
        "## Formato dos Inputs e Outputs"
      ],
      "metadata": {
        "id": "w9er_p184SCx"
      }
    },
    {
      "cell_type": "code",
      "source": [
        "# Criando uma Tensor demo para nosso exemplo da predição do valor da casa\n",
        "house_info = tf.constant([\"bedroom\", \"bethroom\", \"garage\"])\n",
        "house_price = tf.constant(939700)\n",
        "house_info, house_price"
      ],
      "metadata": {
        "colab": {
          "base_uri": "https://localhost:8080/"
        },
        "id": "0gX3i2iV4Xnb",
        "outputId": "e459e058-a168-414d-cb5f-b0d275401082"
      },
      "execution_count": null,
      "outputs": [
        {
          "output_type": "execute_result",
          "data": {
            "text/plain": [
              "(<tf.Tensor: shape=(3,), dtype=string, numpy=array([b'bedroom', b'bethroom', b'garage'], dtype=object)>,\n",
              " <tf.Tensor: shape=(), dtype=int32, numpy=939700>)"
            ]
          },
          "metadata": {},
          "execution_count": 3
        }
      ]
    },
    {
      "cell_type": "code",
      "source": [
        "input_shape = X.shape\n",
        "output_shape = Y.shape\n",
        "input_shape, output_shape"
      ],
      "metadata": {
        "colab": {
          "base_uri": "https://localhost:8080/"
        },
        "id": "HVwo37Sb5vEQ",
        "outputId": "714b278b-5797-4e36-f367-7a4f5c65550f"
      },
      "execution_count": null,
      "outputs": [
        {
          "output_type": "execute_result",
          "data": {
            "text/plain": [
              "((8,), (8,))"
            ]
          },
          "metadata": {},
          "execution_count": 4
        }
      ]
    },
    {
      "cell_type": "code",
      "source": [
        "# Transformando os vetores numpy em Tensors\n",
        "X = tf.constant(X)\n",
        "Y = tf.constant(Y)\n",
        "X, Y"
      ],
      "metadata": {
        "colab": {
          "base_uri": "https://localhost:8080/"
        },
        "id": "K-JNgujn7MfB",
        "outputId": "5d31c115-e365-4a04-cdce-6ee539bbf3bb"
      },
      "execution_count": null,
      "outputs": [
        {
          "output_type": "execute_result",
          "data": {
            "text/plain": [
              "(<tf.Tensor: shape=(8,), dtype=float64, numpy=array([-7., -4., -1.,  2.,  5.,  8., 11., 14.])>,\n",
              " <tf.Tensor: shape=(8,), dtype=float64, numpy=array([ 3.,  6.,  9., 12., 15., 18., 21., 24.])>)"
            ]
          },
          "metadata": {},
          "execution_count": 5
        }
      ]
    },
    {
      "cell_type": "code",
      "source": [
        "input_shape = X[0].shape\n",
        "output_shape = Y[0].shape\n",
        "input_shape, output_shape"
      ],
      "metadata": {
        "colab": {
          "base_uri": "https://localhost:8080/"
        },
        "id": "Gy-nkbwS7f_3",
        "outputId": "b79a9359-4fe2-4d18-ab3b-a796d56e00a2"
      },
      "execution_count": null,
      "outputs": [
        {
          "output_type": "execute_result",
          "data": {
            "text/plain": [
              "(TensorShape([]), TensorShape([]))"
            ]
          },
          "metadata": {},
          "execution_count": 6
        }
      ]
    },
    {
      "cell_type": "code",
      "source": [
        "plt.scatter(X, Y)"
      ],
      "metadata": {
        "colab": {
          "base_uri": "https://localhost:8080/",
          "height": 452
        },
        "id": "-iZ4a0dK7sAf",
        "outputId": "2816472b-c75c-4ed8-da17-b6f33a12a956"
      },
      "execution_count": null,
      "outputs": [
        {
          "output_type": "execute_result",
          "data": {
            "text/plain": [
              "<matplotlib.collections.PathCollection at 0x7f1bc4112620>"
            ]
          },
          "metadata": {},
          "execution_count": 7
        },
        {
          "output_type": "display_data",
          "data": {
            "text/plain": [
              "<Figure size 640x480 with 1 Axes>"
            ],
            "image/png": "[encoded data removed]"
          },
          "metadata": {}
        }
      ]
    },
    {
      "cell_type": "markdown",
      "source": [
        "## Passos de modelagem em TensorFlow\n",
        "1. **Creando um modelo** - define as camadas do input e do output, assim como as camadas escondidas (hidden layers) do modelo de deep learning.\n",
        "2. **Compilando o modelo** - define o loss funtion (em outras palavras, essa função nos diz o quão errado está o nosso modelo) e o optimizer (diz ao nosso modelo como melhorar os padrões de aprendizagem) e avalia as metricas (que podemos usar para interpretar nosso modelo).\n",
        "3. **Fitting a model** - Deixa nosso modelo achar padrões entre X e Y (features and labbles)"
      ],
      "metadata": {
        "id": "NmeLQtbW7yxM"
      }
    },
    {
      "cell_type": "code",
      "source": [
        "# Set random seed\n",
        "tf.random.set_seed(42)\n",
        "\n",
        "# 1. Criando um modelo usando API Sequencial\n",
        "model = tf.keras.Sequential([\n",
        "    tf.keras.layers.Dense(1)\n",
        "])\n",
        "\n",
        "# 2. Comilar o modelo\n",
        "model.compile(loss=tf.keras.losses.mae, # mae -> mean absolut error (loss = mean(abs(y_true - y_pred), axis=-1))\n",
        "              optimizer=tf.keras.optimizers.SGD(), # SGD -> stochastic gradient descent\n",
        "              metrics=[\"mae\"])\n",
        "\n",
        "# Fit the model\n",
        "model.fit(tf.expand_dims(X, axis=-1), Y, epochs=5)"
      ],
      "metadata": {
        "colab": {
          "base_uri": "https://localhost:8080/"
        },
        "id": "Tj4zvty276mY",
        "outputId": "5f7cf07a-f12f-4642-acbc-d7183b3867ae"
      },
      "execution_count": null,
      "outputs": [
        {
          "output_type": "stream",
          "name": "stdout",
          "text": [
            "Epoch 1/5\n",
            "1/1 [==============================] - 6s 6s/step - loss: 13.8024 - mae: 13.8024\n",
            "Epoch 2/5\n",
            "1/1 [==============================] - 0s 18ms/step - loss: 13.6699 - mae: 13.6699\n",
            "Epoch 3/5\n",
            "1/1 [==============================] - 0s 21ms/step - loss: 13.5374 - mae: 13.5374\n",
            "Epoch 4/5\n",
            "1/1 [==============================] - 0s 17ms/step - loss: 13.4049 - mae: 13.4049\n",
            "Epoch 5/5\n",
            "1/1 [==============================] - 0s 14ms/step - loss: 13.2724 - mae: 13.2724\n"
          ]
        },
        {
          "output_type": "execute_result",
          "data": {
            "text/plain": [
              "<keras.callbacks.History at 0x7f1bb07335e0>"
            ]
          },
          "metadata": {},
          "execution_count": 8
        }
      ]
    },
    {
      "cell_type": "code",
      "source": [
        "# Verificar X e Y\n",
        "X, Y"
      ],
      "metadata": {
        "colab": {
          "base_uri": "https://localhost:8080/"
        },
        "id": "LvpS3XngCOSK",
        "outputId": "f7753fc7-5009-4690-94c4-ec8b37598cd6"
      },
      "execution_count": null,
      "outputs": [
        {
          "output_type": "execute_result",
          "data": {
            "text/plain": [
              "(<tf.Tensor: shape=(8,), dtype=float64, numpy=array([-7., -4., -1.,  2.,  5.,  8., 11., 14.])>,\n",
              " <tf.Tensor: shape=(8,), dtype=float64, numpy=array([ 3.,  6.,  9., 12., 15., 18., 21., 24.])>)"
            ]
          },
          "metadata": {},
          "execution_count": 9
        }
      ]
    },
    {
      "cell_type": "code",
      "source": [
        "# Tantando realizar uma predição usando nosso modelo\n",
        "model.predict([17.0])"
      ],
      "metadata": {
        "colab": {
          "base_uri": "https://localhost:8080/"
        },
        "id": "nqmSw22pCTrI",
        "outputId": "ece1395c-df85-4a35-96d9-7aeec5e56f53"
      },
      "execution_count": null,
      "outputs": [
        {
          "output_type": "stream",
          "name": "stdout",
          "text": [
            "1/1 [==============================] - 0s 159ms/step\n"
          ]
        },
        {
          "output_type": "execute_result",
          "data": {
            "text/plain": [
              "array([[1.5564162]], dtype=float32)"
            ]
          },
          "metadata": {},
          "execution_count": 10
        }
      ]
    },
    {
      "cell_type": "markdown",
      "source": [
        "## Melhorando nosso modelo\n",
        "\n",
        "Podemos melhorar nosso modelo alterando os passos que realizamos para cria-lo.\n",
        "1. **Creating a model** - aqui podemos adicionar mais layers, aumentar o número de hidden units (neuronios) dentro de cada hidden layers, mudando a função de ativação de cada layer.\n",
        "2. **Compiling a model** - aqui podemos mudar o optimization function, ou talvez o **learning rate** do optimization function.\n",
        "3. **Fitting a model** - aqui podemos aumentar a quantidade de **epochs** (Deixe o menino treinar mais) ou adicionar mais dados."
      ],
      "metadata": {
        "id": "JIE4ve3zC52W"
      }
    },
    {
      "cell_type": "code",
      "source": [
        "# Vamos reconstruir nosso modelo\n",
        "\n",
        "# 1. Criando o modelo\n",
        "model = tf.keras.Sequential([\n",
        "    tf.keras.layers.Dense(1)\n",
        "])\n",
        "\n",
        "# 2. Compilando o modelo\n",
        "model.compile(loss=tf.keras.losses.mae,\n",
        "              optimizer=tf.keras.optimizers.SGD(),\n",
        "              metrics=[\"mae\"])\n",
        "\n",
        "# 3. Fit o modelo (DESTA VEZ COM MAIS TREINO)\n",
        "model.fit(tf.expand_dims(X, axis=-1), Y, epochs=100)"
      ],
      "metadata": {
        "colab": {
          "base_uri": "https://localhost:8080/"
        },
        "id": "BrWqgPEyDLmd",
        "outputId": "50228166-ff41-4f70-d3b3-3c413dfe2fb6"
      },
      "execution_count": null,
      "outputs": [
        {
          "output_type": "stream",
          "name": "stdout",
          "text": [
            "Epoch 1/100\n",
            "1/1 [==============================] - 1s 834ms/step - loss: 13.0879 - mae: 13.0879\n",
            "Epoch 2/100\n",
            "1/1 [==============================] - 0s 19ms/step - loss: 12.9554 - mae: 12.9554\n",
            "Epoch 3/100\n",
            "1/1 [==============================] - 0s 14ms/step - loss: 12.8229 - mae: 12.8229\n",
            "Epoch 4/100\n",
            "1/1 [==============================] - 0s 15ms/step - loss: 12.6904 - mae: 12.6904\n",
            "Epoch 5/100\n",
            "1/1 [==============================] - 0s 16ms/step - loss: 12.5579 - mae: 12.5579\n",
            "Epoch 6/100\n",
            "1/1 [==============================] - 0s 16ms/step - loss: 12.4254 - mae: 12.4254\n",
            "Epoch 7/100\n",
            "1/1 [==============================] - 0s 17ms/step - loss: 12.2929 - mae: 12.2929\n",
            "Epoch 8/100\n",
            "1/1 [==============================] - 0s 16ms/step - loss: 12.1604 - mae: 12.1604\n",
            "Epoch 9/100\n",
            "1/1 [==============================] - 0s 16ms/step - loss: 12.0279 - mae: 12.0279\n",
            "Epoch 10/100\n",
            "1/1 [==============================] - 0s 18ms/step - loss: 11.8954 - mae: 11.8954\n",
            "Epoch 11/100\n",
            "1/1 [==============================] - 0s 15ms/step - loss: 11.7629 - mae: 11.7629\n",
            "Epoch 12/100\n",
            "1/1 [==============================] - 0s 15ms/step - loss: 11.6304 - mae: 11.6304\n",
            "Epoch 13/100\n",
            "1/1 [==============================] - 0s 12ms/step - loss: 11.4979 - mae: 11.4979\n",
            "Epoch 14/100\n",
            "1/1 [==============================] - 0s 14ms/step - loss: 11.3654 - mae: 11.3654\n",
            "Epoch 15/100\n",
            "1/1 [==============================] - 0s 14ms/step - loss: 11.2329 - mae: 11.2329\n",
            "Epoch 16/100\n",
            "1/1 [==============================] - 0s 16ms/step - loss: 11.1004 - mae: 11.1004\n",
            "Epoch 17/100\n",
            "1/1 [==============================] - 0s 19ms/step - loss: 10.9679 - mae: 10.9679\n",
            "Epoch 18/100\n",
            "1/1 [==============================] - 0s 28ms/step - loss: 10.8354 - mae: 10.8354\n",
            "Epoch 19/100\n",
            "1/1 [==============================] - 0s 14ms/step - loss: 10.7029 - mae: 10.7029\n",
            "Epoch 20/100\n",
            "1/1 [==============================] - 0s 14ms/step - loss: 10.5704 - mae: 10.5704\n",
            "Epoch 21/100\n",
            "1/1 [==============================] - 0s 15ms/step - loss: 10.4379 - mae: 10.4379\n",
            "Epoch 22/100\n",
            "1/1 [==============================] - 0s 16ms/step - loss: 10.3054 - mae: 10.3054\n",
            "Epoch 23/100\n",
            "1/1 [==============================] - 0s 22ms/step - loss: 10.1729 - mae: 10.1729\n",
            "Epoch 24/100\n",
            "1/1 [==============================] - 0s 18ms/step - loss: 10.0404 - mae: 10.0404\n",
            "Epoch 25/100\n",
            "1/1 [==============================] - 0s 13ms/step - loss: 9.9079 - mae: 9.9079\n",
            "Epoch 26/100\n",
            "1/1 [==============================] - 0s 16ms/step - loss: 9.7754 - mae: 9.7754\n",
            "Epoch 27/100\n",
            "1/1 [==============================] - 0s 16ms/step - loss: 9.6429 - mae: 9.6429\n",
            "Epoch 28/100\n",
            "1/1 [==============================] - 0s 11ms/step - loss: 9.5104 - mae: 9.5104\n",
            "Epoch 29/100\n",
            "1/1 [==============================] - 0s 16ms/step - loss: 9.3779 - mae: 9.3779\n",
            "Epoch 30/100\n",
            "1/1 [==============================] - 0s 14ms/step - loss: 9.2454 - mae: 9.2454\n",
            "Epoch 31/100\n",
            "1/1 [==============================] - 0s 13ms/step - loss: 9.1129 - mae: 9.1129\n",
            "Epoch 32/100\n",
            "1/1 [==============================] - 0s 24ms/step - loss: 8.9804 - mae: 8.9804\n",
            "Epoch 33/100\n",
            "1/1 [==============================] - 0s 17ms/step - loss: 8.8479 - mae: 8.8479\n",
            "Epoch 34/100\n",
            "1/1 [==============================] - 0s 17ms/step - loss: 8.7154 - mae: 8.7154\n",
            "Epoch 35/100\n",
            "1/1 [==============================] - 0s 21ms/step - loss: 8.5829 - mae: 8.5829\n",
            "Epoch 36/100\n",
            "1/1 [==============================] - 0s 13ms/step - loss: 8.4504 - mae: 8.4504\n",
            "Epoch 37/100\n",
            "1/1 [==============================] - 0s 22ms/step - loss: 8.3179 - mae: 8.3179\n",
            "Epoch 38/100\n",
            "1/1 [==============================] - 0s 22ms/step - loss: 8.1854 - mae: 8.1854\n",
            "Epoch 39/100\n",
            "1/1 [==============================] - 0s 13ms/step - loss: 8.0529 - mae: 8.0529\n",
            "Epoch 40/100\n",
            "1/1 [==============================] - 0s 12ms/step - loss: 7.9204 - mae: 7.9204\n",
            "Epoch 41/100\n",
            "1/1 [==============================] - 0s 16ms/step - loss: 7.7879 - mae: 7.7879\n",
            "Epoch 42/100\n",
            "1/1 [==============================] - 0s 12ms/step - loss: 7.6554 - mae: 7.6554\n",
            "Epoch 43/100\n",
            "1/1 [==============================] - 0s 11ms/step - loss: 7.5229 - mae: 7.5229\n",
            "Epoch 44/100\n",
            "1/1 [==============================] - 0s 13ms/step - loss: 7.3904 - mae: 7.3904\n",
            "Epoch 45/100\n",
            "1/1 [==============================] - 0s 12ms/step - loss: 7.2579 - mae: 7.2579\n",
            "Epoch 46/100\n",
            "1/1 [==============================] - 0s 10ms/step - loss: 7.1625 - mae: 7.1625\n",
            "Epoch 47/100\n",
            "1/1 [==============================] - 0s 12ms/step - loss: 7.1569 - mae: 7.1569\n",
            "Epoch 48/100\n",
            "1/1 [==============================] - 0s 16ms/step - loss: 7.1513 - mae: 7.1513\n",
            "Epoch 49/100\n",
            "1/1 [==============================] - 0s 13ms/step - loss: 7.1456 - mae: 7.1456\n",
            "Epoch 50/100\n",
            "1/1 [==============================] - 0s 13ms/step - loss: 7.1400 - mae: 7.1400\n",
            "Epoch 51/100\n",
            "1/1 [==============================] - 0s 15ms/step - loss: 7.1344 - mae: 7.1344\n",
            "Epoch 52/100\n",
            "1/1 [==============================] - 0s 14ms/step - loss: 7.1287 - mae: 7.1287\n",
            "Epoch 53/100\n",
            "1/1 [==============================] - 0s 13ms/step - loss: 7.1231 - mae: 7.1231\n",
            "Epoch 54/100\n",
            "1/1 [==============================] - 0s 10ms/step - loss: 7.1175 - mae: 7.1175\n",
            "Epoch 55/100\n",
            "1/1 [==============================] - 0s 14ms/step - loss: 7.1119 - mae: 7.1119\n",
            "Epoch 56/100\n",
            "1/1 [==============================] - 0s 16ms/step - loss: 7.1063 - mae: 7.1063\n",
            "Epoch 57/100\n",
            "1/1 [==============================] - 0s 13ms/step - loss: 7.1006 - mae: 7.1006\n",
            "Epoch 58/100\n",
            "1/1 [==============================] - 0s 13ms/step - loss: 7.0950 - mae: 7.0950\n",
            "Epoch 59/100\n",
            "1/1 [==============================] - 0s 12ms/step - loss: 7.0894 - mae: 7.0894\n",
            "Epoch 60/100\n",
            "1/1 [==============================] - 0s 12ms/step - loss: 7.0838 - mae: 7.0838\n",
            "Epoch 61/100\n",
            "1/1 [==============================] - 0s 13ms/step - loss: 7.0781 - mae: 7.0781\n",
            "Epoch 62/100\n",
            "1/1 [==============================] - 0s 13ms/step - loss: 7.0725 - mae: 7.0725\n",
            "Epoch 63/100\n",
            "1/1 [==============================] - 0s 12ms/step - loss: 7.0669 - mae: 7.0669\n",
            "Epoch 64/100\n",
            "1/1 [==============================] - 0s 19ms/step - loss: 7.0613 - mae: 7.0613\n",
            "Epoch 65/100\n",
            "1/1 [==============================] - 0s 26ms/step - loss: 7.0556 - mae: 7.0556\n",
            "Epoch 66/100\n",
            "1/1 [==============================] - 0s 18ms/step - loss: 7.0500 - mae: 7.0500\n",
            "Epoch 67/100\n",
            "1/1 [==============================] - 0s 17ms/step - loss: 7.0444 - mae: 7.0444\n",
            "Epoch 68/100\n",
            "1/1 [==============================] - 0s 18ms/step - loss: 7.0388 - mae: 7.0388\n",
            "Epoch 69/100\n",
            "1/1 [==============================] - 0s 16ms/step - loss: 7.0331 - mae: 7.0331\n",
            "Epoch 70/100\n",
            "1/1 [==============================] - 0s 15ms/step - loss: 7.0275 - mae: 7.0275\n",
            "Epoch 71/100\n",
            "1/1 [==============================] - 0s 20ms/step - loss: 7.0219 - mae: 7.0219\n",
            "Epoch 72/100\n",
            "1/1 [==============================] - 0s 22ms/step - loss: 7.0163 - mae: 7.0163\n",
            "Epoch 73/100\n",
            "1/1 [==============================] - 0s 25ms/step - loss: 7.0106 - mae: 7.0106\n",
            "Epoch 74/100\n",
            "1/1 [==============================] - 0s 16ms/step - loss: 7.0050 - mae: 7.0050\n",
            "Epoch 75/100\n",
            "1/1 [==============================] - 0s 16ms/step - loss: 6.9994 - mae: 6.9994\n",
            "Epoch 76/100\n",
            "1/1 [==============================] - 0s 17ms/step - loss: 6.9938 - mae: 6.9938\n",
            "Epoch 77/100\n",
            "1/1 [==============================] - 0s 23ms/step - loss: 6.9881 - mae: 6.9881\n",
            "Epoch 78/100\n",
            "1/1 [==============================] - 0s 10ms/step - loss: 6.9825 - mae: 6.9825\n",
            "Epoch 79/100\n",
            "1/1 [==============================] - 0s 23ms/step - loss: 6.9769 - mae: 6.9769\n",
            "Epoch 80/100\n",
            "1/1 [==============================] - 0s 12ms/step - loss: 6.9713 - mae: 6.9713\n",
            "Epoch 81/100\n",
            "1/1 [==============================] - 0s 19ms/step - loss: 6.9656 - mae: 6.9656\n",
            "Epoch 82/100\n",
            "1/1 [==============================] - 0s 21ms/step - loss: 6.9600 - mae: 6.9600\n",
            "Epoch 83/100\n",
            "1/1 [==============================] - 0s 17ms/step - loss: 6.9544 - mae: 6.9544\n",
            "Epoch 84/100\n",
            "1/1 [==============================] - 0s 20ms/step - loss: 6.9488 - mae: 6.9488\n",
            "Epoch 85/100\n",
            "1/1 [==============================] - 0s 16ms/step - loss: 6.9431 - mae: 6.9431\n",
            "Epoch 86/100\n",
            "1/1 [==============================] - 0s 30ms/step - loss: 6.9375 - mae: 6.9375\n",
            "Epoch 87/100\n",
            "1/1 [==============================] - 0s 14ms/step - loss: 6.9319 - mae: 6.9319\n",
            "Epoch 88/100\n",
            "1/1 [==============================] - 0s 18ms/step - loss: 6.9263 - mae: 6.9263\n",
            "Epoch 89/100\n",
            "1/1 [==============================] - 0s 15ms/step - loss: 6.9206 - mae: 6.9206\n",
            "Epoch 90/100\n",
            "1/1 [==============================] - 0s 25ms/step - loss: 6.9150 - mae: 6.9150\n",
            "Epoch 91/100\n",
            "1/1 [==============================] - 0s 20ms/step - loss: 6.9094 - mae: 6.9094\n",
            "Epoch 92/100\n",
            "1/1 [==============================] - 0s 23ms/step - loss: 6.9038 - mae: 6.9038\n",
            "Epoch 93/100\n",
            "1/1 [==============================] - 0s 20ms/step - loss: 6.8981 - mae: 6.8981\n",
            "Epoch 94/100\n",
            "1/1 [==============================] - 0s 15ms/step - loss: 6.8925 - mae: 6.8925\n",
            "Epoch 95/100\n",
            "1/1 [==============================] - 0s 11ms/step - loss: 6.8869 - mae: 6.8869\n",
            "Epoch 96/100\n",
            "1/1 [==============================] - 0s 15ms/step - loss: 6.8813 - mae: 6.8813\n",
            "Epoch 97/100\n",
            "1/1 [==============================] - 0s 12ms/step - loss: 6.8756 - mae: 6.8756\n",
            "Epoch 98/100\n",
            "1/1 [==============================] - 0s 12ms/step - loss: 6.8700 - mae: 6.8700\n",
            "Epoch 99/100\n",
            "1/1 [==============================] - 0s 10ms/step - loss: 6.8644 - mae: 6.8644\n",
            "Epoch 100/100\n",
            "1/1 [==============================] - 0s 11ms/step - loss: 6.8588 - mae: 6.8588\n"
          ]
        },
        {
          "output_type": "execute_result",
          "data": {
            "text/plain": [
              "<keras.callbacks.History at 0x7f1bb009f850>"
            ]
          },
          "metadata": {},
          "execution_count": 11
        }
      ]
    },
    {
      "cell_type": "code",
      "source": [
        "# Relembrando os dados\n",
        "X, Y"
      ],
      "metadata": {
        "colab": {
          "base_uri": "https://localhost:8080/"
        },
        "id": "3HzsssgbH09c",
        "outputId": "60df7cab-5ced-406d-863a-560141e39880"
      },
      "execution_count": null,
      "outputs": [
        {
          "output_type": "execute_result",
          "data": {
            "text/plain": [
              "(<tf.Tensor: shape=(8,), dtype=float64, numpy=array([-7., -4., -1.,  2.,  5.,  8., 11., 14.])>,\n",
              " <tf.Tensor: shape=(8,), dtype=float64, numpy=array([ 3.,  6.,  9., 12., 15., 18., 21., 24.])>)"
            ]
          },
          "metadata": {},
          "execution_count": 12
        }
      ]
    },
    {
      "cell_type": "code",
      "source": [
        "# Vamos veririficar o melhoria\n",
        "model.predict([17.0])"
      ],
      "metadata": {
        "colab": {
          "base_uri": "https://localhost:8080/"
        },
        "id": "p2C1So5_H4-6",
        "outputId": "f596a481-f676-449d-9de7-8e1087f1657a"
      },
      "execution_count": null,
      "outputs": [
        {
          "output_type": "stream",
          "name": "stdout",
          "text": [
            "1/1 [==============================] - 0s 123ms/step\n"
          ]
        },
        {
          "output_type": "execute_result",
          "data": {
            "text/plain": [
              "array([[29.638912]], dtype=float32)"
            ]
          },
          "metadata": {},
          "execution_count": 13
        }
      ]
    },
    {
      "cell_type": "code",
      "source": [
        "from keras.backend import expand_dims\n",
        "# Adicionando mais hidden layers e neuronios\n",
        "\n",
        "# 1. Criando o modelo (COM MAIS LAYERS E NEURONIOS)\n",
        "tf.keras.Sequential([\n",
        "    tf.keras.layers.Dense(100, activation=\"relu\"),\n",
        "    tf.keras.layers.Dense(100, activation=\"relu\"),\n",
        "    tf.keras.layers.Dense(100, activation=\"relu\"),\n",
        "    tf.keras.layers.Dense(1)\n",
        "])\n",
        "\n",
        "# 2. Compilando o modelo\n",
        "model.compile(loss=tf.keras.losses.mae,\n",
        "              optimizer=tf.keras.optimizers.SGD(),\n",
        "              metrics=[\"mae\"])\n",
        "\n",
        "# 3. Fit o modelo\n",
        "model.fit(tf.expand_dims(X, axis=-1), Y, epochs=100)"
      ],
      "metadata": {
        "colab": {
          "base_uri": "https://localhost:8080/"
        },
        "id": "zjvmwSBjIQK9",
        "outputId": "62da22fa-966a-4536-d8bf-32c8bccbbfbc"
      },
      "execution_count": null,
      "outputs": [
        {
          "output_type": "stream",
          "name": "stdout",
          "text": [
            "Epoch 1/100\n",
            "1/1 [==============================] - 1s 661ms/step - loss: 6.8531 - mae: 6.8531\n",
            "Epoch 2/100\n",
            "1/1 [==============================] - 0s 10ms/step - loss: 6.8475 - mae: 6.8475\n",
            "Epoch 3/100\n",
            "1/1 [==============================] - 0s 9ms/step - loss: 6.8419 - mae: 6.8419\n",
            "Epoch 4/100\n",
            "1/1 [==============================] - 0s 12ms/step - loss: 6.8363 - mae: 6.8363\n",
            "Epoch 5/100\n",
            "1/1 [==============================] - 0s 10ms/step - loss: 6.8306 - mae: 6.8306\n",
            "Epoch 6/100\n",
            "1/1 [==============================] - 0s 10ms/step - loss: 6.8250 - mae: 6.8250\n",
            "Epoch 7/100\n",
            "1/1 [==============================] - 0s 10ms/step - loss: 6.8194 - mae: 6.8194\n",
            "Epoch 8/100\n",
            "1/1 [==============================] - 0s 10ms/step - loss: 6.8138 - mae: 6.8138\n",
            "Epoch 9/100\n",
            "1/1 [==============================] - 0s 10ms/step - loss: 6.8081 - mae: 6.8081\n",
            "Epoch 10/100\n",
            "1/1 [==============================] - 0s 10ms/step - loss: 6.8025 - mae: 6.8025\n",
            "Epoch 11/100\n",
            "1/1 [==============================] - 0s 10ms/step - loss: 6.7969 - mae: 6.7969\n",
            "Epoch 12/100\n",
            "1/1 [==============================] - 0s 10ms/step - loss: 6.7913 - mae: 6.7913\n",
            "Epoch 13/100\n",
            "1/1 [==============================] - 0s 9ms/step - loss: 6.7856 - mae: 6.7856\n",
            "Epoch 14/100\n",
            "1/1 [==============================] - 0s 10ms/step - loss: 6.7800 - mae: 6.7800\n",
            "Epoch 15/100\n",
            "1/1 [==============================] - 0s 10ms/step - loss: 6.7744 - mae: 6.7744\n",
            "Epoch 16/100\n",
            "1/1 [==============================] - 0s 10ms/step - loss: 6.7688 - mae: 6.7688\n",
            "Epoch 17/100\n",
            "1/1 [==============================] - 0s 17ms/step - loss: 6.7631 - mae: 6.7631\n",
            "Epoch 18/100\n",
            "1/1 [==============================] - 0s 23ms/step - loss: 6.7575 - mae: 6.7575\n",
            "Epoch 19/100\n",
            "1/1 [==============================] - 0s 21ms/step - loss: 6.7519 - mae: 6.7519\n",
            "Epoch 20/100\n",
            "1/1 [==============================] - 0s 25ms/step - loss: 6.7463 - mae: 6.7463\n",
            "Epoch 21/100\n",
            "1/1 [==============================] - 0s 20ms/step - loss: 6.7406 - mae: 6.7406\n",
            "Epoch 22/100\n",
            "1/1 [==============================] - 0s 25ms/step - loss: 6.7350 - mae: 6.7350\n",
            "Epoch 23/100\n",
            "1/1 [==============================] - 0s 16ms/step - loss: 6.7294 - mae: 6.7294\n",
            "Epoch 24/100\n",
            "1/1 [==============================] - 0s 15ms/step - loss: 6.7238 - mae: 6.7238\n",
            "Epoch 25/100\n",
            "1/1 [==============================] - 0s 14ms/step - loss: 6.7181 - mae: 6.7181\n",
            "Epoch 26/100\n",
            "1/1 [==============================] - 0s 16ms/step - loss: 6.7125 - mae: 6.7125\n",
            "Epoch 27/100\n",
            "1/1 [==============================] - 0s 15ms/step - loss: 6.7069 - mae: 6.7069\n",
            "Epoch 28/100\n",
            "1/1 [==============================] - 0s 17ms/step - loss: 6.7013 - mae: 6.7013\n",
            "Epoch 29/100\n",
            "1/1 [==============================] - 0s 19ms/step - loss: 6.6956 - mae: 6.6956\n",
            "Epoch 30/100\n",
            "1/1 [==============================] - 0s 17ms/step - loss: 6.6900 - mae: 6.6900\n",
            "Epoch 31/100\n",
            "1/1 [==============================] - 0s 10ms/step - loss: 6.6844 - mae: 6.6844\n",
            "Epoch 32/100\n",
            "1/1 [==============================] - 0s 24ms/step - loss: 6.6788 - mae: 6.6788\n",
            "Epoch 33/100\n",
            "1/1 [==============================] - 0s 30ms/step - loss: 6.6731 - mae: 6.6731\n",
            "Epoch 34/100\n",
            "1/1 [==============================] - 0s 22ms/step - loss: 6.6675 - mae: 6.6675\n",
            "Epoch 35/100\n",
            "1/1 [==============================] - 0s 20ms/step - loss: 6.6619 - mae: 6.6619\n",
            "Epoch 36/100\n",
            "1/1 [==============================] - 0s 32ms/step - loss: 6.6563 - mae: 6.6563\n",
            "Epoch 37/100\n",
            "1/1 [==============================] - 0s 39ms/step - loss: 6.6506 - mae: 6.6506\n",
            "Epoch 38/100\n",
            "1/1 [==============================] - 0s 43ms/step - loss: 6.6450 - mae: 6.6450\n",
            "Epoch 39/100\n",
            "1/1 [==============================] - 0s 30ms/step - loss: 6.6394 - mae: 6.6394\n",
            "Epoch 40/100\n",
            "1/1 [==============================] - 0s 14ms/step - loss: 6.6337 - mae: 6.6337\n",
            "Epoch 41/100\n",
            "1/1 [==============================] - 0s 12ms/step - loss: 6.6281 - mae: 6.6281\n",
            "Epoch 42/100\n",
            "1/1 [==============================] - 0s 14ms/step - loss: 6.6225 - mae: 6.6225\n",
            "Epoch 43/100\n",
            "1/1 [==============================] - 0s 16ms/step - loss: 6.6169 - mae: 6.6169\n",
            "Epoch 44/100\n",
            "1/1 [==============================] - 0s 14ms/step - loss: 6.6112 - mae: 6.6112\n",
            "Epoch 45/100\n",
            "1/1 [==============================] - 0s 17ms/step - loss: 6.6056 - mae: 6.6056\n",
            "Epoch 46/100\n",
            "1/1 [==============================] - 0s 18ms/step - loss: 6.6000 - mae: 6.6000\n",
            "Epoch 47/100\n",
            "1/1 [==============================] - 0s 18ms/step - loss: 6.5944 - mae: 6.5944\n",
            "Epoch 48/100\n",
            "1/1 [==============================] - 0s 23ms/step - loss: 6.5887 - mae: 6.5887\n",
            "Epoch 49/100\n",
            "1/1 [==============================] - 0s 18ms/step - loss: 6.5831 - mae: 6.5831\n",
            "Epoch 50/100\n",
            "1/1 [==============================] - 0s 16ms/step - loss: 6.5775 - mae: 6.5775\n",
            "Epoch 51/100\n",
            "1/1 [==============================] - 0s 16ms/step - loss: 6.5719 - mae: 6.5719\n",
            "Epoch 52/100\n",
            "1/1 [==============================] - 0s 17ms/step - loss: 6.5662 - mae: 6.5662\n",
            "Epoch 53/100\n",
            "1/1 [==============================] - 0s 13ms/step - loss: 6.5606 - mae: 6.5606\n",
            "Epoch 54/100\n",
            "1/1 [==============================] - 0s 17ms/step - loss: 6.5550 - mae: 6.5550\n",
            "Epoch 55/100\n",
            "1/1 [==============================] - 0s 12ms/step - loss: 6.5494 - mae: 6.5494\n",
            "Epoch 56/100\n",
            "1/1 [==============================] - 0s 11ms/step - loss: 6.5437 - mae: 6.5437\n",
            "Epoch 57/100\n",
            "1/1 [==============================] - 0s 12ms/step - loss: 6.5381 - mae: 6.5381\n",
            "Epoch 58/100\n",
            "1/1 [==============================] - 0s 10ms/step - loss: 6.5325 - mae: 6.5325\n",
            "Epoch 59/100\n",
            "1/1 [==============================] - 0s 9ms/step - loss: 6.5269 - mae: 6.5269\n",
            "Epoch 60/100\n",
            "1/1 [==============================] - 0s 9ms/step - loss: 6.5212 - mae: 6.5212\n",
            "Epoch 61/100\n",
            "1/1 [==============================] - 0s 9ms/step - loss: 6.5156 - mae: 6.5156\n",
            "Epoch 62/100\n",
            "1/1 [==============================] - 0s 9ms/step - loss: 6.5100 - mae: 6.5100\n",
            "Epoch 63/100\n",
            "1/1 [==============================] - 0s 10ms/step - loss: 6.5044 - mae: 6.5044\n",
            "Epoch 64/100\n",
            "1/1 [==============================] - 0s 11ms/step - loss: 6.4987 - mae: 6.4987\n",
            "Epoch 65/100\n",
            "1/1 [==============================] - 0s 11ms/step - loss: 6.4931 - mae: 6.4931\n",
            "Epoch 66/100\n",
            "1/1 [==============================] - 0s 8ms/step - loss: 6.4875 - mae: 6.4875\n",
            "Epoch 67/100\n",
            "1/1 [==============================] - 0s 8ms/step - loss: 6.4819 - mae: 6.4819\n",
            "Epoch 68/100\n",
            "1/1 [==============================] - 0s 35ms/step - loss: 6.4762 - mae: 6.4762\n",
            "Epoch 69/100\n",
            "1/1 [==============================] - 0s 15ms/step - loss: 6.4706 - mae: 6.4706\n",
            "Epoch 70/100\n",
            "1/1 [==============================] - 0s 13ms/step - loss: 6.4650 - mae: 6.4650\n",
            "Epoch 71/100\n",
            "1/1 [==============================] - 0s 42ms/step - loss: 6.4594 - mae: 6.4594\n",
            "Epoch 72/100\n",
            "1/1 [==============================] - 0s 19ms/step - loss: 6.4537 - mae: 6.4537\n",
            "Epoch 73/100\n",
            "1/1 [==============================] - 0s 18ms/step - loss: 6.4481 - mae: 6.4481\n",
            "Epoch 74/100\n",
            "1/1 [==============================] - 0s 32ms/step - loss: 6.4425 - mae: 6.4425\n",
            "Epoch 75/100\n",
            "1/1 [==============================] - 0s 22ms/step - loss: 6.4369 - mae: 6.4369\n",
            "Epoch 76/100\n",
            "1/1 [==============================] - 0s 22ms/step - loss: 6.4312 - mae: 6.4312\n",
            "Epoch 77/100\n",
            "1/1 [==============================] - 0s 21ms/step - loss: 6.4256 - mae: 6.4256\n",
            "Epoch 78/100\n",
            "1/1 [==============================] - 0s 21ms/step - loss: 6.4200 - mae: 6.4200\n",
            "Epoch 79/100\n",
            "1/1 [==============================] - 0s 20ms/step - loss: 6.4144 - mae: 6.4144\n",
            "Epoch 80/100\n",
            "1/1 [==============================] - 0s 45ms/step - loss: 6.4087 - mae: 6.4087\n",
            "Epoch 81/100\n",
            "1/1 [==============================] - 0s 22ms/step - loss: 6.4031 - mae: 6.4031\n",
            "Epoch 82/100\n",
            "1/1 [==============================] - 0s 14ms/step - loss: 6.3975 - mae: 6.3975\n",
            "Epoch 83/100\n",
            "1/1 [==============================] - 0s 17ms/step - loss: 6.3919 - mae: 6.3919\n",
            "Epoch 84/100\n",
            "1/1 [==============================] - 0s 19ms/step - loss: 6.3862 - mae: 6.3862\n",
            "Epoch 85/100\n",
            "1/1 [==============================] - 0s 16ms/step - loss: 6.3806 - mae: 6.3806\n",
            "Epoch 86/100\n",
            "1/1 [==============================] - 0s 20ms/step - loss: 6.3750 - mae: 6.3750\n",
            "Epoch 87/100\n",
            "1/1 [==============================] - 0s 20ms/step - loss: 6.3694 - mae: 6.3694\n",
            "Epoch 88/100\n",
            "1/1 [==============================] - 0s 15ms/step - loss: 6.3637 - mae: 6.3637\n",
            "Epoch 89/100\n",
            "1/1 [==============================] - 0s 27ms/step - loss: 6.3581 - mae: 6.3581\n",
            "Epoch 90/100\n",
            "1/1 [==============================] - 0s 35ms/step - loss: 6.3525 - mae: 6.3525\n",
            "Epoch 91/100\n",
            "1/1 [==============================] - 0s 17ms/step - loss: 6.3469 - mae: 6.3469\n",
            "Epoch 92/100\n",
            "1/1 [==============================] - 0s 27ms/step - loss: 6.3412 - mae: 6.3412\n",
            "Epoch 93/100\n",
            "1/1 [==============================] - 0s 17ms/step - loss: 6.3356 - mae: 6.3356\n",
            "Epoch 94/100\n",
            "1/1 [==============================] - 0s 21ms/step - loss: 6.3300 - mae: 6.3300\n",
            "Epoch 95/100\n",
            "1/1 [==============================] - 0s 21ms/step - loss: 6.3244 - mae: 6.3244\n",
            "Epoch 96/100\n",
            "1/1 [==============================] - 0s 19ms/step - loss: 6.3187 - mae: 6.3187\n",
            "Epoch 97/100\n",
            "1/1 [==============================] - 0s 14ms/step - loss: 6.3131 - mae: 6.3131\n",
            "Epoch 98/100\n",
            "1/1 [==============================] - 0s 22ms/step - loss: 6.3075 - mae: 6.3075\n",
            "Epoch 99/100\n",
            "1/1 [==============================] - 0s 20ms/step - loss: 6.3019 - mae: 6.3019\n",
            "Epoch 100/100\n",
            "1/1 [==============================] - 0s 23ms/step - loss: 6.2962 - mae: 6.2962\n"
          ]
        },
        {
          "output_type": "execute_result",
          "data": {
            "text/plain": [
              "<keras.callbacks.History at 0x7f1b41241d50>"
            ]
          },
          "metadata": {},
          "execution_count": 14
        }
      ]
    },
    {
      "cell_type": "code",
      "source": [
        "model.predict([17.0])"
      ],
      "metadata": {
        "colab": {
          "base_uri": "https://localhost:8080/"
        },
        "id": "eZ45ob1tKUlG",
        "outputId": "1a9af3d7-4462-49ba-a077-ae4e53eec0c1"
      },
      "execution_count": null,
      "outputs": [
        {
          "output_type": "stream",
          "name": "stdout",
          "text": [
            "1/1 [==============================] - 0s 302ms/step\n"
          ]
        },
        {
          "output_type": "execute_result",
          "data": {
            "text/plain": [
              "array([[30.388916]], dtype=float32)"
            ]
          },
          "metadata": {},
          "execution_count": 15
        }
      ]
    },
    {
      "cell_type": "code",
      "source": [
        "# Modificando nosso optimizador\n",
        "\n",
        "# Criando o modelo\n",
        "model = tf.keras.Sequential([\n",
        "    tf.keras.layers.Dense(100, activation=\"relu\"),\n",
        "    tf.keras.layers.Dense(100, activation=\"relu\"),\n",
        "    tf.keras.layers.Dense(100, activation=\"relu\"),\n",
        "    tf.keras.layers.Dense(1)\n",
        "])\n",
        "\n",
        "# Compilando o modelo\n",
        "model.compile(loss=tf.keras.losses.mae,\n",
        "              optimizer=tf.keras.optimizers.Adam(lr=0.01),\n",
        "              metrics=[\"mae\"])\n",
        "\n",
        "#Fit o modelo\n",
        "model.fit(tf.expand_dims(X, axis=-1), Y, epochs=200)"
      ],
      "metadata": {
        "colab": {
          "base_uri": "https://localhost:8080/"
        },
        "id": "obS8WRszKxs7",
        "outputId": "8da4de87-8b58-480b-d675-66700b9c27c5"
      },
      "execution_count": null,
      "outputs": [
        {
          "output_type": "stream",
          "name": "stderr",
          "text": [
            "WARNING:absl:`lr` is deprecated in Keras optimizer, please use `learning_rate` or use the legacy optimizer, e.g.,tf.keras.optimizers.legacy.Adam.\n"
          ]
        },
        {
          "output_type": "stream",
          "name": "stdout",
          "text": [
            "Epoch 1/200\n",
            "1/1 [==============================] - 4s 4s/step - loss: 14.0140 - mae: 14.0140\n",
            "Epoch 2/200\n",
            "1/1 [==============================] - 0s 16ms/step - loss: 13.6911 - mae: 13.6911\n",
            "Epoch 3/200\n",
            "1/1 [==============================] - 0s 21ms/step - loss: 13.3751 - mae: 13.3751\n",
            "Epoch 4/200\n",
            "1/1 [==============================] - 0s 13ms/step - loss: 13.0702 - mae: 13.0702\n",
            "Epoch 5/200\n",
            "1/1 [==============================] - 0s 30ms/step - loss: 12.7679 - mae: 12.7679\n",
            "Epoch 6/200\n",
            "1/1 [==============================] - 0s 18ms/step - loss: 12.4799 - mae: 12.4799\n",
            "Epoch 7/200\n",
            "1/1 [==============================] - 0s 11ms/step - loss: 12.2110 - mae: 12.2110\n",
            "Epoch 8/200\n",
            "1/1 [==============================] - 0s 11ms/step - loss: 11.9516 - mae: 11.9516\n",
            "Epoch 9/200\n",
            "1/1 [==============================] - 0s 10ms/step - loss: 11.6937 - mae: 11.6937\n",
            "Epoch 10/200\n",
            "1/1 [==============================] - 0s 10ms/step - loss: 11.5038 - mae: 11.5038\n",
            "Epoch 11/200\n",
            "1/1 [==============================] - 0s 10ms/step - loss: 11.3038 - mae: 11.3038\n",
            "Epoch 12/200\n",
            "1/1 [==============================] - 0s 10ms/step - loss: 11.0883 - mae: 11.0883\n",
            "Epoch 13/200\n",
            "1/1 [==============================] - 0s 10ms/step - loss: 10.8568 - mae: 10.8568\n",
            "Epoch 14/200\n",
            "1/1 [==============================] - 0s 12ms/step - loss: 10.6101 - mae: 10.6101\n",
            "Epoch 15/200\n",
            "1/1 [==============================] - 0s 11ms/step - loss: 10.3457 - mae: 10.3457\n",
            "Epoch 16/200\n",
            "1/1 [==============================] - 0s 10ms/step - loss: 10.0590 - mae: 10.0590\n",
            "Epoch 17/200\n",
            "1/1 [==============================] - 0s 10ms/step - loss: 9.7490 - mae: 9.7490\n",
            "Epoch 18/200\n",
            "1/1 [==============================] - 0s 10ms/step - loss: 9.4188 - mae: 9.4188\n",
            "Epoch 19/200\n",
            "1/1 [==============================] - 0s 10ms/step - loss: 9.0603 - mae: 9.0603\n",
            "Epoch 20/200\n",
            "1/1 [==============================] - 0s 13ms/step - loss: 8.6748 - mae: 8.6748\n",
            "Epoch 21/200\n",
            "1/1 [==============================] - 0s 16ms/step - loss: 8.2610 - mae: 8.2610\n",
            "Epoch 22/200\n",
            "1/1 [==============================] - 0s 16ms/step - loss: 7.8177 - mae: 7.8177\n",
            "Epoch 23/200\n",
            "1/1 [==============================] - 0s 15ms/step - loss: 7.3523 - mae: 7.3523\n",
            "Epoch 24/200\n",
            "1/1 [==============================] - 0s 13ms/step - loss: 6.8526 - mae: 6.8526\n",
            "Epoch 25/200\n",
            "1/1 [==============================] - 0s 19ms/step - loss: 6.3140 - mae: 6.3140\n",
            "Epoch 26/200\n",
            "1/1 [==============================] - 0s 26ms/step - loss: 5.7474 - mae: 5.7474\n",
            "Epoch 27/200\n",
            "1/1 [==============================] - 0s 16ms/step - loss: 5.1419 - mae: 5.1419\n",
            "Epoch 28/200\n",
            "1/1 [==============================] - 0s 19ms/step - loss: 4.4934 - mae: 4.4934\n",
            "Epoch 29/200\n",
            "1/1 [==============================] - 0s 25ms/step - loss: 4.0509 - mae: 4.0509\n",
            "Epoch 30/200\n",
            "1/1 [==============================] - 0s 22ms/step - loss: 3.8959 - mae: 3.8959\n",
            "Epoch 31/200\n",
            "1/1 [==============================] - 0s 18ms/step - loss: 4.0327 - mae: 4.0327\n",
            "Epoch 32/200\n",
            "1/1 [==============================] - 0s 22ms/step - loss: 4.1512 - mae: 4.1512\n",
            "Epoch 33/200\n",
            "1/1 [==============================] - 0s 22ms/step - loss: 4.3222 - mae: 4.3222\n",
            "Epoch 34/200\n",
            "1/1 [==============================] - 0s 23ms/step - loss: 4.5146 - mae: 4.5146\n",
            "Epoch 35/200\n",
            "1/1 [==============================] - 0s 18ms/step - loss: 4.6173 - mae: 4.6173\n",
            "Epoch 36/200\n",
            "1/1 [==============================] - 0s 29ms/step - loss: 4.6415 - mae: 4.6415\n",
            "Epoch 37/200\n",
            "1/1 [==============================] - 0s 14ms/step - loss: 4.5970 - mae: 4.5970\n",
            "Epoch 38/200\n",
            "1/1 [==============================] - 0s 14ms/step - loss: 4.4946 - mae: 4.4946\n",
            "Epoch 39/200\n",
            "1/1 [==============================] - 0s 14ms/step - loss: 4.3450 - mae: 4.3450\n",
            "Epoch 40/200\n",
            "1/1 [==============================] - 0s 11ms/step - loss: 4.1556 - mae: 4.1556\n",
            "Epoch 41/200\n",
            "1/1 [==============================] - 0s 15ms/step - loss: 4.0392 - mae: 4.0392\n",
            "Epoch 42/200\n",
            "1/1 [==============================] - 0s 17ms/step - loss: 3.9524 - mae: 3.9524\n",
            "Epoch 43/200\n",
            "1/1 [==============================] - 0s 11ms/step - loss: 3.8666 - mae: 3.8666\n",
            "Epoch 44/200\n",
            "1/1 [==============================] - 0s 11ms/step - loss: 3.7836 - mae: 3.7836\n",
            "Epoch 45/200\n",
            "1/1 [==============================] - 0s 12ms/step - loss: 3.7024 - mae: 3.7024\n",
            "Epoch 46/200\n",
            "1/1 [==============================] - 0s 11ms/step - loss: 3.7457 - mae: 3.7457\n",
            "Epoch 47/200\n",
            "1/1 [==============================] - 0s 12ms/step - loss: 3.8264 - mae: 3.8264\n",
            "Epoch 48/200\n",
            "1/1 [==============================] - 0s 11ms/step - loss: 3.8697 - mae: 3.8697\n",
            "Epoch 49/200\n",
            "1/1 [==============================] - 0s 13ms/step - loss: 3.8718 - mae: 3.8718\n",
            "Epoch 50/200\n",
            "1/1 [==============================] - 0s 10ms/step - loss: 3.8818 - mae: 3.8818\n",
            "Epoch 51/200\n",
            "1/1 [==============================] - 0s 11ms/step - loss: 3.8803 - mae: 3.8803\n",
            "Epoch 52/200\n",
            "1/1 [==============================] - 0s 11ms/step - loss: 3.8670 - mae: 3.8670\n",
            "Epoch 53/200\n",
            "1/1 [==============================] - 0s 11ms/step - loss: 3.8424 - mae: 3.8424\n",
            "Epoch 54/200\n",
            "1/1 [==============================] - 0s 11ms/step - loss: 3.8069 - mae: 3.8069\n",
            "Epoch 55/200\n",
            "1/1 [==============================] - 0s 12ms/step - loss: 3.7607 - mae: 3.7607\n",
            "Epoch 56/200\n",
            "1/1 [==============================] - 0s 18ms/step - loss: 3.7040 - mae: 3.7040\n",
            "Epoch 57/200\n",
            "1/1 [==============================] - 0s 13ms/step - loss: 3.6357 - mae: 3.6357\n",
            "Epoch 58/200\n",
            "1/1 [==============================] - 0s 33ms/step - loss: 3.6124 - mae: 3.6124\n",
            "Epoch 59/200\n",
            "1/1 [==============================] - 0s 33ms/step - loss: 3.6386 - mae: 3.6386\n",
            "Epoch 60/200\n",
            "1/1 [==============================] - 0s 26ms/step - loss: 3.6525 - mae: 3.6525\n",
            "Epoch 61/200\n",
            "1/1 [==============================] - 0s 12ms/step - loss: 3.6536 - mae: 3.6536\n",
            "Epoch 62/200\n",
            "1/1 [==============================] - 0s 13ms/step - loss: 3.6448 - mae: 3.6448\n",
            "Epoch 63/200\n",
            "1/1 [==============================] - 0s 14ms/step - loss: 3.6279 - mae: 3.6279\n",
            "Epoch 64/200\n",
            "1/1 [==============================] - 0s 21ms/step - loss: 3.6088 - mae: 3.6088\n",
            "Epoch 65/200\n",
            "1/1 [==============================] - 0s 15ms/step - loss: 3.5841 - mae: 3.5841\n",
            "Epoch 66/200\n",
            "1/1 [==============================] - 0s 14ms/step - loss: 3.5510 - mae: 3.5510\n",
            "Epoch 67/200\n",
            "1/1 [==============================] - 0s 15ms/step - loss: 3.5117 - mae: 3.5117\n",
            "Epoch 68/200\n",
            "1/1 [==============================] - 0s 14ms/step - loss: 3.4692 - mae: 3.4692\n",
            "Epoch 69/200\n",
            "1/1 [==============================] - 0s 23ms/step - loss: 3.4763 - mae: 3.4763\n",
            "Epoch 70/200\n",
            "1/1 [==============================] - 0s 21ms/step - loss: 3.4901 - mae: 3.4901\n",
            "Epoch 71/200\n",
            "1/1 [==============================] - 0s 16ms/step - loss: 3.4865 - mae: 3.4865\n",
            "Epoch 72/200\n",
            "1/1 [==============================] - 0s 20ms/step - loss: 3.4672 - mae: 3.4672\n",
            "Epoch 73/200\n",
            "1/1 [==============================] - 0s 15ms/step - loss: 3.4353 - mae: 3.4353\n",
            "Epoch 74/200\n",
            "1/1 [==============================] - 0s 23ms/step - loss: 3.3885 - mae: 3.3885\n",
            "Epoch 75/200\n",
            "1/1 [==============================] - 0s 15ms/step - loss: 3.3914 - mae: 3.3914\n",
            "Epoch 76/200\n",
            "1/1 [==============================] - 0s 15ms/step - loss: 3.3976 - mae: 3.3976\n",
            "Epoch 77/200\n",
            "1/1 [==============================] - 0s 14ms/step - loss: 3.3920 - mae: 3.3920\n",
            "Epoch 78/200\n",
            "1/1 [==============================] - 0s 41ms/step - loss: 3.3788 - mae: 3.3788\n",
            "Epoch 79/200\n",
            "1/1 [==============================] - 0s 16ms/step - loss: 3.3591 - mae: 3.3591\n",
            "Epoch 80/200\n",
            "1/1 [==============================] - 0s 18ms/step - loss: 3.3302 - mae: 3.3302\n",
            "Epoch 81/200\n",
            "1/1 [==============================] - 0s 13ms/step - loss: 3.3097 - mae: 3.3097\n",
            "Epoch 82/200\n",
            "1/1 [==============================] - 0s 14ms/step - loss: 3.2520 - mae: 3.2520\n",
            "Epoch 83/200\n",
            "1/1 [==============================] - 0s 12ms/step - loss: 3.2140 - mae: 3.2140\n",
            "Epoch 84/200\n",
            "1/1 [==============================] - 0s 11ms/step - loss: 3.2452 - mae: 3.2452\n",
            "Epoch 85/200\n",
            "1/1 [==============================] - 0s 11ms/step - loss: 3.2474 - mae: 3.2474\n",
            "Epoch 86/200\n",
            "1/1 [==============================] - 0s 10ms/step - loss: 3.2237 - mae: 3.2237\n",
            "Epoch 87/200\n",
            "1/1 [==============================] - 0s 11ms/step - loss: 3.1726 - mae: 3.1726\n",
            "Epoch 88/200\n",
            "1/1 [==============================] - 0s 11ms/step - loss: 3.1146 - mae: 3.1146\n",
            "Epoch 89/200\n",
            "1/1 [==============================] - 0s 12ms/step - loss: 3.1108 - mae: 3.1108\n",
            "Epoch 90/200\n",
            "1/1 [==============================] - 0s 11ms/step - loss: 3.0971 - mae: 3.0971\n",
            "Epoch 91/200\n",
            "1/1 [==============================] - 0s 11ms/step - loss: 3.0728 - mae: 3.0728\n",
            "Epoch 92/200\n",
            "1/1 [==============================] - 0s 21ms/step - loss: 3.0337 - mae: 3.0337\n",
            "Epoch 93/200\n",
            "1/1 [==============================] - 0s 19ms/step - loss: 2.9891 - mae: 2.9891\n",
            "Epoch 94/200\n",
            "1/1 [==============================] - 0s 20ms/step - loss: 2.9900 - mae: 2.9900\n",
            "Epoch 95/200\n",
            "1/1 [==============================] - 0s 20ms/step - loss: 2.9545 - mae: 2.9545\n",
            "Epoch 96/200\n",
            "1/1 [==============================] - 0s 19ms/step - loss: 2.8923 - mae: 2.8923\n",
            "Epoch 97/200\n",
            "1/1 [==============================] - 0s 20ms/step - loss: 2.8713 - mae: 2.8713\n",
            "Epoch 98/200\n",
            "1/1 [==============================] - 0s 17ms/step - loss: 2.8326 - mae: 2.8326\n",
            "Epoch 99/200\n",
            "1/1 [==============================] - 0s 32ms/step - loss: 2.8055 - mae: 2.8055\n",
            "Epoch 100/200\n",
            "1/1 [==============================] - 0s 16ms/step - loss: 2.7623 - mae: 2.7623\n",
            "Epoch 101/200\n",
            "1/1 [==============================] - 0s 18ms/step - loss: 2.7408 - mae: 2.7408\n",
            "Epoch 102/200\n",
            "1/1 [==============================] - 0s 16ms/step - loss: 2.7135 - mae: 2.7135\n",
            "Epoch 103/200\n",
            "1/1 [==============================] - 0s 14ms/step - loss: 2.6703 - mae: 2.6703\n",
            "Epoch 104/200\n",
            "1/1 [==============================] - 0s 14ms/step - loss: 2.6235 - mae: 2.6235\n",
            "Epoch 105/200\n",
            "1/1 [==============================] - 0s 13ms/step - loss: 2.5595 - mae: 2.5595\n",
            "Epoch 106/200\n",
            "1/1 [==============================] - 0s 11ms/step - loss: 2.5743 - mae: 2.5743\n",
            "Epoch 107/200\n",
            "1/1 [==============================] - 0s 11ms/step - loss: 2.5404 - mae: 2.5404\n",
            "Epoch 108/200\n",
            "1/1 [==============================] - 0s 11ms/step - loss: 2.4548 - mae: 2.4548\n",
            "Epoch 109/200\n",
            "1/1 [==============================] - 0s 12ms/step - loss: 2.3844 - mae: 2.3844\n",
            "Epoch 110/200\n",
            "1/1 [==============================] - 0s 11ms/step - loss: 2.3523 - mae: 2.3523\n",
            "Epoch 111/200\n",
            "1/1 [==============================] - 0s 14ms/step - loss: 2.3148 - mae: 2.3148\n",
            "Epoch 112/200\n",
            "1/1 [==============================] - 0s 15ms/step - loss: 2.2453 - mae: 2.2453\n",
            "Epoch 113/200\n",
            "1/1 [==============================] - 0s 15ms/step - loss: 2.1687 - mae: 2.1687\n",
            "Epoch 114/200\n",
            "1/1 [==============================] - 0s 26ms/step - loss: 2.1073 - mae: 2.1073\n",
            "Epoch 115/200\n",
            "1/1 [==============================] - 0s 18ms/step - loss: 2.0491 - mae: 2.0491\n",
            "Epoch 116/200\n",
            "1/1 [==============================] - 0s 24ms/step - loss: 1.9850 - mae: 1.9850\n",
            "Epoch 117/200\n",
            "1/1 [==============================] - 0s 14ms/step - loss: 1.9321 - mae: 1.9321\n",
            "Epoch 118/200\n",
            "1/1 [==============================] - 0s 13ms/step - loss: 1.8556 - mae: 1.8556\n",
            "Epoch 119/200\n",
            "1/1 [==============================] - 0s 13ms/step - loss: 1.7553 - mae: 1.7553\n",
            "Epoch 120/200\n",
            "1/1 [==============================] - 0s 11ms/step - loss: 1.7269 - mae: 1.7269\n",
            "Epoch 121/200\n",
            "1/1 [==============================] - 0s 11ms/step - loss: 1.6449 - mae: 1.6449\n",
            "Epoch 122/200\n",
            "1/1 [==============================] - 0s 9ms/step - loss: 1.5064 - mae: 1.5064\n",
            "Epoch 123/200\n",
            "1/1 [==============================] - 0s 10ms/step - loss: 1.4329 - mae: 1.4329\n",
            "Epoch 124/200\n",
            "1/1 [==============================] - 0s 19ms/step - loss: 1.3435 - mae: 1.3435\n",
            "Epoch 125/200\n",
            "1/1 [==============================] - 0s 11ms/step - loss: 1.2983 - mae: 1.2983\n",
            "Epoch 126/200\n",
            "1/1 [==============================] - 0s 15ms/step - loss: 1.1607 - mae: 1.1607\n",
            "Epoch 127/200\n",
            "1/1 [==============================] - 0s 20ms/step - loss: 1.1100 - mae: 1.1100\n",
            "Epoch 128/200\n",
            "1/1 [==============================] - 0s 18ms/step - loss: 1.0322 - mae: 1.0322\n",
            "Epoch 129/200\n",
            "1/1 [==============================] - 0s 13ms/step - loss: 0.9410 - mae: 0.9410\n",
            "Epoch 130/200\n",
            "1/1 [==============================] - 0s 18ms/step - loss: 0.7666 - mae: 0.7666\n",
            "Epoch 131/200\n",
            "1/1 [==============================] - 0s 17ms/step - loss: 0.7363 - mae: 0.7363\n",
            "Epoch 132/200\n",
            "1/1 [==============================] - 0s 34ms/step - loss: 0.6430 - mae: 0.6430\n",
            "Epoch 133/200\n",
            "1/1 [==============================] - 0s 17ms/step - loss: 0.5519 - mae: 0.5519\n",
            "Epoch 134/200\n",
            "1/1 [==============================] - 0s 15ms/step - loss: 0.5258 - mae: 0.5258\n",
            "Epoch 135/200\n",
            "1/1 [==============================] - 0s 14ms/step - loss: 0.6375 - mae: 0.6375\n",
            "Epoch 136/200\n",
            "1/1 [==============================] - 0s 16ms/step - loss: 0.5244 - mae: 0.5244\n",
            "Epoch 137/200\n",
            "1/1 [==============================] - 0s 12ms/step - loss: 0.4723 - mae: 0.4723\n",
            "Epoch 138/200\n",
            "1/1 [==============================] - 0s 12ms/step - loss: 0.3867 - mae: 0.3867\n",
            "Epoch 139/200\n",
            "1/1 [==============================] - 0s 14ms/step - loss: 0.4080 - mae: 0.4080\n",
            "Epoch 140/200\n",
            "1/1 [==============================] - 0s 22ms/step - loss: 0.3477 - mae: 0.3477\n",
            "Epoch 141/200\n",
            "1/1 [==============================] - 0s 16ms/step - loss: 0.4342 - mae: 0.4342\n",
            "Epoch 142/200\n",
            "1/1 [==============================] - 0s 20ms/step - loss: 0.2791 - mae: 0.2791\n",
            "Epoch 143/200\n",
            "1/1 [==============================] - 0s 14ms/step - loss: 0.7560 - mae: 0.7560\n",
            "Epoch 144/200\n",
            "1/1 [==============================] - 0s 14ms/step - loss: 0.7791 - mae: 0.7791\n",
            "Epoch 145/200\n",
            "1/1 [==============================] - 0s 19ms/step - loss: 0.3911 - mae: 0.3911\n",
            "Epoch 146/200\n",
            "1/1 [==============================] - 0s 16ms/step - loss: 0.7924 - mae: 0.7924\n",
            "Epoch 147/200\n",
            "1/1 [==============================] - 0s 14ms/step - loss: 1.0215 - mae: 1.0215\n",
            "Epoch 148/200\n",
            "1/1 [==============================] - 0s 15ms/step - loss: 0.9674 - mae: 0.9674\n",
            "Epoch 149/200\n",
            "1/1 [==============================] - 0s 16ms/step - loss: 0.6695 - mae: 0.6695\n",
            "Epoch 150/200\n",
            "1/1 [==============================] - 0s 13ms/step - loss: 0.3455 - mae: 0.3455\n",
            "Epoch 151/200\n",
            "1/1 [==============================] - 0s 14ms/step - loss: 0.5430 - mae: 0.5430\n",
            "Epoch 152/200\n",
            "1/1 [==============================] - 0s 45ms/step - loss: 0.4354 - mae: 0.4354\n",
            "Epoch 153/200\n",
            "1/1 [==============================] - 0s 16ms/step - loss: 0.4183 - mae: 0.4183\n",
            "Epoch 154/200\n",
            "1/1 [==============================] - 0s 15ms/step - loss: 0.5554 - mae: 0.5554\n",
            "Epoch 155/200\n",
            "1/1 [==============================] - 0s 16ms/step - loss: 0.4977 - mae: 0.4977\n",
            "Epoch 156/200\n",
            "1/1 [==============================] - 0s 15ms/step - loss: 0.3570 - mae: 0.3570\n",
            "Epoch 157/200\n",
            "1/1 [==============================] - 0s 14ms/step - loss: 0.4337 - mae: 0.4337\n",
            "Epoch 158/200\n",
            "1/1 [==============================] - 0s 25ms/step - loss: 0.4832 - mae: 0.4832\n",
            "Epoch 159/200\n",
            "1/1 [==============================] - 0s 15ms/step - loss: 0.3717 - mae: 0.3717\n",
            "Epoch 160/200\n",
            "1/1 [==============================] - 0s 14ms/step - loss: 0.3519 - mae: 0.3519\n",
            "Epoch 161/200\n",
            "1/1 [==============================] - 0s 15ms/step - loss: 0.3388 - mae: 0.3388\n",
            "Epoch 162/200\n",
            "1/1 [==============================] - 0s 27ms/step - loss: 0.3401 - mae: 0.3401\n",
            "Epoch 163/200\n",
            "1/1 [==============================] - 0s 24ms/step - loss: 0.2965 - mae: 0.2965\n",
            "Epoch 164/200\n",
            "1/1 [==============================] - 0s 12ms/step - loss: 0.2644 - mae: 0.2644\n",
            "Epoch 165/200\n",
            "1/1 [==============================] - 0s 12ms/step - loss: 0.2690 - mae: 0.2690\n",
            "Epoch 166/200\n",
            "1/1 [==============================] - 0s 11ms/step - loss: 0.2146 - mae: 0.2146\n",
            "Epoch 167/200\n",
            "1/1 [==============================] - 0s 11ms/step - loss: 0.2228 - mae: 0.2228\n",
            "Epoch 168/200\n",
            "1/1 [==============================] - 0s 12ms/step - loss: 0.1783 - mae: 0.1783\n",
            "Epoch 169/200\n",
            "1/1 [==============================] - 0s 12ms/step - loss: 0.1356 - mae: 0.1356\n",
            "Epoch 170/200\n",
            "1/1 [==============================] - 0s 12ms/step - loss: 0.1844 - mae: 0.1844\n",
            "Epoch 171/200\n",
            "1/1 [==============================] - 0s 13ms/step - loss: 0.1837 - mae: 0.1837\n",
            "Epoch 172/200\n",
            "1/1 [==============================] - 0s 11ms/step - loss: 0.0953 - mae: 0.0953\n",
            "Epoch 173/200\n",
            "1/1 [==============================] - 0s 18ms/step - loss: 0.3549 - mae: 0.3549\n",
            "Epoch 174/200\n",
            "1/1 [==============================] - 0s 10ms/step - loss: 0.3687 - mae: 0.3687\n",
            "Epoch 175/200\n",
            "1/1 [==============================] - 0s 14ms/step - loss: 0.0770 - mae: 0.0770\n",
            "Epoch 176/200\n",
            "1/1 [==============================] - 0s 22ms/step - loss: 0.5020 - mae: 0.5020\n",
            "Epoch 177/200\n",
            "1/1 [==============================] - 0s 18ms/step - loss: 0.7008 - mae: 0.7008\n",
            "Epoch 178/200\n",
            "1/1 [==============================] - 0s 19ms/step - loss: 0.6401 - mae: 0.6401\n",
            "Epoch 179/200\n",
            "1/1 [==============================] - 0s 66ms/step - loss: 0.3107 - mae: 0.3107\n",
            "Epoch 180/200\n",
            "1/1 [==============================] - 0s 25ms/step - loss: 0.2960 - mae: 0.2960\n",
            "Epoch 181/200\n",
            "1/1 [==============================] - 0s 20ms/step - loss: 0.5092 - mae: 0.5092\n",
            "Epoch 182/200\n",
            "1/1 [==============================] - 0s 12ms/step - loss: 0.4479 - mae: 0.4479\n",
            "Epoch 183/200\n",
            "1/1 [==============================] - 0s 15ms/step - loss: 0.1460 - mae: 0.1460\n",
            "Epoch 184/200\n",
            "1/1 [==============================] - 0s 20ms/step - loss: 0.4179 - mae: 0.4179\n",
            "Epoch 185/200\n",
            "1/1 [==============================] - 0s 15ms/step - loss: 0.6439 - mae: 0.6439\n",
            "Epoch 186/200\n",
            "1/1 [==============================] - 0s 18ms/step - loss: 0.5810 - mae: 0.5810\n",
            "Epoch 187/200\n",
            "1/1 [==============================] - 0s 17ms/step - loss: 0.2948 - mae: 0.2948\n",
            "Epoch 188/200\n",
            "1/1 [==============================] - 0s 20ms/step - loss: 0.2323 - mae: 0.2323\n",
            "Epoch 189/200\n",
            "1/1 [==============================] - 0s 23ms/step - loss: 0.4291 - mae: 0.4291\n",
            "Epoch 190/200\n",
            "1/1 [==============================] - 0s 22ms/step - loss: 0.3701 - mae: 0.3701\n",
            "Epoch 191/200\n",
            "1/1 [==============================] - 0s 18ms/step - loss: 0.1056 - mae: 0.1056\n",
            "Epoch 192/200\n",
            "1/1 [==============================] - 0s 16ms/step - loss: 0.4287 - mae: 0.4287\n",
            "Epoch 193/200\n",
            "1/1 [==============================] - 0s 17ms/step - loss: 0.6212 - mae: 0.6212\n",
            "Epoch 194/200\n",
            "1/1 [==============================] - 0s 15ms/step - loss: 0.5586 - mae: 0.5586\n",
            "Epoch 195/200\n",
            "1/1 [==============================] - 0s 16ms/step - loss: 0.2855 - mae: 0.2855\n",
            "Epoch 196/200\n",
            "1/1 [==============================] - 0s 18ms/step - loss: 0.2059 - mae: 0.2059\n",
            "Epoch 197/200\n",
            "1/1 [==============================] - 0s 21ms/step - loss: 0.3974 - mae: 0.3974\n",
            "Epoch 198/200\n",
            "1/1 [==============================] - 0s 14ms/step - loss: 0.3211 - mae: 0.3211\n",
            "Epoch 199/200\n",
            "1/1 [==============================] - 0s 15ms/step - loss: 0.0614 - mae: 0.0614\n",
            "Epoch 200/200\n",
            "1/1 [==============================] - 0s 20ms/step - loss: 0.2290 - mae: 0.2290\n"
          ]
        },
        {
          "output_type": "execute_result",
          "data": {
            "text/plain": [
              "<keras.callbacks.History at 0x7f1b41114610>"
            ]
          },
          "metadata": {},
          "execution_count": 16
        }
      ]
    },
    {
      "cell_type": "code",
      "source": [
        "model.predict([17.0])"
      ],
      "metadata": {
        "colab": {
          "base_uri": "https://localhost:8080/"
        },
        "id": "0bxUwgqMMA-v",
        "outputId": "dfe2a633-2a41-4b69-b342-17d8c63ffe2b"
      },
      "execution_count": null,
      "outputs": [
        {
          "output_type": "stream",
          "name": "stdout",
          "text": [
            "1/1 [==============================] - 0s 119ms/step\n"
          ]
        },
        {
          "output_type": "execute_result",
          "data": {
            "text/plain": [
              "array([[27.032784]], dtype=float32)"
            ]
          },
          "metadata": {},
          "execution_count": 17
        }
      ]
    },
    {
      "cell_type": "markdown",
      "source": [
        "## Avaliando o performance do modelo\n",
        "Na pratica, um fluxo de trabalho típico quando construindo uma rede neural é:\n",
        "'''\n",
        "Construindo o modelo -> Fit o modelo -> Avalia o modelo -> Ajusta o modelo -> Fit o modelo -> Ajuste -> Avalia -> Ajusta -> Fit"
      ],
      "metadata": {
        "id": "wg0B_MPrPQpQ"
      }
    },
    {
      "cell_type": "markdown",
      "source": [
        "Quando se trata de avaliar... Existem 3 palavras para se lembrar:\n",
        "\n",
        "> \"Visualização, visualização, visualização\"\n",
        "\n",
        "É uma boa ideia visualizar:\n",
        "* O dado - Que tipo de dado você está manuzeando? Como ele aparenta?\n",
        "* O modelo em sí - Como seu modelo se parece?\n",
        "* O treinamento - Como o modelo performa enquanto aprende?\n",
        "* As predições do modelo - Como as predições do modelo se alinham com o resultado real?"
      ],
      "metadata": {
        "id": "WXC9QWAyTvPB"
      }
    },
    {
      "cell_type": "code",
      "source": [
        "# Criando uma dataset maior\n",
        "X = tf.range(-100, 100, 4)\n",
        "X"
      ],
      "metadata": {
        "colab": {
          "base_uri": "https://localhost:8080/"
        },
        "id": "xeZMeUfnV6pO",
        "outputId": "402e538f-ba41-4e90-84fb-c8f3321aa4ac"
      },
      "execution_count": null,
      "outputs": [
        {
          "output_type": "execute_result",
          "data": {
            "text/plain": [
              "<tf.Tensor: shape=(50,), dtype=int32, numpy=\n",
              "array([-100,  -96,  -92,  -88,  -84,  -80,  -76,  -72,  -68,  -64,  -60,\n",
              "        -56,  -52,  -48,  -44,  -40,  -36,  -32,  -28,  -24,  -20,  -16,\n",
              "        -12,   -8,   -4,    0,    4,    8,   12,   16,   20,   24,   28,\n",
              "         32,   36,   40,   44,   48,   52,   56,   60,   64,   68,   72,\n",
              "         76,   80,   84,   88,   92,   96], dtype=int32)>"
            ]
          },
          "metadata": {},
          "execution_count": 18
        }
      ]
    },
    {
      "cell_type": "code",
      "source": [
        "# Criando rótulos para o dataset\n",
        "Y = X + 10\n",
        "Y"
      ],
      "metadata": {
        "colab": {
          "base_uri": "https://localhost:8080/"
        },
        "id": "Q-_fzwXUWPVZ",
        "outputId": "b166ed67-3338-4a8e-d958-e916dfec2cf1"
      },
      "execution_count": null,
      "outputs": [
        {
          "output_type": "execute_result",
          "data": {
            "text/plain": [
              "<tf.Tensor: shape=(50,), dtype=int32, numpy=\n",
              "array([-90, -86, -82, -78, -74, -70, -66, -62, -58, -54, -50, -46, -42,\n",
              "       -38, -34, -30, -26, -22, -18, -14, -10,  -6,  -2,   2,   6,  10,\n",
              "        14,  18,  22,  26,  30,  34,  38,  42,  46,  50,  54,  58,  62,\n",
              "        66,  70,  74,  78,  82,  86,  90,  94,  98, 102, 106], dtype=int32)>"
            ]
          },
          "metadata": {},
          "execution_count": 19
        }
      ]
    },
    {
      "cell_type": "code",
      "source": [
        "# Visualizar os dados\n",
        "import matplotlib.pyplot as plt\n",
        "plt.scatter(X, Y)"
      ],
      "metadata": {
        "colab": {
          "base_uri": "https://localhost:8080/",
          "height": 447
        },
        "id": "DpArgUNRWdaS",
        "outputId": "d885706b-565a-40b6-a8ad-4a8b1754e068"
      },
      "execution_count": null,
      "outputs": [
        {
          "output_type": "execute_result",
          "data": {
            "text/plain": [
              "<matplotlib.collections.PathCollection at 0x7f1b4109e530>"
            ]
          },
          "metadata": {},
          "execution_count": 20
        },
        {
          "output_type": "display_data",
          "data": {
            "text/plain": [
              "<Figure size 640x480 with 1 Axes>"
            ],
            "image/png": "[encoded data removed]"
          },
          "metadata": {}
        }
      ]
    },
    {
      "cell_type": "markdown",
      "source": [
        "### Os 3 sets... \n",
        "\n",
        "* **Training set** - o modelo aprende por esses dados, normalmente de 70-80% do total de dados que você vai ter\n",
        "* **Validation set** - o modelo é ajustado com base nesses dados, noramalmente 10-15% do total de dados que você vai ter\n",
        "* **Test set** - o modelo é avaliado nesse dado para testar o que foi aprendido, noramalmente 10-15% do total de dados que você vai ter"
      ],
      "metadata": {
        "id": "RaZ0PZgzW2Si"
      }
    },
    {
      "cell_type": "code",
      "source": [
        "#  Checando a quantidade de amostras que temos\n",
        "len(X)"
      ],
      "metadata": {
        "colab": {
          "base_uri": "https://localhost:8080/"
        },
        "id": "12-Kp1s9Ycku",
        "outputId": "a20b7d0d-4c5d-4300-c39c-2a3a5b82c2bf"
      },
      "execution_count": null,
      "outputs": [
        {
          "output_type": "execute_result",
          "data": {
            "text/plain": [
              "50"
            ]
          },
          "metadata": {},
          "execution_count": 21
        }
      ]
    },
    {
      "cell_type": "code",
      "source": [
        "# Separe os dados em dados de treino e dados de teste\n",
        "X_train = X[:40] # Os primeiros 40 = 80%\n",
        "Y_train = Y[:40]\n",
        "\n",
        "X_test = X[40:] # Os ultimos 10 = 10%\n",
        "Y_test = Y[40:]\n",
        "\n",
        "len(X_train), len(X_test), len(Y_train), len(Y_test)"
      ],
      "metadata": {
        "colab": {
          "base_uri": "https://localhost:8080/"
        },
        "id": "k0xhGtLqZHhm",
        "outputId": "9563cc30-fb1c-43a1-ee38-5d591ffe19ac"
      },
      "execution_count": null,
      "outputs": [
        {
          "output_type": "execute_result",
          "data": {
            "text/plain": [
              "(40, 10, 40, 10)"
            ]
          },
          "metadata": {},
          "execution_count": 22
        }
      ]
    },
    {
      "cell_type": "markdown",
      "source": [
        "### Visualizando os dados\n",
        "Agora temos nossos dados separados em sets de treino e de teste... vamos visualizar novamente!"
      ],
      "metadata": {
        "id": "3uPOLyi1aS3D"
      }
    },
    {
      "cell_type": "code",
      "source": [
        "plt.figure(figsize=(10, 7))\n",
        "# Plot dados de treino em azul\n",
        "plt.scatter(X_train, Y_train, c=\"b\", label=\"Training data\") # Nosso modelo deve aprender com esses dados\n",
        "# Plot dados de teste em verde\n",
        "plt.scatter(X_test, Y_test, c=\"g\", label=\"Testing data\") # Queremos que nosso modelo seja capaz de predizer os valores de X para Y\n",
        "# Apresenta uma legenda\n",
        "plt.legend();"
      ],
      "metadata": {
        "colab": {
          "base_uri": "https://localhost:8080/",
          "height": 599
        },
        "id": "rJkOPwWoakJe",
        "outputId": "4d4c1835-92dc-47ab-cb50-277f5ff1da32"
      },
      "execution_count": null,
      "outputs": [
        {
          "output_type": "display_data",
          "data": {
            "text/plain": [
              "<Figure size 1000x700 with 1 Axes>"
            ],
            "image/png": "[encoded data removed]"
          },
          "metadata": {}
        }
      ]
    },
    {
      "cell_type": "code",
      "source": [
        "# Vamos criar nossas rede neural com esses dados\n",
        "\n",
        "# 1. Criando o modelo\n",
        "model = tf.keras.Sequential([\n",
        "    tf.keras.layers.Dense(100, input_shape=[1], name=\"input_layer\"),\n",
        "    tf.keras.layers.Dense(100, input_shape=[1], name=\"hidden_layer1\"),\n",
        "    tf.keras.layers.Dense(100, input_shape=[1], name=\"hidden_layer2\"),\n",
        "    tf.keras.layers.Dense(1, name=\"output_layer\")\n",
        "], name=\"model_1\")\n",
        "\n",
        "# 2. Compilando o modelo\n",
        "model.compile(loss=tf.keras.losses.mae,\n",
        "              optimizer=tf.keras.optimizers.Adam(lr=0.01),\n",
        "              metrics=[\"mae\"])\n",
        "\n",
        "# 3. Fit o modelo\n",
        "model.fit(tf.expand_dims(X_train, axis=-1), Y_train, epochs=100)"
      ],
      "metadata": {
        "colab": {
          "base_uri": "https://localhost:8080/"
        },
        "id": "7Rqr0NBScrkr",
        "outputId": "5933d87c-c3a3-476f-f466-210faf60b5ea"
      },
      "execution_count": null,
      "outputs": [
        {
          "output_type": "stream",
          "name": "stderr",
          "text": [
            "WARNING:absl:`lr` is deprecated in Keras optimizer, please use `learning_rate` or use the legacy optimizer, e.g.,tf.keras.optimizers.legacy.Adam.\n"
          ]
        },
        {
          "output_type": "stream",
          "name": "stdout",
          "text": [
            "Epoch 1/100\n",
            "2/2 [==============================] - 3s 11ms/step - loss: 47.6583 - mae: 47.6583\n",
            "Epoch 2/100\n",
            "2/2 [==============================] - 0s 19ms/step - loss: 23.0860 - mae: 23.0860\n",
            "Epoch 3/100\n",
            "2/2 [==============================] - 0s 18ms/step - loss: 9.3178 - mae: 9.3178\n",
            "Epoch 4/100\n",
            "2/2 [==============================] - 0s 20ms/step - loss: 15.5525 - mae: 15.5525\n",
            "Epoch 5/100\n",
            "2/2 [==============================] - 0s 18ms/step - loss: 14.8476 - mae: 14.8476\n",
            "Epoch 6/100\n",
            "2/2 [==============================] - 0s 14ms/step - loss: 11.1053 - mae: 11.1053\n",
            "Epoch 7/100\n",
            "2/2 [==============================] - 0s 12ms/step - loss: 7.6533 - mae: 7.6533\n",
            "Epoch 8/100\n",
            "2/2 [==============================] - 0s 12ms/step - loss: 11.3531 - mae: 11.3531\n",
            "Epoch 9/100\n",
            "2/2 [==============================] - 0s 9ms/step - loss: 10.6354 - mae: 10.6354\n",
            "Epoch 10/100\n",
            "2/2 [==============================] - 0s 9ms/step - loss: 7.3422 - mae: 7.3422\n",
            "Epoch 11/100\n",
            "2/2 [==============================] - 0s 9ms/step - loss: 10.4554 - mae: 10.4554\n",
            "Epoch 12/100\n",
            "2/2 [==============================] - 0s 7ms/step - loss: 11.0856 - mae: 11.0856\n",
            "Epoch 13/100\n",
            "2/2 [==============================] - 0s 7ms/step - loss: 9.7669 - mae: 9.7669\n",
            "Epoch 14/100\n",
            "2/2 [==============================] - 0s 8ms/step - loss: 7.7289 - mae: 7.7289\n",
            "Epoch 15/100\n",
            "2/2 [==============================] - 0s 7ms/step - loss: 8.7119 - mae: 8.7119\n",
            "Epoch 16/100\n",
            "2/2 [==============================] - 0s 15ms/step - loss: 8.6757 - mae: 8.6757\n",
            "Epoch 17/100\n",
            "2/2 [==============================] - 0s 7ms/step - loss: 7.1869 - mae: 7.1869\n",
            "Epoch 18/100\n",
            "2/2 [==============================] - 0s 8ms/step - loss: 8.3196 - mae: 8.3196\n",
            "Epoch 19/100\n",
            "2/2 [==============================] - 0s 8ms/step - loss: 8.3130 - mae: 8.3130\n",
            "Epoch 20/100\n",
            "2/2 [==============================] - 0s 7ms/step - loss: 7.1851 - mae: 7.1851\n",
            "Epoch 21/100\n",
            "2/2 [==============================] - 0s 10ms/step - loss: 7.8213 - mae: 7.8213\n",
            "Epoch 22/100\n",
            "2/2 [==============================] - 0s 10ms/step - loss: 7.6030 - mae: 7.6030\n",
            "Epoch 23/100\n",
            "2/2 [==============================] - 0s 10ms/step - loss: 7.1631 - mae: 7.1631\n",
            "Epoch 24/100\n",
            "2/2 [==============================] - 0s 9ms/step - loss: 7.6391 - mae: 7.6391\n",
            "Epoch 25/100\n",
            "2/2 [==============================] - 0s 17ms/step - loss: 6.9744 - mae: 6.9744\n",
            "Epoch 26/100\n",
            "2/2 [==============================] - 0s 18ms/step - loss: 7.1619 - mae: 7.1619\n",
            "Epoch 27/100\n",
            "2/2 [==============================] - 0s 22ms/step - loss: 7.0868 - mae: 7.0868\n",
            "Epoch 28/100\n",
            "2/2 [==============================] - 0s 24ms/step - loss: 6.8496 - mae: 6.8496\n",
            "Epoch 29/100\n",
            "2/2 [==============================] - 0s 15ms/step - loss: 6.9810 - mae: 6.9810\n",
            "Epoch 30/100\n",
            "2/2 [==============================] - 0s 10ms/step - loss: 7.2076 - mae: 7.2076\n",
            "Epoch 31/100\n",
            "2/2 [==============================] - 0s 22ms/step - loss: 7.1032 - mae: 7.1032\n",
            "Epoch 32/100\n",
            "2/2 [==============================] - 0s 10ms/step - loss: 6.6099 - mae: 6.6099\n",
            "Epoch 33/100\n",
            "2/2 [==============================] - 0s 11ms/step - loss: 6.6525 - mae: 6.6525\n",
            "Epoch 34/100\n",
            "2/2 [==============================] - 0s 19ms/step - loss: 6.4796 - mae: 6.4796\n",
            "Epoch 35/100\n",
            "2/2 [==============================] - 0s 9ms/step - loss: 6.6129 - mae: 6.6129\n",
            "Epoch 36/100\n",
            "2/2 [==============================] - 0s 9ms/step - loss: 6.6522 - mae: 6.6522\n",
            "Epoch 37/100\n",
            "2/2 [==============================] - 0s 12ms/step - loss: 6.4517 - mae: 6.4517\n",
            "Epoch 38/100\n",
            "2/2 [==============================] - 0s 15ms/step - loss: 6.4034 - mae: 6.4034\n",
            "Epoch 39/100\n",
            "2/2 [==============================] - 0s 14ms/step - loss: 6.3365 - mae: 6.3365\n",
            "Epoch 40/100\n",
            "2/2 [==============================] - 0s 9ms/step - loss: 6.5898 - mae: 6.5898\n",
            "Epoch 41/100\n",
            "2/2 [==============================] - 0s 10ms/step - loss: 6.2035 - mae: 6.2035\n",
            "Epoch 42/100\n",
            "2/2 [==============================] - 0s 9ms/step - loss: 6.5848 - mae: 6.5848\n",
            "Epoch 43/100\n",
            "2/2 [==============================] - 0s 10ms/step - loss: 6.2552 - mae: 6.2552\n",
            "Epoch 44/100\n",
            "2/2 [==============================] - 0s 13ms/step - loss: 6.1307 - mae: 6.1307\n",
            "Epoch 45/100\n",
            "2/2 [==============================] - 0s 8ms/step - loss: 6.2642 - mae: 6.2642\n",
            "Epoch 46/100\n",
            "2/2 [==============================] - 0s 7ms/step - loss: 5.9920 - mae: 5.9920\n",
            "Epoch 47/100\n",
            "2/2 [==============================] - 0s 8ms/step - loss: 6.2395 - mae: 6.2395\n",
            "Epoch 48/100\n",
            "2/2 [==============================] - 0s 7ms/step - loss: 5.7792 - mae: 5.7792\n",
            "Epoch 49/100\n",
            "2/2 [==============================] - 0s 7ms/step - loss: 6.1416 - mae: 6.1416\n",
            "Epoch 50/100\n",
            "2/2 [==============================] - 0s 7ms/step - loss: 6.1136 - mae: 6.1136\n",
            "Epoch 51/100\n",
            "2/2 [==============================] - 0s 7ms/step - loss: 5.5819 - mae: 5.5819\n",
            "Epoch 52/100\n",
            "2/2 [==============================] - 0s 8ms/step - loss: 5.6107 - mae: 5.6107\n",
            "Epoch 53/100\n",
            "2/2 [==============================] - 0s 8ms/step - loss: 6.0893 - mae: 6.0893\n",
            "Epoch 54/100\n",
            "2/2 [==============================] - 0s 12ms/step - loss: 5.7411 - mae: 5.7411\n",
            "Epoch 55/100\n",
            "2/2 [==============================] - 0s 8ms/step - loss: 5.6555 - mae: 5.6555\n",
            "Epoch 56/100\n",
            "2/2 [==============================] - 0s 7ms/step - loss: 5.5916 - mae: 5.5916\n",
            "Epoch 57/100\n",
            "2/2 [==============================] - 0s 7ms/step - loss: 5.1703 - mae: 5.1703\n",
            "Epoch 58/100\n",
            "2/2 [==============================] - 0s 9ms/step - loss: 5.3149 - mae: 5.3149\n",
            "Epoch 59/100\n",
            "2/2 [==============================] - 0s 10ms/step - loss: 4.9820 - mae: 4.9820\n",
            "Epoch 60/100\n",
            "2/2 [==============================] - 0s 11ms/step - loss: 5.6231 - mae: 5.6231\n",
            "Epoch 61/100\n",
            "2/2 [==============================] - 0s 12ms/step - loss: 5.0614 - mae: 5.0614\n",
            "Epoch 62/100\n",
            "2/2 [==============================] - 0s 12ms/step - loss: 5.4307 - mae: 5.4307\n",
            "Epoch 63/100\n",
            "2/2 [==============================] - 0s 12ms/step - loss: 4.5861 - mae: 4.5861\n",
            "Epoch 64/100\n",
            "2/2 [==============================] - 0s 13ms/step - loss: 5.6217 - mae: 5.6217\n",
            "Epoch 65/100\n",
            "2/2 [==============================] - 0s 10ms/step - loss: 4.8191 - mae: 4.8191\n",
            "Epoch 66/100\n",
            "2/2 [==============================] - 0s 15ms/step - loss: 4.9161 - mae: 4.9161\n",
            "Epoch 67/100\n",
            "2/2 [==============================] - 0s 15ms/step - loss: 4.4389 - mae: 4.4389\n",
            "Epoch 68/100\n",
            "2/2 [==============================] - 0s 10ms/step - loss: 4.3919 - mae: 4.3919\n",
            "Epoch 69/100\n",
            "2/2 [==============================] - 0s 12ms/step - loss: 4.0980 - mae: 4.0980\n",
            "Epoch 70/100\n",
            "2/2 [==============================] - 0s 11ms/step - loss: 4.0478 - mae: 4.0478\n",
            "Epoch 71/100\n",
            "2/2 [==============================] - 0s 11ms/step - loss: 3.8518 - mae: 3.8518\n",
            "Epoch 72/100\n",
            "2/2 [==============================] - 0s 13ms/step - loss: 4.5222 - mae: 4.5222\n",
            "Epoch 73/100\n",
            "2/2 [==============================] - 0s 11ms/step - loss: 4.3389 - mae: 4.3389\n",
            "Epoch 74/100\n",
            "2/2 [==============================] - 0s 14ms/step - loss: 3.5582 - mae: 3.5582\n",
            "Epoch 75/100\n",
            "2/2 [==============================] - 0s 11ms/step - loss: 3.2629 - mae: 3.2629\n",
            "Epoch 76/100\n",
            "2/2 [==============================] - 0s 17ms/step - loss: 3.6620 - mae: 3.6620\n",
            "Epoch 77/100\n",
            "2/2 [==============================] - 0s 11ms/step - loss: 2.7048 - mae: 2.7048\n",
            "Epoch 78/100\n",
            "2/2 [==============================] - 0s 11ms/step - loss: 3.0582 - mae: 3.0582\n",
            "Epoch 79/100\n",
            "2/2 [==============================] - 0s 12ms/step - loss: 3.6891 - mae: 3.6891\n",
            "Epoch 80/100\n",
            "2/2 [==============================] - 0s 12ms/step - loss: 2.8688 - mae: 2.8688\n",
            "Epoch 81/100\n",
            "2/2 [==============================] - 0s 32ms/step - loss: 3.0130 - mae: 3.0130\n",
            "Epoch 82/100\n",
            "2/2 [==============================] - 0s 11ms/step - loss: 1.4394 - mae: 1.4394\n",
            "Epoch 83/100\n",
            "2/2 [==============================] - 0s 11ms/step - loss: 1.1020 - mae: 1.1020\n",
            "Epoch 84/100\n",
            "2/2 [==============================] - 0s 11ms/step - loss: 1.5055 - mae: 1.5055\n",
            "Epoch 85/100\n",
            "2/2 [==============================] - 0s 11ms/step - loss: 1.2954 - mae: 1.2954\n",
            "Epoch 86/100\n",
            "2/2 [==============================] - 0s 11ms/step - loss: 4.2282 - mae: 4.2282\n",
            "Epoch 87/100\n",
            "2/2 [==============================] - 0s 10ms/step - loss: 2.6083 - mae: 2.6083\n",
            "Epoch 88/100\n",
            "2/2 [==============================] - 0s 23ms/step - loss: 2.2139 - mae: 2.2139\n",
            "Epoch 89/100\n",
            "2/2 [==============================] - 0s 10ms/step - loss: 4.4064 - mae: 4.4064\n",
            "Epoch 90/100\n",
            "2/2 [==============================] - 0s 8ms/step - loss: 3.0037 - mae: 3.0037\n",
            "Epoch 91/100\n",
            "2/2 [==============================] - 0s 8ms/step - loss: 1.5233 - mae: 1.5233\n",
            "Epoch 92/100\n",
            "2/2 [==============================] - 0s 8ms/step - loss: 3.4237 - mae: 3.4237\n",
            "Epoch 93/100\n",
            "2/2 [==============================] - 0s 7ms/step - loss: 2.6722 - mae: 2.6722\n",
            "Epoch 94/100\n",
            "2/2 [==============================] - 0s 8ms/step - loss: 5.0524 - mae: 5.0524\n",
            "Epoch 95/100\n",
            "2/2 [==============================] - 0s 8ms/step - loss: 5.7631 - mae: 5.7631\n",
            "Epoch 96/100\n",
            "2/2 [==============================] - 0s 8ms/step - loss: 1.0610 - mae: 1.0610\n",
            "Epoch 97/100\n",
            "2/2 [==============================] - 0s 8ms/step - loss: 2.9518 - mae: 2.9518\n",
            "Epoch 98/100\n",
            "2/2 [==============================] - 0s 8ms/step - loss: 1.3846 - mae: 1.3846\n",
            "Epoch 99/100\n",
            "2/2 [==============================] - 0s 10ms/step - loss: 1.2505 - mae: 1.2505\n",
            "Epoch 100/100\n",
            "2/2 [==============================] - 0s 11ms/step - loss: 0.9939 - mae: 0.9939\n"
          ]
        },
        {
          "output_type": "execute_result",
          "data": {
            "text/plain": [
              "<keras.callbacks.History at 0x7f1b40f48910>"
            ]
          },
          "metadata": {},
          "execution_count": 24
        }
      ]
    },
    {
      "cell_type": "markdown",
      "source": [
        "### Visualizando o modelo"
      ],
      "metadata": {
        "id": "cHmygJhqeg_j"
      }
    },
    {
      "cell_type": "code",
      "source": [
        "model.summary()"
      ],
      "metadata": {
        "colab": {
          "base_uri": "https://localhost:8080/"
        },
        "id": "DBGqIINGelQt",
        "outputId": "936f550a-ac34-47be-b972-370b08402e5c"
      },
      "execution_count": null,
      "outputs": [
        {
          "output_type": "stream",
          "name": "stdout",
          "text": [
            "Model: \"model_1\"\n",
            "_________________________________________________________________\n",
            " Layer (type)                Output Shape              Param #   \n",
            "=================================================================\n",
            " input_layer (Dense)         (None, 100)               200       \n",
            "                                                                 \n",
            " hidden_layer1 (Dense)       (None, 100)               10100     \n",
            "                                                                 \n",
            " hidden_layer2 (Dense)       (None, 100)               10100     \n",
            "                                                                 \n",
            " output_layer (Dense)        (None, 1)                 101       \n",
            "                                                                 \n",
            "=================================================================\n",
            "Total params: 20,501\n",
            "Trainable params: 20,501\n",
            "Non-trainable params: 0\n",
            "_________________________________________________________________\n"
          ]
        }
      ]
    },
    {
      "cell_type": "markdown",
      "source": [
        "* Total params - total de numeros de parametros no model\n",
        "* Trainable parameters - esses são os parâmetros (padrões) que o modelo pode melhorar conforme ele treina\n",
        "* Non-trainabel params - esses parâmetros não são melhorados durante o treino\n",
        "\n",
        "**Referencia:** para mais informações sobre parâmetros treináveis, olhe o video do MIT de introdução a deep learning. <introtodeeplearning.com>"
      ],
      "metadata": {
        "id": "jnnfE1YZgM8g"
      }
    },
    {
      "cell_type": "code",
      "source": [
        "from tensorflow.keras.utils import plot_model\n",
        "\n",
        "plot_model(model=model, show_shapes=True)\n"
      ],
      "metadata": {
        "id": "1DswIGW-g0us",
        "colab": {
          "base_uri": "https://localhost:8080/",
          "height": 533
        },
        "outputId": "da72d711-190c-48d8-fb4c-fd63d9f1089d"
      },
      "execution_count": null,
      "outputs": [
        {
          "output_type": "execute_result",
          "data": {
            "image/png": "[encoded data removed]",
            "text/plain": [
              "<IPython.core.display.Image object>"
            ]
          },
          "metadata": {},
          "execution_count": 26
        }
      ]
    },
    {
      "cell_type": "markdown",
      "source": [
        "### Visualizando as predições do modelo\n",
        "Para visualizar as predições, é uma boa ideia plotar eles nos laybel verdadeiros.\n",
        "\n",
        "Muitas das vezes podemos encntrar eles na forma de 'y_test' ou 'y_true' versus 'y_pred' (ground truth versus your model predictions)"
      ],
      "metadata": {
        "id": "NGeHJzepjGEV"
      }
    },
    {
      "cell_type": "code",
      "source": [
        "# Criando predições \n",
        "Y_pred = model.predict(X_test)\n",
        "Y_pred"
      ],
      "metadata": {
        "id": "nw9xwmXAjOK-",
        "colab": {
          "base_uri": "https://localhost:8080/"
        },
        "outputId": "01f107e7-903b-4573-a98f-2a382d369bab"
      },
      "execution_count": null,
      "outputs": [
        {
          "output_type": "stream",
          "name": "stderr",
          "text": [
            "WARNING:tensorflow:5 out of the last 5 calls to <function Model.make_predict_function.<locals>.predict_function at 0x7f1bc40e1d80> triggered tf.function retracing. Tracing is expensive and the excessive number of tracings could be due to (1) creating @tf.function repeatedly in a loop, (2) passing tensors with different shapes, (3) passing Python objects instead of tensors. For (1), please define your @tf.function outside of the loop. For (2), @tf.function has reduce_retracing=True option that can avoid unnecessary retracing. For (3), please refer to https://www.tensorflow.org/guide/function#controlling_retracing and https://www.tensorflow.org/api_docs/python/tf/function for  more details.\n"
          ]
        },
        {
          "output_type": "stream",
          "name": "stdout",
          "text": [
            "1/1 [==============================] - 0s 173ms/step\n"
          ]
        },
        {
          "output_type": "execute_result",
          "data": {
            "text/plain": [
              "array([[ 70.8218  ],\n",
              "       [ 74.91699 ],\n",
              "       [ 79.01219 ],\n",
              "       [ 83.1074  ],\n",
              "       [ 87.2026  ],\n",
              "       [ 91.297806],\n",
              "       [ 95.393005],\n",
              "       [ 99.4882  ],\n",
              "       [103.58341 ],\n",
              "       [107.67861 ]], dtype=float32)"
            ]
          },
          "metadata": {},
          "execution_count": 27
        }
      ]
    },
    {
      "cell_type": "code",
      "source": [
        "Y_test"
      ],
      "metadata": {
        "colab": {
          "base_uri": "https://localhost:8080/"
        },
        "id": "lbjsZtmClGny",
        "outputId": "994d451d-f08f-4281-b432-053a28b8cde5"
      },
      "execution_count": null,
      "outputs": [
        {
          "output_type": "execute_result",
          "data": {
            "text/plain": [
              "<tf.Tensor: shape=(10,), dtype=int32, numpy=array([ 70,  74,  78,  82,  86,  90,  94,  98, 102, 106], dtype=int32)>"
            ]
          },
          "metadata": {},
          "execution_count": 28
        }
      ]
    },
    {
      "cell_type": "code",
      "source": [
        "# Vamos criar um plot function\n",
        "def plot_predictions(train_data = X_train,\n",
        "                     train_labels = Y_train,\n",
        "                     test_data=X_test,\n",
        "                     test_labels=Y_test,\n",
        "                     predictions=Y_pred):\n",
        "  \"\"\"\n",
        "  Plot de treino de dados, teste de dados e comparações de predições com relação ao ground truth\n",
        "  \"\"\"\n",
        "  plt.figure(figsize=(10, 7))\n",
        "  # Plot dados de treinamento em azul\n",
        "  plt.scatter(train_data, train_labels, c=\"b\", label=\"Training data\")\n",
        "  # Plot dados de teste em verde\n",
        "  plt.scatter(test_data, test_labels, c=\"g\", label=\"Testing data\")\n",
        "  # Plot modelos de predição em vermelho\n",
        "  plt.scatter(test_data, predictions, c=\"r\", label=\"Predictions\")\n",
        "  # Apresentar legenda\n",
        "  plt.legend();"
      ],
      "metadata": {
        "id": "lLprGjijlPPb"
      },
      "execution_count": null,
      "outputs": []
    },
    {
      "cell_type": "code",
      "source": [
        "plot_predictions()"
      ],
      "metadata": {
        "colab": {
          "base_uri": "https://localhost:8080/",
          "height": 599
        },
        "id": "Hppxfm17nRb0",
        "outputId": "70428877-183d-41c5-c61c-cda1306e4a3f"
      },
      "execution_count": null,
      "outputs": [
        {
          "output_type": "display_data",
          "data": {
            "text/plain": [
              "<Figure size 1000x700 with 1 Axes>"
            ],
            "image/png": "[encoded data removed]"
          },
          "metadata": {}
        }
      ]
    },
    {
      "cell_type": "markdown",
      "source": [
        "### Avaliando as predições do modelo com metricas de avaliação regressiva\n",
        "\n",
        "Dependendo do problema que se está avaliando, terá diferentes tipos de métricas de avaliação para seu modelo de performance.\n",
        "\n",
        "Como estamos trabalhando com regressão, duas das principais métricas são:\n",
        "* MAE - mean absolute error, \"dna média, o quão errado cada uma das predições está\"\n",
        "* MSE - mean square error, \"quadrado da média de erros\"\n"
      ],
      "metadata": {
        "id": "hnzDGrImoKw4"
      }
    },
    {
      "cell_type": "code",
      "source": [
        "# Avaliando o modelo no teste\n",
        "model.evaluate(X_test, Y_test)"
      ],
      "metadata": {
        "colab": {
          "base_uri": "https://localhost:8080/"
        },
        "id": "iNhf_ZGmRnlW",
        "outputId": "a9c00e27-003c-4244-8744-4b7a4c9b4239"
      },
      "execution_count": null,
      "outputs": [
        {
          "output_type": "stream",
          "name": "stdout",
          "text": [
            "1/1 [==============================] - 0s 219ms/step - loss: 1.2502 - mae: 1.2502\n"
          ]
        },
        {
          "output_type": "execute_result",
          "data": {
            "text/plain": [
              "[1.2502014636993408, 1.2502014636993408]"
            ]
          },
          "metadata": {},
          "execution_count": 31
        }
      ]
    },
    {
      "cell_type": "code",
      "source": [
        "# Calculando o MAE - Mean Absolute Error\n",
        "mae = tf.keras.losses.mae(Y_test, Y_pred)\n",
        "mae"
      ],
      "metadata": {
        "colab": {
          "base_uri": "https://localhost:8080/"
        },
        "id": "D6NDXBvXVanv",
        "outputId": "a8a65699-7d4f-4033-d0a2-7dc560c90713"
      },
      "execution_count": null,
      "outputs": [
        {
          "output_type": "execute_result",
          "data": {
            "text/plain": [
              "<tf.Tensor: shape=(10,), dtype=float32, numpy=\n",
              "array([17.34256  , 14.2498045, 11.995123 , 10.57852  , 10.       ,\n",
              "       10.259562 , 11.357203 , 13.292918 , 16.06673  , 19.678612 ],\n",
              "      dtype=float32)>"
            ]
          },
          "metadata": {},
          "execution_count": 32
        }
      ]
    },
    {
      "cell_type": "code",
      "source": [
        "new_Y_pred = tf.squeeze(Y_pred)"
      ],
      "metadata": {
        "id": "BpLOt5alaBwP"
      },
      "execution_count": null,
      "outputs": []
    },
    {
      "cell_type": "code",
      "source": [
        "tf.constant(new_Y_pred), tf.constant(Y_test)"
      ],
      "metadata": {
        "colab": {
          "base_uri": "https://localhost:8080/"
        },
        "id": "fFYD4QIJUPTC",
        "outputId": "3ecf7444-b815-4f30-8c9f-f6f9c11f28ca"
      },
      "execution_count": null,
      "outputs": [
        {
          "output_type": "execute_result",
          "data": {
            "text/plain": [
              "(<tf.Tensor: shape=(10,), dtype=float32, numpy=\n",
              " array([ 70.8218  ,  74.91699 ,  79.01219 ,  83.1074  ,  87.2026  ,\n",
              "         91.297806,  95.393005,  99.4882  , 103.58341 , 107.67861 ],\n",
              "       dtype=float32)>,\n",
              " <tf.Tensor: shape=(10,), dtype=int32, numpy=array([ 70,  74,  78,  82,  86,  90,  94,  98, 102, 106], dtype=int32)>)"
            ]
          },
          "metadata": {},
          "execution_count": 34
        }
      ]
    },
    {
      "cell_type": "code",
      "source": [
        "# Calculando novamente o MAE\n",
        "mae = tf.keras.losses.mae(Y_test, new_Y_pred)\n",
        "mae"
      ],
      "metadata": {
        "colab": {
          "base_uri": "https://localhost:8080/"
        },
        "id": "OLPs02TPaarN",
        "outputId": "16538087-826e-4bf2-973a-ca907f30a33b"
      },
      "execution_count": null,
      "outputs": [
        {
          "output_type": "execute_result",
          "data": {
            "text/plain": [
              "<tf.Tensor: shape=(), dtype=float32, numpy=1.2502015>"
            ]
          },
          "metadata": {},
          "execution_count": 35
        }
      ]
    },
    {
      "cell_type": "code",
      "source": [
        "# Calculando o MSE - Mean Square Error\n",
        "mse = tf.keras.losses.mse(Y_test, new_Y_pred)\n",
        "mse "
      ],
      "metadata": {
        "colab": {
          "base_uri": "https://localhost:8080/"
        },
        "id": "fzzgcwOga8GI",
        "outputId": "d06891fc-6446-4dda-cb45-41b91f4e7ce6"
      },
      "execution_count": null,
      "outputs": [
        {
          "output_type": "execute_result",
          "data": {
            "text/plain": [
              "<tf.Tensor: shape=(), dtype=float32, numpy=1.6377766>"
            ]
          },
          "metadata": {},
          "execution_count": 36
        }
      ]
    },
    {
      "cell_type": "code",
      "source": [
        "# Craindo funções para o uso do MAE e MSE\n",
        "def mae(Y_true, Y_pred):\n",
        "  return tf.keras.losses.mae(Y_true=Y_true,\n",
        "                             Y_pred=tf.squeeze(Y_pred))\n",
        "  \n",
        "def mse(Y_true, Y_pred):\n",
        "  return tf.keras.losses.mse(Y_true=Y_true,\n",
        "                             Y_pred=tf.squeeze(Y_pred))"
      ],
      "metadata": {
        "id": "1laCcmhdb3Gq"
      },
      "execution_count": null,
      "outputs": []
    },
    {
      "cell_type": "markdown",
      "source": [
        "## Realizando experimentos para melhorar nosso modelo\n",
        "1. Conseguindo mais dados/exemplos\n",
        "2. Fazer seu modelo maior (deixando-o mais complexo), podendo ser por adição de mais layers ou maais neurônios\n",
        "3. Treinando por mais tempo (aumentando o epochs)"
      ],
      "metadata": {
        "id": "ZyfRgO7rcl_R"
      }
    },
    {
      "cell_type": "code",
      "source": [
        "# Set random seed\n",
        "tf.random.set_seed(42)"
      ],
      "metadata": {
        "id": "2IgCfh1QeLRF"
      },
      "execution_count": null,
      "outputs": []
    },
    {
      "cell_type": "code",
      "source": [
        "# model_1 - 1 layer/epochs = 100\n",
        "model_1 = tf.keras.Sequential([\n",
        "    tf.keras.layers.Dense(1)\n",
        "])\n",
        "\n",
        "model_1.compile(loss=tf.keras.losses.mae,\n",
        "                optimizer=tf.keras.optimizers.SGD(),\n",
        "                metrics=[\"mae\"])\n",
        "\n",
        "model_1.fit(tf.expand_dims(X_train, axis=-1), Y_train, epochs=100)"
      ],
      "metadata": {
        "colab": {
          "base_uri": "https://localhost:8080/"
        },
        "id": "UzM8b4cPdie4",
        "outputId": "b55a5ecf-fda8-4fda-8d2e-ee0d114fd002"
      },
      "execution_count": null,
      "outputs": [
        {
          "output_type": "stream",
          "name": "stdout",
          "text": [
            "Epoch 1/100\n",
            "2/2 [==============================] - 1s 11ms/step - loss: 59.0237 - mae: 59.0237\n",
            "Epoch 2/100\n",
            "2/2 [==============================] - 0s 7ms/step - loss: 24.4109 - mae: 24.4109\n",
            "Epoch 3/100\n",
            "2/2 [==============================] - 0s 7ms/step - loss: 10.1662 - mae: 10.1662\n",
            "Epoch 4/100\n",
            "2/2 [==============================] - 0s 6ms/step - loss: 12.5083 - mae: 12.5083\n",
            "Epoch 5/100\n",
            "2/2 [==============================] - 0s 7ms/step - loss: 11.5587 - mae: 11.5587\n",
            "Epoch 6/100\n",
            "2/2 [==============================] - 0s 7ms/step - loss: 10.6569 - mae: 10.6569\n",
            "Epoch 7/100\n",
            "2/2 [==============================] - 0s 7ms/step - loss: 9.0861 - mae: 9.0861\n",
            "Epoch 8/100\n",
            "2/2 [==============================] - 0s 6ms/step - loss: 7.5477 - mae: 7.5477\n",
            "Epoch 9/100\n",
            "2/2 [==============================] - 0s 7ms/step - loss: 7.5241 - mae: 7.5241\n",
            "Epoch 10/100\n",
            "2/2 [==============================] - 0s 7ms/step - loss: 12.5960 - mae: 12.5960\n",
            "Epoch 11/100\n",
            "2/2 [==============================] - 0s 6ms/step - loss: 10.3443 - mae: 10.3443\n",
            "Epoch 12/100\n",
            "2/2 [==============================] - 0s 9ms/step - loss: 18.5248 - mae: 18.5248\n",
            "Epoch 13/100\n",
            "2/2 [==============================] - 0s 10ms/step - loss: 9.7435 - mae: 9.7435\n",
            "Epoch 14/100\n",
            "2/2 [==============================] - 0s 9ms/step - loss: 15.6193 - mae: 15.6193\n",
            "Epoch 15/100\n",
            "2/2 [==============================] - 0s 12ms/step - loss: 11.7278 - mae: 11.7278\n",
            "Epoch 16/100\n",
            "2/2 [==============================] - 0s 10ms/step - loss: 8.4572 - mae: 8.4572\n",
            "Epoch 17/100\n",
            "2/2 [==============================] - 0s 13ms/step - loss: 13.4322 - mae: 13.4322\n",
            "Epoch 18/100\n",
            "2/2 [==============================] - 0s 10ms/step - loss: 11.2068 - mae: 11.2068\n",
            "Epoch 19/100\n",
            "2/2 [==============================] - 0s 10ms/step - loss: 18.3440 - mae: 18.3440\n",
            "Epoch 20/100\n",
            "2/2 [==============================] - 0s 11ms/step - loss: 15.0488 - mae: 15.0488\n",
            "Epoch 21/100\n",
            "2/2 [==============================] - 0s 12ms/step - loss: 11.0240 - mae: 11.0240\n",
            "Epoch 22/100\n",
            "2/2 [==============================] - 0s 15ms/step - loss: 8.1602 - mae: 8.1602\n",
            "Epoch 23/100\n",
            "2/2 [==============================] - 0s 10ms/step - loss: 9.5305 - mae: 9.5305\n",
            "Epoch 24/100\n",
            "2/2 [==============================] - 0s 9ms/step - loss: 7.6724 - mae: 7.6724\n",
            "Epoch 25/100\n",
            "2/2 [==============================] - 0s 11ms/step - loss: 13.2031 - mae: 13.2031\n",
            "Epoch 26/100\n",
            "2/2 [==============================] - 0s 10ms/step - loss: 16.4205 - mae: 16.4205\n",
            "Epoch 27/100\n",
            "2/2 [==============================] - 0s 10ms/step - loss: 13.1677 - mae: 13.1677\n",
            "Epoch 28/100\n",
            "2/2 [==============================] - 0s 10ms/step - loss: 14.2559 - mae: 14.2559\n",
            "Epoch 29/100\n",
            "2/2 [==============================] - 0s 12ms/step - loss: 10.0756 - mae: 10.0756\n",
            "Epoch 30/100\n",
            "2/2 [==============================] - 0s 9ms/step - loss: 16.3341 - mae: 16.3341\n",
            "Epoch 31/100\n",
            "2/2 [==============================] - 0s 8ms/step - loss: 23.6596 - mae: 23.6596\n",
            "Epoch 32/100\n",
            "2/2 [==============================] - 0s 8ms/step - loss: 7.6353 - mae: 7.6353\n",
            "Epoch 33/100\n",
            "2/2 [==============================] - 0s 10ms/step - loss: 9.3362 - mae: 9.3362\n",
            "Epoch 34/100\n",
            "2/2 [==============================] - 0s 12ms/step - loss: 13.7499 - mae: 13.7499\n",
            "Epoch 35/100\n",
            "2/2 [==============================] - 0s 17ms/step - loss: 11.1334 - mae: 11.1334\n",
            "Epoch 36/100\n",
            "2/2 [==============================] - 0s 13ms/step - loss: 13.3199 - mae: 13.3199\n",
            "Epoch 37/100\n",
            "2/2 [==============================] - 0s 10ms/step - loss: 9.4918 - mae: 9.4918\n",
            "Epoch 38/100\n",
            "2/2 [==============================] - 0s 10ms/step - loss: 10.1561 - mae: 10.1561\n",
            "Epoch 39/100\n",
            "2/2 [==============================] - 0s 9ms/step - loss: 10.1850 - mae: 10.1850\n",
            "Epoch 40/100\n",
            "2/2 [==============================] - 0s 11ms/step - loss: 10.9161 - mae: 10.9161\n",
            "Epoch 41/100\n",
            "2/2 [==============================] - 0s 15ms/step - loss: 7.9118 - mae: 7.9118\n",
            "Epoch 42/100\n",
            "2/2 [==============================] - 0s 9ms/step - loss: 10.1081 - mae: 10.1081\n",
            "Epoch 43/100\n",
            "2/2 [==============================] - 0s 18ms/step - loss: 8.7144 - mae: 8.7144\n",
            "Epoch 44/100\n",
            "2/2 [==============================] - 0s 13ms/step - loss: 12.2233 - mae: 12.2233\n",
            "Epoch 45/100\n",
            "2/2 [==============================] - 0s 9ms/step - loss: 13.7970 - mae: 13.7970\n",
            "Epoch 46/100\n",
            "2/2 [==============================] - 0s 11ms/step - loss: 8.4741 - mae: 8.4741\n",
            "Epoch 47/100\n",
            "2/2 [==============================] - 0s 9ms/step - loss: 9.1487 - mae: 9.1487\n",
            "Epoch 48/100\n",
            "2/2 [==============================] - 0s 9ms/step - loss: 10.6371 - mae: 10.6371\n",
            "Epoch 49/100\n",
            "2/2 [==============================] - 0s 9ms/step - loss: 7.7649 - mae: 7.7649\n",
            "Epoch 50/100\n",
            "2/2 [==============================] - 0s 9ms/step - loss: 9.5578 - mae: 9.5578\n",
            "Epoch 51/100\n",
            "2/2 [==============================] - 0s 14ms/step - loss: 9.1712 - mae: 9.1712\n",
            "Epoch 52/100\n",
            "2/2 [==============================] - 0s 10ms/step - loss: 16.3791 - mae: 16.3791\n",
            "Epoch 53/100\n",
            "2/2 [==============================] - 0s 8ms/step - loss: 14.1331 - mae: 14.1331\n",
            "Epoch 54/100\n",
            "2/2 [==============================] - 0s 8ms/step - loss: 21.1169 - mae: 21.1169\n",
            "Epoch 55/100\n",
            "2/2 [==============================] - 0s 9ms/step - loss: 16.4133 - mae: 16.4133\n",
            "Epoch 56/100\n",
            "2/2 [==============================] - 0s 9ms/step - loss: 9.9366 - mae: 9.9366\n",
            "Epoch 57/100\n",
            "2/2 [==============================] - 0s 9ms/step - loss: 9.6304 - mae: 9.6304\n",
            "Epoch 58/100\n",
            "2/2 [==============================] - 0s 9ms/step - loss: 8.9623 - mae: 8.9623\n",
            "Epoch 59/100\n",
            "2/2 [==============================] - 0s 8ms/step - loss: 10.1499 - mae: 10.1499\n",
            "Epoch 60/100\n",
            "2/2 [==============================] - 0s 8ms/step - loss: 8.4614 - mae: 8.4614\n",
            "Epoch 61/100\n",
            "2/2 [==============================] - 0s 8ms/step - loss: 9.3149 - mae: 9.3149\n",
            "Epoch 62/100\n",
            "2/2 [==============================] - 0s 8ms/step - loss: 7.0851 - mae: 7.0851\n",
            "Epoch 63/100\n",
            "2/2 [==============================] - 0s 10ms/step - loss: 8.6373 - mae: 8.6373\n",
            "Epoch 64/100\n",
            "2/2 [==============================] - 0s 11ms/step - loss: 9.2166 - mae: 9.2166\n",
            "Epoch 65/100\n",
            "2/2 [==============================] - 0s 9ms/step - loss: 10.4527 - mae: 10.4527\n",
            "Epoch 66/100\n",
            "2/2 [==============================] - 0s 10ms/step - loss: 15.7055 - mae: 15.7055\n",
            "Epoch 67/100\n",
            "2/2 [==============================] - 0s 9ms/step - loss: 10.0879 - mae: 10.0879\n",
            "Epoch 68/100\n",
            "2/2 [==============================] - 0s 9ms/step - loss: 9.0494 - mae: 9.0494\n",
            "Epoch 69/100\n",
            "2/2 [==============================] - 0s 14ms/step - loss: 12.5776 - mae: 12.5776\n",
            "Epoch 70/100\n",
            "2/2 [==============================] - 0s 9ms/step - loss: 8.9665 - mae: 8.9665\n",
            "Epoch 71/100\n",
            "2/2 [==============================] - 0s 11ms/step - loss: 9.9409 - mae: 9.9409\n",
            "Epoch 72/100\n",
            "2/2 [==============================] - 0s 32ms/step - loss: 9.9806 - mae: 9.9806\n",
            "Epoch 73/100\n",
            "2/2 [==============================] - 0s 15ms/step - loss: 12.4437 - mae: 12.4437\n",
            "Epoch 74/100\n",
            "2/2 [==============================] - 0s 17ms/step - loss: 10.5923 - mae: 10.5923\n",
            "Epoch 75/100\n",
            "2/2 [==============================] - 0s 17ms/step - loss: 9.6387 - mae: 9.6387\n",
            "Epoch 76/100\n",
            "2/2 [==============================] - 0s 18ms/step - loss: 11.1038 - mae: 11.1038\n",
            "Epoch 77/100\n",
            "2/2 [==============================] - 0s 11ms/step - loss: 8.2869 - mae: 8.2869\n",
            "Epoch 78/100\n",
            "2/2 [==============================] - 0s 12ms/step - loss: 8.9757 - mae: 8.9757\n",
            "Epoch 79/100\n",
            "2/2 [==============================] - 0s 16ms/step - loss: 19.8054 - mae: 19.8054\n",
            "Epoch 80/100\n",
            "2/2 [==============================] - 0s 18ms/step - loss: 17.8157 - mae: 17.8157\n",
            "Epoch 81/100\n",
            "2/2 [==============================] - 0s 20ms/step - loss: 7.0953 - mae: 7.0953\n",
            "Epoch 82/100\n",
            "2/2 [==============================] - 0s 9ms/step - loss: 10.4160 - mae: 10.4160\n",
            "Epoch 83/100\n",
            "2/2 [==============================] - 0s 9ms/step - loss: 9.8385 - mae: 9.8385\n",
            "Epoch 84/100\n",
            "2/2 [==============================] - 0s 15ms/step - loss: 7.9515 - mae: 7.9515\n",
            "Epoch 85/100\n",
            "2/2 [==============================] - 0s 19ms/step - loss: 9.4616 - mae: 9.4616\n",
            "Epoch 86/100\n",
            "2/2 [==============================] - 0s 24ms/step - loss: 9.5052 - mae: 9.5052\n",
            "Epoch 87/100\n",
            "2/2 [==============================] - 0s 15ms/step - loss: 11.4496 - mae: 11.4496\n",
            "Epoch 88/100\n",
            "2/2 [==============================] - 0s 17ms/step - loss: 9.9495 - mae: 9.9495\n",
            "Epoch 89/100\n",
            "2/2 [==============================] - 0s 14ms/step - loss: 7.2650 - mae: 7.2650\n",
            "Epoch 90/100\n",
            "2/2 [==============================] - 0s 14ms/step - loss: 12.7096 - mae: 12.7096\n",
            "Epoch 91/100\n",
            "2/2 [==============================] - 0s 12ms/step - loss: 7.3256 - mae: 7.3256\n",
            "Epoch 92/100\n",
            "2/2 [==============================] - 0s 9ms/step - loss: 7.6897 - mae: 7.6897\n",
            "Epoch 93/100\n",
            "2/2 [==============================] - 0s 26ms/step - loss: 7.1309 - mae: 7.1309\n",
            "Epoch 94/100\n",
            "2/2 [==============================] - 0s 10ms/step - loss: 12.5572 - mae: 12.5572\n",
            "Epoch 95/100\n",
            "2/2 [==============================] - 0s 13ms/step - loss: 9.9343 - mae: 9.9343\n",
            "Epoch 96/100\n",
            "2/2 [==============================] - 0s 15ms/step - loss: 9.1515 - mae: 9.1515\n",
            "Epoch 97/100\n",
            "2/2 [==============================] - 0s 32ms/step - loss: 12.0938 - mae: 12.0938\n",
            "Epoch 98/100\n",
            "2/2 [==============================] - 0s 10ms/step - loss: 9.0796 - mae: 9.0796\n",
            "Epoch 99/100\n",
            "2/2 [==============================] - 0s 16ms/step - loss: 8.5086 - mae: 8.5086\n",
            "Epoch 100/100\n",
            "2/2 [==============================] - 0s 12ms/step - loss: 14.4637 - mae: 14.4637\n"
          ]
        },
        {
          "output_type": "execute_result",
          "data": {
            "text/plain": [
              "<keras.callbacks.History at 0x7f1b40ef8c10>"
            ]
          },
          "metadata": {},
          "execution_count": 39
        }
      ]
    },
    {
      "cell_type": "code",
      "source": [
        "# fazer um plot de predição para model_1\n",
        "y_pred_1 = model_1.predict(X_test)\n",
        "plot_predictions(predictions=y_pred_1)"
      ],
      "metadata": {
        "colab": {
          "base_uri": "https://localhost:8080/",
          "height": 654
        },
        "id": "xVi8aeBCfImf",
        "outputId": "66572a68-0e19-46ec-d721-f0898b9cca3c"
      },
      "execution_count": null,
      "outputs": [
        {
          "output_type": "stream",
          "name": "stderr",
          "text": [
            "WARNING:tensorflow:6 out of the last 6 calls to <function Model.make_predict_function.<locals>.predict_function at 0x7f1b40ec40d0> triggered tf.function retracing. Tracing is expensive and the excessive number of tracings could be due to (1) creating @tf.function repeatedly in a loop, (2) passing tensors with different shapes, (3) passing Python objects instead of tensors. For (1), please define your @tf.function outside of the loop. For (2), @tf.function has reduce_retracing=True option that can avoid unnecessary retracing. For (3), please refer to https://www.tensorflow.org/guide/function#controlling_retracing and https://www.tensorflow.org/api_docs/python/tf/function for  more details.\n"
          ]
        },
        {
          "output_type": "stream",
          "name": "stdout",
          "text": [
            "1/1 [==============================] - 0s 193ms/step\n"
          ]
        },
        {
          "output_type": "display_data",
          "data": {
            "text/plain": [
              "<Figure size 1000x700 with 1 Axes>"
            ],
            "image/png": "[encoded data removed]"
          },
          "metadata": {}
        }
      ]
    },
    {
      "cell_type": "code",
      "source": [
        "# Calculando modelo de avaliação de predição do model_1\n",
        "mae_1 = tf.keras.losses.mae(Y_test, tf.squeeze(y_pred_1))\n",
        "mse_1 = tf.keras.losses.mse(Y_test, tf.squeeze(y_pred_1))\n",
        "mae_1, mse_1"
      ],
      "metadata": {
        "colab": {
          "base_uri": "https://localhost:8080/"
        },
        "id": "265lQPsFfrjN",
        "outputId": "b168a846-849a-445b-e54c-5f50730b5444"
      },
      "execution_count": null,
      "outputs": [
        {
          "output_type": "execute_result",
          "data": {
            "text/plain": [
              "(<tf.Tensor: shape=(), dtype=float32, numpy=30.638885>,\n",
              " <tf.Tensor: shape=(), dtype=float32, numpy=949.1673>)"
            ]
          },
          "metadata": {},
          "execution_count": 41
        }
      ]
    },
    {
      "cell_type": "code",
      "source": [
        "# model_2 - 2 layres/ epochs=100\n",
        "model_2 = tf.keras.Sequential([\n",
        "    tf.keras.layers.Dense(10),\n",
        "    tf.keras.layers.Dense(1)\n",
        "])\n",
        "\n",
        "model_2.compile(loss=tf.keras.losses.mae,\n",
        "              optimizer=tf.keras.optimizers.SGD(),\n",
        "              metrics=[\"mse\"])\n",
        "\n",
        "model_2.fit(tf.expand_dims(X_test, axis=-1), Y_test, epochs=100)"
      ],
      "metadata": {
        "colab": {
          "base_uri": "https://localhost:8080/"
        },
        "id": "g4-0F35Di6s7",
        "outputId": "44357b05-b9c0-4478-88c2-139723bf4f2b"
      },
      "execution_count": null,
      "outputs": [
        {
          "output_type": "stream",
          "name": "stdout",
          "text": [
            "Epoch 1/100\n",
            "1/1 [==============================] - 1s 1s/step - loss: 92.3311 - mse: 8672.0898\n",
            "Epoch 2/100\n",
            "1/1 [==============================] - 0s 14ms/step - loss: 123.9855 - mse: 15761.7598\n",
            "Epoch 3/100\n",
            "1/1 [==============================] - 0s 16ms/step - loss: 88.6638 - mse: 7995.5312\n",
            "Epoch 4/100\n",
            "1/1 [==============================] - 0s 14ms/step - loss: 55.5000 - mse: 3125.1836\n",
            "Epoch 5/100\n",
            "1/1 [==============================] - 0s 19ms/step - loss: 16.6420 - mse: 292.3320\n",
            "Epoch 6/100\n",
            "1/1 [==============================] - 0s 19ms/step - loss: 83.0102 - mse: 7006.3672\n",
            "Epoch 7/100\n",
            "1/1 [==============================] - 0s 14ms/step - loss: 71.9444 - mse: 5259.2842\n",
            "Epoch 8/100\n",
            "1/1 [==============================] - 0s 16ms/step - loss: 37.1466 - mse: 1395.8898\n",
            "Epoch 9/100\n",
            "1/1 [==============================] - 0s 15ms/step - loss: 73.0810 - mse: 5490.4360\n",
            "Epoch 10/100\n",
            "1/1 [==============================] - 0s 18ms/step - loss: 80.1802 - mse: 6535.8022\n",
            "Epoch 11/100\n",
            "1/1 [==============================] - 0s 19ms/step - loss: 63.2769 - mse: 4065.6282\n",
            "Epoch 12/100\n",
            "1/1 [==============================] - 0s 29ms/step - loss: 9.7384 - mse: 94.8365\n",
            "Epoch 13/100\n",
            "1/1 [==============================] - 0s 15ms/step - loss: 159.8836 - mse: 26188.3965\n",
            "Epoch 14/100\n",
            "1/1 [==============================] - 0s 17ms/step - loss: 75.9623 - mse: 5864.8071\n",
            "Epoch 15/100\n",
            "1/1 [==============================] - 0s 19ms/step - loss: 49.9555 - mse: 2530.2866\n",
            "Epoch 16/100\n",
            "1/1 [==============================] - 0s 24ms/step - loss: 32.4287 - mse: 1090.5491\n",
            "Epoch 17/100\n",
            "1/1 [==============================] - 0s 11ms/step - loss: 82.1180 - mse: 6856.3916\n",
            "Epoch 18/100\n",
            "1/1 [==============================] - 0s 13ms/step - loss: 69.4823 - mse: 4904.7314\n",
            "Epoch 19/100\n",
            "1/1 [==============================] - 0s 15ms/step - loss: 29.4663 - mse: 876.5464\n",
            "Epoch 20/100\n",
            "1/1 [==============================] - 0s 9ms/step - loss: 97.3082 - mse: 9718.2637\n",
            "Epoch 21/100\n",
            "1/1 [==============================] - 0s 9ms/step - loss: 78.9607 - mse: 6338.1934\n",
            "Epoch 22/100\n",
            "1/1 [==============================] - 0s 8ms/step - loss: 59.5212 - mse: 3596.1633\n",
            "Epoch 23/100\n",
            "1/1 [==============================] - 0s 9ms/step - loss: 2.2131 - mse: 7.3181\n",
            "Epoch 24/100\n",
            "1/1 [==============================] - 0s 9ms/step - loss: 68.2073 - mse: 4725.9717\n",
            "Epoch 25/100\n",
            "1/1 [==============================] - 0s 9ms/step - loss: 25.4781 - mse: 654.4014\n",
            "Epoch 26/100\n",
            "1/1 [==============================] - 0s 10ms/step - loss: 109.8930 - mse: 12387.7031\n",
            "Epoch 27/100\n",
            "1/1 [==============================] - 0s 14ms/step - loss: 78.3291 - mse: 6237.0391\n",
            "Epoch 28/100\n",
            "1/1 [==============================] - 0s 11ms/step - loss: 57.5720 - mse: 3363.8601\n",
            "Epoch 29/100\n",
            "1/1 [==============================] - 0s 11ms/step - loss: 8.1779 - mse: 73.9496\n",
            "Epoch 30/100\n",
            "1/1 [==============================] - 0s 10ms/step - loss: 83.2397 - mse: 7045.5811\n",
            "Epoch 31/100\n",
            "1/1 [==============================] - 0s 15ms/step - loss: 73.1536 - mse: 5438.3125\n",
            "Epoch 32/100\n",
            "1/1 [==============================] - 0s 10ms/step - loss: 41.2162 - mse: 1720.0947\n",
            "Epoch 33/100\n",
            "1/1 [==============================] - 0s 12ms/step - loss: 59.9599 - mse: 3700.9233\n",
            "Epoch 34/100\n",
            "1/1 [==============================] - 0s 12ms/step - loss: 80.7159 - mse: 6623.9521\n",
            "Epoch 35/100\n",
            "1/1 [==============================] - 0s 11ms/step - loss: 65.1999 - mse: 4317.4756\n",
            "Epoch 36/100\n",
            "1/1 [==============================] - 0s 12ms/step - loss: 16.0573 - mse: 258.6747\n",
            "Epoch 37/100\n",
            "1/1 [==============================] - 0s 12ms/step - loss: 139.6356 - mse: 19982.7461\n",
            "Epoch 38/100\n",
            "1/1 [==============================] - 0s 12ms/step - loss: 76.8428 - mse: 6002.1885\n",
            "Epoch 39/100\n",
            "1/1 [==============================] - 0s 10ms/step - loss: 52.9709 - mse: 2846.2783\n",
            "Epoch 40/100\n",
            "1/1 [==============================] - 0s 16ms/step - loss: 22.6485 - mse: 535.8339\n",
            "Epoch 41/100\n",
            "1/1 [==============================] - 0s 14ms/step - loss: 82.4921 - mse: 6919.4780\n",
            "Epoch 42/100\n",
            "1/1 [==============================] - 0s 22ms/step - loss: 70.8933 - mse: 5106.7627\n",
            "Epoch 43/100\n",
            "1/1 [==============================] - 0s 10ms/step - loss: 34.1626 - mse: 1179.9436\n",
            "Epoch 44/100\n",
            "1/1 [==============================] - 0s 10ms/step - loss: 82.2015 - mse: 6940.7329\n",
            "Epoch 45/100\n",
            "1/1 [==============================] - 0s 11ms/step - loss: 79.5924 - mse: 6440.5781\n",
            "Epoch 46/100\n",
            "1/1 [==============================] - 0s 11ms/step - loss: 61.7486 - mse: 3871.4128\n",
            "Epoch 47/100\n",
            "1/1 [==============================] - 0s 10ms/step - loss: 5.2297 - mse: 27.8020\n",
            "Epoch 48/100\n",
            "1/1 [==============================] - 0s 10ms/step - loss: 173.8360 - mse: 30950.3652\n",
            "Epoch 49/100\n",
            "1/1 [==============================] - 0s 10ms/step - loss: 75.1409 - mse: 5738.7822\n",
            "Epoch 50/100\n",
            "1/1 [==============================] - 0s 10ms/step - loss: 47.6866 - mse: 2305.1714\n",
            "Epoch 51/100\n",
            "1/1 [==============================] - 0s 11ms/step - loss: 39.2841 - mse: 1595.4548\n",
            "Epoch 52/100\n",
            "1/1 [==============================] - 0s 14ms/step - loss: 81.6399 - mse: 6777.0767\n",
            "Epoch 53/100\n",
            "1/1 [==============================] - 0s 11ms/step - loss: 68.3012 - mse: 4739.3589\n",
            "Epoch 54/100\n",
            "1/1 [==============================] - 0s 11ms/step - loss: 26.0576 - mse: 684.7570\n",
            "Epoch 55/100\n",
            "1/1 [==============================] - 0s 10ms/step - loss: 107.7749 - mse: 11915.0762\n",
            "Epoch 56/100\n",
            "1/1 [==============================] - 0s 10ms/step - loss: 78.3078 - mse: 6234.0327\n",
            "Epoch 57/100\n",
            "1/1 [==============================] - 0s 10ms/step - loss: 57.7865 - mse: 3389.3281\n",
            "Epoch 58/100\n",
            "1/1 [==============================] - 0s 11ms/step - loss: 7.2161 - mse: 58.3141\n",
            "Epoch 59/100\n",
            "1/1 [==============================] - 0s 10ms/step - loss: 83.1625 - mse: 7032.9053\n",
            "Epoch 60/100\n",
            "1/1 [==============================] - 0s 11ms/step - loss: 73.1910 - mse: 5444.2383\n",
            "Epoch 61/100\n",
            "1/1 [==============================] - 0s 11ms/step - loss: 41.6165 - mse: 1753.9768\n",
            "Epoch 62/100\n",
            "1/1 [==============================] - 0s 16ms/step - loss: 58.4097 - mse: 3512.3992\n",
            "Epoch 63/100\n",
            "1/1 [==============================] - 0s 28ms/step - loss: 80.6672 - mse: 6616.3389\n",
            "Epoch 64/100\n",
            "1/1 [==============================] - 0s 30ms/step - loss: 65.3275 - mse: 4334.7417\n",
            "Epoch 65/100\n",
            "1/1 [==============================] - 0s 12ms/step - loss: 16.7434 - mse: 281.4108\n",
            "Epoch 66/100\n",
            "1/1 [==============================] - 0s 11ms/step - loss: 137.1799 - mse: 19286.3594\n",
            "Epoch 67/100\n",
            "1/1 [==============================] - 0s 12ms/step - loss: 76.8379 - mse: 6001.7959\n",
            "Epoch 68/100\n",
            "1/1 [==============================] - 0s 11ms/step - loss: 53.2372 - mse: 2875.3091\n",
            "Epoch 69/100\n",
            "1/1 [==============================] - 0s 11ms/step - loss: 21.5227 - mse: 484.3713\n",
            "Epoch 70/100\n",
            "1/1 [==============================] - 0s 20ms/step - loss: 82.4229 - mse: 6908.2485\n",
            "Epoch 71/100\n",
            "1/1 [==============================] - 0s 15ms/step - loss: 70.9558 - mse: 5116.1357\n",
            "Epoch 72/100\n",
            "1/1 [==============================] - 0s 11ms/step - loss: 34.6425 - mse: 1213.6150\n",
            "Epoch 73/100\n",
            "1/1 [==============================] - 0s 15ms/step - loss: 80.3990 - mse: 6640.0088\n",
            "Epoch 74/100\n",
            "1/1 [==============================] - 0s 14ms/step - loss: 79.5559 - mse: 6435.0493\n",
            "Epoch 75/100\n",
            "1/1 [==============================] - 0s 14ms/step - loss: 61.9148 - mse: 3892.6360\n",
            "Epoch 76/100\n",
            "1/1 [==============================] - 0s 17ms/step - loss: 6.0382 - mse: 36.7460\n",
            "Epoch 77/100\n",
            "1/1 [==============================] - 0s 16ms/step - loss: 170.9921 - mse: 29946.1836\n",
            "Epoch 78/100\n",
            "1/1 [==============================] - 0s 18ms/step - loss: 75.1547 - mse: 5741.2725\n",
            "Epoch 79/100\n",
            "1/1 [==============================] - 0s 19ms/step - loss: 48.0124 - mse: 2337.1062\n",
            "Epoch 80/100\n",
            "1/1 [==============================] - 0s 21ms/step - loss: 37.9698 - mse: 1490.8883\n",
            "Epoch 81/100\n",
            "1/1 [==============================] - 0s 17ms/step - loss: 81.5797 - mse: 6767.4795\n",
            "Epoch 82/100\n",
            "1/1 [==============================] - 0s 10ms/step - loss: 68.3926 - mse: 4752.4136\n",
            "Epoch 83/100\n",
            "1/1 [==============================] - 0s 22ms/step - loss: 26.6291 - mse: 715.3724\n",
            "Epoch 84/100\n",
            "1/1 [==============================] - 0s 12ms/step - loss: 105.6822 - mse: 11457.1475\n",
            "Epoch 85/100\n",
            "1/1 [==============================] - 0s 14ms/step - loss: 78.2853 - mse: 6230.8320\n",
            "Epoch 86/100\n",
            "1/1 [==============================] - 0s 18ms/step - loss: 57.9972 - mse: 3414.4329\n",
            "Epoch 87/100\n",
            "1/1 [==============================] - 0s 15ms/step - loss: 6.2666 - mse: 44.7436\n",
            "Epoch 88/100\n",
            "1/1 [==============================] - 0s 20ms/step - loss: 83.0847 - mse: 7020.1406\n",
            "Epoch 89/100\n",
            "1/1 [==============================] - 0s 19ms/step - loss: 73.2264 - mse: 5449.8848\n",
            "Epoch 90/100\n",
            "1/1 [==============================] - 0s 12ms/step - loss: 42.0107 - mse: 1787.6774\n",
            "Epoch 91/100\n",
            "1/1 [==============================] - 0s 13ms/step - loss: 56.8785 - mse: 3331.0261\n",
            "Epoch 92/100\n",
            "1/1 [==============================] - 0s 11ms/step - loss: 80.6175 - mse: 6608.5791\n",
            "Epoch 93/100\n",
            "1/1 [==============================] - 0s 11ms/step - loss: 65.4521 - mse: 4351.6533\n",
            "Epoch 94/100\n",
            "1/1 [==============================] - 0s 11ms/step - loss: 17.4201 - mse: 304.7909\n",
            "Epoch 95/100\n",
            "1/1 [==============================] - 0s 11ms/step - loss: 134.7536 - mse: 18610.4180\n",
            "Epoch 96/100\n",
            "1/1 [==============================] - 0s 10ms/step - loss: 76.8315 - mse: 6001.1812\n",
            "Epoch 97/100\n",
            "1/1 [==============================] - 0s 12ms/step - loss: 53.4990 - mse: 2903.9966\n",
            "Epoch 98/100\n",
            "1/1 [==============================] - 0s 11ms/step - loss: 20.4112 - mse: 436.1141\n",
            "Epoch 99/100\n",
            "1/1 [==============================] - 0s 10ms/step - loss: 82.3530 - mse: 6896.9126\n",
            "Epoch 100/100\n",
            "1/1 [==============================] - 0s 11ms/step - loss: 71.0161 - mse: 5125.2017\n"
          ]
        },
        {
          "output_type": "execute_result",
          "data": {
            "text/plain": [
              "<keras.callbacks.History at 0x7f1b40674880>"
            ]
          },
          "metadata": {},
          "execution_count": 42
        }
      ]
    },
    {
      "cell_type": "code",
      "source": [
        "y_pred_2 = model_2.predict(X_test)\n",
        "plot_predictions(predictions=y_pred_2)"
      ],
      "metadata": {
        "colab": {
          "base_uri": "https://localhost:8080/",
          "height": 616
        },
        "id": "ekjCogITkbuo",
        "outputId": "fa47c82a-908a-47b1-a0ae-3398c953c082"
      },
      "execution_count": null,
      "outputs": [
        {
          "output_type": "stream",
          "name": "stdout",
          "text": [
            "1/1 [==============================] - 0s 90ms/step\n"
          ]
        },
        {
          "output_type": "display_data",
          "data": {
            "text/plain": [
              "<Figure size 1000x700 with 1 Axes>"
            ],
            "image/png": "[encoded data removed]"
          },
          "metadata": {}
        }
      ]
    },
    {
      "cell_type": "code",
      "source": [
        "mae_2 = tf.keras.losses.mae(Y_test, tf.squeeze(y_pred_2))\n",
        "mse_2 = tf.keras.losses.mse(Y_test, tf.squeeze(y_pred_2))\n",
        "mae_2, mse_2"
      ],
      "metadata": {
        "colab": {
          "base_uri": "https://localhost:8080/"
        },
        "id": "KCZ6MNr5lEsT",
        "outputId": "0a78e994-906c-4cca-e014-7a4750a1e968"
      },
      "execution_count": null,
      "outputs": [
        {
          "output_type": "execute_result",
          "data": {
            "text/plain": [
              "(<tf.Tensor: shape=(), dtype=float32, numpy=35.115486>,\n",
              " <tf.Tensor: shape=(), dtype=float32, numpy=1247.2678>)"
            ]
          },
          "metadata": {},
          "execution_count": 44
        }
      ]
    },
    {
      "cell_type": "code",
      "source": [
        "# model_3 - 2 layers/ epochs=500\n",
        "model_3 = tf.keras.Sequential([\n",
        "    tf.keras.layers.Dense(50),\n",
        "    tf.keras.layers.Dense(1)\n",
        "])\n",
        "\n",
        "model_3.compile(loss=tf.keras.losses.mae,\n",
        "              optimizer=tf.keras.optimizers.SGD(),\n",
        "              metrics=[\"mse\"])\n",
        "\n",
        "model_3.fit(tf.expand_dims(X_test, axis=-1), Y_test, epochs=500)"
      ],
      "metadata": {
        "colab": {
          "base_uri": "https://localhost:8080/"
        },
        "id": "YgoNpR32m25v",
        "outputId": "b7bed8f7-4ba8-49c3-8201-ea99470d7a71"
      },
      "execution_count": null,
      "outputs": [
        {
          "output_type": "stream",
          "name": "stdout",
          "text": [
            "Epoch 1/500\n",
            "1/1 [==============================] - 1s 1s/step - loss: 110.0354 - mse: 12324.9043\n",
            "Epoch 2/500\n",
            "1/1 [==============================] - 0s 12ms/step - loss: 94.7106 - mse: 9207.8564\n",
            "Epoch 3/500\n",
            "1/1 [==============================] - 0s 19ms/step - loss: 91.3774 - mse: 8493.5137\n",
            "Epoch 4/500\n",
            "1/1 [==============================] - 0s 12ms/step - loss: 59.9871 - mse: 3652.6809\n",
            "Epoch 5/500\n",
            "1/1 [==============================] - 0s 11ms/step - loss: 2.6800 - mse: 10.3249\n",
            "Epoch 6/500\n",
            "1/1 [==============================] - 0s 22ms/step - loss: 77.5940 - mse: 6119.9951\n",
            "Epoch 7/500\n",
            "1/1 [==============================] - 0s 10ms/step - loss: 54.7938 - mse: 3045.9363\n",
            "Epoch 8/500\n",
            "1/1 [==============================] - 0s 14ms/step - loss: 17.1924 - mse: 311.5778\n",
            "Epoch 9/500\n",
            "1/1 [==============================] - 0s 15ms/step - loss: 82.8918 - mse: 6986.3892\n",
            "Epoch 10/500\n",
            "1/1 [==============================] - 0s 15ms/step - loss: 71.8498 - mse: 5245.4751\n",
            "Epoch 11/500\n",
            "1/1 [==============================] - 0s 17ms/step - loss: 36.8854 - mse: 1376.2649\n",
            "Epoch 12/500\n",
            "1/1 [==============================] - 0s 23ms/step - loss: 73.8821 - mse: 5610.9868\n",
            "Epoch 13/500\n",
            "1/1 [==============================] - 0s 17ms/step - loss: 80.1300 - mse: 6527.6436\n",
            "Epoch 14/500\n",
            "1/1 [==============================] - 0s 11ms/step - loss: 63.1439 - mse: 4048.5493\n",
            "Epoch 15/500\n",
            "1/1 [==============================] - 0s 12ms/step - loss: 9.3432 - mse: 87.3023\n",
            "Epoch 16/500\n",
            "1/1 [==============================] - 0s 18ms/step - loss: 161.1098 - mse: 26590.9121\n",
            "Epoch 17/500\n",
            "1/1 [==============================] - 0s 17ms/step - loss: 75.8916 - mse: 5853.9033\n",
            "Epoch 18/500\n",
            "1/1 [==============================] - 0s 20ms/step - loss: 49.7574 - mse: 2510.2168\n",
            "Epoch 19/500\n",
            "1/1 [==============================] - 0s 25ms/step - loss: 33.0304 - mse: 1131.0155\n",
            "Epoch 20/500\n",
            "1/1 [==============================] - 0s 17ms/step - loss: 82.0775 - mse: 6849.6523\n",
            "Epoch 21/500\n",
            "1/1 [==============================] - 0s 25ms/step - loss: 69.3800 - mse: 4890.2866\n",
            "Epoch 22/500\n",
            "1/1 [==============================] - 0s 13ms/step - loss: 29.1679 - mse: 858.8128\n",
            "Epoch 23/500\n",
            "1/1 [==============================] - 0s 24ms/step - loss: 98.2277 - mse: 9902.2598\n",
            "Epoch 24/500\n",
            "1/1 [==============================] - 0s 14ms/step - loss: 78.9048 - mse: 6329.2417\n",
            "Epoch 25/500\n",
            "1/1 [==============================] - 0s 15ms/step - loss: 59.3701 - mse: 3577.9067\n",
            "Epoch 26/500\n",
            "1/1 [==============================] - 0s 14ms/step - loss: 2.5769 - mse: 9.6126\n",
            "Epoch 27/500\n",
            "1/1 [==============================] - 0s 14ms/step - loss: 77.4495 - mse: 6097.4336\n",
            "Epoch 28/500\n",
            "1/1 [==============================] - 0s 14ms/step - loss: 54.7850 - mse: 3045.1331\n",
            "Epoch 29/500\n",
            "1/1 [==============================] - 0s 15ms/step - loss: 17.0087 - mse: 304.9724\n",
            "Epoch 30/500\n",
            "1/1 [==============================] - 0s 15ms/step - loss: 82.8125 - mse: 6973.2979\n",
            "Epoch 31/500\n",
            "1/1 [==============================] - 0s 13ms/step - loss: 71.8001 - mse: 5238.4429\n",
            "Epoch 32/500\n",
            "1/1 [==============================] - 0s 13ms/step - loss: 36.9274 - mse: 1379.5209\n",
            "Epoch 33/500\n",
            "1/1 [==============================] - 0s 22ms/step - loss: 73.5495 - mse: 5560.4180\n",
            "Epoch 34/500\n",
            "1/1 [==============================] - 0s 11ms/step - loss: 80.0585 - mse: 6516.2588\n",
            "Epoch 35/500\n",
            "1/1 [==============================] - 0s 11ms/step - loss: 63.1170 - mse: 4045.3000\n",
            "Epoch 36/500\n",
            "1/1 [==============================] - 0s 11ms/step - loss: 9.4573 - mse: 89.4445\n",
            "Epoch 37/500\n",
            "1/1 [==============================] - 0s 11ms/step - loss: 160.5485 - mse: 26405.5195\n",
            "Epoch 38/500\n",
            "1/1 [==============================] - 0s 11ms/step - loss: 75.8312 - mse: 5844.8311\n",
            "Epoch 39/500\n",
            "1/1 [==============================] - 0s 11ms/step - loss: 49.7655 - mse: 2511.1997\n",
            "Epoch 40/500\n",
            "1/1 [==============================] - 0s 11ms/step - loss: 32.8051 - mse: 1115.5935\n",
            "Epoch 41/500\n",
            "1/1 [==============================] - 0s 11ms/step - loss: 82.0009 - mse: 6837.1235\n",
            "Epoch 42/500\n",
            "1/1 [==============================] - 0s 11ms/step - loss: 69.3366 - mse: 4884.3960\n",
            "Epoch 43/500\n",
            "1/1 [==============================] - 0s 11ms/step - loss: 29.2299 - mse: 862.5682\n",
            "Epoch 44/500\n",
            "1/1 [==============================] - 0s 10ms/step - loss: 97.8314 - mse: 9822.2832\n",
            "Epoch 45/500\n",
            "1/1 [==============================] - 0s 10ms/step - loss: 78.8364 - mse: 6318.5269\n",
            "Epoch 46/500\n",
            "1/1 [==============================] - 0s 10ms/step - loss: 59.3529 - mse: 3576.0305\n",
            "Epoch 47/500\n",
            "1/1 [==============================] - 0s 13ms/step - loss: 2.4499 - mse: 8.7797\n",
            "Epoch 48/500\n",
            "1/1 [==============================] - 0s 12ms/step - loss: 77.3849 - mse: 6087.5122\n",
            "Epoch 49/500\n",
            "1/1 [==============================] - 0s 12ms/step - loss: 54.7798 - mse: 3044.7344\n",
            "Epoch 50/500\n",
            "1/1 [==============================] - 0s 20ms/step - loss: 16.8257 - mse: 298.4582\n",
            "Epoch 51/500\n",
            "1/1 [==============================] - 0s 15ms/step - loss: 82.7338 - mse: 6960.3125\n",
            "Epoch 52/500\n",
            "1/1 [==============================] - 0s 16ms/step - loss: 71.7502 - mse: 5231.4023\n",
            "Epoch 53/500\n",
            "1/1 [==============================] - 0s 21ms/step - loss: 36.9690 - mse: 1382.7523\n",
            "Epoch 54/500\n",
            "1/1 [==============================] - 0s 14ms/step - loss: 73.2182 - mse: 5510.2598\n",
            "Epoch 55/500\n",
            "1/1 [==============================] - 0s 14ms/step - loss: 79.9870 - mse: 6504.8750\n",
            "Epoch 56/500\n",
            "1/1 [==============================] - 0s 13ms/step - loss: 63.0899 - mse: 4042.0281\n",
            "Epoch 57/500\n",
            "1/1 [==============================] - 0s 13ms/step - loss: 9.5709 - mse: 91.6035\n",
            "Epoch 58/500\n",
            "1/1 [==============================] - 0s 11ms/step - loss: 159.9891 - mse: 26221.3789\n",
            "Epoch 59/500\n",
            "1/1 [==============================] - 0s 12ms/step - loss: 75.7707 - mse: 5835.7515\n",
            "Epoch 60/500\n",
            "1/1 [==============================] - 0s 13ms/step - loss: 49.7734 - mse: 2512.1558\n",
            "Epoch 61/500\n",
            "1/1 [==============================] - 0s 21ms/step - loss: 32.5807 - mse: 1100.3367\n",
            "Epoch 62/500\n",
            "1/1 [==============================] - 0s 15ms/step - loss: 81.9242 - mse: 6824.6001\n",
            "Epoch 63/500\n",
            "1/1 [==============================] - 0s 15ms/step - loss: 69.2931 - mse: 4878.4912\n",
            "Epoch 64/500\n",
            "1/1 [==============================] - 0s 19ms/step - loss: 29.2916 - mse: 866.3075\n",
            "Epoch 65/500\n",
            "1/1 [==============================] - 0s 15ms/step - loss: 97.4365 - mse: 9742.8916\n",
            "Epoch 66/500\n",
            "1/1 [==============================] - 0s 14ms/step - loss: 78.7679 - mse: 6307.8101\n",
            "Epoch 67/500\n",
            "1/1 [==============================] - 0s 15ms/step - loss: 59.3356 - mse: 3574.1296\n",
            "Epoch 68/500\n",
            "1/1 [==============================] - 0s 20ms/step - loss: 2.3233 - mse: 7.9945\n",
            "Epoch 69/500\n",
            "1/1 [==============================] - 0s 14ms/step - loss: 77.3202 - mse: 6077.5869\n",
            "Epoch 70/500\n",
            "1/1 [==============================] - 0s 13ms/step - loss: 54.7744 - mse: 3044.3098\n",
            "Epoch 71/500\n",
            "1/1 [==============================] - 0s 14ms/step - loss: 16.6433 - mse: 292.0406\n",
            "Epoch 72/500\n",
            "1/1 [==============================] - 0s 14ms/step - loss: 82.6551 - mse: 6947.3335\n",
            "Epoch 73/500\n",
            "1/1 [==============================] - 0s 11ms/step - loss: 71.7003 - mse: 5224.3501\n",
            "Epoch 74/500\n",
            "1/1 [==============================] - 0s 11ms/step - loss: 37.0102 - mse: 1385.9600\n",
            "Epoch 75/500\n",
            "1/1 [==============================] - 0s 12ms/step - loss: 72.8881 - mse: 5460.5098\n",
            "Epoch 76/500\n",
            "1/1 [==============================] - 0s 15ms/step - loss: 79.9154 - mse: 6493.4912\n",
            "Epoch 77/500\n",
            "1/1 [==============================] - 0s 12ms/step - loss: 63.0626 - mse: 4038.7349\n",
            "Epoch 78/500\n",
            "1/1 [==============================] - 0s 13ms/step - loss: 9.6839 - mse: 93.7788\n",
            "Epoch 79/500\n",
            "1/1 [==============================] - 0s 15ms/step - loss: 159.4315 - mse: 26038.4941\n",
            "Epoch 80/500\n",
            "1/1 [==============================] - 0s 13ms/step - loss: 75.7101 - mse: 5826.6655\n",
            "Epoch 81/500\n",
            "1/1 [==============================] - 0s 14ms/step - loss: 49.7810 - mse: 2513.0818\n",
            "Epoch 82/500\n",
            "1/1 [==============================] - 0s 12ms/step - loss: 32.3573 - mse: 1085.2473\n",
            "Epoch 83/500\n",
            "1/1 [==============================] - 0s 10ms/step - loss: 81.8474 - mse: 6812.0806\n",
            "Epoch 84/500\n",
            "1/1 [==============================] - 0s 13ms/step - loss: 69.2495 - mse: 4872.5698\n",
            "Epoch 85/500\n",
            "1/1 [==============================] - 0s 14ms/step - loss: 29.3528 - mse: 870.0282\n",
            "Epoch 86/500\n",
            "1/1 [==============================] - 0s 15ms/step - loss: 97.0430 - mse: 9664.1191\n",
            "Epoch 87/500\n",
            "1/1 [==============================] - 0s 14ms/step - loss: 78.6994 - mse: 6297.0918\n",
            "Epoch 88/500\n",
            "1/1 [==============================] - 0s 14ms/step - loss: 59.3180 - mse: 3572.2031\n",
            "Epoch 89/500\n",
            "1/1 [==============================] - 0s 14ms/step - loss: 2.2021 - mse: 7.2568\n",
            "Epoch 90/500\n",
            "1/1 [==============================] - 0s 13ms/step - loss: 67.9779 - mse: 4694.8901\n",
            "Epoch 91/500\n",
            "1/1 [==============================] - 0s 12ms/step - loss: 25.3759 - mse: 649.3324\n",
            "Epoch 92/500\n",
            "1/1 [==============================] - 0s 15ms/step - loss: 109.5924 - mse: 12318.6152\n",
            "Epoch 93/500\n",
            "1/1 [==============================] - 0s 20ms/step - loss: 78.0695 - mse: 6196.5400\n",
            "Epoch 94/500\n",
            "1/1 [==============================] - 0s 18ms/step - loss: 57.3742 - mse: 3341.3196\n",
            "Epoch 95/500\n",
            "1/1 [==============================] - 0s 21ms/step - loss: 8.1800 - mse: 73.7576\n",
            "Epoch 96/500\n",
            "1/1 [==============================] - 0s 19ms/step - loss: 82.9655 - mse: 7000.0610\n",
            "Epoch 97/500\n",
            "1/1 [==============================] - 0s 21ms/step - loss: 72.9094 - mse: 5402.7729\n",
            "Epoch 98/500\n",
            "1/1 [==============================] - 0s 12ms/step - loss: 41.0670 - mse: 1708.0153\n",
            "Epoch 99/500\n",
            "1/1 [==============================] - 0s 15ms/step - loss: 59.8080 - mse: 3681.3823\n",
            "Epoch 100/500\n",
            "1/1 [==============================] - 0s 12ms/step - loss: 80.4492 - mse: 6581.0376\n",
            "Epoch 101/500\n",
            "1/1 [==============================] - 0s 11ms/step - loss: 64.9794 - mse: 4288.9312\n",
            "Epoch 102/500\n",
            "1/1 [==============================] - 0s 11ms/step - loss: 15.9830 - mse: 256.3519\n",
            "Epoch 103/500\n",
            "1/1 [==============================] - 0s 12ms/step - loss: 139.2467 - mse: 19869.8340\n",
            "Epoch 104/500\n",
            "1/1 [==============================] - 0s 18ms/step - loss: 76.5875 - mse: 5963.1274\n",
            "Epoch 105/500\n",
            "1/1 [==============================] - 0s 12ms/step - loss: 52.7867 - mse: 2826.9963\n",
            "Epoch 106/500\n",
            "1/1 [==============================] - 0s 11ms/step - loss: 22.6077 - mse: 533.5173\n",
            "Epoch 107/500\n",
            "1/1 [==============================] - 0s 14ms/step - loss: 82.2201 - mse: 6874.7158\n",
            "Epoch 108/500\n",
            "1/1 [==============================] - 0s 10ms/step - loss: 70.6557 - mse: 5073.2710\n",
            "Epoch 109/500\n",
            "1/1 [==============================] - 0s 11ms/step - loss: 34.0343 - mse: 1171.3669\n",
            "Epoch 110/500\n",
            "1/1 [==============================] - 0s 13ms/step - loss: 81.9836 - mse: 6902.8975\n",
            "Epoch 111/500\n",
            "1/1 [==============================] - 0s 11ms/step - loss: 79.3289 - mse: 6398.7783\n",
            "Epoch 112/500\n",
            "1/1 [==============================] - 0s 10ms/step - loss: 61.5381 - mse: 3845.6504\n",
            "Epoch 113/500\n",
            "1/1 [==============================] - 0s 26ms/step - loss: 5.1874 - mse: 27.3131\n",
            "Epoch 114/500\n",
            "1/1 [==============================] - 0s 13ms/step - loss: 173.3454 - mse: 30773.7500\n",
            "Epoch 115/500\n",
            "1/1 [==============================] - 0s 12ms/step - loss: 74.8905 - mse: 5701.3374\n",
            "Epoch 116/500\n",
            "1/1 [==============================] - 0s 18ms/step - loss: 47.5179 - mse: 2289.3186\n",
            "Epoch 117/500\n",
            "1/1 [==============================] - 0s 13ms/step - loss: 39.1939 - mse: 1587.5602\n",
            "Epoch 118/500\n",
            "1/1 [==============================] - 0s 12ms/step - loss: 81.3702 - mse: 6733.1743\n",
            "Epoch 119/500\n",
            "1/1 [==============================] - 0s 11ms/step - loss: 68.0712 - mse: 4708.1436\n",
            "Epoch 120/500\n",
            "1/1 [==============================] - 0s 15ms/step - loss: 25.9533 - mse: 679.4650\n",
            "Epoch 121/500\n",
            "1/1 [==============================] - 0s 13ms/step - loss: 107.4809 - mse: 11848.7861\n",
            "Epoch 122/500\n",
            "1/1 [==============================] - 0s 11ms/step - loss: 78.0480 - mse: 6193.4941\n",
            "Epoch 123/500\n",
            "1/1 [==============================] - 0s 14ms/step - loss: 57.5877 - mse: 3366.5859\n",
            "Epoch 124/500\n",
            "1/1 [==============================] - 0s 11ms/step - loss: 7.2214 - mse: 58.1801\n",
            "Epoch 125/500\n",
            "1/1 [==============================] - 0s 13ms/step - loss: 82.8882 - mse: 6987.4014\n",
            "Epoch 126/500\n",
            "1/1 [==============================] - 0s 11ms/step - loss: 72.9463 - mse: 5408.6079\n",
            "Epoch 127/500\n",
            "1/1 [==============================] - 0s 12ms/step - loss: 41.4657 - mse: 1741.6506\n",
            "Epoch 128/500\n",
            "1/1 [==============================] - 0s 11ms/step - loss: 58.2627 - mse: 3493.9478\n",
            "Epoch 129/500\n",
            "1/1 [==============================] - 0s 11ms/step - loss: 80.4002 - mse: 6573.4102\n",
            "Epoch 130/500\n",
            "1/1 [==============================] - 0s 11ms/step - loss: 65.1061 - mse: 4306.0405\n",
            "Epoch 131/500\n",
            "1/1 [==============================] - 0s 11ms/step - loss: 16.6666 - mse: 278.9130\n",
            "Epoch 132/500\n",
            "1/1 [==============================] - 0s 11ms/step - loss: 136.7986 - mse: 19177.5684\n",
            "Epoch 133/500\n",
            "1/1 [==============================] - 0s 10ms/step - loss: 76.5822 - mse: 5962.6787\n",
            "Epoch 134/500\n",
            "1/1 [==============================] - 0s 12ms/step - loss: 53.0518 - mse: 2855.8032\n",
            "Epoch 135/500\n",
            "1/1 [==============================] - 0s 11ms/step - loss: 21.4857 - mse: 482.3304\n",
            "Epoch 136/500\n",
            "1/1 [==============================] - 0s 21ms/step - loss: 82.1506 - mse: 6863.4937\n",
            "Epoch 137/500\n",
            "1/1 [==============================] - 0s 14ms/step - loss: 70.7176 - mse: 5082.5327\n",
            "Epoch 138/500\n",
            "1/1 [==============================] - 0s 14ms/step - loss: 34.5124 - mse: 1204.7924\n",
            "Epoch 139/500\n",
            "1/1 [==============================] - 0s 16ms/step - loss: 80.1868 - mse: 6603.9478\n",
            "Epoch 140/500\n",
            "1/1 [==============================] - 0s 15ms/step - loss: 79.2921 - mse: 6393.2241\n",
            "Epoch 141/500\n",
            "1/1 [==============================] - 0s 14ms/step - loss: 61.7034 - mse: 3866.6929\n",
            "Epoch 142/500\n",
            "1/1 [==============================] - 0s 14ms/step - loss: 5.9931 - mse: 36.1656\n",
            "Epoch 143/500\n",
            "1/1 [==============================] - 0s 15ms/step - loss: 170.5103 - mse: 29775.5684\n",
            "Epoch 144/500\n",
            "1/1 [==============================] - 0s 20ms/step - loss: 74.9040 - mse: 5703.7554\n",
            "Epoch 145/500\n",
            "1/1 [==============================] - 0s 15ms/step - loss: 47.8424 - mse: 2321.0132\n",
            "Epoch 146/500\n",
            "1/1 [==============================] - 0s 17ms/step - loss: 37.8839 - mse: 1483.5920\n",
            "Epoch 147/500\n",
            "1/1 [==============================] - 0s 18ms/step - loss: 81.3098 - mse: 6723.5752\n",
            "Epoch 148/500\n",
            "1/1 [==============================] - 0s 15ms/step - loss: 68.1619 - mse: 4721.0640\n",
            "Epoch 149/500\n",
            "1/1 [==============================] - 0s 15ms/step - loss: 26.5227 - mse: 709.8534\n",
            "Epoch 150/500\n",
            "1/1 [==============================] - 0s 15ms/step - loss: 105.3949 - mse: 11393.5889\n",
            "Epoch 151/500\n",
            "1/1 [==============================] - 0s 17ms/step - loss: 78.0252 - mse: 6190.2539\n",
            "Epoch 152/500\n",
            "1/1 [==============================] - 0s 10ms/step - loss: 57.7974 - mse: 3391.4883\n",
            "Epoch 153/500\n",
            "1/1 [==============================] - 0s 11ms/step - loss: 6.2752 - mse: 44.6557\n",
            "Epoch 154/500\n",
            "1/1 [==============================] - 0s 11ms/step - loss: 82.8102 - mse: 6974.6533\n",
            "Epoch 155/500\n",
            "1/1 [==============================] - 0s 10ms/step - loss: 72.9812 - mse: 5414.1641\n",
            "Epoch 156/500\n",
            "1/1 [==============================] - 0s 11ms/step - loss: 41.8584 - mse: 1775.1028\n",
            "Epoch 157/500\n",
            "1/1 [==============================] - 0s 9ms/step - loss: 56.7365 - mse: 3313.6333\n",
            "Epoch 158/500\n",
            "1/1 [==============================] - 0s 10ms/step - loss: 80.3503 - mse: 6565.6382\n",
            "Epoch 159/500\n",
            "1/1 [==============================] - 0s 11ms/step - loss: 65.2300 - mse: 4322.7979\n",
            "Epoch 160/500\n",
            "1/1 [==============================] - 0s 10ms/step - loss: 17.3409 - mse: 302.1132\n",
            "Epoch 161/500\n",
            "1/1 [==============================] - 0s 10ms/step - loss: 134.3799 - mse: 18505.6367\n",
            "Epoch 162/500\n",
            "1/1 [==============================] - 0s 11ms/step - loss: 76.5755 - mse: 5962.0103\n",
            "Epoch 163/500\n",
            "1/1 [==============================] - 0s 10ms/step - loss: 53.3125 - mse: 2884.2695\n",
            "Epoch 164/500\n",
            "1/1 [==============================] - 0s 12ms/step - loss: 20.3779 - mse: 434.3276\n",
            "Epoch 165/500\n",
            "1/1 [==============================] - 0s 10ms/step - loss: 82.0805 - mse: 6852.1665\n",
            "Epoch 166/500\n",
            "1/1 [==============================] - 0s 11ms/step - loss: 70.7773 - mse: 5091.4888\n",
            "Epoch 167/500\n",
            "1/1 [==============================] - 0s 11ms/step - loss: 34.9836 - mse: 1238.1989\n",
            "Epoch 168/500\n",
            "1/1 [==============================] - 0s 12ms/step - loss: 78.4120 - mse: 6315.1348\n",
            "Epoch 169/500\n",
            "1/1 [==============================] - 0s 15ms/step - loss: 79.2542 - mse: 6387.5010\n",
            "Epoch 170/500\n",
            "1/1 [==============================] - 0s 18ms/step - loss: 61.8654 - mse: 3887.3706\n",
            "Epoch 171/500\n",
            "1/1 [==============================] - 0s 30ms/step - loss: 6.7883 - mse: 46.2113\n",
            "Epoch 172/500\n",
            "1/1 [==============================] - 0s 14ms/step - loss: 167.7090 - mse: 28805.4102\n",
            "Epoch 173/500\n",
            "1/1 [==============================] - 0s 14ms/step - loss: 74.9158 - mse: 5705.9268\n",
            "Epoch 174/500\n",
            "1/1 [==============================] - 0s 14ms/step - loss: 48.1617 - mse: 2352.4211\n",
            "Epoch 175/500\n",
            "1/1 [==============================] - 0s 16ms/step - loss: 36.5903 - mse: 1384.3752\n",
            "Epoch 176/500\n",
            "1/1 [==============================] - 0s 15ms/step - loss: 81.2487 - mse: 6713.8516\n",
            "Epoch 177/500\n",
            "1/1 [==============================] - 0s 15ms/step - loss: 68.2501 - mse: 4733.6548\n",
            "Epoch 178/500\n",
            "1/1 [==============================] - 0s 15ms/step - loss: 27.0841 - mse: 740.4747\n",
            "Epoch 179/500\n",
            "1/1 [==============================] - 0s 15ms/step - loss: 103.3340 - mse: 10952.6338\n",
            "Epoch 180/500\n",
            "1/1 [==============================] - 0s 22ms/step - loss: 78.0011 - mse: 6186.8213\n",
            "Epoch 181/500\n",
            "1/1 [==============================] - 0s 19ms/step - loss: 58.0032 - mse: 3416.0278\n",
            "Epoch 182/500\n",
            "1/1 [==============================] - 0s 12ms/step - loss: 5.3412 - mse: 33.1106\n",
            "Epoch 183/500\n",
            "1/1 [==============================] - 0s 12ms/step - loss: 82.7317 - mse: 6961.8174\n",
            "Epoch 184/500\n",
            "1/1 [==============================] - 0s 11ms/step - loss: 73.0143 - mse: 5419.4448\n",
            "Epoch 185/500\n",
            "1/1 [==============================] - 0s 14ms/step - loss: 42.2452 - mse: 1808.3646\n",
            "Epoch 186/500\n",
            "1/1 [==============================] - 0s 12ms/step - loss: 55.2291 - mse: 3140.2271\n",
            "Epoch 187/500\n",
            "1/1 [==============================] - 0s 12ms/step - loss: 80.2995 - mse: 6557.7217\n",
            "Epoch 188/500\n",
            "1/1 [==============================] - 0s 12ms/step - loss: 65.3509 - mse: 4339.2036\n",
            "Epoch 189/500\n",
            "1/1 [==============================] - 0s 11ms/step - loss: 18.0062 - mse: 325.9177\n",
            "Epoch 190/500\n",
            "1/1 [==============================] - 0s 12ms/step - loss: 131.9902 - mse: 17853.5215\n",
            "Epoch 191/500\n",
            "1/1 [==============================] - 0s 13ms/step - loss: 76.5674 - mse: 5961.1235\n",
            "Epoch 192/500\n",
            "1/1 [==============================] - 0s 11ms/step - loss: 53.5687 - mse: 2912.3940\n",
            "Epoch 193/500\n",
            "1/1 [==============================] - 0s 11ms/step - loss: 19.2841 - mse: 389.4062\n",
            "Epoch 194/500\n",
            "1/1 [==============================] - 0s 16ms/step - loss: 82.0097 - mse: 6840.7344\n",
            "Epoch 195/500\n",
            "1/1 [==============================] - 0s 21ms/step - loss: 70.8349 - mse: 5100.1416\n",
            "Epoch 196/500\n",
            "1/1 [==============================] - 0s 15ms/step - loss: 35.4479 - mse: 1271.5729\n",
            "Epoch 197/500\n",
            "1/1 [==============================] - 0s 15ms/step - loss: 76.6588 - mse: 6036.1797\n",
            "Epoch 198/500\n",
            "1/1 [==============================] - 0s 15ms/step - loss: 79.2153 - mse: 6381.6128\n",
            "Epoch 199/500\n",
            "1/1 [==============================] - 0s 16ms/step - loss: 62.0240 - mse: 3907.6860\n",
            "Epoch 200/500\n",
            "1/1 [==============================] - 0s 27ms/step - loss: 7.5729 - mse: 57.3998\n",
            "Epoch 201/500\n",
            "1/1 [==============================] - 0s 15ms/step - loss: 164.9409 - mse: 27862.5566\n",
            "Epoch 202/500\n",
            "1/1 [==============================] - 0s 19ms/step - loss: 74.9259 - mse: 5707.8525\n",
            "Epoch 203/500\n",
            "1/1 [==============================] - 0s 14ms/step - loss: 48.4759 - mse: 2383.5383\n",
            "Epoch 204/500\n",
            "1/1 [==============================] - 0s 12ms/step - loss: 35.3128 - mse: 1289.7657\n",
            "Epoch 205/500\n",
            "1/1 [==============================] - 0s 23ms/step - loss: 81.1868 - mse: 6704.0078\n",
            "Epoch 206/500\n",
            "1/1 [==============================] - 0s 25ms/step - loss: 68.3358 - mse: 4745.9170\n",
            "Epoch 207/500\n",
            "1/1 [==============================] - 0s 15ms/step - loss: 27.6376 - mse: 771.3063\n",
            "Epoch 208/500\n",
            "1/1 [==============================] - 0s 13ms/step - loss: 101.2981 - mse: 10525.5410\n",
            "Epoch 209/500\n",
            "1/1 [==============================] - 0s 16ms/step - loss: 77.9759 - mse: 6183.1987\n",
            "Epoch 210/500\n",
            "1/1 [==============================] - 0s 22ms/step - loss: 58.2052 - mse: 3440.2046\n",
            "Epoch 211/500\n",
            "1/1 [==============================] - 0s 15ms/step - loss: 4.4193 - mse: 23.4729\n",
            "Epoch 212/500\n",
            "1/1 [==============================] - 0s 11ms/step - loss: 82.6526 - mse: 6948.8945\n",
            "Epoch 213/500\n",
            "1/1 [==============================] - 0s 14ms/step - loss: 73.0455 - mse: 5424.4536\n",
            "Epoch 214/500\n",
            "1/1 [==============================] - 0s 13ms/step - loss: 42.6260 - mse: 1841.4285\n",
            "Epoch 215/500\n",
            "1/1 [==============================] - 0s 14ms/step - loss: 53.7404 - mse: 2973.5278\n",
            "Epoch 216/500\n",
            "1/1 [==============================] - 0s 14ms/step - loss: 80.2478 - mse: 6549.6641\n",
            "Epoch 217/500\n",
            "1/1 [==============================] - 0s 10ms/step - loss: 65.4690 - mse: 4355.2607\n",
            "Epoch 218/500\n",
            "1/1 [==============================] - 0s 10ms/step - loss: 18.6623 - mse: 350.2938\n",
            "Epoch 219/500\n",
            "1/1 [==============================] - 0s 11ms/step - loss: 129.6291 - mse: 17220.6914\n",
            "Epoch 220/500\n",
            "1/1 [==============================] - 0s 13ms/step - loss: 76.5579 - mse: 5960.0215\n",
            "Epoch 221/500\n",
            "1/1 [==============================] - 0s 12ms/step - loss: 53.8205 - mse: 2940.1753\n",
            "Epoch 222/500\n",
            "1/1 [==============================] - 0s 11ms/step - loss: 18.2043 - mse: 347.4647\n",
            "Epoch 223/500\n",
            "1/1 [==============================] - 0s 11ms/step - loss: 81.9382 - mse: 6829.2017\n",
            "Epoch 224/500\n",
            "1/1 [==============================] - 0s 11ms/step - loss: 70.8903 - mse: 5108.4956\n",
            "Epoch 225/500\n",
            "1/1 [==============================] - 0s 21ms/step - loss: 35.9055 - mse: 1304.9006\n",
            "Epoch 226/500\n",
            "1/1 [==============================] - 0s 20ms/step - loss: 74.9270 - mse: 5766.8115\n",
            "Epoch 227/500\n",
            "1/1 [==============================] - 0s 15ms/step - loss: 79.1754 - mse: 6375.5610\n",
            "Epoch 228/500\n",
            "1/1 [==============================] - 0s 17ms/step - loss: 62.1794 - mse: 3927.6392\n",
            "Epoch 229/500\n",
            "1/1 [==============================] - 0s 15ms/step - loss: 8.3471 - mse: 69.6825\n",
            "Epoch 230/500\n",
            "1/1 [==============================] - 0s 17ms/step - loss: 162.2058 - mse: 26946.3223\n",
            "Epoch 231/500\n",
            "1/1 [==============================] - 0s 16ms/step - loss: 74.9345 - mse: 5709.5361\n",
            "Epoch 232/500\n",
            "1/1 [==============================] - 0s 24ms/step - loss: 48.7850 - mse: 2414.3604\n",
            "Epoch 233/500\n",
            "1/1 [==============================] - 0s 11ms/step - loss: 34.0513 - mse: 1199.6260\n",
            "Epoch 234/500\n",
            "1/1 [==============================] - 0s 12ms/step - loss: 81.1241 - mse: 6694.0420\n",
            "Epoch 235/500\n",
            "1/1 [==============================] - 0s 12ms/step - loss: 68.4191 - mse: 4757.8545\n",
            "Epoch 236/500\n",
            "1/1 [==============================] - 0s 11ms/step - loss: 28.1834 - mse: 802.3271\n",
            "Epoch 237/500\n",
            "1/1 [==============================] - 0s 12ms/step - loss: 99.2868 - mse: 10111.9443\n",
            "Epoch 238/500\n",
            "1/1 [==============================] - 0s 12ms/step - loss: 77.9495 - mse: 6179.3892\n",
            "Epoch 239/500\n",
            "1/1 [==============================] - 0s 11ms/step - loss: 58.4034 - mse: 3464.0190\n",
            "Epoch 240/500\n",
            "1/1 [==============================] - 0s 12ms/step - loss: 3.5093 - mse: 15.6734\n",
            "Epoch 241/500\n",
            "1/1 [==============================] - 0s 12ms/step - loss: 82.5729 - mse: 6935.8877\n",
            "Epoch 242/500\n",
            "1/1 [==============================] - 0s 10ms/step - loss: 73.0749 - mse: 5429.1924\n",
            "Epoch 243/500\n",
            "1/1 [==============================] - 0s 9ms/step - loss: 43.0011 - mse: 1874.2859\n",
            "Epoch 244/500\n",
            "1/1 [==============================] - 0s 12ms/step - loss: 52.2700 - mse: 2813.3496\n",
            "Epoch 245/500\n",
            "1/1 [==============================] - 0s 9ms/step - loss: 80.1952 - mse: 6541.4658\n",
            "Epoch 246/500\n",
            "1/1 [==============================] - 0s 10ms/step - loss: 65.5843 - mse: 4370.9722\n",
            "Epoch 247/500\n",
            "1/1 [==============================] - 0s 20ms/step - loss: 19.3096 - mse: 375.2085\n",
            "Epoch 248/500\n",
            "1/1 [==============================] - 0s 15ms/step - loss: 127.2963 - mse: 16606.6582\n",
            "Epoch 249/500\n",
            "1/1 [==============================] - 0s 17ms/step - loss: 76.5470 - mse: 5958.7061\n",
            "Epoch 250/500\n",
            "1/1 [==============================] - 0s 21ms/step - loss: 54.0680 - mse: 2967.6118\n",
            "Epoch 251/500\n",
            "1/1 [==============================] - 0s 13ms/step - loss: 17.1382 - mse: 308.4052\n",
            "Epoch 252/500\n",
            "1/1 [==============================] - 0s 16ms/step - loss: 81.8661 - mse: 6817.5674\n",
            "Epoch 253/500\n",
            "1/1 [==============================] - 0s 17ms/step - loss: 70.9437 - mse: 5116.5518\n",
            "Epoch 254/500\n",
            "1/1 [==============================] - 0s 14ms/step - loss: 36.3563 - mse: 1338.1681\n",
            "Epoch 255/500\n",
            "1/1 [==============================] - 0s 15ms/step - loss: 73.2163 - mse: 5506.7666\n",
            "Epoch 256/500\n",
            "1/1 [==============================] - 0s 15ms/step - loss: 79.1344 - mse: 6369.3467\n",
            "Epoch 257/500\n",
            "1/1 [==============================] - 0s 15ms/step - loss: 62.3315 - mse: 3947.2319\n",
            "Epoch 258/500\n",
            "1/1 [==============================] - 0s 15ms/step - loss: 9.1110 - mse: 83.0118\n",
            "Epoch 259/500\n",
            "1/1 [==============================] - 0s 31ms/step - loss: 159.5033 - mse: 26056.0469\n",
            "Epoch 260/500\n",
            "1/1 [==============================] - 0s 13ms/step - loss: 74.9415 - mse: 5710.9795\n",
            "Epoch 261/500\n",
            "1/1 [==============================] - 0s 22ms/step - loss: 49.0892 - mse: 2444.8818\n",
            "Epoch 262/500\n",
            "1/1 [==============================] - 0s 23ms/step - loss: 32.8057 - mse: 1113.8210\n",
            "Epoch 263/500\n",
            "1/1 [==============================] - 0s 19ms/step - loss: 81.0606 - mse: 6683.9595\n",
            "Epoch 264/500\n",
            "1/1 [==============================] - 0s 16ms/step - loss: 68.4999 - mse: 4769.4688\n",
            "Epoch 265/500\n",
            "1/1 [==============================] - 0s 22ms/step - loss: 28.7215 - mse: 833.5143\n",
            "Epoch 266/500\n",
            "1/1 [==============================] - 0s 22ms/step - loss: 97.2998 - mse: 9711.4971\n",
            "Epoch 267/500\n",
            "1/1 [==============================] - 0s 25ms/step - loss: 77.9219 - mse: 6175.3940\n",
            "Epoch 268/500\n",
            "1/1 [==============================] - 0s 25ms/step - loss: 58.5978 - mse: 3487.4707\n",
            "Epoch 269/500\n",
            "1/1 [==============================] - 0s 21ms/step - loss: 2.6157 - mse: 9.6444\n",
            "Epoch 270/500\n",
            "1/1 [==============================] - 0s 14ms/step - loss: 76.4822 - mse: 5948.8633\n",
            "Epoch 271/500\n",
            "1/1 [==============================] - 0s 11ms/step - loss: 54.0620 - mse: 2967.1362\n",
            "Epoch 272/500\n",
            "1/1 [==============================] - 0s 32ms/step - loss: 16.9576 - mse: 301.9407\n",
            "Epoch 273/500\n",
            "1/1 [==============================] - 0s 14ms/step - loss: 81.7873 - mse: 6804.7109\n",
            "Epoch 274/500\n",
            "1/1 [==============================] - 0s 11ms/step - loss: 70.8935 - mse: 5109.5430\n",
            "Epoch 275/500\n",
            "1/1 [==============================] - 0s 14ms/step - loss: 36.3967 - mse: 1341.2656\n",
            "Epoch 276/500\n",
            "1/1 [==============================] - 0s 14ms/step - loss: 72.8888 - mse: 5457.4199\n",
            "Epoch 277/500\n",
            "1/1 [==============================] - 0s 20ms/step - loss: 79.0627 - mse: 6358.0649\n",
            "Epoch 278/500\n",
            "1/1 [==============================] - 0s 15ms/step - loss: 62.3038 - mse: 3943.9292\n",
            "Epoch 279/500\n",
            "1/1 [==============================] - 0s 30ms/step - loss: 9.2227 - mse: 85.0635\n",
            "Epoch 280/500\n",
            "1/1 [==============================] - 0s 26ms/step - loss: 158.9498 - mse: 25875.0410\n",
            "Epoch 281/500\n",
            "1/1 [==============================] - 0s 29ms/step - loss: 74.8808 - mse: 5701.9644\n",
            "Epoch 282/500\n",
            "1/1 [==============================] - 0s 33ms/step - loss: 49.0961 - mse: 2445.7375\n",
            "Epoch 283/500\n",
            "1/1 [==============================] - 0s 26ms/step - loss: 32.5841 - mse: 1098.7694\n",
            "Epoch 284/500\n",
            "1/1 [==============================] - 0s 25ms/step - loss: 80.9838 - mse: 6671.5562\n",
            "Epoch 285/500\n",
            "1/1 [==============================] - 0s 17ms/step - loss: 68.4560 - mse: 4763.5752\n",
            "Epoch 286/500\n",
            "1/1 [==============================] - 0s 33ms/step - loss: 28.7818 - mse: 837.1124\n",
            "Epoch 287/500\n",
            "1/1 [==============================] - 0s 24ms/step - loss: 96.9093 - mse: 9633.4424\n",
            "Epoch 288/500\n",
            "1/1 [==============================] - 0s 21ms/step - loss: 77.8532 - mse: 6164.7686\n",
            "Epoch 289/500\n",
            "1/1 [==============================] - 0s 17ms/step - loss: 58.5798 - mse: 3485.5171\n",
            "Epoch 290/500\n",
            "1/1 [==============================] - 0s 17ms/step - loss: 2.4910 - mse: 8.8063\n",
            "Epoch 291/500\n",
            "1/1 [==============================] - 0s 23ms/step - loss: 76.4173 - mse: 5939.0156\n",
            "Epoch 292/500\n",
            "1/1 [==============================] - 0s 20ms/step - loss: 54.0558 - mse: 2966.6335\n",
            "Epoch 293/500\n",
            "1/1 [==============================] - 0s 18ms/step - loss: 16.7778 - mse: 295.5714\n",
            "Epoch 294/500\n",
            "1/1 [==============================] - 0s 19ms/step - loss: 81.7084 - mse: 6791.8608\n",
            "Epoch 295/500\n",
            "1/1 [==============================] - 0s 16ms/step - loss: 70.8431 - mse: 5102.5205\n",
            "Epoch 296/500\n",
            "1/1 [==============================] - 0s 20ms/step - loss: 36.4368 - mse: 1344.3389\n",
            "Epoch 297/500\n",
            "1/1 [==============================] - 0s 21ms/step - loss: 72.5625 - mse: 5408.4795\n",
            "Epoch 298/500\n",
            "1/1 [==============================] - 0s 19ms/step - loss: 78.9910 - mse: 6346.7842\n",
            "Epoch 299/500\n",
            "1/1 [==============================] - 0s 18ms/step - loss: 62.2759 - mse: 3940.6047\n",
            "Epoch 300/500\n",
            "1/1 [==============================] - 0s 27ms/step - loss: 9.3339 - mse: 87.1312\n",
            "Epoch 301/500\n",
            "1/1 [==============================] - 0s 21ms/step - loss: 158.3980 - mse: 25695.2793\n",
            "Epoch 302/500\n",
            "1/1 [==============================] - 0s 15ms/step - loss: 74.8199 - mse: 5692.9429\n",
            "Epoch 303/500\n",
            "1/1 [==============================] - 0s 13ms/step - loss: 49.1028 - mse: 2446.5657\n",
            "Epoch 304/500\n",
            "1/1 [==============================] - 0s 23ms/step - loss: 32.3635 - mse: 1083.8811\n",
            "Epoch 305/500\n",
            "1/1 [==============================] - 0s 12ms/step - loss: 80.9069 - mse: 6659.1577\n",
            "Epoch 306/500\n",
            "1/1 [==============================] - 0s 18ms/step - loss: 68.4119 - mse: 4757.6665\n",
            "Epoch 307/500\n",
            "1/1 [==============================] - 0s 17ms/step - loss: 28.8416 - mse: 840.6929\n",
            "Epoch 308/500\n",
            "1/1 [==============================] - 0s 20ms/step - loss: 96.5202 - mse: 9555.9756\n",
            "Epoch 309/500\n",
            "1/1 [==============================] - 0s 17ms/step - loss: 77.7845 - mse: 6154.1421\n",
            "Epoch 310/500\n",
            "1/1 [==============================] - 0s 16ms/step - loss: 58.5615 - mse: 3483.5378\n",
            "Epoch 311/500\n",
            "1/1 [==============================] - 0s 13ms/step - loss: 2.3669 - mse: 8.0145\n",
            "Epoch 312/500\n",
            "1/1 [==============================] - 0s 16ms/step - loss: 76.3523 - mse: 5929.1650\n",
            "Epoch 313/500\n",
            "1/1 [==============================] - 0s 17ms/step - loss: 54.0493 - mse: 2966.1040\n",
            "Epoch 314/500\n",
            "1/1 [==============================] - 0s 21ms/step - loss: 16.5987 - mse: 289.2969\n",
            "Epoch 315/500\n",
            "1/1 [==============================] - 0s 20ms/step - loss: 81.6295 - mse: 6779.0181\n",
            "Epoch 316/500\n",
            "1/1 [==============================] - 0s 16ms/step - loss: 70.7927 - mse: 5095.4873\n",
            "Epoch 317/500\n",
            "1/1 [==============================] - 0s 25ms/step - loss: 36.4764 - mse: 1347.3884\n",
            "Epoch 318/500\n",
            "1/1 [==============================] - 0s 12ms/step - loss: 72.2374 - mse: 5359.9351\n",
            "Epoch 319/500\n",
            "1/1 [==============================] - 0s 17ms/step - loss: 78.9191 - mse: 6335.5049\n",
            "Epoch 320/500\n",
            "1/1 [==============================] - 0s 16ms/step - loss: 62.2479 - mse: 3937.2590\n",
            "Epoch 321/500\n",
            "1/1 [==============================] - 0s 13ms/step - loss: 9.4445 - mse: 89.2142\n",
            "Epoch 322/500\n",
            "1/1 [==============================] - 0s 22ms/step - loss: 157.8482 - mse: 25516.7305\n",
            "Epoch 323/500\n",
            "1/1 [==============================] - 0s 25ms/step - loss: 74.7590 - mse: 5683.9165\n",
            "Epoch 324/500\n",
            "1/1 [==============================] - 0s 20ms/step - loss: 49.1092 - mse: 2447.3662\n",
            "Epoch 325/500\n",
            "1/1 [==============================] - 0s 15ms/step - loss: 32.1438 - mse: 1069.1520\n",
            "Epoch 326/500\n",
            "1/1 [==============================] - 0s 18ms/step - loss: 80.8300 - mse: 6646.7656\n",
            "Epoch 327/500\n",
            "1/1 [==============================] - 0s 18ms/step - loss: 68.3677 - mse: 4751.7432\n",
            "Epoch 328/500\n",
            "1/1 [==============================] - 0s 17ms/step - loss: 28.9010 - mse: 844.2567\n",
            "Epoch 329/500\n",
            "1/1 [==============================] - 0s 15ms/step - loss: 96.1325 - mse: 9479.0889\n",
            "Epoch 330/500\n",
            "1/1 [==============================] - 0s 15ms/step - loss: 77.7157 - mse: 6143.5151\n",
            "Epoch 331/500\n",
            "1/1 [==============================] - 0s 25ms/step - loss: 58.5431 - mse: 3481.5352\n",
            "Epoch 332/500\n",
            "1/1 [==============================] - 0s 25ms/step - loss: 2.2433 - mse: 7.2685\n",
            "Epoch 333/500\n",
            "1/1 [==============================] - 0s 25ms/step - loss: 76.2872 - mse: 5919.3105\n",
            "Epoch 334/500\n",
            "1/1 [==============================] - 0s 30ms/step - loss: 54.0426 - mse: 2965.5483\n",
            "Epoch 335/500\n",
            "1/1 [==============================] - 0s 54ms/step - loss: 16.4204 - mse: 283.1157\n",
            "Epoch 336/500\n",
            "1/1 [==============================] - 0s 42ms/step - loss: 81.5506 - mse: 6766.1807\n",
            "Epoch 337/500\n",
            "1/1 [==============================] - 0s 34ms/step - loss: 70.7421 - mse: 5088.4414\n",
            "Epoch 338/500\n",
            "1/1 [==============================] - 0s 17ms/step - loss: 36.5157 - mse: 1350.4141\n",
            "Epoch 339/500\n",
            "1/1 [==============================] - 0s 23ms/step - loss: 71.9135 - mse: 5311.7842\n",
            "Epoch 340/500\n",
            "1/1 [==============================] - 0s 24ms/step - loss: 78.8473 - mse: 6324.2261\n",
            "Epoch 341/500\n",
            "1/1 [==============================] - 0s 21ms/step - loss: 62.2196 - mse: 3933.8921\n",
            "Epoch 342/500\n",
            "1/1 [==============================] - 0s 23ms/step - loss: 9.5545 - mse: 91.3126\n",
            "Epoch 343/500\n",
            "1/1 [==============================] - 0s 15ms/step - loss: 157.3001 - mse: 25339.3887\n",
            "Epoch 344/500\n",
            "1/1 [==============================] - 0s 19ms/step - loss: 74.6979 - mse: 5674.8828\n",
            "Epoch 345/500\n",
            "1/1 [==============================] - 0s 18ms/step - loss: 49.1153 - mse: 2448.1389\n",
            "Epoch 346/500\n",
            "1/1 [==============================] - 0s 19ms/step - loss: 31.9249 - mse: 1054.5830\n",
            "Epoch 347/500\n",
            "1/1 [==============================] - 0s 24ms/step - loss: 80.7530 - mse: 6634.3765\n",
            "Epoch 348/500\n",
            "1/1 [==============================] - 0s 17ms/step - loss: 68.3233 - mse: 4745.8047\n",
            "Epoch 349/500\n",
            "1/1 [==============================] - 0s 20ms/step - loss: 28.9600 - mse: 847.8029\n",
            "Epoch 350/500\n",
            "1/1 [==============================] - 0s 26ms/step - loss: 95.7461 - mse: 9402.7832\n",
            "Epoch 351/500\n",
            "1/1 [==============================] - 0s 17ms/step - loss: 77.6468 - mse: 6132.8867\n",
            "Epoch 352/500\n",
            "1/1 [==============================] - 0s 16ms/step - loss: 58.5244 - mse: 3479.5073\n",
            "Epoch 353/500\n",
            "1/1 [==============================] - 0s 18ms/step - loss: 2.1203 - mse: 6.5676\n",
            "Epoch 354/500\n",
            "1/1 [==============================] - 0s 17ms/step - loss: 76.2220 - mse: 5909.4531\n",
            "Epoch 355/500\n",
            "1/1 [==============================] - 0s 25ms/step - loss: 54.0357 - mse: 2964.9663\n",
            "Epoch 356/500\n",
            "1/1 [==============================] - 0s 12ms/step - loss: 16.2429 - mse: 277.0274\n",
            "Epoch 357/500\n",
            "1/1 [==============================] - 0s 20ms/step - loss: 81.4716 - mse: 6753.3491\n",
            "Epoch 358/500\n",
            "1/1 [==============================] - 0s 15ms/step - loss: 70.6914 - mse: 5081.3838\n",
            "Epoch 359/500\n",
            "1/1 [==============================] - 0s 14ms/step - loss: 36.5546 - mse: 1353.4159\n",
            "Epoch 360/500\n",
            "1/1 [==============================] - 0s 21ms/step - loss: 71.5907 - mse: 5264.0234\n",
            "Epoch 361/500\n",
            "1/1 [==============================] - 0s 20ms/step - loss: 78.7753 - mse: 6312.9482\n",
            "Epoch 362/500\n",
            "1/1 [==============================] - 0s 13ms/step - loss: 62.1912 - mse: 3930.5034\n",
            "Epoch 363/500\n",
            "1/1 [==============================] - 0s 17ms/step - loss: 9.6639 - mse: 93.4259\n",
            "Epoch 364/500\n",
            "1/1 [==============================] - 0s 23ms/step - loss: 156.7539 - mse: 25163.2559\n",
            "Epoch 365/500\n",
            "1/1 [==============================] - 0s 16ms/step - loss: 74.6368 - mse: 5665.8438\n",
            "Epoch 366/500\n",
            "1/1 [==============================] - 0s 16ms/step - loss: 49.1211 - mse: 2448.8840\n",
            "Epoch 367/500\n",
            "1/1 [==============================] - 0s 17ms/step - loss: 31.7070 - mse: 1040.1715\n",
            "Epoch 368/500\n",
            "1/1 [==============================] - 0s 20ms/step - loss: 80.6760 - mse: 6621.9932\n",
            "Epoch 369/500\n",
            "1/1 [==============================] - 0s 19ms/step - loss: 68.2789 - mse: 4739.8506\n",
            "Epoch 370/500\n",
            "1/1 [==============================] - 0s 25ms/step - loss: 29.0185 - mse: 851.3312\n",
            "Epoch 371/500\n",
            "1/1 [==============================] - 0s 19ms/step - loss: 95.3612 - mse: 9327.0566\n",
            "Epoch 372/500\n",
            "1/1 [==============================] - 0s 17ms/step - loss: 77.5779 - mse: 6122.2573\n",
            "Epoch 373/500\n",
            "1/1 [==============================] - 0s 20ms/step - loss: 58.5055 - mse: 3477.4570\n",
            "Epoch 374/500\n",
            "1/1 [==============================] - 0s 19ms/step - loss: 1.9979 - mse: 5.9113\n",
            "Epoch 375/500\n",
            "1/1 [==============================] - 0s 15ms/step - loss: 76.1568 - mse: 5899.5918\n",
            "Epoch 376/500\n",
            "1/1 [==============================] - 0s 19ms/step - loss: 54.0285 - mse: 2964.3582\n",
            "Epoch 377/500\n",
            "1/1 [==============================] - 0s 16ms/step - loss: 16.0662 - mse: 271.0311\n",
            "Epoch 378/500\n",
            "1/1 [==============================] - 0s 16ms/step - loss: 81.3926 - mse: 6740.5244\n",
            "Epoch 379/500\n",
            "1/1 [==============================] - 0s 11ms/step - loss: 70.6406 - mse: 5074.3145\n",
            "Epoch 380/500\n",
            "1/1 [==============================] - 0s 22ms/step - loss: 36.5931 - mse: 1356.3926\n",
            "Epoch 381/500\n",
            "1/1 [==============================] - 0s 13ms/step - loss: 71.2692 - mse: 5216.6553\n",
            "Epoch 382/500\n",
            "1/1 [==============================] - 0s 26ms/step - loss: 78.7033 - mse: 6301.6729\n",
            "Epoch 383/500\n",
            "1/1 [==============================] - 0s 19ms/step - loss: 62.1626 - mse: 3927.0938\n",
            "Epoch 384/500\n",
            "1/1 [==============================] - 0s 14ms/step - loss: 9.7727 - mse: 95.5534\n",
            "Epoch 385/500\n",
            "1/1 [==============================] - 0s 15ms/step - loss: 156.2095 - mse: 24988.3340\n",
            "Epoch 386/500\n",
            "1/1 [==============================] - 0s 11ms/step - loss: 74.5756 - mse: 5656.7983\n",
            "Epoch 387/500\n",
            "1/1 [==============================] - 0s 13ms/step - loss: 49.1266 - mse: 2449.6021\n",
            "Epoch 388/500\n",
            "1/1 [==============================] - 0s 15ms/step - loss: 31.4899 - mse: 1025.9165\n",
            "Epoch 389/500\n",
            "1/1 [==============================] - 0s 13ms/step - loss: 80.5990 - mse: 6609.6143\n",
            "Epoch 390/500\n",
            "1/1 [==============================] - 0s 14ms/step - loss: 68.2342 - mse: 4733.8828\n",
            "Epoch 391/500\n",
            "1/1 [==============================] - 0s 16ms/step - loss: 29.0766 - mse: 854.8426\n",
            "Epoch 392/500\n",
            "1/1 [==============================] - 0s 17ms/step - loss: 94.9775 - mse: 9251.8955\n",
            "Epoch 393/500\n",
            "1/1 [==============================] - 0s 13ms/step - loss: 77.5089 - mse: 6111.6274\n",
            "Epoch 394/500\n",
            "1/1 [==============================] - 0s 15ms/step - loss: 58.4864 - mse: 3475.3821\n",
            "Epoch 395/500\n",
            "1/1 [==============================] - 0s 19ms/step - loss: 1.8820 - mse: 5.2989\n",
            "Epoch 396/500\n",
            "1/1 [==============================] - 0s 19ms/step - loss: 66.9857 - mse: 4561.9058\n",
            "Epoch 397/500\n",
            "1/1 [==============================] - 0s 24ms/step - loss: 25.1726 - mse: 639.8751\n",
            "Epoch 398/500\n",
            "1/1 [==============================] - 0s 20ms/step - loss: 107.2960 - mse: 11801.9238\n",
            "Epoch 399/500\n",
            "1/1 [==============================] - 0s 15ms/step - loss: 76.8902 - mse: 6014.3218\n",
            "Epoch 400/500\n",
            "1/1 [==============================] - 0s 16ms/step - loss: 56.5780 - mse: 3251.7651\n",
            "Epoch 401/500\n",
            "1/1 [==============================] - 0s 21ms/step - loss: 7.7622 - mse: 65.7943\n",
            "Epoch 402/500\n",
            "1/1 [==============================] - 0s 27ms/step - loss: 81.6953 - mse: 6791.1860\n",
            "Epoch 403/500\n",
            "1/1 [==============================] - 0s 17ms/step - loss: 71.8253 - mse: 5246.6172\n",
            "Epoch 404/500\n",
            "1/1 [==============================] - 0s 21ms/step - loss: 40.5725 - mse: 1668.8422\n",
            "Epoch 405/500\n",
            "1/1 [==============================] - 0s 17ms/step - loss: 58.4342 - mse: 3510.8738\n",
            "Epoch 406/500\n",
            "1/1 [==============================] - 0s 29ms/step - loss: 79.2252 - mse: 6386.0127\n",
            "Epoch 407/500\n",
            "1/1 [==============================] - 0s 15ms/step - loss: 64.0418 - mse: 4168.9756\n",
            "Epoch 408/500\n",
            "1/1 [==============================] - 0s 18ms/step - loss: 15.9527 - mse: 255.7951\n",
            "Epoch 409/500\n",
            "1/1 [==============================] - 0s 18ms/step - loss: 136.4019 - mse: 19058.8965\n",
            "Epoch 410/500\n",
            "1/1 [==============================] - 0s 21ms/step - loss: 75.4347 - mse: 5788.4717\n",
            "Epoch 411/500\n",
            "1/1 [==============================] - 0s 18ms/step - loss: 52.0745 - mse: 2753.5422\n",
            "Epoch 412/500\n",
            "1/1 [==============================] - 0s 24ms/step - loss: 21.9236 - mse: 500.2904\n",
            "Epoch 413/500\n",
            "1/1 [==============================] - 0s 19ms/step - loss: 80.9627 - mse: 6669.8584\n",
            "Epoch 414/500\n",
            "1/1 [==============================] - 0s 16ms/step - loss: 69.6124 - mse: 4927.7656\n",
            "Epoch 415/500\n",
            "1/1 [==============================] - 0s 36ms/step - loss: 33.6692 - mse: 1147.7219\n",
            "Epoch 416/500\n",
            "1/1 [==============================] - 0s 55ms/step - loss: 80.2000 - mse: 6601.3623\n",
            "Epoch 417/500\n",
            "1/1 [==============================] - 0s 28ms/step - loss: 78.1248 - mse: 6209.6475\n",
            "Epoch 418/500\n",
            "1/1 [==============================] - 0s 20ms/step - loss: 60.6633 - mse: 3739.8457\n",
            "Epoch 419/500\n",
            "1/1 [==============================] - 0s 19ms/step - loss: 5.3562 - mse: 28.8570\n",
            "Epoch 420/500\n",
            "1/1 [==============================] - 0s 15ms/step - loss: 169.8700 - mse: 29543.0586\n",
            "Epoch 421/500\n",
            "1/1 [==============================] - 0s 19ms/step - loss: 73.7682 - mse: 5535.1670\n",
            "Epoch 422/500\n",
            "1/1 [==============================] - 0s 21ms/step - loss: 46.9025 - mse: 2232.4429\n",
            "Epoch 423/500\n",
            "1/1 [==============================] - 0s 27ms/step - loss: 38.2035 - mse: 1506.0583\n",
            "Epoch 424/500\n",
            "1/1 [==============================] - 0s 23ms/step - loss: 80.1277 - mse: 6532.8711\n",
            "Epoch 425/500\n",
            "1/1 [==============================] - 0s 37ms/step - loss: 67.0748 - mse: 4574.4131\n",
            "Epoch 426/500\n",
            "1/1 [==============================] - 0s 14ms/step - loss: 25.7369 - mse: 669.1234\n",
            "Epoch 427/500\n",
            "1/1 [==============================] - 0s 11ms/step - loss: 105.2260 - mse: 11351.0898\n",
            "Epoch 428/500\n",
            "1/1 [==============================] - 0s 15ms/step - loss: 76.8666 - mse: 6011.0132\n",
            "Epoch 429/500\n",
            "1/1 [==============================] - 0s 13ms/step - loss: 56.7852 - mse: 3275.9634\n",
            "Epoch 430/500\n",
            "1/1 [==============================] - 0s 11ms/step - loss: 6.8237 - mse: 51.3900\n",
            "Epoch 431/500\n",
            "1/1 [==============================] - 0s 17ms/step - loss: 81.6170 - mse: 6778.5610\n",
            "Epoch 432/500\n",
            "1/1 [==============================] - 0s 13ms/step - loss: 71.8591 - mse: 5251.9209\n",
            "Epoch 433/500\n",
            "1/1 [==============================] - 0s 12ms/step - loss: 40.9614 - mse: 1701.2848\n",
            "Epoch 434/500\n",
            "1/1 [==============================] - 0s 12ms/step - loss: 56.9200 - mse: 3331.5122\n",
            "Epoch 435/500\n",
            "1/1 [==============================] - 0s 11ms/step - loss: 79.1747 - mse: 6378.2642\n",
            "Epoch 436/500\n",
            "1/1 [==============================] - 0s 14ms/step - loss: 64.1638 - mse: 4185.2295\n",
            "Epoch 437/500\n",
            "1/1 [==============================] - 0s 13ms/step - loss: 16.6212 - mse: 277.8540\n",
            "Epoch 438/500\n",
            "1/1 [==============================] - 0s 15ms/step - loss: 134.0016 - mse: 18394.1387\n",
            "Epoch 439/500\n",
            "1/1 [==============================] - 0s 10ms/step - loss: 75.4271 - mse: 5787.6812\n",
            "Epoch 440/500\n",
            "1/1 [==============================] - 0s 15ms/step - loss: 52.3323 - mse: 2781.2017\n",
            "Epoch 441/500\n",
            "1/1 [==============================] - 0s 14ms/step - loss: 20.8247 - mse: 451.7452\n",
            "Epoch 442/500\n",
            "1/1 [==============================] - 0s 13ms/step - loss: 80.8922 - mse: 6658.6265\n",
            "Epoch 443/500\n",
            "1/1 [==============================] - 0s 12ms/step - loss: 69.6708 - mse: 4936.3955\n",
            "Epoch 444/500\n",
            "1/1 [==============================] - 0s 9ms/step - loss: 34.1360 - mse: 1180.0417\n",
            "Epoch 445/500\n",
            "1/1 [==============================] - 0s 10ms/step - loss: 78.4390 - mse: 6314.8232\n",
            "Epoch 446/500\n",
            "1/1 [==============================] - 0s 13ms/step - loss: 78.0862 - mse: 6203.9072\n",
            "Epoch 447/500\n",
            "1/1 [==============================] - 0s 13ms/step - loss: 60.8232 - mse: 3759.9265\n",
            "Epoch 448/500\n",
            "1/1 [==============================] - 0s 14ms/step - loss: 6.1446 - mse: 37.8316\n",
            "Epoch 449/500\n",
            "1/1 [==============================] - 0s 13ms/step - loss: 167.0899 - mse: 28583.9941\n",
            "Epoch 450/500\n",
            "1/1 [==============================] - 0s 9ms/step - loss: 73.7790 - mse: 5537.1567\n",
            "Epoch 451/500\n",
            "1/1 [==============================] - 0s 10ms/step - loss: 47.2185 - mse: 2262.9434\n",
            "Epoch 452/500\n",
            "1/1 [==============================] - 0s 10ms/step - loss: 36.9202 - mse: 1406.8531\n",
            "Epoch 453/500\n",
            "1/1 [==============================] - 0s 9ms/step - loss: 80.0660 - mse: 6523.2119\n",
            "Epoch 454/500\n",
            "1/1 [==============================] - 0s 9ms/step - loss: 67.1615 - mse: 4586.5957\n",
            "Epoch 455/500\n",
            "1/1 [==============================] - 0s 11ms/step - loss: 26.2933 - mse: 698.6083\n",
            "Epoch 456/500\n",
            "1/1 [==============================] - 0s 12ms/step - loss: 103.1811 - mse: 10914.3184\n",
            "Epoch 457/500\n",
            "1/1 [==============================] - 0s 10ms/step - loss: 76.8418 - mse: 6007.5156\n",
            "Epoch 458/500\n",
            "1/1 [==============================] - 0s 13ms/step - loss: 56.9886 - mse: 3299.8071\n",
            "Epoch 459/500\n",
            "1/1 [==============================] - 0s 12ms/step - loss: 5.8974 - mse: 38.9471\n",
            "Epoch 460/500\n",
            "1/1 [==============================] - 0s 9ms/step - loss: 81.5381 - mse: 6765.8501\n",
            "Epoch 461/500\n",
            "1/1 [==============================] - 0s 11ms/step - loss: 71.8910 - mse: 5256.9551\n",
            "Epoch 462/500\n",
            "1/1 [==============================] - 0s 9ms/step - loss: 41.3444 - mse: 1733.5465\n",
            "Epoch 463/500\n",
            "1/1 [==============================] - 0s 10ms/step - loss: 55.4245 - mse: 3158.9702\n",
            "Epoch 464/500\n",
            "1/1 [==============================] - 0s 8ms/step - loss: 79.1234 - mse: 6370.3750\n",
            "Epoch 465/500\n",
            "1/1 [==============================] - 0s 10ms/step - loss: 64.2829 - mse: 4201.1416\n",
            "Epoch 466/500\n",
            "1/1 [==============================] - 0s 11ms/step - loss: 17.2807 - mse: 300.5179\n",
            "Epoch 467/500\n",
            "1/1 [==============================] - 0s 10ms/step - loss: 131.6301 - mse: 17748.9023\n",
            "Epoch 468/500\n",
            "1/1 [==============================] - 0s 10ms/step - loss: 75.4181 - mse: 5786.6787\n",
            "Epoch 469/500\n",
            "1/1 [==============================] - 0s 13ms/step - loss: 52.5858 - mse: 2808.5293\n",
            "Epoch 470/500\n",
            "1/1 [==============================] - 0s 14ms/step - loss: 19.7398 - mse: 406.2472\n",
            "Epoch 471/500\n",
            "1/1 [==============================] - 0s 12ms/step - loss: 80.8210 - mse: 6647.2930\n",
            "Epoch 472/500\n",
            "1/1 [==============================] - 0s 13ms/step - loss: 69.7270 - mse: 4944.7295\n",
            "Epoch 473/500\n",
            "1/1 [==============================] - 0s 13ms/step - loss: 34.5960 - mse: 1212.3365\n",
            "Epoch 474/500\n",
            "1/1 [==============================] - 0s 10ms/step - loss: 76.6994 - mse: 6038.0068\n",
            "Epoch 475/500\n",
            "1/1 [==============================] - 0s 11ms/step - loss: 78.0467 - mse: 6198.0054\n",
            "Epoch 476/500\n",
            "1/1 [==============================] - 0s 11ms/step - loss: 60.9797 - mse: 3779.6538\n",
            "Epoch 477/500\n",
            "1/1 [==============================] - 0s 10ms/step - loss: 6.9226 - mse: 47.9419\n",
            "Epoch 478/500\n",
            "1/1 [==============================] - 0s 9ms/step - loss: 164.3428 - mse: 27651.8477\n",
            "Epoch 479/500\n",
            "1/1 [==============================] - 0s 10ms/step - loss: 73.7882 - mse: 5538.9077\n",
            "Epoch 480/500\n",
            "1/1 [==============================] - 0s 10ms/step - loss: 47.5295 - mse: 2293.1624\n",
            "Epoch 481/500\n",
            "1/1 [==============================] - 0s 9ms/step - loss: 35.6529 - mse: 1312.2012\n",
            "Epoch 482/500\n",
            "1/1 [==============================] - 0s 10ms/step - loss: 80.0036 - mse: 6513.4326\n",
            "Epoch 483/500\n",
            "1/1 [==============================] - 0s 10ms/step - loss: 67.2456 - mse: 4598.4585\n",
            "Epoch 484/500\n",
            "1/1 [==============================] - 0s 11ms/step - loss: 26.8419 - mse: 728.3079\n",
            "Epoch 485/500\n",
            "1/1 [==============================] - 0s 9ms/step - loss: 101.1608 - mse: 10491.2246\n",
            "Epoch 486/500\n",
            "1/1 [==============================] - 0s 11ms/step - loss: 76.8159 - mse: 6003.8335\n",
            "Epoch 487/500\n",
            "1/1 [==============================] - 0s 11ms/step - loss: 57.1881 - mse: 3323.2969\n",
            "Epoch 488/500\n",
            "1/1 [==============================] - 0s 12ms/step - loss: 4.9831 - mse: 28.3947\n",
            "Epoch 489/500\n",
            "1/1 [==============================] - 0s 9ms/step - loss: 81.4586 - mse: 6753.0557\n",
            "Epoch 490/500\n",
            "1/1 [==============================] - 0s 10ms/step - loss: 71.9210 - mse: 5261.7231\n",
            "Epoch 491/500\n",
            "1/1 [==============================] - 0s 10ms/step - loss: 41.7216 - mse: 1765.6160\n",
            "Epoch 492/500\n",
            "1/1 [==============================] - 0s 9ms/step - loss: 53.9475 - mse: 2993.0632\n",
            "Epoch 493/500\n",
            "1/1 [==============================] - 0s 9ms/step - loss: 79.0711 - mse: 6362.3477\n",
            "Epoch 494/500\n",
            "1/1 [==============================] - 0s 16ms/step - loss: 64.3992 - mse: 4216.7124\n",
            "Epoch 495/500\n",
            "1/1 [==============================] - 0s 14ms/step - loss: 17.9312 - mse: 323.7519\n",
            "Epoch 496/500\n",
            "1/1 [==============================] - 0s 15ms/step - loss: 129.2871 - mse: 17122.7305\n",
            "Epoch 497/500\n",
            "1/1 [==============================] - 0s 12ms/step - loss: 75.4078 - mse: 5785.4639\n",
            "Epoch 498/500\n",
            "1/1 [==============================] - 0s 9ms/step - loss: 52.8348 - mse: 2835.5215\n",
            "Epoch 499/500\n",
            "1/1 [==============================] - 0s 8ms/step - loss: 18.6688 - mse: 363.7000\n",
            "Epoch 500/500\n",
            "1/1 [==============================] - 0s 9ms/step - loss: 80.7490 - mse: 6635.8594\n"
          ]
        },
        {
          "output_type": "execute_result",
          "data": {
            "text/plain": [
              "<keras.callbacks.History at 0x7f1b405b7850>"
            ]
          },
          "metadata": {},
          "execution_count": 45
        }
      ]
    },
    {
      "cell_type": "code",
      "source": [
        "y_pred_3 = tf.squeeze(model_3.predict(X_test))\n",
        "plot_predictions(predictions=y_pred_3)"
      ],
      "metadata": {
        "colab": {
          "base_uri": "https://localhost:8080/",
          "height": 616
        },
        "id": "_MQ_NlMOnOyO",
        "outputId": "88e557ac-901a-47a9-9391-7c7e219fdcb4"
      },
      "execution_count": null,
      "outputs": [
        {
          "output_type": "stream",
          "name": "stdout",
          "text": [
            "1/1 [==============================] - 0s 73ms/step\n"
          ]
        },
        {
          "output_type": "display_data",
          "data": {
            "text/plain": [
              "<Figure size 1000x700 with 1 Axes>"
            ],
            "image/png": "[encoded data removed]"
          },
          "metadata": {}
        }
      ]
    },
    {
      "cell_type": "code",
      "source": [
        "mae_3 = tf.keras.losses.mae(Y_test, y_pred_3)\n",
        "mse_3 = tf.keras.losses.mse(Y_test, y_pred_3)\n",
        "mae_3, mse_3 "
      ],
      "metadata": {
        "colab": {
          "base_uri": "https://localhost:8080/"
        },
        "id": "1C00zTpcoN-l",
        "outputId": "1833feda-e537-4288-b837-30af59a02c81"
      },
      "execution_count": null,
      "outputs": [
        {
          "output_type": "execute_result",
          "data": {
            "text/plain": [
              "(<tf.Tensor: shape=(), dtype=float32, numpy=69.78107>,\n",
              " <tf.Tensor: shape=(), dtype=float32, numpy=4952.7695>)"
            ]
          },
          "metadata": {},
          "execution_count": 47
        }
      ]
    },
    {
      "cell_type": "markdown",
      "source": [
        "### Comparando resultados do experimento"
      ],
      "metadata": {
        "id": "cYjJW9NxFrkE"
      }
    },
    {
      "cell_type": "code",
      "source": [
        "# Vamos comparar usando pandas DataFrame\n",
        "import pandas as pd\n",
        "\n",
        "model_results = [[\"model_1\", mae_1.numpy(), mse_1.numpy()],\n",
        "                 [\"model_2\", mae_2.numpy(), mse_2.numpy()],\n",
        "                 [\"model_3\", mae_3.numpy(), mse_3.numpy()]]\n",
        "\n",
        "all_results = pd.DataFrame(model_results, columns=[\"model\", \"mae\", \"mse\"])\n",
        "all_results"
      ],
      "metadata": {
        "colab": {
          "base_uri": "https://localhost:8080/",
          "height": 144
        },
        "id": "VY9kBWhUFziw",
        "outputId": "e4b2744a-07c1-4e77-aee5-49fa8c323cf8"
      },
      "execution_count": null,
      "outputs": [
        {
          "output_type": "execute_result",
          "data": {
            "text/plain": [
              "     model        mae          mse\n",
              "0  model_1  30.638885   949.167297\n",
              "1  model_2  35.115486  1247.267822\n",
              "2  model_3  69.781067  4952.769531"
            ],
            "text/html": [
              "\n",
              "  <div id=\"df-faef0749-09ba-4e08-9ea9-1998ef9b64d8\">\n",
              "    <div class=\"colab-df-container\">\n",
              "      <div>\n",
              "<style scoped>\n",
              "    .dataframe tbody tr th:only-of-type {\n",
              "        vertical-align: middle;\n",
              "    }\n",
              "\n",
              "    .dataframe tbody tr th {\n",
              "        vertical-align: top;\n",
              "    }\n",
              "\n",
              "    .dataframe thead th {\n",
              "        text-align: right;\n",
              "    }\n",
              "</style>\n",
              "<table border=\"1\" class=\"dataframe\">\n",
              "  <thead>\n",
              "    <tr style=\"text-align: right;\">\n",
              "      <th></th>\n",
              "      <th>model</th>\n",
              "      <th>mae</th>\n",
              "      <th>mse</th>\n",
              "    </tr>\n",
              "  </thead>\n",
              "  <tbody>\n",
              "    <tr>\n",
              "      <th>0</th>\n",
              "      <td>model_1</td>\n",
              "      <td>30.638885</td>\n",
              "      <td>949.167297</td>\n",
              "    </tr>\n",
              "    <tr>\n",
              "      <th>1</th>\n",
              "      <td>model_2</td>\n",
              "      <td>35.115486</td>\n",
              "      <td>1247.267822</td>\n",
              "    </tr>\n",
              "    <tr>\n",
              "      <th>2</th>\n",
              "      <td>model_3</td>\n",
              "      <td>69.781067</td>\n",
              "      <td>4952.769531</td>\n",
              "    </tr>\n",
              "  </tbody>\n",
              "</table>\n",
              "</div>\n",
              "      <button class=\"colab-df-convert\" onclick=\"convertToInteractive('df-faef0749-09ba-4e08-9ea9-1998ef9b64d8')\"\n",
              "              title=\"Convert this dataframe to an interactive table.\"\n",
              "              style=\"display:none;\">\n",
              "        \n",
              "  <svg xmlns=\"http://www.w3.org/2000/svg\" height=\"24px\"viewBox=\"0 0 24 24\"\n",
              "       width=\"24px\">\n",
              "    <path d=\"M0 0h24v24H0V0z\" fill=\"none\"/>\n",
              "    <path d=\"M18.56 5.44l.94 2.06.94-2.06 2.06-.94-2.06-.94-.94-2.06-.94 2.06-2.06.94zm-11 1L8.5 8.5l.94-2.06 2.06-.94-2.06-.94L8.5 2.5l-.94 2.06-2.06.94zm10 10l.94 2.06.94-2.06 2.06-.94-2.06-.94-.94-2.06-.94 2.06-2.06.94z\"/><path d=\"M17.41 7.96l-1.37-1.37c-.4-.4-.92-.59-1.43-.59-.52 0-1.04.2-1.43.59L10.3 9.45l-7.72 7.72c-.78.78-.78 2.05 0 2.83L4 21.41c.39.39.9.59 1.41.59.51 0 1.02-.2 1.41-.59l7.78-7.78 2.81-2.81c.8-.78.8-2.07 0-2.86zM5.41 20L4 18.59l7.72-7.72 1.47 1.35L5.41 20z\"/>\n",
              "  </svg>\n",
              "      </button>\n",
              "      \n",
              "  <style>\n",
              "    .colab-df-container {\n",
              "      display:flex;\n",
              "      flex-wrap:wrap;\n",
              "      gap: 12px;\n",
              "    }\n",
              "\n",
              "    .colab-df-convert {\n",
              "      background-color: #E8F0FE;\n",
              "      border: none;\n",
              "      border-radius: 50%;\n",
              "      cursor: pointer;\n",
              "      display: none;\n",
              "      fill: #1967D2;\n",
              "      height: 32px;\n",
              "      padding: 0 0 0 0;\n",
              "      width: 32px;\n",
              "    }\n",
              "\n",
              "    .colab-df-convert:hover {\n",
              "      background-color: #E2EBFA;\n",
              "      box-shadow: 0px 1px 2px rgba(60, 64, 67, 0.3), 0px 1px 3px 1px rgba(60, 64, 67, 0.15);\n",
              "      fill: #174EA6;\n",
              "    }\n",
              "\n",
              "    [theme=dark] .colab-df-convert {\n",
              "      background-color: #3B4455;\n",
              "      fill: #D2E3FC;\n",
              "    }\n",
              "\n",
              "    [theme=dark] .colab-df-convert:hover {\n",
              "      background-color: #434B5C;\n",
              "      box-shadow: 0px 1px 3px 1px rgba(0, 0, 0, 0.15);\n",
              "      filter: drop-shadow(0px 1px 2px rgba(0, 0, 0, 0.3));\n",
              "      fill: #FFFFFF;\n",
              "    }\n",
              "  </style>\n",
              "\n",
              "      <script>\n",
              "        const buttonEl =\n",
              "          document.querySelector('#df-faef0749-09ba-4e08-9ea9-1998ef9b64d8 button.colab-df-convert');\n",
              "        buttonEl.style.display =\n",
              "          google.colab.kernel.accessAllowed ? 'block' : 'none';\n",
              "\n",
              "        async function convertToInteractive(key) {\n",
              "          const element = document.querySelector('#df-faef0749-09ba-4e08-9ea9-1998ef9b64d8');\n",
              "          const dataTable =\n",
              "            await google.colab.kernel.invokeFunction('convertToInteractive',\n",
              "                                                     [key], {});\n",
              "          if (!dataTable) return;\n",
              "\n",
              "          const docLinkHtml = 'Like what you see? Visit the ' +\n",
              "            '<a target=\"_blank\" href=https://colab.research.google.com/notebooks/data_table.ipynb>data table notebook</a>'\n",
              "            + ' to learn more about interactive tables.';\n",
              "          element.innerHTML = '';\n",
              "          dataTable['output_type'] = 'display_data';\n",
              "          await google.colab.output.renderOutput(dataTable, element);\n",
              "          const docLink = document.createElement('div');\n",
              "          docLink.innerHTML = docLinkHtml;\n",
              "          element.appendChild(docLink);\n",
              "        }\n",
              "      </script>\n",
              "    </div>\n",
              "  </div>\n",
              "  "
            ]
          },
          "metadata": {},
          "execution_count": 48
        }
      ]
    },
    {
      "cell_type": "code",
      "source": [
        "# Como o model_1 mostrou melhor adaptação, vamos dar uma olhada\n",
        "model_1.summary()"
      ],
      "metadata": {
        "colab": {
          "base_uri": "https://localhost:8080/"
        },
        "id": "PcKY1ULaKNN3",
        "outputId": "a11db96b-3b0c-438d-f50d-549bcac7baf3"
      },
      "execution_count": null,
      "outputs": [
        {
          "output_type": "stream",
          "name": "stdout",
          "text": [
            "Model: \"sequential_4\"\n",
            "_________________________________________________________________\n",
            " Layer (type)                Output Shape              Param #   \n",
            "=================================================================\n",
            " dense_10 (Dense)            (None, 1)                 2         \n",
            "                                                                 \n",
            "=================================================================\n",
            "Total params: 2\n",
            "Trainable params: 2\n",
            "Non-trainable params: 0\n",
            "_________________________________________________________________\n"
          ]
        }
      ]
    },
    {
      "cell_type": "markdown",
      "source": [
        "## Acompanhando os experimentos\n",
        "\n",
        "Um bom habito em modelagem com machine learning é acompanhar os resultados dos experimentos.\n",
        "\n",
        "**Ferramentas de auxílio:**\n",
        "* TensorBoard - ajuda a acompanhar os experimentos de modelagem\n",
        "* Weights & Biases - biblioteca de experimentos de todos os tipos com machine learning"
      ],
      "metadata": {
        "id": "dNfTpqiXL6Sy"
      }
    },
    {
      "cell_type": "markdown",
      "source": [
        "## Salvando os modelos\n",
        "\n",
        "Salvando nosso modelo podemos usa-los fora do Google Colab, como em uma aplicação web ou mobile\n",
        "\n",
        "Existem dois formatos de salvamento:\n",
        "1. The SavedModel format\n",
        "2. The HDF5 format"
      ],
      "metadata": {
        "id": "-0AdUj2sNkS9"
      }
    },
    {
      "cell_type": "code",
      "source": [
        "# Salvando usando o SavedModel format\n",
        "model_1.save(\"best_model_SavedModel_format\")"
      ],
      "metadata": {
        "colab": {
          "base_uri": "https://localhost:8080/"
        },
        "id": "j3M0qJLjNwaK",
        "outputId": "224f9fef-48d9-4b1f-d854-e6ea31cba3d5"
      },
      "execution_count": null,
      "outputs": [
        {
          "output_type": "stream",
          "name": "stderr",
          "text": [
            "WARNING:absl:Found untraced functions such as _update_step_xla while saving (showing 1 of 1). These functions will not be directly callable after loading.\n"
          ]
        }
      ]
    },
    {
      "cell_type": "code",
      "source": [
        "# Salvando usando o HDF5 format\n",
        "model_1.save(\"best_model_HDF5_format.h5\")"
      ],
      "metadata": {
        "id": "OnU2oKzghXOu"
      },
      "execution_count": null,
      "outputs": []
    },
    {
      "cell_type": "markdown",
      "source": [
        "## Carregando os modelos salvados\n"
      ],
      "metadata": {
        "id": "YL-tYZpnh5lp"
      }
    },
    {
      "cell_type": "code",
      "source": [
        "# Carregando o modelo salvo em SavedModel format\n",
        "loaded_SavedModel_format = tf.keras.models.load_model(\"/content/best_model_SavedModel_format\") # pode retirar o \"/content/\" que também compila\n",
        "loaded_SavedModel_format.summary()"
      ],
      "metadata": {
        "colab": {
          "base_uri": "https://localhost:8080/"
        },
        "id": "z8MGbYsGiYDZ",
        "outputId": "974c6532-abcf-4215-b65e-9d260278f4c9"
      },
      "execution_count": null,
      "outputs": [
        {
          "output_type": "stream",
          "name": "stdout",
          "text": [
            "Model: \"sequential_4\"\n",
            "_________________________________________________________________\n",
            " Layer (type)                Output Shape              Param #   \n",
            "=================================================================\n",
            " dense_10 (Dense)            (None, 1)                 2         \n",
            "                                                                 \n",
            "=================================================================\n",
            "Total params: 2\n",
            "Trainable params: 2\n",
            "Non-trainable params: 0\n",
            "_________________________________________________________________\n"
          ]
        }
      ]
    },
    {
      "cell_type": "code",
      "source": [
        "# Comparando o modelo com o modelo salvo\n",
        "model_1_preds = model_1.predict(X_test)\n",
        "loaded_SavedModel_format_preds = loaded_SavedModel_format.predict(X_test)\n",
        "\n",
        "model_1_preds == loaded_SavedModel_format_preds"
      ],
      "metadata": {
        "colab": {
          "base_uri": "https://localhost:8080/"
        },
        "id": "7W7ZXUYNjejL",
        "outputId": "fcab6fe7-303f-48fa-e0b8-1017fade7713"
      },
      "execution_count": null,
      "outputs": [
        {
          "output_type": "stream",
          "name": "stdout",
          "text": [
            "1/1 [==============================] - 0s 70ms/step\n",
            "1/1 [==============================] - 0s 19ms/step\n"
          ]
        },
        {
          "output_type": "execute_result",
          "data": {
            "text/plain": [
              "array([[ True],\n",
              "       [ True],\n",
              "       [ True],\n",
              "       [ True],\n",
              "       [ True],\n",
              "       [ True],\n",
              "       [ True],\n",
              "       [ True],\n",
              "       [ True],\n",
              "       [ True]])"
            ]
          },
          "metadata": {},
          "execution_count": 58
        }
      ]
    },
    {
      "cell_type": "code",
      "source": [
        "# Carregando o modelo usando HDF5 format\n",
        "loaded_h5_model = tf.keras.models.load_model(\"/content/best_model_HDF5_format.h5\")\n",
        "loaded_h5_model.summary()"
      ],
      "metadata": {
        "colab": {
          "base_uri": "https://localhost:8080/"
        },
        "id": "fQ17wRqymU3y",
        "outputId": "e102c10e-a8f2-47e1-ff1f-ad9eec7dabb5"
      },
      "execution_count": null,
      "outputs": [
        {
          "output_type": "stream",
          "name": "stdout",
          "text": [
            "Model: \"sequential_4\"\n",
            "_________________________________________________________________\n",
            " Layer (type)                Output Shape              Param #   \n",
            "=================================================================\n",
            " dense_10 (Dense)            (None, 1)                 2         \n",
            "                                                                 \n",
            "=================================================================\n",
            "Total params: 2\n",
            "Trainable params: 2\n",
            "Non-trainable params: 0\n",
            "_________________________________________________________________\n"
          ]
        }
      ]
    },
    {
      "cell_type": "code",
      "source": [
        "# Checando se o modelo original bate com o modelo salvo em HDF5\n",
        "model_1_preds = model_1.predict(X_test)\n",
        "loaded_h5_model_preds = loaded_h5_model.predict(X_test)\n",
        "model_1_preds == loaded_h5_model_preds"
      ],
      "metadata": {
        "colab": {
          "base_uri": "https://localhost:8080/"
        },
        "id": "bPE1IERWmvS2",
        "outputId": "0f82f5a5-3412-4ac1-d41d-170f46b89282"
      },
      "execution_count": null,
      "outputs": [
        {
          "output_type": "stream",
          "name": "stdout",
          "text": [
            "1/1 [==============================] - 0s 19ms/step\n",
            "1/1 [==============================] - 0s 41ms/step\n"
          ]
        },
        {
          "output_type": "execute_result",
          "data": {
            "text/plain": [
              "array([[ True],\n",
              "       [ True],\n",
              "       [ True],\n",
              "       [ True],\n",
              "       [ True],\n",
              "       [ True],\n",
              "       [ True],\n",
              "       [ True],\n",
              "       [ True],\n",
              "       [ True]])"
            ]
          },
          "metadata": {},
          "execution_count": 60
        }
      ]
    },
    {
      "cell_type": "markdown",
      "source": [
        "## Download do modelo\n",
        "\n",
        "Caminho para DOWNLOAD:\n",
        "1. Ir em \"Arquivos\"(da barra lateral esquerda) e clique direito no arquivo que deseja e realizar o DOWNLOAD.\n",
        "2. Usar codigo!\n",
        "3. Salvando no Google Drive por conectar-lo e copiando lá"
      ],
      "metadata": {
        "id": "V7ChhGKSnv6K"
      }
    },
    {
      "cell_type": "code",
      "source": [
        "# Download de um arquivo do Google Colab\n",
        "from google.colab import files\n",
        "files.download(\"/content/best_model_HDF5_format.h5\")"
      ],
      "metadata": {
        "colab": {
          "base_uri": "https://localhost:8080/",
          "height": 17
        },
        "id": "ODnL7SWcn4ec",
        "outputId": "e6bec597-f75b-436c-8850-d7642ca91c7d"
      },
      "execution_count": null,
      "outputs": [
        {
          "output_type": "display_data",
          "data": {
            "text/plain": [
              "<IPython.core.display.Javascript object>"
            ],
            "application/javascript": [
              "\n",
              "    async function download(id, filename, size) {\n",
              "      if (!google.colab.kernel.accessAllowed) {\n",
              "        return;\n",
              "      }\n",
              "      const div = document.createElement('div');\n",
              "      const label = document.createElement('label');\n",
              "      label.textContent = `Downloading \"${filename}\": `;\n",
              "      div.appendChild(label);\n",
              "      const progress = document.createElement('progress');\n",
              "      progress.max = size;\n",
              "      div.appendChild(progress);\n",
              "      document.body.appendChild(div);\n",
              "\n",
              "      const buffers = [];\n",
              "      let downloaded = 0;\n",
              "\n",
              "      const channel = await google.colab.kernel.comms.open(id);\n",
              "      // Send a message to notify the kernel that we're ready.\n",
              "      channel.send({})\n",
              "\n",
              "      for await (const message of channel.messages) {\n",
              "        // Send a message to notify the kernel that we're ready.\n",
              "        channel.send({})\n",
              "        if (message.buffers) {\n",
              "          for (const buffer of message.buffers) {\n",
              "            buffers.push(buffer);\n",
              "            downloaded += buffer.byteLength;\n",
              "            progress.value = downloaded;\n",
              "          }\n",
              "        }\n",
              "      }\n",
              "      const blob = new Blob(buffers, {type: 'application/binary'});\n",
              "      const a = document.createElement('a');\n",
              "      a.href = window.URL.createObjectURL(blob);\n",
              "      a.download = filename;\n",
              "      div.appendChild(a);\n",
              "      a.click();\n",
              "      div.remove();\n",
              "    }\n",
              "  "
            ]
          },
          "metadata": {}
        },
        {
          "output_type": "display_data",
          "data": {
            "text/plain": [
              "<IPython.core.display.Javascript object>"
            ],
            "application/javascript": [
              "download(\"download_49ea2224-9cc3-4785-abf4-f63400141e49\", \"best_model_HDF5_format.h5\", 17600)"
            ]
          },
          "metadata": {}
        }
      ]
    },
    {
      "cell_type": "code",
      "source": [
        "# Salvando um arquivo do Google Colab para o Google Drive\n",
        "!cp /content/best_model_HDF5_format.h5 /content/drive/MyDrive/Colab_Notebooks"
      ],
      "metadata": {
        "id": "ILw3mQX3p7iU"
      },
      "execution_count": null,
      "outputs": []
    },
    {
      "cell_type": "code",
      "source": [
        "!ls /content/drive/MyDrive/Colab_Notebooks"
      ],
      "metadata": {
        "colab": {
          "base_uri": "https://localhost:8080/"
        },
        "id": "aQtQ0bXkqhZn",
        "outputId": "6b3f6923-98b9-4019-ff56-facfe331e311"
      },
      "execution_count": null,
      "outputs": [
        {
          "output_type": "stream",
          "name": "stdout",
          "text": [
            "00_tenserflow_fundamentals.ipynb\t\t  Untitled0.ipynb\n",
            "01_neural_network_regression_in_tensorflow.ipynb  Untitled1.ipynb\n",
            "best_model_HDF5_format.h5\n"
          ]
        }
      ]
    },
    {
      "cell_type": "markdown",
      "source": [
        "## Um exemplo maior"
      ],
      "metadata": {
        "id": "p6MP85iVqw5F"
      }
    },
    {
      "cell_type": "code",
      "source": [
        "# Importar a biblioteca requerida\n",
        "import tensorflow as tf\n",
        "import pandas as pd\n",
        "import matplotlib.pyplot as plt\n"
      ],
      "metadata": {
        "id": "RpiYpg4tq1Z_"
      },
      "execution_count": 1,
      "outputs": []
    },
    {
      "cell_type": "code",
      "source": [
        "# Lendo o Dataset escolhido\n",
        "insurance = pd.read_csv(\"https://raw.githubusercontent.com/stedy/Machine-Learning-with-R-datasets/master/insurance.csv\")\n",
        "insurance"
      ],
      "metadata": {
        "colab": {
          "base_uri": "https://localhost:8080/",
          "height": 424
        },
        "id": "PjuYyvs3tFWo",
        "outputId": "d2c60329-59ba-42b1-f222-c897407b1372"
      },
      "execution_count": 2,
      "outputs": [
        {
          "output_type": "execute_result",
          "data": {
            "text/plain": [
              "      age     sex     bmi  children smoker     region      charges\n",
              "0      19  female  27.900         0    yes  southwest  16884.92400\n",
              "1      18    male  33.770         1     no  southeast   1725.55230\n",
              "2      28    male  33.000         3     no  southeast   4449.46200\n",
              "3      33    male  22.705         0     no  northwest  21984.47061\n",
              "4      32    male  28.880         0     no  northwest   3866.85520\n",
              "...   ...     ...     ...       ...    ...        ...          ...\n",
              "1333   50    male  30.970         3     no  northwest  10600.54830\n",
              "1334   18  female  31.920         0     no  northeast   2205.98080\n",
              "1335   18  female  36.850         0     no  southeast   1629.83350\n",
              "1336   21  female  25.800         0     no  southwest   2007.94500\n",
              "1337   61  female  29.070         0    yes  northwest  29141.36030\n",
              "\n",
              "[1338 rows x 7 columns]"
            ],
            "text/html": [
              "\n",
              "  <div id=\"df-6ab878c8-5758-4e6c-9b00-b0dfe9b49b3a\">\n",
              "    <div class=\"colab-df-container\">\n",
              "      <div>\n",
              "<style scoped>\n",
              "    .dataframe tbody tr th:only-of-type {\n",
              "        vertical-align: middle;\n",
              "    }\n",
              "\n",
              "    .dataframe tbody tr th {\n",
              "        vertical-align: top;\n",
              "    }\n",
              "\n",
              "    .dataframe thead th {\n",
              "        text-align: right;\n",
              "    }\n",
              "</style>\n",
              "<table border=\"1\" class=\"dataframe\">\n",
              "  <thead>\n",
              "    <tr style=\"text-align: right;\">\n",
              "      <th></th>\n",
              "      <th>age</th>\n",
              "      <th>sex</th>\n",
              "      <th>bmi</th>\n",
              "      <th>children</th>\n",
              "      <th>smoker</th>\n",
              "      <th>region</th>\n",
              "      <th>charges</th>\n",
              "    </tr>\n",
              "  </thead>\n",
              "  <tbody>\n",
              "    <tr>\n",
              "      <th>0</th>\n",
              "      <td>19</td>\n",
              "      <td>female</td>\n",
              "      <td>27.900</td>\n",
              "      <td>0</td>\n",
              "      <td>yes</td>\n",
              "      <td>southwest</td>\n",
              "      <td>16884.92400</td>\n",
              "    </tr>\n",
              "    <tr>\n",
              "      <th>1</th>\n",
              "      <td>18</td>\n",
              "      <td>male</td>\n",
              "      <td>33.770</td>\n",
              "      <td>1</td>\n",
              "      <td>no</td>\n",
              "      <td>southeast</td>\n",
              "      <td>1725.55230</td>\n",
              "    </tr>\n",
              "    <tr>\n",
              "      <th>2</th>\n",
              "      <td>28</td>\n",
              "      <td>male</td>\n",
              "      <td>33.000</td>\n",
              "      <td>3</td>\n",
              "      <td>no</td>\n",
              "      <td>southeast</td>\n",
              "      <td>4449.46200</td>\n",
              "    </tr>\n",
              "    <tr>\n",
              "      <th>3</th>\n",
              "      <td>33</td>\n",
              "      <td>male</td>\n",
              "      <td>22.705</td>\n",
              "      <td>0</td>\n",
              "      <td>no</td>\n",
              "      <td>northwest</td>\n",
              "      <td>21984.47061</td>\n",
              "    </tr>\n",
              "    <tr>\n",
              "      <th>4</th>\n",
              "      <td>32</td>\n",
              "      <td>male</td>\n",
              "      <td>28.880</td>\n",
              "      <td>0</td>\n",
              "      <td>no</td>\n",
              "      <td>northwest</td>\n",
              "      <td>3866.85520</td>\n",
              "    </tr>\n",
              "    <tr>\n",
              "      <th>...</th>\n",
              "      <td>...</td>\n",
              "      <td>...</td>\n",
              "      <td>...</td>\n",
              "      <td>...</td>\n",
              "      <td>...</td>\n",
              "      <td>...</td>\n",
              "      <td>...</td>\n",
              "    </tr>\n",
              "    <tr>\n",
              "      <th>1333</th>\n",
              "      <td>50</td>\n",
              "      <td>male</td>\n",
              "      <td>30.970</td>\n",
              "      <td>3</td>\n",
              "      <td>no</td>\n",
              "      <td>northwest</td>\n",
              "      <td>10600.54830</td>\n",
              "    </tr>\n",
              "    <tr>\n",
              "      <th>1334</th>\n",
              "      <td>18</td>\n",
              "      <td>female</td>\n",
              "      <td>31.920</td>\n",
              "      <td>0</td>\n",
              "      <td>no</td>\n",
              "      <td>northeast</td>\n",
              "      <td>2205.98080</td>\n",
              "    </tr>\n",
              "    <tr>\n",
              "      <th>1335</th>\n",
              "      <td>18</td>\n",
              "      <td>female</td>\n",
              "      <td>36.850</td>\n",
              "      <td>0</td>\n",
              "      <td>no</td>\n",
              "      <td>southeast</td>\n",
              "      <td>1629.83350</td>\n",
              "    </tr>\n",
              "    <tr>\n",
              "      <th>1336</th>\n",
              "      <td>21</td>\n",
              "      <td>female</td>\n",
              "      <td>25.800</td>\n",
              "      <td>0</td>\n",
              "      <td>no</td>\n",
              "      <td>southwest</td>\n",
              "      <td>2007.94500</td>\n",
              "    </tr>\n",
              "    <tr>\n",
              "      <th>1337</th>\n",
              "      <td>61</td>\n",
              "      <td>female</td>\n",
              "      <td>29.070</td>\n",
              "      <td>0</td>\n",
              "      <td>yes</td>\n",
              "      <td>northwest</td>\n",
              "      <td>29141.36030</td>\n",
              "    </tr>\n",
              "  </tbody>\n",
              "</table>\n",
              "<p>1338 rows × 7 columns</p>\n",
              "</div>\n",
              "      <button class=\"colab-df-convert\" onclick=\"convertToInteractive('df-6ab878c8-5758-4e6c-9b00-b0dfe9b49b3a')\"\n",
              "              title=\"Convert this dataframe to an interactive table.\"\n",
              "              style=\"display:none;\">\n",
              "        \n",
              "  <svg xmlns=\"http://www.w3.org/2000/svg\" height=\"24px\"viewBox=\"0 0 24 24\"\n",
              "       width=\"24px\">\n",
              "    <path d=\"M0 0h24v24H0V0z\" fill=\"none\"/>\n",
              "    <path d=\"M18.56 5.44l.94 2.06.94-2.06 2.06-.94-2.06-.94-.94-2.06-.94 2.06-2.06.94zm-11 1L8.5 8.5l.94-2.06 2.06-.94-2.06-.94L8.5 2.5l-.94 2.06-2.06.94zm10 10l.94 2.06.94-2.06 2.06-.94-2.06-.94-.94-2.06-.94 2.06-2.06.94z\"/><path d=\"M17.41 7.96l-1.37-1.37c-.4-.4-.92-.59-1.43-.59-.52 0-1.04.2-1.43.59L10.3 9.45l-7.72 7.72c-.78.78-.78 2.05 0 2.83L4 21.41c.39.39.9.59 1.41.59.51 0 1.02-.2 1.41-.59l7.78-7.78 2.81-2.81c.8-.78.8-2.07 0-2.86zM5.41 20L4 18.59l7.72-7.72 1.47 1.35L5.41 20z\"/>\n",
              "  </svg>\n",
              "      </button>\n",
              "      \n",
              "  <style>\n",
              "    .colab-df-container {\n",
              "      display:flex;\n",
              "      flex-wrap:wrap;\n",
              "      gap: 12px;\n",
              "    }\n",
              "\n",
              "    .colab-df-convert {\n",
              "      background-color: #E8F0FE;\n",
              "      border: none;\n",
              "      border-radius: 50%;\n",
              "      cursor: pointer;\n",
              "      display: none;\n",
              "      fill: #1967D2;\n",
              "      height: 32px;\n",
              "      padding: 0 0 0 0;\n",
              "      width: 32px;\n",
              "    }\n",
              "\n",
              "    .colab-df-convert:hover {\n",
              "      background-color: #E2EBFA;\n",
              "      box-shadow: 0px 1px 2px rgba(60, 64, 67, 0.3), 0px 1px 3px 1px rgba(60, 64, 67, 0.15);\n",
              "      fill: #174EA6;\n",
              "    }\n",
              "\n",
              "    [theme=dark] .colab-df-convert {\n",
              "      background-color: #3B4455;\n",
              "      fill: #D2E3FC;\n",
              "    }\n",
              "\n",
              "    [theme=dark] .colab-df-convert:hover {\n",
              "      background-color: #434B5C;\n",
              "      box-shadow: 0px 1px 3px 1px rgba(0, 0, 0, 0.15);\n",
              "      filter: drop-shadow(0px 1px 2px rgba(0, 0, 0, 0.3));\n",
              "      fill: #FFFFFF;\n",
              "    }\n",
              "  </style>\n",
              "\n",
              "      <script>\n",
              "        const buttonEl =\n",
              "          document.querySelector('#df-6ab878c8-5758-4e6c-9b00-b0dfe9b49b3a button.colab-df-convert');\n",
              "        buttonEl.style.display =\n",
              "          google.colab.kernel.accessAllowed ? 'block' : 'none';\n",
              "\n",
              "        async function convertToInteractive(key) {\n",
              "          const element = document.querySelector('#df-6ab878c8-5758-4e6c-9b00-b0dfe9b49b3a');\n",
              "          const dataTable =\n",
              "            await google.colab.kernel.invokeFunction('convertToInteractive',\n",
              "                                                     [key], {});\n",
              "          if (!dataTable) return;\n",
              "\n",
              "          const docLinkHtml = 'Like what you see? Visit the ' +\n",
              "            '<a target=\"_blank\" href=https://colab.research.google.com/notebooks/data_table.ipynb>data table notebook</a>'\n",
              "            + ' to learn more about interactive tables.';\n",
              "          element.innerHTML = '';\n",
              "          dataTable['output_type'] = 'display_data';\n",
              "          await google.colab.output.renderOutput(dataTable, element);\n",
              "          const docLink = document.createElement('div');\n",
              "          docLink.innerHTML = docLinkHtml;\n",
              "          element.appendChild(docLink);\n",
              "        }\n",
              "      </script>\n",
              "    </div>\n",
              "  </div>\n",
              "  "
            ]
          },
          "metadata": {},
          "execution_count": 2
        }
      ]
    },
    {
      "cell_type": "code",
      "source": [
        "# Vamos tentar One-Hot Encoding nosso DataFrame\n",
        "insurance_one_hot = pd.get_dummies(insurance)\n",
        "insurance_one_hot.head()"
      ],
      "metadata": {
        "colab": {
          "base_uri": "https://localhost:8080/",
          "height": 206
        },
        "id": "IaqC_kJpt3q-",
        "outputId": "25868ed8-bd74-4ced-eb82-1332d5479a74"
      },
      "execution_count": 3,
      "outputs": [
        {
          "output_type": "execute_result",
          "data": {
            "text/plain": [
              "   age     bmi  children      charges  sex_female  sex_male  smoker_no  \\\n",
              "0   19  27.900         0  16884.92400           1         0          0   \n",
              "1   18  33.770         1   1725.55230           0         1          1   \n",
              "2   28  33.000         3   4449.46200           0         1          1   \n",
              "3   33  22.705         0  21984.47061           0         1          1   \n",
              "4   32  28.880         0   3866.85520           0         1          1   \n",
              "\n",
              "   smoker_yes  region_northeast  region_northwest  region_southeast  \\\n",
              "0           1                 0                 0                 0   \n",
              "1           0                 0                 0                 1   \n",
              "2           0                 0                 0                 1   \n",
              "3           0                 0                 1                 0   \n",
              "4           0                 0                 1                 0   \n",
              "\n",
              "   region_southwest  \n",
              "0                 1  \n",
              "1                 0  \n",
              "2                 0  \n",
              "3                 0  \n",
              "4                 0  "
            ],
            "text/html": [
              "\n",
              "  <div id=\"df-715499a7-f88d-4285-827f-4ff851bb7862\">\n",
              "    <div class=\"colab-df-container\">\n",
              "      <div>\n",
              "<style scoped>\n",
              "    .dataframe tbody tr th:only-of-type {\n",
              "        vertical-align: middle;\n",
              "    }\n",
              "\n",
              "    .dataframe tbody tr th {\n",
              "        vertical-align: top;\n",
              "    }\n",
              "\n",
              "    .dataframe thead th {\n",
              "        text-align: right;\n",
              "    }\n",
              "</style>\n",
              "<table border=\"1\" class=\"dataframe\">\n",
              "  <thead>\n",
              "    <tr style=\"text-align: right;\">\n",
              "      <th></th>\n",
              "      <th>age</th>\n",
              "      <th>bmi</th>\n",
              "      <th>children</th>\n",
              "      <th>charges</th>\n",
              "      <th>sex_female</th>\n",
              "      <th>sex_male</th>\n",
              "      <th>smoker_no</th>\n",
              "      <th>smoker_yes</th>\n",
              "      <th>region_northeast</th>\n",
              "      <th>region_northwest</th>\n",
              "      <th>region_southeast</th>\n",
              "      <th>region_southwest</th>\n",
              "    </tr>\n",
              "  </thead>\n",
              "  <tbody>\n",
              "    <tr>\n",
              "      <th>0</th>\n",
              "      <td>19</td>\n",
              "      <td>27.900</td>\n",
              "      <td>0</td>\n",
              "      <td>16884.92400</td>\n",
              "      <td>1</td>\n",
              "      <td>0</td>\n",
              "      <td>0</td>\n",
              "      <td>1</td>\n",
              "      <td>0</td>\n",
              "      <td>0</td>\n",
              "      <td>0</td>\n",
              "      <td>1</td>\n",
              "    </tr>\n",
              "    <tr>\n",
              "      <th>1</th>\n",
              "      <td>18</td>\n",
              "      <td>33.770</td>\n",
              "      <td>1</td>\n",
              "      <td>1725.55230</td>\n",
              "      <td>0</td>\n",
              "      <td>1</td>\n",
              "      <td>1</td>\n",
              "      <td>0</td>\n",
              "      <td>0</td>\n",
              "      <td>0</td>\n",
              "      <td>1</td>\n",
              "      <td>0</td>\n",
              "    </tr>\n",
              "    <tr>\n",
              "      <th>2</th>\n",
              "      <td>28</td>\n",
              "      <td>33.000</td>\n",
              "      <td>3</td>\n",
              "      <td>4449.46200</td>\n",
              "      <td>0</td>\n",
              "      <td>1</td>\n",
              "      <td>1</td>\n",
              "      <td>0</td>\n",
              "      <td>0</td>\n",
              "      <td>0</td>\n",
              "      <td>1</td>\n",
              "      <td>0</td>\n",
              "    </tr>\n",
              "    <tr>\n",
              "      <th>3</th>\n",
              "      <td>33</td>\n",
              "      <td>22.705</td>\n",
              "      <td>0</td>\n",
              "      <td>21984.47061</td>\n",
              "      <td>0</td>\n",
              "      <td>1</td>\n",
              "      <td>1</td>\n",
              "      <td>0</td>\n",
              "      <td>0</td>\n",
              "      <td>1</td>\n",
              "      <td>0</td>\n",
              "      <td>0</td>\n",
              "    </tr>\n",
              "    <tr>\n",
              "      <th>4</th>\n",
              "      <td>32</td>\n",
              "      <td>28.880</td>\n",
              "      <td>0</td>\n",
              "      <td>3866.85520</td>\n",
              "      <td>0</td>\n",
              "      <td>1</td>\n",
              "      <td>1</td>\n",
              "      <td>0</td>\n",
              "      <td>0</td>\n",
              "      <td>1</td>\n",
              "      <td>0</td>\n",
              "      <td>0</td>\n",
              "    </tr>\n",
              "  </tbody>\n",
              "</table>\n",
              "</div>\n",
              "      <button class=\"colab-df-convert\" onclick=\"convertToInteractive('df-715499a7-f88d-4285-827f-4ff851bb7862')\"\n",
              "              title=\"Convert this dataframe to an interactive table.\"\n",
              "              style=\"display:none;\">\n",
              "        \n",
              "  <svg xmlns=\"http://www.w3.org/2000/svg\" height=\"24px\"viewBox=\"0 0 24 24\"\n",
              "       width=\"24px\">\n",
              "    <path d=\"M0 0h24v24H0V0z\" fill=\"none\"/>\n",
              "    <path d=\"M18.56 5.44l.94 2.06.94-2.06 2.06-.94-2.06-.94-.94-2.06-.94 2.06-2.06.94zm-11 1L8.5 8.5l.94-2.06 2.06-.94-2.06-.94L8.5 2.5l-.94 2.06-2.06.94zm10 10l.94 2.06.94-2.06 2.06-.94-2.06-.94-.94-2.06-.94 2.06-2.06.94z\"/><path d=\"M17.41 7.96l-1.37-1.37c-.4-.4-.92-.59-1.43-.59-.52 0-1.04.2-1.43.59L10.3 9.45l-7.72 7.72c-.78.78-.78 2.05 0 2.83L4 21.41c.39.39.9.59 1.41.59.51 0 1.02-.2 1.41-.59l7.78-7.78 2.81-2.81c.8-.78.8-2.07 0-2.86zM5.41 20L4 18.59l7.72-7.72 1.47 1.35L5.41 20z\"/>\n",
              "  </svg>\n",
              "      </button>\n",
              "      \n",
              "  <style>\n",
              "    .colab-df-container {\n",
              "      display:flex;\n",
              "      flex-wrap:wrap;\n",
              "      gap: 12px;\n",
              "    }\n",
              "\n",
              "    .colab-df-convert {\n",
              "      background-color: #E8F0FE;\n",
              "      border: none;\n",
              "      border-radius: 50%;\n",
              "      cursor: pointer;\n",
              "      display: none;\n",
              "      fill: #1967D2;\n",
              "      height: 32px;\n",
              "      padding: 0 0 0 0;\n",
              "      width: 32px;\n",
              "    }\n",
              "\n",
              "    .colab-df-convert:hover {\n",
              "      background-color: #E2EBFA;\n",
              "      box-shadow: 0px 1px 2px rgba(60, 64, 67, 0.3), 0px 1px 3px 1px rgba(60, 64, 67, 0.15);\n",
              "      fill: #174EA6;\n",
              "    }\n",
              "\n",
              "    [theme=dark] .colab-df-convert {\n",
              "      background-color: #3B4455;\n",
              "      fill: #D2E3FC;\n",
              "    }\n",
              "\n",
              "    [theme=dark] .colab-df-convert:hover {\n",
              "      background-color: #434B5C;\n",
              "      box-shadow: 0px 1px 3px 1px rgba(0, 0, 0, 0.15);\n",
              "      filter: drop-shadow(0px 1px 2px rgba(0, 0, 0, 0.3));\n",
              "      fill: #FFFFFF;\n",
              "    }\n",
              "  </style>\n",
              "\n",
              "      <script>\n",
              "        const buttonEl =\n",
              "          document.querySelector('#df-715499a7-f88d-4285-827f-4ff851bb7862 button.colab-df-convert');\n",
              "        buttonEl.style.display =\n",
              "          google.colab.kernel.accessAllowed ? 'block' : 'none';\n",
              "\n",
              "        async function convertToInteractive(key) {\n",
              "          const element = document.querySelector('#df-715499a7-f88d-4285-827f-4ff851bb7862');\n",
              "          const dataTable =\n",
              "            await google.colab.kernel.invokeFunction('convertToInteractive',\n",
              "                                                     [key], {});\n",
              "          if (!dataTable) return;\n",
              "\n",
              "          const docLinkHtml = 'Like what you see? Visit the ' +\n",
              "            '<a target=\"_blank\" href=https://colab.research.google.com/notebooks/data_table.ipynb>data table notebook</a>'\n",
              "            + ' to learn more about interactive tables.';\n",
              "          element.innerHTML = '';\n",
              "          dataTable['output_type'] = 'display_data';\n",
              "          await google.colab.output.renderOutput(dataTable, element);\n",
              "          const docLink = document.createElement('div');\n",
              "          docLink.innerHTML = docLinkHtml;\n",
              "          element.appendChild(docLink);\n",
              "        }\n",
              "      </script>\n",
              "    </div>\n",
              "  </div>\n",
              "  "
            ]
          },
          "metadata": {},
          "execution_count": 3
        }
      ]
    },
    {
      "cell_type": "code",
      "source": [
        "# Crie valores de X e Y (da equação linear)\n",
        "X = insurance_one_hot.drop(\"charges\", axis=1)\n",
        "Y = insurance_one_hot[\"charges\"]"
      ],
      "metadata": {
        "id": "K_WsaduLv0np"
      },
      "execution_count": 4,
      "outputs": []
    },
    {
      "cell_type": "code",
      "source": [
        "# Ver X\n",
        "X.head()"
      ],
      "metadata": {
        "colab": {
          "base_uri": "https://localhost:8080/",
          "height": 206
        },
        "id": "IO9O3wGYEw7S",
        "outputId": "0646c647-ae69-450c-95cf-0bbf933ef703"
      },
      "execution_count": 5,
      "outputs": [
        {
          "output_type": "execute_result",
          "data": {
            "text/plain": [
              "   age     bmi  children  sex_female  sex_male  smoker_no  smoker_yes  \\\n",
              "0   19  27.900         0           1         0          0           1   \n",
              "1   18  33.770         1           0         1          1           0   \n",
              "2   28  33.000         3           0         1          1           0   \n",
              "3   33  22.705         0           0         1          1           0   \n",
              "4   32  28.880         0           0         1          1           0   \n",
              "\n",
              "   region_northeast  region_northwest  region_southeast  region_southwest  \n",
              "0                 0                 0                 0                 1  \n",
              "1                 0                 0                 1                 0  \n",
              "2                 0                 0                 1                 0  \n",
              "3                 0                 1                 0                 0  \n",
              "4                 0                 1                 0                 0  "
            ],
            "text/html": [
              "\n",
              "  <div id=\"df-717fd249-137b-4db5-accb-f993b3c69bae\">\n",
              "    <div class=\"colab-df-container\">\n",
              "      <div>\n",
              "<style scoped>\n",
              "    .dataframe tbody tr th:only-of-type {\n",
              "        vertical-align: middle;\n",
              "    }\n",
              "\n",
              "    .dataframe tbody tr th {\n",
              "        vertical-align: top;\n",
              "    }\n",
              "\n",
              "    .dataframe thead th {\n",
              "        text-align: right;\n",
              "    }\n",
              "</style>\n",
              "<table border=\"1\" class=\"dataframe\">\n",
              "  <thead>\n",
              "    <tr style=\"text-align: right;\">\n",
              "      <th></th>\n",
              "      <th>age</th>\n",
              "      <th>bmi</th>\n",
              "      <th>children</th>\n",
              "      <th>sex_female</th>\n",
              "      <th>sex_male</th>\n",
              "      <th>smoker_no</th>\n",
              "      <th>smoker_yes</th>\n",
              "      <th>region_northeast</th>\n",
              "      <th>region_northwest</th>\n",
              "      <th>region_southeast</th>\n",
              "      <th>region_southwest</th>\n",
              "    </tr>\n",
              "  </thead>\n",
              "  <tbody>\n",
              "    <tr>\n",
              "      <th>0</th>\n",
              "      <td>19</td>\n",
              "      <td>27.900</td>\n",
              "      <td>0</td>\n",
              "      <td>1</td>\n",
              "      <td>0</td>\n",
              "      <td>0</td>\n",
              "      <td>1</td>\n",
              "      <td>0</td>\n",
              "      <td>0</td>\n",
              "      <td>0</td>\n",
              "      <td>1</td>\n",
              "    </tr>\n",
              "    <tr>\n",
              "      <th>1</th>\n",
              "      <td>18</td>\n",
              "      <td>33.770</td>\n",
              "      <td>1</td>\n",
              "      <td>0</td>\n",
              "      <td>1</td>\n",
              "      <td>1</td>\n",
              "      <td>0</td>\n",
              "      <td>0</td>\n",
              "      <td>0</td>\n",
              "      <td>1</td>\n",
              "      <td>0</td>\n",
              "    </tr>\n",
              "    <tr>\n",
              "      <th>2</th>\n",
              "      <td>28</td>\n",
              "      <td>33.000</td>\n",
              "      <td>3</td>\n",
              "      <td>0</td>\n",
              "      <td>1</td>\n",
              "      <td>1</td>\n",
              "      <td>0</td>\n",
              "      <td>0</td>\n",
              "      <td>0</td>\n",
              "      <td>1</td>\n",
              "      <td>0</td>\n",
              "    </tr>\n",
              "    <tr>\n",
              "      <th>3</th>\n",
              "      <td>33</td>\n",
              "      <td>22.705</td>\n",
              "      <td>0</td>\n",
              "      <td>0</td>\n",
              "      <td>1</td>\n",
              "      <td>1</td>\n",
              "      <td>0</td>\n",
              "      <td>0</td>\n",
              "      <td>1</td>\n",
              "      <td>0</td>\n",
              "      <td>0</td>\n",
              "    </tr>\n",
              "    <tr>\n",
              "      <th>4</th>\n",
              "      <td>32</td>\n",
              "      <td>28.880</td>\n",
              "      <td>0</td>\n",
              "      <td>0</td>\n",
              "      <td>1</td>\n",
              "      <td>1</td>\n",
              "      <td>0</td>\n",
              "      <td>0</td>\n",
              "      <td>1</td>\n",
              "      <td>0</td>\n",
              "      <td>0</td>\n",
              "    </tr>\n",
              "  </tbody>\n",
              "</table>\n",
              "</div>\n",
              "      <button class=\"colab-df-convert\" onclick=\"convertToInteractive('df-717fd249-137b-4db5-accb-f993b3c69bae')\"\n",
              "              title=\"Convert this dataframe to an interactive table.\"\n",
              "              style=\"display:none;\">\n",
              "        \n",
              "  <svg xmlns=\"http://www.w3.org/2000/svg\" height=\"24px\"viewBox=\"0 0 24 24\"\n",
              "       width=\"24px\">\n",
              "    <path d=\"M0 0h24v24H0V0z\" fill=\"none\"/>\n",
              "    <path d=\"M18.56 5.44l.94 2.06.94-2.06 2.06-.94-2.06-.94-.94-2.06-.94 2.06-2.06.94zm-11 1L8.5 8.5l.94-2.06 2.06-.94-2.06-.94L8.5 2.5l-.94 2.06-2.06.94zm10 10l.94 2.06.94-2.06 2.06-.94-2.06-.94-.94-2.06-.94 2.06-2.06.94z\"/><path d=\"M17.41 7.96l-1.37-1.37c-.4-.4-.92-.59-1.43-.59-.52 0-1.04.2-1.43.59L10.3 9.45l-7.72 7.72c-.78.78-.78 2.05 0 2.83L4 21.41c.39.39.9.59 1.41.59.51 0 1.02-.2 1.41-.59l7.78-7.78 2.81-2.81c.8-.78.8-2.07 0-2.86zM5.41 20L4 18.59l7.72-7.72 1.47 1.35L5.41 20z\"/>\n",
              "  </svg>\n",
              "      </button>\n",
              "      \n",
              "  <style>\n",
              "    .colab-df-container {\n",
              "      display:flex;\n",
              "      flex-wrap:wrap;\n",
              "      gap: 12px;\n",
              "    }\n",
              "\n",
              "    .colab-df-convert {\n",
              "      background-color: #E8F0FE;\n",
              "      border: none;\n",
              "      border-radius: 50%;\n",
              "      cursor: pointer;\n",
              "      display: none;\n",
              "      fill: #1967D2;\n",
              "      height: 32px;\n",
              "      padding: 0 0 0 0;\n",
              "      width: 32px;\n",
              "    }\n",
              "\n",
              "    .colab-df-convert:hover {\n",
              "      background-color: #E2EBFA;\n",
              "      box-shadow: 0px 1px 2px rgba(60, 64, 67, 0.3), 0px 1px 3px 1px rgba(60, 64, 67, 0.15);\n",
              "      fill: #174EA6;\n",
              "    }\n",
              "\n",
              "    [theme=dark] .colab-df-convert {\n",
              "      background-color: #3B4455;\n",
              "      fill: #D2E3FC;\n",
              "    }\n",
              "\n",
              "    [theme=dark] .colab-df-convert:hover {\n",
              "      background-color: #434B5C;\n",
              "      box-shadow: 0px 1px 3px 1px rgba(0, 0, 0, 0.15);\n",
              "      filter: drop-shadow(0px 1px 2px rgba(0, 0, 0, 0.3));\n",
              "      fill: #FFFFFF;\n",
              "    }\n",
              "  </style>\n",
              "\n",
              "      <script>\n",
              "        const buttonEl =\n",
              "          document.querySelector('#df-717fd249-137b-4db5-accb-f993b3c69bae button.colab-df-convert');\n",
              "        buttonEl.style.display =\n",
              "          google.colab.kernel.accessAllowed ? 'block' : 'none';\n",
              "\n",
              "        async function convertToInteractive(key) {\n",
              "          const element = document.querySelector('#df-717fd249-137b-4db5-accb-f993b3c69bae');\n",
              "          const dataTable =\n",
              "            await google.colab.kernel.invokeFunction('convertToInteractive',\n",
              "                                                     [key], {});\n",
              "          if (!dataTable) return;\n",
              "\n",
              "          const docLinkHtml = 'Like what you see? Visit the ' +\n",
              "            '<a target=\"_blank\" href=https://colab.research.google.com/notebooks/data_table.ipynb>data table notebook</a>'\n",
              "            + ' to learn more about interactive tables.';\n",
              "          element.innerHTML = '';\n",
              "          dataTable['output_type'] = 'display_data';\n",
              "          await google.colab.output.renderOutput(dataTable, element);\n",
              "          const docLink = document.createElement('div');\n",
              "          docLink.innerHTML = docLinkHtml;\n",
              "          element.appendChild(docLink);\n",
              "        }\n",
              "      </script>\n",
              "    </div>\n",
              "  </div>\n",
              "  "
            ]
          },
          "metadata": {},
          "execution_count": 5
        }
      ]
    },
    {
      "cell_type": "code",
      "source": [
        "# Ver Y\n",
        "Y.head()"
      ],
      "metadata": {
        "colab": {
          "base_uri": "https://localhost:8080/"
        },
        "id": "11-Z3gIvE3U1",
        "outputId": "b1f599d4-141e-424c-e06c-3aac324011da"
      },
      "execution_count": 6,
      "outputs": [
        {
          "output_type": "execute_result",
          "data": {
            "text/plain": [
              "0    16884.92400\n",
              "1     1725.55230\n",
              "2     4449.46200\n",
              "3    21984.47061\n",
              "4     3866.85520\n",
              "Name: charges, dtype: float64"
            ]
          },
          "metadata": {},
          "execution_count": 6
        }
      ]
    },
    {
      "cell_type": "code",
      "source": [
        "# Crie as amostras de treino e de teste\n",
        "from sklearn.model_selection import train_test_split\n",
        "X_train, X_test, Y_train, Y_test = train_test_split(X, Y, test_size=0.2, random_state=42)\n",
        "len(X), len(X_train), len(X_test)"
      ],
      "metadata": {
        "colab": {
          "base_uri": "https://localhost:8080/"
        },
        "id": "cEosoD4JEF3G",
        "outputId": "a90bb9d2-03b3-4dff-ffd1-2c46e3601133"
      },
      "execution_count": 7,
      "outputs": [
        {
          "output_type": "execute_result",
          "data": {
            "text/plain": [
              "(1338, 1070, 268)"
            ]
          },
          "metadata": {},
          "execution_count": 7
        }
      ]
    },
    {
      "cell_type": "code",
      "source": [
        "# Construa uma rede neural\n",
        "insurance_model = tf.keras.Sequential([\n",
        "    tf.keras.layers.Dense(1),\n",
        "    tf.keras.layers.Dense(1)\n",
        "])\n",
        "\n",
        "insurance_model.compile(loss=tf.keras.losses.mae,\n",
        "              optimizer=tf.keras.optimizers.SGD(),\n",
        "              metrics=[\"mse\"])\n",
        "\n",
        "insurance_model.fit(tf.expand_dims(X_train, axis=-1), Y_train, epochs=100)"
      ],
      "metadata": {
        "colab": {
          "base_uri": "https://localhost:8080/"
        },
        "id": "Qyro5jl0EHq4",
        "outputId": "0fc62b5a-4cc3-4d77-a1a4-d1ad2a1a633d"
      },
      "execution_count": 8,
      "outputs": [
        {
          "output_type": "stream",
          "name": "stdout",
          "text": [
            "Epoch 1/100\n",
            "34/34 [==============================] - 5s 3ms/step - loss: 13161.0996 - mse: 317715456.0000\n",
            "Epoch 2/100\n",
            "34/34 [==============================] - 0s 4ms/step - loss: 12260.4980 - mse: 292416448.0000\n",
            "Epoch 3/100\n",
            "34/34 [==============================] - 0s 4ms/step - loss: 12168.5322 - mse: 289091680.0000\n",
            "Epoch 4/100\n",
            "34/34 [==============================] - 0s 3ms/step - loss: 12091.5576 - mse: 286680032.0000\n",
            "Epoch 5/100\n",
            "34/34 [==============================] - 0s 4ms/step - loss: 11973.8223 - mse: 283385472.0000\n",
            "Epoch 6/100\n",
            "34/34 [==============================] - 0s 3ms/step - loss: 11777.8232 - mse: 278276000.0000\n",
            "Epoch 7/100\n",
            "34/34 [==============================] - 0s 4ms/step - loss: 11439.6064 - mse: 269622912.0000\n",
            "Epoch 8/100\n",
            "34/34 [==============================] - 0s 4ms/step - loss: 10915.5293 - mse: 256624944.0000\n",
            "Epoch 9/100\n",
            "34/34 [==============================] - 0s 3ms/step - loss: 10285.1240 - mse: 238595760.0000\n",
            "Epoch 10/100\n",
            "34/34 [==============================] - 0s 4ms/step - loss: 9682.7969 - mse: 219512976.0000\n",
            "Epoch 11/100\n",
            "34/34 [==============================] - 0s 3ms/step - loss: 9162.7666 - mse: 201690080.0000\n",
            "Epoch 12/100\n",
            "34/34 [==============================] - 0s 4ms/step - loss: 8826.1514 - mse: 187730272.0000\n",
            "Epoch 13/100\n",
            "34/34 [==============================] - 0s 3ms/step - loss: 8610.4453 - mse: 178806848.0000\n",
            "Epoch 14/100\n",
            "34/34 [==============================] - 0s 3ms/step - loss: 8589.2832 - mse: 173015088.0000\n",
            "Epoch 15/100\n",
            "34/34 [==============================] - 0s 3ms/step - loss: 8541.8428 - mse: 169715504.0000\n",
            "Epoch 16/100\n",
            "34/34 [==============================] - 0s 4ms/step - loss: 8419.9443 - mse: 164020624.0000\n",
            "Epoch 17/100\n",
            "34/34 [==============================] - 0s 3ms/step - loss: 8522.9434 - mse: 165302944.0000\n",
            "Epoch 18/100\n",
            "34/34 [==============================] - 0s 3ms/step - loss: 8535.5674 - mse: 165878768.0000\n",
            "Epoch 19/100\n",
            "34/34 [==============================] - 0s 3ms/step - loss: 8474.5547 - mse: 164407392.0000\n",
            "Epoch 20/100\n",
            "34/34 [==============================] - 0s 4ms/step - loss: 8501.8594 - mse: 163108032.0000\n",
            "Epoch 21/100\n",
            "34/34 [==============================] - 0s 3ms/step - loss: 8507.2930 - mse: 166385760.0000\n",
            "Epoch 22/100\n",
            "34/34 [==============================] - 0s 3ms/step - loss: 8536.3818 - mse: 165202528.0000\n",
            "Epoch 23/100\n",
            "34/34 [==============================] - 0s 3ms/step - loss: 8563.7969 - mse: 166253248.0000\n",
            "Epoch 24/100\n",
            "34/34 [==============================] - 0s 4ms/step - loss: 8461.0068 - mse: 161961616.0000\n",
            "Epoch 25/100\n",
            "34/34 [==============================] - 0s 4ms/step - loss: 8563.6904 - mse: 166760784.0000\n",
            "Epoch 26/100\n",
            "34/34 [==============================] - 0s 3ms/step - loss: 8441.2344 - mse: 164427712.0000\n",
            "Epoch 27/100\n",
            "34/34 [==============================] - 0s 3ms/step - loss: 8467.4277 - mse: 164272896.0000\n",
            "Epoch 28/100\n",
            "34/34 [==============================] - 0s 3ms/step - loss: 8450.4541 - mse: 162481840.0000\n",
            "Epoch 29/100\n",
            "34/34 [==============================] - 0s 3ms/step - loss: 8456.3193 - mse: 163219872.0000\n",
            "Epoch 30/100\n",
            "34/34 [==============================] - 0s 3ms/step - loss: 8443.0547 - mse: 162521072.0000\n",
            "Epoch 31/100\n",
            "34/34 [==============================] - 0s 4ms/step - loss: 8459.8857 - mse: 162645184.0000\n",
            "Epoch 32/100\n",
            "34/34 [==============================] - 0s 3ms/step - loss: 8485.8047 - mse: 163456272.0000\n",
            "Epoch 33/100\n",
            "34/34 [==============================] - 0s 3ms/step - loss: 8440.8418 - mse: 162725568.0000\n",
            "Epoch 34/100\n",
            "34/34 [==============================] - 0s 3ms/step - loss: 8467.5898 - mse: 163323008.0000\n",
            "Epoch 35/100\n",
            "34/34 [==============================] - 0s 4ms/step - loss: 8421.5498 - mse: 161688000.0000\n",
            "Epoch 36/100\n",
            "34/34 [==============================] - 0s 3ms/step - loss: 8465.0918 - mse: 162673200.0000\n",
            "Epoch 37/100\n",
            "34/34 [==============================] - 0s 4ms/step - loss: 8495.0508 - mse: 163266256.0000\n",
            "Epoch 38/100\n",
            "34/34 [==============================] - 0s 3ms/step - loss: 8400.6084 - mse: 162870320.0000\n",
            "Epoch 39/100\n",
            "34/34 [==============================] - 0s 4ms/step - loss: 8412.0469 - mse: 160875312.0000\n",
            "Epoch 40/100\n",
            "34/34 [==============================] - 0s 3ms/step - loss: 8433.9658 - mse: 162903232.0000\n",
            "Epoch 41/100\n",
            "34/34 [==============================] - 0s 4ms/step - loss: 8371.1045 - mse: 160842448.0000\n",
            "Epoch 42/100\n",
            "34/34 [==============================] - 0s 3ms/step - loss: 8421.8936 - mse: 161908768.0000\n",
            "Epoch 43/100\n",
            "34/34 [==============================] - 0s 3ms/step - loss: 8365.9385 - mse: 160400512.0000\n",
            "Epoch 44/100\n",
            "34/34 [==============================] - 0s 4ms/step - loss: 8372.2764 - mse: 162354000.0000\n",
            "Epoch 45/100\n",
            "34/34 [==============================] - 0s 5ms/step - loss: 8362.0977 - mse: 160988128.0000\n",
            "Epoch 46/100\n",
            "34/34 [==============================] - 0s 6ms/step - loss: 8376.6152 - mse: 160935488.0000\n",
            "Epoch 47/100\n",
            "34/34 [==============================] - 0s 6ms/step - loss: 8507.8516 - mse: 164032800.0000\n",
            "Epoch 48/100\n",
            "34/34 [==============================] - 0s 6ms/step - loss: 8412.3584 - mse: 162916288.0000\n",
            "Epoch 49/100\n",
            "34/34 [==============================] - 0s 5ms/step - loss: 8389.0605 - mse: 163039872.0000\n",
            "Epoch 50/100\n",
            "34/34 [==============================] - 0s 5ms/step - loss: 8328.8467 - mse: 159932576.0000\n",
            "Epoch 51/100\n",
            "34/34 [==============================] - 0s 5ms/step - loss: 8405.0420 - mse: 161503376.0000\n",
            "Epoch 52/100\n",
            "34/34 [==============================] - 0s 6ms/step - loss: 8429.9248 - mse: 162471200.0000\n",
            "Epoch 53/100\n",
            "34/34 [==============================] - 0s 6ms/step - loss: 8405.1963 - mse: 161458240.0000\n",
            "Epoch 54/100\n",
            "34/34 [==============================] - 0s 5ms/step - loss: 8418.2617 - mse: 162073744.0000\n",
            "Epoch 55/100\n",
            "34/34 [==============================] - 0s 5ms/step - loss: 8352.6211 - mse: 160033728.0000\n",
            "Epoch 56/100\n",
            "34/34 [==============================] - 0s 5ms/step - loss: 8408.5176 - mse: 161829584.0000\n",
            "Epoch 57/100\n",
            "34/34 [==============================] - 0s 5ms/step - loss: 8405.7959 - mse: 161326800.0000\n",
            "Epoch 58/100\n",
            "34/34 [==============================] - 0s 5ms/step - loss: 8407.8447 - mse: 162053760.0000\n",
            "Epoch 59/100\n",
            "34/34 [==============================] - 0s 5ms/step - loss: 8458.2715 - mse: 163633408.0000\n",
            "Epoch 60/100\n",
            "34/34 [==============================] - 0s 5ms/step - loss: 8377.4092 - mse: 161521696.0000\n",
            "Epoch 61/100\n",
            "34/34 [==============================] - 0s 5ms/step - loss: 8418.8535 - mse: 161853440.0000\n",
            "Epoch 62/100\n",
            "34/34 [==============================] - 0s 5ms/step - loss: 8398.7422 - mse: 162413568.0000\n",
            "Epoch 63/100\n",
            "34/34 [==============================] - 0s 5ms/step - loss: 8406.3564 - mse: 161418848.0000\n",
            "Epoch 64/100\n",
            "34/34 [==============================] - 0s 5ms/step - loss: 8384.7275 - mse: 161338416.0000\n",
            "Epoch 65/100\n",
            "34/34 [==============================] - 0s 4ms/step - loss: 8379.3643 - mse: 160645440.0000\n",
            "Epoch 66/100\n",
            "34/34 [==============================] - 0s 3ms/step - loss: 8355.9014 - mse: 161302912.0000\n",
            "Epoch 67/100\n",
            "34/34 [==============================] - 0s 6ms/step - loss: 8370.0410 - mse: 160758608.0000\n",
            "Epoch 68/100\n",
            "34/34 [==============================] - 0s 3ms/step - loss: 8323.0791 - mse: 160751008.0000\n",
            "Epoch 69/100\n",
            "34/34 [==============================] - 0s 3ms/step - loss: 8321.8525 - mse: 159950768.0000\n",
            "Epoch 70/100\n",
            "34/34 [==============================] - 0s 3ms/step - loss: 8363.7285 - mse: 160213056.0000\n",
            "Epoch 71/100\n",
            "34/34 [==============================] - 0s 3ms/step - loss: 8357.8115 - mse: 160731568.0000\n",
            "Epoch 72/100\n",
            "34/34 [==============================] - 0s 6ms/step - loss: 8367.8691 - mse: 160828656.0000\n",
            "Epoch 73/100\n",
            "34/34 [==============================] - 0s 4ms/step - loss: 8382.1836 - mse: 161180080.0000\n",
            "Epoch 74/100\n",
            "34/34 [==============================] - 0s 4ms/step - loss: 8370.9971 - mse: 160614160.0000\n",
            "Epoch 75/100\n",
            "34/34 [==============================] - 0s 3ms/step - loss: 8374.3389 - mse: 162005136.0000\n",
            "Epoch 76/100\n",
            "34/34 [==============================] - 0s 3ms/step - loss: 8380.4131 - mse: 161142512.0000\n",
            "Epoch 77/100\n",
            "34/34 [==============================] - 0s 3ms/step - loss: 8370.6689 - mse: 160254816.0000\n",
            "Epoch 78/100\n",
            "34/34 [==============================] - 0s 7ms/step - loss: 8379.4443 - mse: 162088464.0000\n",
            "Epoch 79/100\n",
            "34/34 [==============================] - 0s 3ms/step - loss: 8362.9092 - mse: 160710512.0000\n",
            "Epoch 80/100\n",
            "34/34 [==============================] - 0s 4ms/step - loss: 8361.8545 - mse: 162015616.0000\n",
            "Epoch 81/100\n",
            "34/34 [==============================] - 0s 3ms/step - loss: 8375.6416 - mse: 160279632.0000\n",
            "Epoch 82/100\n",
            "34/34 [==============================] - 0s 3ms/step - loss: 8360.2656 - mse: 161240352.0000\n",
            "Epoch 83/100\n",
            "34/34 [==============================] - 0s 4ms/step - loss: 8355.8232 - mse: 161371888.0000\n",
            "Epoch 84/100\n",
            "34/34 [==============================] - 0s 4ms/step - loss: 8317.8486 - mse: 160311280.0000\n",
            "Epoch 85/100\n",
            "34/34 [==============================] - 0s 3ms/step - loss: 8347.6416 - mse: 161044320.0000\n",
            "Epoch 86/100\n",
            "34/34 [==============================] - 0s 4ms/step - loss: 8342.9072 - mse: 160276624.0000\n",
            "Epoch 87/100\n",
            "34/34 [==============================] - 0s 3ms/step - loss: 8341.3252 - mse: 159671184.0000\n",
            "Epoch 88/100\n",
            "34/34 [==============================] - 0s 3ms/step - loss: 8368.8252 - mse: 160229664.0000\n",
            "Epoch 89/100\n",
            "34/34 [==============================] - 0s 3ms/step - loss: 8360.0410 - mse: 161534368.0000\n",
            "Epoch 90/100\n",
            "34/34 [==============================] - 0s 3ms/step - loss: 8344.3359 - mse: 160122400.0000\n",
            "Epoch 91/100\n",
            "34/34 [==============================] - 0s 3ms/step - loss: 8320.3096 - mse: 159778224.0000\n",
            "Epoch 92/100\n",
            "34/34 [==============================] - 0s 4ms/step - loss: 8361.1641 - mse: 161049024.0000\n",
            "Epoch 93/100\n",
            "34/34 [==============================] - 0s 3ms/step - loss: 8323.2617 - mse: 160061360.0000\n",
            "Epoch 94/100\n",
            "34/34 [==============================] - 0s 3ms/step - loss: 8328.7568 - mse: 160997360.0000\n",
            "Epoch 95/100\n",
            "34/34 [==============================] - 0s 4ms/step - loss: 8358.6250 - mse: 160403072.0000\n",
            "Epoch 96/100\n",
            "34/34 [==============================] - 0s 3ms/step - loss: 8326.0576 - mse: 159250848.0000\n",
            "Epoch 97/100\n",
            "34/34 [==============================] - 0s 3ms/step - loss: 8324.0547 - mse: 159874816.0000\n",
            "Epoch 98/100\n",
            "34/34 [==============================] - 0s 3ms/step - loss: 8299.2324 - mse: 160210304.0000\n",
            "Epoch 99/100\n",
            "34/34 [==============================] - 0s 3ms/step - loss: 8312.6865 - mse: 159734560.0000\n",
            "Epoch 100/100\n",
            "34/34 [==============================] - 0s 4ms/step - loss: 8324.9863 - mse: 160518880.0000\n"
          ]
        },
        {
          "output_type": "execute_result",
          "data": {
            "text/plain": [
              "<keras.callbacks.History at 0x7f0d2c01b6d0>"
            ]
          },
          "metadata": {},
          "execution_count": 8
        }
      ]
    },
    {
      "cell_type": "code",
      "source": [
        "# Verificar o resultado do modelo\n",
        "insurance_model.evaluate(X_test, Y_test)"
      ],
      "metadata": {
        "colab": {
          "base_uri": "https://localhost:8080/"
        },
        "id": "xa93xBdBI5G7",
        "outputId": "7fb69f6f-dbbe-461d-b970-9a709c95f6e4"
      },
      "execution_count": 9,
      "outputs": [
        {
          "output_type": "stream",
          "name": "stdout",
          "text": [
            "9/9 [==============================] - 0s 3ms/step - loss: 8656.6025 - mse: 165416784.0000\n"
          ]
        },
        {
          "output_type": "execute_result",
          "data": {
            "text/plain": [
              "[8656.6025390625, 165416784.0]"
            ]
          },
          "metadata": {},
          "execution_count": 9
        }
      ]
    },
    {
      "cell_type": "code",
      "source": [
        "Y_train.median(), Y_train.mean()"
      ],
      "metadata": {
        "colab": {
          "base_uri": "https://localhost:8080/"
        },
        "id": "UN8UiZUBJXO3",
        "outputId": "6c6e1916-1f58-4bce-bb93-db7957488a45"
      },
      "execution_count": 10,
      "outputs": [
        {
          "output_type": "execute_result",
          "data": {
            "text/plain": [
              "(9575.4421, 13346.089736364485)"
            ]
          },
          "metadata": {},
          "execution_count": 10
        }
      ]
    },
    {
      "cell_type": "code",
      "source": [
        "from keras.engine.training import optimizer\n",
        "tf.random.set_seed(42)\n",
        "\n",
        "insurance_model_2 = tf.keras.Sequential([\n",
        "    tf.keras.layers.Dense(100),\n",
        "    tf.keras.layers.Dense(10),\n",
        "    tf.keras.layers.Dense(1),\n",
        "])\n",
        "\n",
        "insurance_model_2.compile(loss=tf.keras.losses.mae,\n",
        "                          optimizer=tf.keras.optimizers.Adam(),\n",
        "                          metrics=[\"mae\"])\n",
        "\n",
        "history = insurance_model_2.fit(tf.expand_dims(X_train, axis=-1), Y_train, epochs=200)"
      ],
      "metadata": {
        "colab": {
          "base_uri": "https://localhost:8080/"
        },
        "id": "Wg8E2dwzJwc4",
        "outputId": "9456fb6c-29c1-493f-ceb2-0697b34eb902"
      },
      "execution_count": 11,
      "outputs": [
        {
          "output_type": "stream",
          "name": "stdout",
          "text": [
            "Epoch 1/200\n",
            "34/34 [==============================] - 2s 6ms/step - loss: 13339.1621 - mae: 13339.1621\n",
            "Epoch 2/200\n",
            "34/34 [==============================] - 0s 7ms/step - loss: 13318.5615 - mae: 13318.5615\n",
            "Epoch 3/200\n",
            "34/34 [==============================] - 0s 7ms/step - loss: 13278.3438 - mae: 13278.3438\n",
            "Epoch 4/200\n",
            "34/34 [==============================] - 0s 6ms/step - loss: 13203.0928 - mae: 13203.0928\n",
            "Epoch 5/200\n",
            "34/34 [==============================] - 0s 7ms/step - loss: 13076.4902 - mae: 13076.4902\n",
            "Epoch 6/200\n",
            "34/34 [==============================] - 0s 7ms/step - loss: 12887.1436 - mae: 12887.1436\n",
            "Epoch 7/200\n",
            "34/34 [==============================] - 0s 6ms/step - loss: 12645.2197 - mae: 12645.2197\n",
            "Epoch 8/200\n",
            "34/34 [==============================] - 0s 7ms/step - loss: 12386.6846 - mae: 12386.6846\n",
            "Epoch 9/200\n",
            "34/34 [==============================] - 0s 6ms/step - loss: 12184.8154 - mae: 12184.8154\n",
            "Epoch 10/200\n",
            "34/34 [==============================] - 0s 6ms/step - loss: 12106.6348 - mae: 12106.6348\n",
            "Epoch 11/200\n",
            "34/34 [==============================] - 0s 6ms/step - loss: 12080.1162 - mae: 12080.1162\n",
            "Epoch 12/200\n",
            "34/34 [==============================] - 0s 6ms/step - loss: 12057.7305 - mae: 12057.7305\n",
            "Epoch 13/200\n",
            "34/34 [==============================] - 0s 4ms/step - loss: 12035.5312 - mae: 12035.5312\n",
            "Epoch 14/200\n",
            "34/34 [==============================] - 0s 4ms/step - loss: 12012.1143 - mae: 12012.1143\n",
            "Epoch 15/200\n",
            "34/34 [==============================] - 0s 4ms/step - loss: 11987.3359 - mae: 11987.3359\n",
            "Epoch 16/200\n",
            "34/34 [==============================] - 0s 4ms/step - loss: 11960.2080 - mae: 11960.2080\n",
            "Epoch 17/200\n",
            "34/34 [==============================] - 0s 4ms/step - loss: 11930.5801 - mae: 11930.5801\n",
            "Epoch 18/200\n",
            "34/34 [==============================] - 0s 4ms/step - loss: 11897.6523 - mae: 11897.6523\n",
            "Epoch 19/200\n",
            "34/34 [==============================] - 0s 4ms/step - loss: 11860.8008 - mae: 11860.8008\n",
            "Epoch 20/200\n",
            "34/34 [==============================] - 0s 4ms/step - loss: 11818.4482 - mae: 11818.4482\n",
            "Epoch 21/200\n",
            "34/34 [==============================] - 0s 4ms/step - loss: 11770.0938 - mae: 11770.0938\n",
            "Epoch 22/200\n",
            "34/34 [==============================] - 0s 4ms/step - loss: 11713.7627 - mae: 11713.7627\n",
            "Epoch 23/200\n",
            "34/34 [==============================] - 0s 4ms/step - loss: 11647.7500 - mae: 11647.7500\n",
            "Epoch 24/200\n",
            "34/34 [==============================] - 0s 4ms/step - loss: 11569.8535 - mae: 11569.8535\n",
            "Epoch 25/200\n",
            "34/34 [==============================] - 0s 4ms/step - loss: 11478.7842 - mae: 11478.7842\n",
            "Epoch 26/200\n",
            "34/34 [==============================] - 0s 4ms/step - loss: 11368.9844 - mae: 11368.9844\n",
            "Epoch 27/200\n",
            "34/34 [==============================] - 0s 4ms/step - loss: 11242.0352 - mae: 11242.0352\n",
            "Epoch 28/200\n",
            "34/34 [==============================] - 0s 4ms/step - loss: 11095.8408 - mae: 11095.8408\n",
            "Epoch 29/200\n",
            "34/34 [==============================] - 0s 4ms/step - loss: 10933.0615 - mae: 10933.0615\n",
            "Epoch 30/200\n",
            "34/34 [==============================] - 0s 4ms/step - loss: 10762.2900 - mae: 10762.2900\n",
            "Epoch 31/200\n",
            "34/34 [==============================] - 0s 4ms/step - loss: 10582.5752 - mae: 10582.5752\n",
            "Epoch 32/200\n",
            "34/34 [==============================] - 0s 4ms/step - loss: 10401.2656 - mae: 10401.2656\n",
            "Epoch 33/200\n",
            "34/34 [==============================] - 0s 4ms/step - loss: 10215.5361 - mae: 10215.5361\n",
            "Epoch 34/200\n",
            "34/34 [==============================] - 0s 4ms/step - loss: 10030.6953 - mae: 10030.6953\n",
            "Epoch 35/200\n",
            "34/34 [==============================] - 0s 4ms/step - loss: 9838.5439 - mae: 9838.5439\n",
            "Epoch 36/200\n",
            "34/34 [==============================] - 0s 4ms/step - loss: 9651.4414 - mae: 9651.4414\n",
            "Epoch 37/200\n",
            "34/34 [==============================] - 0s 4ms/step - loss: 9470.4326 - mae: 9470.4326\n",
            "Epoch 38/200\n",
            "34/34 [==============================] - 0s 4ms/step - loss: 9300.6104 - mae: 9300.6104\n",
            "Epoch 39/200\n",
            "34/34 [==============================] - 0s 5ms/step - loss: 9146.0400 - mae: 9146.0400\n",
            "Epoch 40/200\n",
            "34/34 [==============================] - 0s 4ms/step - loss: 9007.0840 - mae: 9007.0840\n",
            "Epoch 41/200\n",
            "34/34 [==============================] - 0s 4ms/step - loss: 8884.8809 - mae: 8884.8809\n",
            "Epoch 42/200\n",
            "34/34 [==============================] - 0s 4ms/step - loss: 8770.3516 - mae: 8770.3516\n",
            "Epoch 43/200\n",
            "34/34 [==============================] - 0s 4ms/step - loss: 8669.6309 - mae: 8669.6309\n",
            "Epoch 44/200\n",
            "34/34 [==============================] - 0s 4ms/step - loss: 8577.1680 - mae: 8577.1680\n",
            "Epoch 45/200\n",
            "34/34 [==============================] - 0s 4ms/step - loss: 8512.3525 - mae: 8512.3525\n",
            "Epoch 46/200\n",
            "34/34 [==============================] - 0s 4ms/step - loss: 8454.7461 - mae: 8454.7461\n",
            "Epoch 47/200\n",
            "34/34 [==============================] - 0s 4ms/step - loss: 8418.6338 - mae: 8418.6338\n",
            "Epoch 48/200\n",
            "34/34 [==============================] - 0s 4ms/step - loss: 8378.9512 - mae: 8378.9512\n",
            "Epoch 49/200\n",
            "34/34 [==============================] - 0s 4ms/step - loss: 8352.7080 - mae: 8352.7080\n",
            "Epoch 50/200\n",
            "34/34 [==============================] - 0s 4ms/step - loss: 8330.3477 - mae: 8330.3477\n",
            "Epoch 51/200\n",
            "34/34 [==============================] - 0s 4ms/step - loss: 8316.2510 - mae: 8316.2510\n",
            "Epoch 52/200\n",
            "34/34 [==============================] - 0s 4ms/step - loss: 8309.7139 - mae: 8309.7139\n",
            "Epoch 53/200\n",
            "34/34 [==============================] - 0s 4ms/step - loss: 8294.2266 - mae: 8294.2266\n",
            "Epoch 54/200\n",
            "34/34 [==============================] - 0s 4ms/step - loss: 8288.2666 - mae: 8288.2666\n",
            "Epoch 55/200\n",
            "34/34 [==============================] - 0s 4ms/step - loss: 8286.4873 - mae: 8286.4873\n",
            "Epoch 56/200\n",
            "34/34 [==============================] - 0s 4ms/step - loss: 8282.2061 - mae: 8282.2061\n",
            "Epoch 57/200\n",
            "34/34 [==============================] - 0s 4ms/step - loss: 8279.8115 - mae: 8279.8115\n",
            "Epoch 58/200\n",
            "34/34 [==============================] - 0s 4ms/step - loss: 8278.0078 - mae: 8278.0078\n",
            "Epoch 59/200\n",
            "34/34 [==============================] - 0s 4ms/step - loss: 8278.3613 - mae: 8278.3613\n",
            "Epoch 60/200\n",
            "34/34 [==============================] - 0s 4ms/step - loss: 8280.2363 - mae: 8280.2363\n",
            "Epoch 61/200\n",
            "34/34 [==============================] - 0s 5ms/step - loss: 8278.2295 - mae: 8278.2295\n",
            "Epoch 62/200\n",
            "34/34 [==============================] - 0s 4ms/step - loss: 8275.1436 - mae: 8275.1436\n",
            "Epoch 63/200\n",
            "34/34 [==============================] - 0s 4ms/step - loss: 8275.8809 - mae: 8275.8809\n",
            "Epoch 64/200\n",
            "34/34 [==============================] - 0s 4ms/step - loss: 8274.6836 - mae: 8274.6836\n",
            "Epoch 65/200\n",
            "34/34 [==============================] - 0s 4ms/step - loss: 8274.2559 - mae: 8274.2559\n",
            "Epoch 66/200\n",
            "34/34 [==============================] - 0s 4ms/step - loss: 8273.5713 - mae: 8273.5713\n",
            "Epoch 67/200\n",
            "34/34 [==============================] - 0s 4ms/step - loss: 8276.9102 - mae: 8276.9102\n",
            "Epoch 68/200\n",
            "34/34 [==============================] - 0s 4ms/step - loss: 8274.4824 - mae: 8274.4824\n",
            "Epoch 69/200\n",
            "34/34 [==============================] - 0s 4ms/step - loss: 8274.3418 - mae: 8274.3418\n",
            "Epoch 70/200\n",
            "34/34 [==============================] - 0s 4ms/step - loss: 8277.0303 - mae: 8277.0303\n",
            "Epoch 71/200\n",
            "34/34 [==============================] - 0s 4ms/step - loss: 8275.6045 - mae: 8275.6045\n",
            "Epoch 72/200\n",
            "34/34 [==============================] - 0s 4ms/step - loss: 8276.0518 - mae: 8276.0518\n",
            "Epoch 73/200\n",
            "34/34 [==============================] - 0s 4ms/step - loss: 8274.3916 - mae: 8274.3916\n",
            "Epoch 74/200\n",
            "34/34 [==============================] - 0s 4ms/step - loss: 8273.6797 - mae: 8273.6797\n",
            "Epoch 75/200\n",
            "34/34 [==============================] - 0s 4ms/step - loss: 8273.7559 - mae: 8273.7559\n",
            "Epoch 76/200\n",
            "34/34 [==============================] - 0s 4ms/step - loss: 8276.5811 - mae: 8276.5811\n",
            "Epoch 77/200\n",
            "34/34 [==============================] - 0s 4ms/step - loss: 8273.0215 - mae: 8273.0215\n",
            "Epoch 78/200\n",
            "34/34 [==============================] - 0s 4ms/step - loss: 8274.1885 - mae: 8274.1885\n",
            "Epoch 79/200\n",
            "34/34 [==============================] - 0s 4ms/step - loss: 8275.1719 - mae: 8275.1719\n",
            "Epoch 80/200\n",
            "34/34 [==============================] - 0s 4ms/step - loss: 8273.0684 - mae: 8273.0684\n",
            "Epoch 81/200\n",
            "34/34 [==============================] - 0s 4ms/step - loss: 8274.0752 - mae: 8274.0752\n",
            "Epoch 82/200\n",
            "34/34 [==============================] - 0s 4ms/step - loss: 8274.8760 - mae: 8274.8760\n",
            "Epoch 83/200\n",
            "34/34 [==============================] - 0s 4ms/step - loss: 8279.2021 - mae: 8279.2021\n",
            "Epoch 84/200\n",
            "34/34 [==============================] - 0s 5ms/step - loss: 8273.3633 - mae: 8273.3633\n",
            "Epoch 85/200\n",
            "34/34 [==============================] - 0s 6ms/step - loss: 8277.3213 - mae: 8277.3213\n",
            "Epoch 86/200\n",
            "34/34 [==============================] - 0s 6ms/step - loss: 8274.9990 - mae: 8274.9990\n",
            "Epoch 87/200\n",
            "34/34 [==============================] - 0s 6ms/step - loss: 8275.8809 - mae: 8275.8809\n",
            "Epoch 88/200\n",
            "34/34 [==============================] - 0s 6ms/step - loss: 8273.7305 - mae: 8273.7305\n",
            "Epoch 89/200\n",
            "34/34 [==============================] - 0s 6ms/step - loss: 8273.5684 - mae: 8273.5684\n",
            "Epoch 90/200\n",
            "34/34 [==============================] - 0s 6ms/step - loss: 8275.5713 - mae: 8275.5713\n",
            "Epoch 91/200\n",
            "34/34 [==============================] - 0s 6ms/step - loss: 8273.6660 - mae: 8273.6660\n",
            "Epoch 92/200\n",
            "34/34 [==============================] - 0s 6ms/step - loss: 8274.7041 - mae: 8274.7041\n",
            "Epoch 93/200\n",
            "34/34 [==============================] - 0s 7ms/step - loss: 8274.6670 - mae: 8274.6670\n",
            "Epoch 94/200\n",
            "34/34 [==============================] - 0s 6ms/step - loss: 8275.5547 - mae: 8275.5547\n",
            "Epoch 95/200\n",
            "34/34 [==============================] - 0s 6ms/step - loss: 8274.8301 - mae: 8274.8301\n",
            "Epoch 96/200\n",
            "34/34 [==============================] - 0s 6ms/step - loss: 8274.3350 - mae: 8274.3350\n",
            "Epoch 97/200\n",
            "34/34 [==============================] - 0s 6ms/step - loss: 8276.8369 - mae: 8276.8369\n",
            "Epoch 98/200\n",
            "34/34 [==============================] - 0s 7ms/step - loss: 8273.8574 - mae: 8273.8574\n",
            "Epoch 99/200\n",
            "34/34 [==============================] - 0s 6ms/step - loss: 8274.1982 - mae: 8274.1982\n",
            "Epoch 100/200\n",
            "34/34 [==============================] - 0s 6ms/step - loss: 8273.8096 - mae: 8273.8096\n",
            "Epoch 101/200\n",
            "34/34 [==============================] - 0s 4ms/step - loss: 8276.1309 - mae: 8276.1309\n",
            "Epoch 102/200\n",
            "34/34 [==============================] - 0s 4ms/step - loss: 8276.0605 - mae: 8276.0605\n",
            "Epoch 103/200\n",
            "34/34 [==============================] - 0s 4ms/step - loss: 8274.8799 - mae: 8274.8799\n",
            "Epoch 104/200\n",
            "34/34 [==============================] - 0s 4ms/step - loss: 8273.5547 - mae: 8273.5547\n",
            "Epoch 105/200\n",
            "34/34 [==============================] - 0s 4ms/step - loss: 8273.9521 - mae: 8273.9521\n",
            "Epoch 106/200\n",
            "34/34 [==============================] - 0s 4ms/step - loss: 8273.5771 - mae: 8273.5771\n",
            "Epoch 107/200\n",
            "34/34 [==============================] - 0s 4ms/step - loss: 8275.5996 - mae: 8275.5996\n",
            "Epoch 108/200\n",
            "34/34 [==============================] - 0s 4ms/step - loss: 8279.2393 - mae: 8279.2393\n",
            "Epoch 109/200\n",
            "34/34 [==============================] - 0s 4ms/step - loss: 8275.2676 - mae: 8275.2676\n",
            "Epoch 110/200\n",
            "34/34 [==============================] - 0s 4ms/step - loss: 8276.6914 - mae: 8276.6914\n",
            "Epoch 111/200\n",
            "34/34 [==============================] - 0s 4ms/step - loss: 8276.3877 - mae: 8276.3877\n",
            "Epoch 112/200\n",
            "34/34 [==============================] - 0s 4ms/step - loss: 8273.4678 - mae: 8273.4678\n",
            "Epoch 113/200\n",
            "34/34 [==============================] - 0s 4ms/step - loss: 8273.7812 - mae: 8273.7812\n",
            "Epoch 114/200\n",
            "34/34 [==============================] - 0s 4ms/step - loss: 8273.9727 - mae: 8273.9727\n",
            "Epoch 115/200\n",
            "34/34 [==============================] - 0s 4ms/step - loss: 8275.6328 - mae: 8275.6328\n",
            "Epoch 116/200\n",
            "34/34 [==============================] - 0s 4ms/step - loss: 8275.3750 - mae: 8275.3750\n",
            "Epoch 117/200\n",
            "34/34 [==============================] - 0s 4ms/step - loss: 8275.4160 - mae: 8275.4160\n",
            "Epoch 118/200\n",
            "34/34 [==============================] - 0s 4ms/step - loss: 8274.5830 - mae: 8274.5830\n",
            "Epoch 119/200\n",
            "34/34 [==============================] - 0s 4ms/step - loss: 8276.1777 - mae: 8276.1777\n",
            "Epoch 120/200\n",
            "34/34 [==============================] - 0s 4ms/step - loss: 8273.6816 - mae: 8273.6816\n",
            "Epoch 121/200\n",
            "34/34 [==============================] - 0s 4ms/step - loss: 8273.8896 - mae: 8273.8896\n",
            "Epoch 122/200\n",
            "34/34 [==============================] - 0s 4ms/step - loss: 8273.7412 - mae: 8273.7412\n",
            "Epoch 123/200\n",
            "34/34 [==============================] - 0s 4ms/step - loss: 8274.3008 - mae: 8274.3008\n",
            "Epoch 124/200\n",
            "34/34 [==============================] - 0s 4ms/step - loss: 8274.0977 - mae: 8274.0977\n",
            "Epoch 125/200\n",
            "34/34 [==============================] - 0s 4ms/step - loss: 8275.4678 - mae: 8275.4678\n",
            "Epoch 126/200\n",
            "34/34 [==============================] - 0s 4ms/step - loss: 8275.5000 - mae: 8275.5000\n",
            "Epoch 127/200\n",
            "34/34 [==============================] - 0s 4ms/step - loss: 8274.8652 - mae: 8274.8652\n",
            "Epoch 128/200\n",
            "34/34 [==============================] - 0s 4ms/step - loss: 8274.5684 - mae: 8274.5684\n",
            "Epoch 129/200\n",
            "34/34 [==============================] - 0s 4ms/step - loss: 8275.1094 - mae: 8275.1094\n",
            "Epoch 130/200\n",
            "34/34 [==============================] - 0s 4ms/step - loss: 8274.7900 - mae: 8274.7900\n",
            "Epoch 131/200\n",
            "34/34 [==============================] - 0s 4ms/step - loss: 8276.8145 - mae: 8276.8145\n",
            "Epoch 132/200\n",
            "34/34 [==============================] - 0s 4ms/step - loss: 8276.2002 - mae: 8276.2002\n",
            "Epoch 133/200\n",
            "34/34 [==============================] - 0s 4ms/step - loss: 8274.9854 - mae: 8274.9854\n",
            "Epoch 134/200\n",
            "34/34 [==============================] - 0s 4ms/step - loss: 8273.4990 - mae: 8273.4990\n",
            "Epoch 135/200\n",
            "34/34 [==============================] - 0s 4ms/step - loss: 8273.8369 - mae: 8273.8369\n",
            "Epoch 136/200\n",
            "34/34 [==============================] - 0s 4ms/step - loss: 8273.7246 - mae: 8273.7246\n",
            "Epoch 137/200\n",
            "34/34 [==============================] - 0s 4ms/step - loss: 8274.0322 - mae: 8274.0322\n",
            "Epoch 138/200\n",
            "34/34 [==============================] - 0s 4ms/step - loss: 8274.3877 - mae: 8274.3877\n",
            "Epoch 139/200\n",
            "34/34 [==============================] - 0s 4ms/step - loss: 8274.4160 - mae: 8274.4160\n",
            "Epoch 140/200\n",
            "34/34 [==============================] - 0s 4ms/step - loss: 8273.7373 - mae: 8273.7373\n",
            "Epoch 141/200\n",
            "34/34 [==============================] - 0s 4ms/step - loss: 8274.3193 - mae: 8274.3193\n",
            "Epoch 142/200\n",
            "34/34 [==============================] - 0s 4ms/step - loss: 8276.7139 - mae: 8276.7139\n",
            "Epoch 143/200\n",
            "34/34 [==============================] - 0s 4ms/step - loss: 8276.6660 - mae: 8276.6660\n",
            "Epoch 144/200\n",
            "34/34 [==============================] - 0s 4ms/step - loss: 8279.1904 - mae: 8279.1904\n",
            "Epoch 145/200\n",
            "34/34 [==============================] - 0s 4ms/step - loss: 8275.1191 - mae: 8275.1191\n",
            "Epoch 146/200\n",
            "34/34 [==============================] - 0s 4ms/step - loss: 8275.7188 - mae: 8275.7188\n",
            "Epoch 147/200\n",
            "34/34 [==============================] - 0s 4ms/step - loss: 8275.8887 - mae: 8275.8887\n",
            "Epoch 148/200\n",
            "34/34 [==============================] - 0s 4ms/step - loss: 8275.2617 - mae: 8275.2617\n",
            "Epoch 149/200\n",
            "34/34 [==============================] - 0s 4ms/step - loss: 8274.9238 - mae: 8274.9238\n",
            "Epoch 150/200\n",
            "34/34 [==============================] - 0s 5ms/step - loss: 8273.7578 - mae: 8273.7578\n",
            "Epoch 151/200\n",
            "34/34 [==============================] - 0s 4ms/step - loss: 8274.3955 - mae: 8274.3955\n",
            "Epoch 152/200\n",
            "34/34 [==============================] - 0s 4ms/step - loss: 8274.0840 - mae: 8274.0840\n",
            "Epoch 153/200\n",
            "34/34 [==============================] - 0s 4ms/step - loss: 8277.1572 - mae: 8277.1572\n",
            "Epoch 154/200\n",
            "34/34 [==============================] - 0s 4ms/step - loss: 8276.3535 - mae: 8276.3535\n",
            "Epoch 155/200\n",
            "34/34 [==============================] - 0s 4ms/step - loss: 8274.1680 - mae: 8274.1680\n",
            "Epoch 156/200\n",
            "34/34 [==============================] - 0s 4ms/step - loss: 8273.6416 - mae: 8273.6416\n",
            "Epoch 157/200\n",
            "34/34 [==============================] - 0s 4ms/step - loss: 8275.7715 - mae: 8275.7715\n",
            "Epoch 158/200\n",
            "34/34 [==============================] - 0s 4ms/step - loss: 8274.5361 - mae: 8274.5361\n",
            "Epoch 159/200\n",
            "34/34 [==============================] - 0s 4ms/step - loss: 8273.4980 - mae: 8273.4980\n",
            "Epoch 160/200\n",
            "34/34 [==============================] - 0s 4ms/step - loss: 8274.8809 - mae: 8274.8809\n",
            "Epoch 161/200\n",
            "34/34 [==============================] - 0s 4ms/step - loss: 8273.6719 - mae: 8273.6719\n",
            "Epoch 162/200\n",
            "34/34 [==============================] - 0s 4ms/step - loss: 8274.5820 - mae: 8274.5820\n",
            "Epoch 163/200\n",
            "34/34 [==============================] - 0s 4ms/step - loss: 8274.3564 - mae: 8274.3564\n",
            "Epoch 164/200\n",
            "34/34 [==============================] - 0s 4ms/step - loss: 8273.8652 - mae: 8273.8652\n",
            "Epoch 165/200\n",
            "34/34 [==============================] - 0s 4ms/step - loss: 8276.4453 - mae: 8276.4453\n",
            "Epoch 166/200\n",
            "34/34 [==============================] - 0s 4ms/step - loss: 8275.4619 - mae: 8275.4619\n",
            "Epoch 167/200\n",
            "34/34 [==============================] - 0s 4ms/step - loss: 8274.4375 - mae: 8274.4375\n",
            "Epoch 168/200\n",
            "34/34 [==============================] - 0s 4ms/step - loss: 8274.2539 - mae: 8274.2539\n",
            "Epoch 169/200\n",
            "34/34 [==============================] - 0s 4ms/step - loss: 8273.7637 - mae: 8273.7637\n",
            "Epoch 170/200\n",
            "34/34 [==============================] - 0s 4ms/step - loss: 8275.1602 - mae: 8275.1602\n",
            "Epoch 171/200\n",
            "34/34 [==============================] - 0s 4ms/step - loss: 8274.4795 - mae: 8274.4795\n",
            "Epoch 172/200\n",
            "34/34 [==============================] - 0s 6ms/step - loss: 8275.2178 - mae: 8275.2178\n",
            "Epoch 173/200\n",
            "34/34 [==============================] - 0s 6ms/step - loss: 8275.1191 - mae: 8275.1191\n",
            "Epoch 174/200\n",
            "34/34 [==============================] - 0s 6ms/step - loss: 8274.5557 - mae: 8274.5557\n",
            "Epoch 175/200\n",
            "34/34 [==============================] - 0s 6ms/step - loss: 8275.8486 - mae: 8275.8486\n",
            "Epoch 176/200\n",
            "34/34 [==============================] - 0s 6ms/step - loss: 8275.8271 - mae: 8275.8271\n",
            "Epoch 177/200\n",
            "34/34 [==============================] - 0s 6ms/step - loss: 8274.1514 - mae: 8274.1514\n",
            "Epoch 178/200\n",
            "34/34 [==============================] - 0s 6ms/step - loss: 8274.1631 - mae: 8274.1631\n",
            "Epoch 179/200\n",
            "34/34 [==============================] - 0s 6ms/step - loss: 8274.2236 - mae: 8274.2236\n",
            "Epoch 180/200\n",
            "34/34 [==============================] - 0s 6ms/step - loss: 8274.6182 - mae: 8274.6182\n",
            "Epoch 181/200\n",
            "34/34 [==============================] - 0s 6ms/step - loss: 8274.5088 - mae: 8274.5088\n",
            "Epoch 182/200\n",
            "34/34 [==============================] - 0s 6ms/step - loss: 8273.7656 - mae: 8273.7656\n",
            "Epoch 183/200\n",
            "34/34 [==============================] - 0s 6ms/step - loss: 8274.5234 - mae: 8274.5234\n",
            "Epoch 184/200\n",
            "34/34 [==============================] - 0s 7ms/step - loss: 8277.0020 - mae: 8277.0020\n",
            "Epoch 185/200\n",
            "34/34 [==============================] - 0s 6ms/step - loss: 8276.3232 - mae: 8276.3232\n",
            "Epoch 186/200\n",
            "34/34 [==============================] - 0s 6ms/step - loss: 8275.7891 - mae: 8275.7891\n",
            "Epoch 187/200\n",
            "34/34 [==============================] - 0s 6ms/step - loss: 8277.0928 - mae: 8277.0928\n",
            "Epoch 188/200\n",
            "34/34 [==============================] - 0s 7ms/step - loss: 8273.4707 - mae: 8273.4707\n",
            "Epoch 189/200\n",
            "34/34 [==============================] - 0s 6ms/step - loss: 8275.1240 - mae: 8275.1240\n",
            "Epoch 190/200\n",
            "34/34 [==============================] - 0s 4ms/step - loss: 8276.2764 - mae: 8276.2764\n",
            "Epoch 191/200\n",
            "34/34 [==============================] - 0s 4ms/step - loss: 8273.7168 - mae: 8273.7168\n",
            "Epoch 192/200\n",
            "34/34 [==============================] - 0s 4ms/step - loss: 8274.0303 - mae: 8274.0303\n",
            "Epoch 193/200\n",
            "34/34 [==============================] - 0s 4ms/step - loss: 8275.5781 - mae: 8275.5781\n",
            "Epoch 194/200\n",
            "34/34 [==============================] - 0s 4ms/step - loss: 8273.5469 - mae: 8273.5469\n",
            "Epoch 195/200\n",
            "34/34 [==============================] - 0s 4ms/step - loss: 8274.8018 - mae: 8274.8018\n",
            "Epoch 196/200\n",
            "34/34 [==============================] - 0s 4ms/step - loss: 8275.0039 - mae: 8275.0039\n",
            "Epoch 197/200\n",
            "34/34 [==============================] - 0s 4ms/step - loss: 8274.9287 - mae: 8274.9287\n",
            "Epoch 198/200\n",
            "34/34 [==============================] - 0s 4ms/step - loss: 8274.8887 - mae: 8274.8887\n",
            "Epoch 199/200\n",
            "34/34 [==============================] - 0s 4ms/step - loss: 8273.8047 - mae: 8273.8047\n",
            "Epoch 200/200\n",
            "34/34 [==============================] - 0s 4ms/step - loss: 8276.8887 - mae: 8276.8887\n"
          ]
        }
      ]
    },
    {
      "cell_type": "code",
      "source": [
        "insurance_model_2.evaluate(X_test, Y_test)"
      ],
      "metadata": {
        "colab": {
          "base_uri": "https://localhost:8080/"
        },
        "id": "M26yDeYJQ9gU",
        "outputId": "72826aca-3f9a-4288-dc22-45c226af7e90"
      },
      "execution_count": 12,
      "outputs": [
        {
          "output_type": "stream",
          "name": "stdout",
          "text": [
            "9/9 [==============================] - 0s 3ms/step - loss: 8632.8066 - mae: 8632.8066\n"
          ]
        },
        {
          "output_type": "execute_result",
          "data": {
            "text/plain": [
              "[8632.806640625, 8632.806640625]"
            ]
          },
          "metadata": {},
          "execution_count": 12
        }
      ]
    },
    {
      "cell_type": "code",
      "source": [
        "# Plot o history (conhecido como curva de erros ou curva de treino)\n",
        "pd.DataFrame(history.history).plot()\n",
        "plt.ylabel(\"loss\")\n",
        "plt.xlabel(\"epochs\")"
      ],
      "metadata": {
        "colab": {
          "base_uri": "https://localhost:8080/",
          "height": 466
        },
        "id": "LgS8JQKBS6_b",
        "outputId": "c39aa136-a39f-4b79-9c5e-e3c3f26599f2"
      },
      "execution_count": 13,
      "outputs": [
        {
          "output_type": "execute_result",
          "data": {
            "text/plain": [
              "Text(0.5, 0, 'epochs')"
            ]
          },
          "metadata": {},
          "execution_count": 13
        },
        {
          "output_type": "display_data",
          "data": {
            "text/plain": [
              "<Figure size 640x480 with 1 Axes>"
            ],
            "image/png": "[encoded data removed]"
          },
          "metadata": {}
        }
      ]
    },
    {
      "cell_type": "markdown",
      "source": [
        "## Pré-processando dados (normalização e padronização)\n",
        "\n",
        "Em termo de valores escalaveis, redes neurais tendem a preferir a NORMALIZAÇÃO de dados. Pois a PADRONIZAÇÃO afeta a influência dos OUTLAYERS.\n",
        "\n"
      ],
      "metadata": {
        "id": "Nr_Rq1PK9Wpk"
      }
    },
    {
      "cell_type": "code",
      "source": [
        "import pandas as pd\n",
        "import matplotlib.pyplot as plt\n",
        "import tensorflow as tf\n",
        "\n",
        "# Ler a base de dados de insurance\n",
        "insurance = pd.read_csv(\"https://raw.githubusercontent.com/stedy/Machine-Learning-with-R-datasets/master/insurance.csv\")\n",
        "insurance"
      ],
      "metadata": {
        "colab": {
          "base_uri": "https://localhost:8080/",
          "height": 424
        },
        "id": "Q_m9PnM-A96s",
        "outputId": "3e3c0035-17a2-4bc2-db22-a48550b8055a"
      },
      "execution_count": 21,
      "outputs": [
        {
          "output_type": "execute_result",
          "data": {
            "text/plain": [
              "      age     sex     bmi  children smoker     region      charges\n",
              "0      19  female  27.900         0    yes  southwest  16884.92400\n",
              "1      18    male  33.770         1     no  southeast   1725.55230\n",
              "2      28    male  33.000         3     no  southeast   4449.46200\n",
              "3      33    male  22.705         0     no  northwest  21984.47061\n",
              "4      32    male  28.880         0     no  northwest   3866.85520\n",
              "...   ...     ...     ...       ...    ...        ...          ...\n",
              "1333   50    male  30.970         3     no  northwest  10600.54830\n",
              "1334   18  female  31.920         0     no  northeast   2205.98080\n",
              "1335   18  female  36.850         0     no  southeast   1629.83350\n",
              "1336   21  female  25.800         0     no  southwest   2007.94500\n",
              "1337   61  female  29.070         0    yes  northwest  29141.36030\n",
              "\n",
              "[1338 rows x 7 columns]"
            ],
            "text/html": [
              "\n",
              "  <div id=\"df-d1d0ec3a-8c2d-42d6-9562-da3d59f2c7a7\">\n",
              "    <div class=\"colab-df-container\">\n",
              "      <div>\n",
              "<style scoped>\n",
              "    .dataframe tbody tr th:only-of-type {\n",
              "        vertical-align: middle;\n",
              "    }\n",
              "\n",
              "    .dataframe tbody tr th {\n",
              "        vertical-align: top;\n",
              "    }\n",
              "\n",
              "    .dataframe thead th {\n",
              "        text-align: right;\n",
              "    }\n",
              "</style>\n",
              "<table border=\"1\" class=\"dataframe\">\n",
              "  <thead>\n",
              "    <tr style=\"text-align: right;\">\n",
              "      <th></th>\n",
              "      <th>age</th>\n",
              "      <th>sex</th>\n",
              "      <th>bmi</th>\n",
              "      <th>children</th>\n",
              "      <th>smoker</th>\n",
              "      <th>region</th>\n",
              "      <th>charges</th>\n",
              "    </tr>\n",
              "  </thead>\n",
              "  <tbody>\n",
              "    <tr>\n",
              "      <th>0</th>\n",
              "      <td>19</td>\n",
              "      <td>female</td>\n",
              "      <td>27.900</td>\n",
              "      <td>0</td>\n",
              "      <td>yes</td>\n",
              "      <td>southwest</td>\n",
              "      <td>16884.92400</td>\n",
              "    </tr>\n",
              "    <tr>\n",
              "      <th>1</th>\n",
              "      <td>18</td>\n",
              "      <td>male</td>\n",
              "      <td>33.770</td>\n",
              "      <td>1</td>\n",
              "      <td>no</td>\n",
              "      <td>southeast</td>\n",
              "      <td>1725.55230</td>\n",
              "    </tr>\n",
              "    <tr>\n",
              "      <th>2</th>\n",
              "      <td>28</td>\n",
              "      <td>male</td>\n",
              "      <td>33.000</td>\n",
              "      <td>3</td>\n",
              "      <td>no</td>\n",
              "      <td>southeast</td>\n",
              "      <td>4449.46200</td>\n",
              "    </tr>\n",
              "    <tr>\n",
              "      <th>3</th>\n",
              "      <td>33</td>\n",
              "      <td>male</td>\n",
              "      <td>22.705</td>\n",
              "      <td>0</td>\n",
              "      <td>no</td>\n",
              "      <td>northwest</td>\n",
              "      <td>21984.47061</td>\n",
              "    </tr>\n",
              "    <tr>\n",
              "      <th>4</th>\n",
              "      <td>32</td>\n",
              "      <td>male</td>\n",
              "      <td>28.880</td>\n",
              "      <td>0</td>\n",
              "      <td>no</td>\n",
              "      <td>northwest</td>\n",
              "      <td>3866.85520</td>\n",
              "    </tr>\n",
              "    <tr>\n",
              "      <th>...</th>\n",
              "      <td>...</td>\n",
              "      <td>...</td>\n",
              "      <td>...</td>\n",
              "      <td>...</td>\n",
              "      <td>...</td>\n",
              "      <td>...</td>\n",
              "      <td>...</td>\n",
              "    </tr>\n",
              "    <tr>\n",
              "      <th>1333</th>\n",
              "      <td>50</td>\n",
              "      <td>male</td>\n",
              "      <td>30.970</td>\n",
              "      <td>3</td>\n",
              "      <td>no</td>\n",
              "      <td>northwest</td>\n",
              "      <td>10600.54830</td>\n",
              "    </tr>\n",
              "    <tr>\n",
              "      <th>1334</th>\n",
              "      <td>18</td>\n",
              "      <td>female</td>\n",
              "      <td>31.920</td>\n",
              "      <td>0</td>\n",
              "      <td>no</td>\n",
              "      <td>northeast</td>\n",
              "      <td>2205.98080</td>\n",
              "    </tr>\n",
              "    <tr>\n",
              "      <th>1335</th>\n",
              "      <td>18</td>\n",
              "      <td>female</td>\n",
              "      <td>36.850</td>\n",
              "      <td>0</td>\n",
              "      <td>no</td>\n",
              "      <td>southeast</td>\n",
              "      <td>1629.83350</td>\n",
              "    </tr>\n",
              "    <tr>\n",
              "      <th>1336</th>\n",
              "      <td>21</td>\n",
              "      <td>female</td>\n",
              "      <td>25.800</td>\n",
              "      <td>0</td>\n",
              "      <td>no</td>\n",
              "      <td>southwest</td>\n",
              "      <td>2007.94500</td>\n",
              "    </tr>\n",
              "    <tr>\n",
              "      <th>1337</th>\n",
              "      <td>61</td>\n",
              "      <td>female</td>\n",
              "      <td>29.070</td>\n",
              "      <td>0</td>\n",
              "      <td>yes</td>\n",
              "      <td>northwest</td>\n",
              "      <td>29141.36030</td>\n",
              "    </tr>\n",
              "  </tbody>\n",
              "</table>\n",
              "<p>1338 rows × 7 columns</p>\n",
              "</div>\n",
              "      <button class=\"colab-df-convert\" onclick=\"convertToInteractive('df-d1d0ec3a-8c2d-42d6-9562-da3d59f2c7a7')\"\n",
              "              title=\"Convert this dataframe to an interactive table.\"\n",
              "              style=\"display:none;\">\n",
              "        \n",
              "  <svg xmlns=\"http://www.w3.org/2000/svg\" height=\"24px\"viewBox=\"0 0 24 24\"\n",
              "       width=\"24px\">\n",
              "    <path d=\"M0 0h24v24H0V0z\" fill=\"none\"/>\n",
              "    <path d=\"M18.56 5.44l.94 2.06.94-2.06 2.06-.94-2.06-.94-.94-2.06-.94 2.06-2.06.94zm-11 1L8.5 8.5l.94-2.06 2.06-.94-2.06-.94L8.5 2.5l-.94 2.06-2.06.94zm10 10l.94 2.06.94-2.06 2.06-.94-2.06-.94-.94-2.06-.94 2.06-2.06.94z\"/><path d=\"M17.41 7.96l-1.37-1.37c-.4-.4-.92-.59-1.43-.59-.52 0-1.04.2-1.43.59L10.3 9.45l-7.72 7.72c-.78.78-.78 2.05 0 2.83L4 21.41c.39.39.9.59 1.41.59.51 0 1.02-.2 1.41-.59l7.78-7.78 2.81-2.81c.8-.78.8-2.07 0-2.86zM5.41 20L4 18.59l7.72-7.72 1.47 1.35L5.41 20z\"/>\n",
              "  </svg>\n",
              "      </button>\n",
              "      \n",
              "  <style>\n",
              "    .colab-df-container {\n",
              "      display:flex;\n",
              "      flex-wrap:wrap;\n",
              "      gap: 12px;\n",
              "    }\n",
              "\n",
              "    .colab-df-convert {\n",
              "      background-color: #E8F0FE;\n",
              "      border: none;\n",
              "      border-radius: 50%;\n",
              "      cursor: pointer;\n",
              "      display: none;\n",
              "      fill: #1967D2;\n",
              "      height: 32px;\n",
              "      padding: 0 0 0 0;\n",
              "      width: 32px;\n",
              "    }\n",
              "\n",
              "    .colab-df-convert:hover {\n",
              "      background-color: #E2EBFA;\n",
              "      box-shadow: 0px 1px 2px rgba(60, 64, 67, 0.3), 0px 1px 3px 1px rgba(60, 64, 67, 0.15);\n",
              "      fill: #174EA6;\n",
              "    }\n",
              "\n",
              "    [theme=dark] .colab-df-convert {\n",
              "      background-color: #3B4455;\n",
              "      fill: #D2E3FC;\n",
              "    }\n",
              "\n",
              "    [theme=dark] .colab-df-convert:hover {\n",
              "      background-color: #434B5C;\n",
              "      box-shadow: 0px 1px 3px 1px rgba(0, 0, 0, 0.15);\n",
              "      filter: drop-shadow(0px 1px 2px rgba(0, 0, 0, 0.3));\n",
              "      fill: #FFFFFF;\n",
              "    }\n",
              "  </style>\n",
              "\n",
              "      <script>\n",
              "        const buttonEl =\n",
              "          document.querySelector('#df-d1d0ec3a-8c2d-42d6-9562-da3d59f2c7a7 button.colab-df-convert');\n",
              "        buttonEl.style.display =\n",
              "          google.colab.kernel.accessAllowed ? 'block' : 'none';\n",
              "\n",
              "        async function convertToInteractive(key) {\n",
              "          const element = document.querySelector('#df-d1d0ec3a-8c2d-42d6-9562-da3d59f2c7a7');\n",
              "          const dataTable =\n",
              "            await google.colab.kernel.invokeFunction('convertToInteractive',\n",
              "                                                     [key], {});\n",
              "          if (!dataTable) return;\n",
              "\n",
              "          const docLinkHtml = 'Like what you see? Visit the ' +\n",
              "            '<a target=\"_blank\" href=https://colab.research.google.com/notebooks/data_table.ipynb>data table notebook</a>'\n",
              "            + ' to learn more about interactive tables.';\n",
              "          element.innerHTML = '';\n",
              "          dataTable['output_type'] = 'display_data';\n",
              "          await google.colab.output.renderOutput(dataTable, element);\n",
              "          const docLink = document.createElement('div');\n",
              "          docLink.innerHTML = docLinkHtml;\n",
              "          element.appendChild(docLink);\n",
              "        }\n",
              "      </script>\n",
              "    </div>\n",
              "  </div>\n",
              "  "
            ]
          },
          "metadata": {},
          "execution_count": 21
        }
      ]
    },
    {
      "cell_type": "markdown",
      "source": [
        "Para preparar nossos dados, nós temos que pegar algumas classes do Scikit-Learn."
      ],
      "metadata": {
        "id": "RQ1CWl5XBPdT"
      }
    },
    {
      "cell_type": "code",
      "source": [
        "from sklearn.compose import make_column_transformer\n",
        "from sklearn.preprocessing import MinMaxScaler, OneHotEncoder\n",
        "from sklearn.model_selection import train_test_split\n",
        "\n",
        "# Criar uma coluna transformada\n",
        "ct = make_column_transformer(\n",
        "    (MinMaxScaler(),[\"age\", \"bmi\", \"children\"]), #transformar todos os valores nessas colunas em 0s e 1s\n",
        "    (OneHotEncoder(handle_unknown=\"ignore\"), [\"sex\", \"smoker\", \"region\"])\n",
        ")\n",
        "\n",
        "# Criar X e Y\n",
        "X = insurance.drop(\"charges\", axis=1)\n",
        "Y = insurance[\"charges\"]\n",
        "\n",
        "# Construir nossos dados de treino e de teste\n",
        "X_train, X_test, Y_train, Y_test = train_test_split(X, Y, test_size=0.2, random_state=42)\n",
        "\n",
        "# Vamos FIT (moldar) para nosso dado de treino\n",
        "ct.fit(X_train)\n",
        "\n",
        "# Transformar nosso dado de treino e de test como normalização e OneHotEncoder\n",
        "X_train_normal = ct.transform(X_train)\n",
        "X_test_normal = ct.transform(X_test)"
      ],
      "metadata": {
        "id": "artfYyTVFUdp"
      },
      "execution_count": 25,
      "outputs": []
    },
    {
      "cell_type": "code",
      "source": [
        "# Como nossos dados se parecem agora?\n",
        "X_train.loc[0]"
      ],
      "metadata": {
        "colab": {
          "base_uri": "https://localhost:8080/"
        },
        "id": "78KfUg2IFV6-",
        "outputId": "a5ccf599-398e-4451-f32d-6f998bf226d7"
      },
      "execution_count": 26,
      "outputs": [
        {
          "output_type": "execute_result",
          "data": {
            "text/plain": [
              "age                19\n",
              "sex            female\n",
              "bmi              27.9\n",
              "children            0\n",
              "smoker            yes\n",
              "region      southwest\n",
              "Name: 0, dtype: object"
            ]
          },
          "metadata": {},
          "execution_count": 26
        }
      ]
    },
    {
      "cell_type": "code",
      "source": [
        "X_train_normal[0]"
      ],
      "metadata": {
        "colab": {
          "base_uri": "https://localhost:8080/"
        },
        "id": "-182ti7aFfTX",
        "outputId": "6d09007e-7193-4f09-9993-1dd9d3eeb403"
      },
      "execution_count": 27,
      "outputs": [
        {
          "output_type": "execute_result",
          "data": {
            "text/plain": [
              "array([0.60869565, 0.10734463, 0.4       , 1.        , 0.        ,\n",
              "       1.        , 0.        , 0.        , 1.        , 0.        ,\n",
              "       0.        ])"
            ]
          },
          "metadata": {},
          "execution_count": 27
        }
      ]
    },
    {
      "cell_type": "code",
      "source": [
        "X_train.shape, X_train_normal.shape"
      ],
      "metadata": {
        "colab": {
          "base_uri": "https://localhost:8080/"
        },
        "id": "VShAmY58FzZW",
        "outputId": "aa4f4f18-e240-4b2a-8cf0-7aee0ae382ea"
      },
      "execution_count": 28,
      "outputs": [
        {
          "output_type": "execute_result",
          "data": {
            "text/plain": [
              "((1070, 6), (1070, 11))"
            ]
          },
          "metadata": {},
          "execution_count": 28
        }
      ]
    },
    {
      "cell_type": "markdown",
      "source": [
        "Lindo! Nossos dados foram normalizados e OneHotENcoded.\n",
        "\n",
        "Agora vamos construir um modelo de rede neural com eles."
      ],
      "metadata": {
        "id": "RxufGw7gGDM8"
      }
    },
    {
      "cell_type": "code",
      "source": [
        "tf.random.set_seed(42)\n",
        "\n",
        "model = tf.keras.Sequential([\n",
        "    tf.keras.layers.Dense(100),\n",
        "    tf.keras.layers.Dense(10),\n",
        "    tf.keras.layers.Dense(1),\n",
        "])\n",
        "\n",
        "model.compile(loss=tf.keras.losses.mae,\n",
        "              optimizer=tf.keras.optimizers.Adam(lr=0.01),\n",
        "              metrics=[\"mae\"])\n",
        "\n",
        "model.fit(tf.expand_dims(X_train_normal, axis=-1), Y_train, epochs=100)"
      ],
      "metadata": {
        "colab": {
          "base_uri": "https://localhost:8080/"
        },
        "id": "Pz3ovZIvGazE",
        "outputId": "52beec81-f49f-4d14-dc9d-b2067f684f7e"
      },
      "execution_count": 32,
      "outputs": [
        {
          "output_type": "stream",
          "name": "stderr",
          "text": [
            "WARNING:absl:`lr` is deprecated in Keras optimizer, please use `learning_rate` or use the legacy optimizer, e.g.,tf.keras.optimizers.legacy.Adam.\n"
          ]
        },
        {
          "output_type": "stream",
          "name": "stdout",
          "text": [
            "Epoch 1/100\n",
            "34/34 [==============================] - 2s 4ms/step - loss: 13345.2090 - mae: 13345.2090\n",
            "Epoch 2/100\n",
            "34/34 [==============================] - 0s 4ms/step - loss: 13342.1084 - mae: 13342.1084\n",
            "Epoch 3/100\n",
            "34/34 [==============================] - 0s 3ms/step - loss: 13335.0811 - mae: 13335.0811\n",
            "Epoch 4/100\n",
            "34/34 [==============================] - 0s 3ms/step - loss: 13320.9941 - mae: 13320.9941\n",
            "Epoch 5/100\n",
            "34/34 [==============================] - 0s 4ms/step - loss: 13296.7061 - mae: 13296.7061\n",
            "Epoch 6/100\n",
            "34/34 [==============================] - 0s 4ms/step - loss: 13259.1045 - mae: 13259.1045\n",
            "Epoch 7/100\n",
            "34/34 [==============================] - 0s 4ms/step - loss: 13205.2539 - mae: 13205.2539\n",
            "Epoch 8/100\n",
            "34/34 [==============================] - 0s 4ms/step - loss: 13132.3154 - mae: 13132.3154\n",
            "Epoch 9/100\n",
            "34/34 [==============================] - 0s 4ms/step - loss: 13037.5996 - mae: 13037.5996\n",
            "Epoch 10/100\n",
            "34/34 [==============================] - 0s 4ms/step - loss: 12918.6533 - mae: 12918.6533\n",
            "Epoch 11/100\n",
            "34/34 [==============================] - 0s 4ms/step - loss: 12773.0469 - mae: 12773.0469\n",
            "Epoch 12/100\n",
            "34/34 [==============================] - 0s 4ms/step - loss: 12598.5703 - mae: 12598.5703\n",
            "Epoch 13/100\n",
            "34/34 [==============================] - 0s 4ms/step - loss: 12395.4678 - mae: 12395.4678\n",
            "Epoch 14/100\n",
            "34/34 [==============================] - 0s 4ms/step - loss: 12164.6914 - mae: 12164.6914\n",
            "Epoch 15/100\n",
            "34/34 [==============================] - 0s 4ms/step - loss: 11914.1484 - mae: 11914.1484\n",
            "Epoch 16/100\n",
            "34/34 [==============================] - 0s 4ms/step - loss: 11646.8916 - mae: 11646.8916\n",
            "Epoch 17/100\n",
            "34/34 [==============================] - 0s 4ms/step - loss: 11367.5322 - mae: 11367.5322\n",
            "Epoch 18/100\n",
            "34/34 [==============================] - 0s 4ms/step - loss: 11078.5059 - mae: 11078.5059\n",
            "Epoch 19/100\n",
            "34/34 [==============================] - 0s 4ms/step - loss: 10790.9502 - mae: 10790.9502\n",
            "Epoch 20/100\n",
            "34/34 [==============================] - 0s 4ms/step - loss: 10515.7949 - mae: 10515.7949\n",
            "Epoch 21/100\n",
            "34/34 [==============================] - 0s 4ms/step - loss: 10253.3887 - mae: 10253.3887\n",
            "Epoch 22/100\n",
            "34/34 [==============================] - 0s 4ms/step - loss: 10004.4854 - mae: 10004.4854\n",
            "Epoch 23/100\n",
            "34/34 [==============================] - 0s 4ms/step - loss: 9768.7412 - mae: 9768.7412\n",
            "Epoch 24/100\n",
            "34/34 [==============================] - 0s 4ms/step - loss: 9550.5312 - mae: 9550.5312\n",
            "Epoch 25/100\n",
            "34/34 [==============================] - 0s 4ms/step - loss: 9366.5020 - mae: 9366.5020\n",
            "Epoch 26/100\n",
            "34/34 [==============================] - 0s 4ms/step - loss: 9194.3008 - mae: 9194.3008\n",
            "Epoch 27/100\n",
            "34/34 [==============================] - 0s 4ms/step - loss: 9053.2520 - mae: 9053.2520\n",
            "Epoch 28/100\n",
            "34/34 [==============================] - 0s 4ms/step - loss: 8936.0283 - mae: 8936.0283\n",
            "Epoch 29/100\n",
            "34/34 [==============================] - 0s 4ms/step - loss: 8841.3096 - mae: 8841.3096\n",
            "Epoch 30/100\n",
            "34/34 [==============================] - 0s 4ms/step - loss: 8766.2285 - mae: 8766.2285\n",
            "Epoch 31/100\n",
            "34/34 [==============================] - 0s 4ms/step - loss: 8706.5840 - mae: 8706.5840\n",
            "Epoch 32/100\n",
            "34/34 [==============================] - 0s 4ms/step - loss: 8663.4580 - mae: 8663.4580\n",
            "Epoch 33/100\n",
            "34/34 [==============================] - 0s 4ms/step - loss: 8627.6270 - mae: 8627.6270\n",
            "Epoch 34/100\n",
            "34/34 [==============================] - 0s 4ms/step - loss: 8600.6777 - mae: 8600.6777\n",
            "Epoch 35/100\n",
            "34/34 [==============================] - 0s 4ms/step - loss: 8578.4736 - mae: 8578.4736\n",
            "Epoch 36/100\n",
            "34/34 [==============================] - 0s 4ms/step - loss: 8560.2793 - mae: 8560.2793\n",
            "Epoch 37/100\n",
            "34/34 [==============================] - 0s 4ms/step - loss: 8545.5449 - mae: 8545.5449\n",
            "Epoch 38/100\n",
            "34/34 [==============================] - 0s 4ms/step - loss: 8533.2461 - mae: 8533.2461\n",
            "Epoch 39/100\n",
            "34/34 [==============================] - 0s 4ms/step - loss: 8521.1504 - mae: 8521.1504\n",
            "Epoch 40/100\n",
            "34/34 [==============================] - 0s 4ms/step - loss: 8510.4453 - mae: 8510.4453\n",
            "Epoch 41/100\n",
            "34/34 [==============================] - 0s 4ms/step - loss: 8500.9580 - mae: 8500.9580\n",
            "Epoch 42/100\n",
            "34/34 [==============================] - 0s 4ms/step - loss: 8491.5889 - mae: 8491.5889\n",
            "Epoch 43/100\n",
            "34/34 [==============================] - 0s 4ms/step - loss: 8482.3154 - mae: 8482.3154\n",
            "Epoch 44/100\n",
            "34/34 [==============================] - 0s 4ms/step - loss: 8473.0166 - mae: 8473.0166\n",
            "Epoch 45/100\n",
            "34/34 [==============================] - 0s 4ms/step - loss: 8464.8555 - mae: 8464.8555\n",
            "Epoch 46/100\n",
            "34/34 [==============================] - 0s 4ms/step - loss: 8456.4111 - mae: 8456.4111\n",
            "Epoch 47/100\n",
            "34/34 [==============================] - 0s 4ms/step - loss: 8449.7236 - mae: 8449.7236\n",
            "Epoch 48/100\n",
            "34/34 [==============================] - 0s 4ms/step - loss: 8440.2988 - mae: 8440.2988\n",
            "Epoch 49/100\n",
            "34/34 [==============================] - 0s 4ms/step - loss: 8433.5352 - mae: 8433.5352\n",
            "Epoch 50/100\n",
            "34/34 [==============================] - 0s 4ms/step - loss: 8426.0156 - mae: 8426.0156\n",
            "Epoch 51/100\n",
            "34/34 [==============================] - 0s 4ms/step - loss: 8421.4961 - mae: 8421.4961\n",
            "Epoch 52/100\n",
            "34/34 [==============================] - 0s 4ms/step - loss: 8413.1904 - mae: 8413.1904\n",
            "Epoch 53/100\n",
            "34/34 [==============================] - 0s 4ms/step - loss: 8407.3516 - mae: 8407.3516\n",
            "Epoch 54/100\n",
            "34/34 [==============================] - 0s 4ms/step - loss: 8401.4736 - mae: 8401.4736\n",
            "Epoch 55/100\n",
            "34/34 [==============================] - 0s 4ms/step - loss: 8395.8047 - mae: 8395.8047\n",
            "Epoch 56/100\n",
            "34/34 [==============================] - 0s 4ms/step - loss: 8389.9932 - mae: 8389.9932\n",
            "Epoch 57/100\n",
            "34/34 [==============================] - 0s 6ms/step - loss: 8384.6289 - mae: 8384.6289\n",
            "Epoch 58/100\n",
            "34/34 [==============================] - 0s 6ms/step - loss: 8379.6162 - mae: 8379.6162\n",
            "Epoch 59/100\n",
            "34/34 [==============================] - 0s 6ms/step - loss: 8375.3740 - mae: 8375.3740\n",
            "Epoch 60/100\n",
            "34/34 [==============================] - 0s 6ms/step - loss: 8370.0557 - mae: 8370.0557\n",
            "Epoch 61/100\n",
            "34/34 [==============================] - 0s 6ms/step - loss: 8365.8027 - mae: 8365.8027\n",
            "Epoch 62/100\n",
            "34/34 [==============================] - 0s 6ms/step - loss: 8360.8994 - mae: 8360.8994\n",
            "Epoch 63/100\n",
            "34/34 [==============================] - 0s 6ms/step - loss: 8357.0195 - mae: 8357.0195\n",
            "Epoch 64/100\n",
            "34/34 [==============================] - 0s 6ms/step - loss: 8352.6514 - mae: 8352.6514\n",
            "Epoch 65/100\n",
            "34/34 [==============================] - 0s 6ms/step - loss: 8348.8691 - mae: 8348.8691\n",
            "Epoch 66/100\n",
            "34/34 [==============================] - 0s 6ms/step - loss: 8345.1387 - mae: 8345.1387\n",
            "Epoch 67/100\n",
            "34/34 [==============================] - 0s 6ms/step - loss: 8341.4678 - mae: 8341.4678\n",
            "Epoch 68/100\n",
            "34/34 [==============================] - 0s 6ms/step - loss: 8337.7832 - mae: 8337.7832\n",
            "Epoch 69/100\n",
            "34/34 [==============================] - 0s 6ms/step - loss: 8334.2725 - mae: 8334.2725\n",
            "Epoch 70/100\n",
            "34/34 [==============================] - 0s 6ms/step - loss: 8331.5430 - mae: 8331.5430\n",
            "Epoch 71/100\n",
            "34/34 [==============================] - 0s 6ms/step - loss: 8327.8721 - mae: 8327.8721\n",
            "Epoch 72/100\n",
            "34/34 [==============================] - 0s 6ms/step - loss: 8325.0068 - mae: 8325.0068\n",
            "Epoch 73/100\n",
            "34/34 [==============================] - 0s 6ms/step - loss: 8321.6055 - mae: 8321.6055\n",
            "Epoch 74/100\n",
            "34/34 [==============================] - 0s 4ms/step - loss: 8318.8848 - mae: 8318.8848\n",
            "Epoch 75/100\n",
            "34/34 [==============================] - 0s 4ms/step - loss: 8316.1543 - mae: 8316.1543\n",
            "Epoch 76/100\n",
            "34/34 [==============================] - 0s 4ms/step - loss: 8314.3594 - mae: 8314.3594\n",
            "Epoch 77/100\n",
            "34/34 [==============================] - 0s 4ms/step - loss: 8311.4209 - mae: 8311.4209\n",
            "Epoch 78/100\n",
            "34/34 [==============================] - 0s 4ms/step - loss: 8309.4453 - mae: 8309.4453\n",
            "Epoch 79/100\n",
            "34/34 [==============================] - 0s 4ms/step - loss: 8306.9961 - mae: 8306.9961\n",
            "Epoch 80/100\n",
            "34/34 [==============================] - 0s 4ms/step - loss: 8304.7988 - mae: 8304.7988\n",
            "Epoch 81/100\n",
            "34/34 [==============================] - 0s 4ms/step - loss: 8302.9688 - mae: 8302.9688\n",
            "Epoch 82/100\n",
            "34/34 [==============================] - 0s 4ms/step - loss: 8304.2021 - mae: 8304.2021\n",
            "Epoch 83/100\n",
            "34/34 [==============================] - 0s 4ms/step - loss: 8300.5078 - mae: 8300.5078\n",
            "Epoch 84/100\n",
            "34/34 [==============================] - 0s 4ms/step - loss: 8297.8457 - mae: 8297.8457\n",
            "Epoch 85/100\n",
            "34/34 [==============================] - 0s 4ms/step - loss: 8297.9082 - mae: 8297.9082\n",
            "Epoch 86/100\n",
            "34/34 [==============================] - 0s 4ms/step - loss: 8295.5811 - mae: 8295.5811\n",
            "Epoch 87/100\n",
            "34/34 [==============================] - 0s 4ms/step - loss: 8294.6973 - mae: 8294.6973\n",
            "Epoch 88/100\n",
            "34/34 [==============================] - 0s 4ms/step - loss: 8293.0312 - mae: 8293.0312\n",
            "Epoch 89/100\n",
            "34/34 [==============================] - 0s 4ms/step - loss: 8291.9473 - mae: 8291.9473\n",
            "Epoch 90/100\n",
            "34/34 [==============================] - 0s 4ms/step - loss: 8292.3164 - mae: 8292.3164\n",
            "Epoch 91/100\n",
            "34/34 [==============================] - 0s 4ms/step - loss: 8290.1846 - mae: 8290.1846\n",
            "Epoch 92/100\n",
            "34/34 [==============================] - 0s 4ms/step - loss: 8290.1680 - mae: 8290.1680\n",
            "Epoch 93/100\n",
            "34/34 [==============================] - 0s 4ms/step - loss: 8289.0430 - mae: 8289.0430\n",
            "Epoch 94/100\n",
            "34/34 [==============================] - 0s 4ms/step - loss: 8288.9756 - mae: 8288.9756\n",
            "Epoch 95/100\n",
            "34/34 [==============================] - 0s 4ms/step - loss: 8288.3330 - mae: 8288.3330\n",
            "Epoch 96/100\n",
            "34/34 [==============================] - 0s 4ms/step - loss: 8286.7480 - mae: 8286.7480\n",
            "Epoch 97/100\n",
            "34/34 [==============================] - 0s 4ms/step - loss: 8287.1602 - mae: 8287.1602\n",
            "Epoch 98/100\n",
            "34/34 [==============================] - 0s 4ms/step - loss: 8285.8350 - mae: 8285.8350\n",
            "Epoch 99/100\n",
            "34/34 [==============================] - 0s 4ms/step - loss: 8285.8545 - mae: 8285.8545\n",
            "Epoch 100/100\n",
            "34/34 [==============================] - 0s 4ms/step - loss: 8284.8340 - mae: 8284.8340\n"
          ]
        },
        {
          "output_type": "execute_result",
          "data": {
            "text/plain": [
              "<keras.callbacks.History at 0x7f0c65a92410>"
            ]
          },
          "metadata": {},
          "execution_count": 32
        }
      ]
    },
    {
      "cell_type": "code",
      "source": [
        "# Avaliando o modelo\n",
        "model.evaluate(X_test_normal, Y_test)"
      ],
      "metadata": {
        "colab": {
          "base_uri": "https://localhost:8080/"
        },
        "id": "huWWGZ51IQG4",
        "outputId": "af89633a-631a-4024-a447-1a80286c4208"
      },
      "execution_count": 31,
      "outputs": [
        {
          "output_type": "stream",
          "name": "stdout",
          "text": [
            "9/9 [==============================] - 0s 7ms/step - loss: 8630.9307 - mae: 8630.9307\n"
          ]
        },
        {
          "output_type": "execute_result",
          "data": {
            "text/plain": [
              "[8630.9306640625, 8630.9306640625]"
            ]
          },
          "metadata": {},
          "execution_count": 31
        }
      ]
    },
    {
      "cell_type": "code",
      "source": [
        "X[\"age\"].plot(kind=\"hist\")"
      ],
      "metadata": {
        "colab": {
          "base_uri": "https://localhost:8080/",
          "height": 447
        },
        "id": "XGRBcUjI-hrh",
        "outputId": "52c32ac6-3469-4bd5-8307-f7bbf570d64a"
      },
      "execution_count": 15,
      "outputs": [
        {
          "output_type": "execute_result",
          "data": {
            "text/plain": [
              "<Axes: ylabel='Frequency'>"
            ]
          },
          "metadata": {},
          "execution_count": 15
        },
        {
          "output_type": "display_data",
          "data": {
            "text/plain": [
              "<Figure size 640x480 with 1 Axes>"
            ],
            "image/png": "[encoded data removed]"
          },
          "metadata": {}
        }
      ]
    },
    {
      "cell_type": "code",
      "source": [
        "X[\"bmi\"].plot(kind=\"hist\")"
      ],
      "metadata": {
        "colab": {
          "base_uri": "https://localhost:8080/",
          "height": 447
        },
        "id": "ncOcN8zF-2Qt",
        "outputId": "6a54c068-0bf6-4cee-cbaf-5399387bcc12"
      },
      "execution_count": 18,
      "outputs": [
        {
          "output_type": "execute_result",
          "data": {
            "text/plain": [
              "<Axes: ylabel='Frequency'>"
            ]
          },
          "metadata": {},
          "execution_count": 18
        },
        {
          "output_type": "display_data",
          "data": {
            "text/plain": [
              "<Figure size 640x480 with 1 Axes>"
            ],
            "image/png": "[encoded data removed]"
          },
          "metadata": {}
        }
      ]
    },
    {
      "cell_type": "code",
      "source": [
        "X[\"children\"].value_counts()"
      ],
      "metadata": {
        "colab": {
          "base_uri": "https://localhost:8080/"
        },
        "id": "y8frARWT-3Nj",
        "outputId": "9430d371-ed5d-4e63-82c2-5a5e00aaab53"
      },
      "execution_count": 19,
      "outputs": [
        {
          "output_type": "execute_result",
          "data": {
            "text/plain": [
              "0    574\n",
              "1    324\n",
              "2    240\n",
              "3    157\n",
              "4     25\n",
              "5     18\n",
              "Name: children, dtype: int64"
            ]
          },
          "metadata": {},
          "execution_count": 19
        }
      ]
    },
    {
      "cell_type": "markdown",
      "source": [
        "# 01. Neural network regression with TensorFlow Exercises\n",
        "1. Create your own regression dataset (or make the one we created in \"Create data to view and fit\" bigger) and build fit a model to it.\n",
        "2. Try building a neural network with 4 Dense layers and fitting it to your own regression dataset, how does it perform?\n",
        "3. Try and improve the results we got on the insurance dataset, some things you might want to try include:\n",
        "* Building a larger model (how does one with 4 dense layers go?).\n",
        "* Increasing the number of units in each layer.\n",
        "* Lookup the documentation of Adam and find out what the first parameter is, what happens if you increase it by 10x?\n",
        "* What happens if you train for longer (say 300 epochs instead of 200)?\n",
        "4. Import the Boston pricing dataset from TensorFlow tf.keras.datasets and model it.\n"
      ],
      "metadata": {
        "id": "lA4rWnV10wq2"
      }
    },
    {
      "cell_type": "code",
      "source": [
        "import pandas as pd\n",
        "import matplotlib.pyplot as plt\n",
        "import tensorflow as tf\n",
        "\n",
        "from sklearn.compose import make_column_transformer\n",
        "from sklearn.preprocessing import MinMaxScaler, OneHotEncoder\n",
        "from sklearn.model_selection import train_test_split\n",
        "\n",
        "(x_train, y_train), (x_test, y_test) = tf.keras.datasets.boston_housing.load_data(\n",
        "    path='boston_housing.npz', test_split=0.2, seed=113\n",
        ")\n",
        "\n",
        "model_bh = tf.keras.Sequential([\n",
        "    tf.keras.layers.Dense(50),\n",
        "    tf.keras.layers.Dense(20),\n",
        "    tf.keras.layers.Dense(10),\n",
        "    tf.keras.layers.Dense(1)\n",
        "])\n",
        "\n",
        "model_bh.compile(loss=tf.keras.losses.mae,\n",
        "                 optimizer=tf.keras.optimizers.Adam(lr=0.01),\n",
        "                 metrics=[\"mae\"])\n",
        "\n",
        "hist = model_bh.fit(tf.expand_dims(x_train, axis=-1), y_train, epochs=200)"
      ],
      "metadata": {
        "colab": {
          "base_uri": "https://localhost:8080/"
        },
        "id": "I136KMcl1I4r",
        "outputId": "7dc62ba8-f2b5-44e4-f373-5b91ecc1f2a7"
      },
      "execution_count": 18,
      "outputs": [
        {
          "output_type": "stream",
          "name": "stderr",
          "text": [
            "WARNING:absl:`lr` is deprecated in Keras optimizer, please use `learning_rate` or use the legacy optimizer, e.g.,tf.keras.optimizers.legacy.Adam.\n"
          ]
        },
        {
          "output_type": "stream",
          "name": "stdout",
          "text": [
            "Epoch 1/200\n",
            "13/13 [==============================] - 4s 6ms/step - loss: 21.2067 - mae: 21.2067\n",
            "Epoch 2/200\n",
            "13/13 [==============================] - 0s 5ms/step - loss: 19.6938 - mae: 19.6938\n",
            "Epoch 3/200\n",
            "13/13 [==============================] - 0s 5ms/step - loss: 19.2265 - mae: 19.2265\n",
            "Epoch 4/200\n",
            "13/13 [==============================] - 0s 5ms/step - loss: 19.0179 - mae: 19.0179\n",
            "Epoch 5/200\n",
            "13/13 [==============================] - 0s 5ms/step - loss: 18.7879 - mae: 18.7879\n",
            "Epoch 6/200\n",
            "13/13 [==============================] - 0s 6ms/step - loss: 18.6743 - mae: 18.6743\n",
            "Epoch 7/200\n",
            "13/13 [==============================] - 0s 5ms/step - loss: 18.3921 - mae: 18.3921\n",
            "Epoch 8/200\n",
            "13/13 [==============================] - 0s 5ms/step - loss: 18.1113 - mae: 18.1113\n",
            "Epoch 9/200\n",
            "13/13 [==============================] - 0s 5ms/step - loss: 17.7687 - mae: 17.7687\n",
            "Epoch 10/200\n",
            "13/13 [==============================] - 0s 5ms/step - loss: 17.4367 - mae: 17.4367\n",
            "Epoch 11/200\n",
            "13/13 [==============================] - 0s 5ms/step - loss: 17.0484 - mae: 17.0484\n",
            "Epoch 12/200\n",
            "13/13 [==============================] - 0s 5ms/step - loss: 16.6025 - mae: 16.6025\n",
            "Epoch 13/200\n",
            "13/13 [==============================] - 0s 5ms/step - loss: 16.0878 - mae: 16.0878\n",
            "Epoch 14/200\n",
            "13/13 [==============================] - 0s 6ms/step - loss: 15.5198 - mae: 15.5198\n",
            "Epoch 15/200\n",
            "13/13 [==============================] - 0s 6ms/step - loss: 14.8448 - mae: 14.8448\n",
            "Epoch 16/200\n",
            "13/13 [==============================] - 0s 5ms/step - loss: 13.7813 - mae: 13.7813\n",
            "Epoch 17/200\n",
            "13/13 [==============================] - 0s 5ms/step - loss: 12.7602 - mae: 12.7602\n",
            "Epoch 18/200\n",
            "13/13 [==============================] - 0s 5ms/step - loss: 11.5753 - mae: 11.5753\n",
            "Epoch 19/200\n",
            "13/13 [==============================] - 0s 5ms/step - loss: 10.3220 - mae: 10.3220\n",
            "Epoch 20/200\n",
            "13/13 [==============================] - 0s 5ms/step - loss: 8.9612 - mae: 8.9612\n",
            "Epoch 21/200\n",
            "13/13 [==============================] - 0s 5ms/step - loss: 8.3223 - mae: 8.3223\n",
            "Epoch 22/200\n",
            "13/13 [==============================] - 0s 6ms/step - loss: 7.6127 - mae: 7.6127\n",
            "Epoch 23/200\n",
            "13/13 [==============================] - 0s 5ms/step - loss: 7.6484 - mae: 7.6484\n",
            "Epoch 24/200\n",
            "13/13 [==============================] - 0s 5ms/step - loss: 6.8248 - mae: 6.8248\n",
            "Epoch 25/200\n",
            "13/13 [==============================] - 0s 5ms/step - loss: 6.6507 - mae: 6.6507\n",
            "Epoch 26/200\n",
            "13/13 [==============================] - 0s 5ms/step - loss: 7.1700 - mae: 7.1700\n",
            "Epoch 27/200\n",
            "13/13 [==============================] - 0s 5ms/step - loss: 7.3852 - mae: 7.3852\n",
            "Epoch 28/200\n",
            "13/13 [==============================] - 0s 5ms/step - loss: 7.2548 - mae: 7.2548\n",
            "Epoch 29/200\n",
            "13/13 [==============================] - 0s 5ms/step - loss: 6.8240 - mae: 6.8240\n",
            "Epoch 30/200\n",
            "13/13 [==============================] - 0s 5ms/step - loss: 6.6413 - mae: 6.6413\n",
            "Epoch 31/200\n",
            "13/13 [==============================] - 0s 6ms/step - loss: 6.8284 - mae: 6.8284\n",
            "Epoch 32/200\n",
            "13/13 [==============================] - 0s 5ms/step - loss: 6.9984 - mae: 6.9984\n",
            "Epoch 33/200\n",
            "13/13 [==============================] - 0s 5ms/step - loss: 6.7482 - mae: 6.7482\n",
            "Epoch 34/200\n",
            "13/13 [==============================] - 0s 5ms/step - loss: 6.6000 - mae: 6.6000\n",
            "Epoch 35/200\n",
            "13/13 [==============================] - 0s 5ms/step - loss: 6.6086 - mae: 6.6086\n",
            "Epoch 36/200\n",
            "13/13 [==============================] - 0s 4ms/step - loss: 6.6300 - mae: 6.6300\n",
            "Epoch 37/200\n",
            "13/13 [==============================] - 0s 5ms/step - loss: 6.7589 - mae: 6.7589\n",
            "Epoch 38/200\n",
            "13/13 [==============================] - 0s 5ms/step - loss: 6.7414 - mae: 6.7414\n",
            "Epoch 39/200\n",
            "13/13 [==============================] - 0s 4ms/step - loss: 6.5937 - mae: 6.5937\n",
            "Epoch 40/200\n",
            "13/13 [==============================] - 0s 5ms/step - loss: 6.5932 - mae: 6.5932\n",
            "Epoch 41/200\n",
            "13/13 [==============================] - 0s 5ms/step - loss: 6.7243 - mae: 6.7243\n",
            "Epoch 42/200\n",
            "13/13 [==============================] - 0s 5ms/step - loss: 6.7352 - mae: 6.7352\n",
            "Epoch 43/200\n",
            "13/13 [==============================] - 0s 6ms/step - loss: 6.6867 - mae: 6.6867\n",
            "Epoch 44/200\n",
            "13/13 [==============================] - 0s 5ms/step - loss: 6.6376 - mae: 6.6376\n",
            "Epoch 45/200\n",
            "13/13 [==============================] - 0s 5ms/step - loss: 6.6134 - mae: 6.6134\n",
            "Epoch 46/200\n",
            "13/13 [==============================] - 0s 7ms/step - loss: 6.6023 - mae: 6.6023\n",
            "Epoch 47/200\n",
            "13/13 [==============================] - 0s 5ms/step - loss: 6.8778 - mae: 6.8778\n",
            "Epoch 48/200\n",
            "13/13 [==============================] - 0s 5ms/step - loss: 6.9105 - mae: 6.9105\n",
            "Epoch 49/200\n",
            "13/13 [==============================] - 0s 4ms/step - loss: 7.1702 - mae: 7.1702\n",
            "Epoch 50/200\n",
            "13/13 [==============================] - 0s 5ms/step - loss: 7.2602 - mae: 7.2602\n",
            "Epoch 51/200\n",
            "13/13 [==============================] - 0s 5ms/step - loss: 6.6298 - mae: 6.6298\n",
            "Epoch 52/200\n",
            "13/13 [==============================] - 0s 5ms/step - loss: 6.6134 - mae: 6.6134\n",
            "Epoch 53/200\n",
            "13/13 [==============================] - 0s 5ms/step - loss: 6.6531 - mae: 6.6531\n",
            "Epoch 54/200\n",
            "13/13 [==============================] - 0s 5ms/step - loss: 6.7516 - mae: 6.7516\n",
            "Epoch 55/200\n",
            "13/13 [==============================] - 0s 5ms/step - loss: 6.8271 - mae: 6.8271\n",
            "Epoch 56/200\n",
            "13/13 [==============================] - 0s 4ms/step - loss: 6.5954 - mae: 6.5954\n",
            "Epoch 57/200\n",
            "13/13 [==============================] - 0s 6ms/step - loss: 6.5978 - mae: 6.5978\n",
            "Epoch 58/200\n",
            "13/13 [==============================] - 0s 5ms/step - loss: 6.6591 - mae: 6.6591\n",
            "Epoch 59/200\n",
            "13/13 [==============================] - 0s 5ms/step - loss: 6.6361 - mae: 6.6361\n",
            "Epoch 60/200\n",
            "13/13 [==============================] - 0s 6ms/step - loss: 6.6433 - mae: 6.6433\n",
            "Epoch 61/200\n",
            "13/13 [==============================] - 0s 5ms/step - loss: 6.5555 - mae: 6.5555\n",
            "Epoch 62/200\n",
            "13/13 [==============================] - 0s 5ms/step - loss: 6.6683 - mae: 6.6683\n",
            "Epoch 63/200\n",
            "13/13 [==============================] - 0s 5ms/step - loss: 6.5949 - mae: 6.5949\n",
            "Epoch 64/200\n",
            "13/13 [==============================] - 0s 5ms/step - loss: 6.6005 - mae: 6.6005\n",
            "Epoch 65/200\n",
            "13/13 [==============================] - 0s 5ms/step - loss: 6.7388 - mae: 6.7388\n",
            "Epoch 66/200\n",
            "13/13 [==============================] - 0s 5ms/step - loss: 6.8765 - mae: 6.8765\n",
            "Epoch 67/200\n",
            "13/13 [==============================] - 0s 5ms/step - loss: 6.6805 - mae: 6.6805\n",
            "Epoch 68/200\n",
            "13/13 [==============================] - 0s 5ms/step - loss: 7.0586 - mae: 7.0586\n",
            "Epoch 69/200\n",
            "13/13 [==============================] - 0s 5ms/step - loss: 7.1866 - mae: 7.1866\n",
            "Epoch 70/200\n",
            "13/13 [==============================] - 0s 5ms/step - loss: 6.5532 - mae: 6.5532\n",
            "Epoch 71/200\n",
            "13/13 [==============================] - 0s 5ms/step - loss: 6.6356 - mae: 6.6356\n",
            "Epoch 72/200\n",
            "13/13 [==============================] - 0s 5ms/step - loss: 6.7045 - mae: 6.7045\n",
            "Epoch 73/200\n",
            "13/13 [==============================] - 0s 5ms/step - loss: 6.7440 - mae: 6.7440\n",
            "Epoch 74/200\n",
            "13/13 [==============================] - 0s 5ms/step - loss: 6.6540 - mae: 6.6540\n",
            "Epoch 75/200\n",
            "13/13 [==============================] - 0s 4ms/step - loss: 6.6206 - mae: 6.6206\n",
            "Epoch 76/200\n",
            "13/13 [==============================] - 0s 5ms/step - loss: 6.7588 - mae: 6.7588\n",
            "Epoch 77/200\n",
            "13/13 [==============================] - 0s 5ms/step - loss: 6.5749 - mae: 6.5749\n",
            "Epoch 78/200\n",
            "13/13 [==============================] - 0s 5ms/step - loss: 6.8547 - mae: 6.8547\n",
            "Epoch 79/200\n",
            "13/13 [==============================] - 0s 5ms/step - loss: 6.7944 - mae: 6.7944\n",
            "Epoch 80/200\n",
            "13/13 [==============================] - 0s 5ms/step - loss: 6.7384 - mae: 6.7384\n",
            "Epoch 81/200\n",
            "13/13 [==============================] - 0s 5ms/step - loss: 6.6774 - mae: 6.6774\n",
            "Epoch 82/200\n",
            "13/13 [==============================] - 0s 5ms/step - loss: 6.9291 - mae: 6.9291\n",
            "Epoch 83/200\n",
            "13/13 [==============================] - 0s 5ms/step - loss: 6.8117 - mae: 6.8117\n",
            "Epoch 84/200\n",
            "13/13 [==============================] - 0s 5ms/step - loss: 6.6354 - mae: 6.6354\n",
            "Epoch 85/200\n",
            "13/13 [==============================] - 0s 6ms/step - loss: 6.6002 - mae: 6.6002\n",
            "Epoch 86/200\n",
            "13/13 [==============================] - 0s 6ms/step - loss: 6.5939 - mae: 6.5939\n",
            "Epoch 87/200\n",
            "13/13 [==============================] - 0s 5ms/step - loss: 6.6338 - mae: 6.6338\n",
            "Epoch 88/200\n",
            "13/13 [==============================] - 0s 5ms/step - loss: 6.5705 - mae: 6.5705\n",
            "Epoch 89/200\n",
            "13/13 [==============================] - 0s 5ms/step - loss: 6.5873 - mae: 6.5873\n",
            "Epoch 90/200\n",
            "13/13 [==============================] - 0s 5ms/step - loss: 6.6569 - mae: 6.6569\n",
            "Epoch 91/200\n",
            "13/13 [==============================] - 0s 5ms/step - loss: 6.8591 - mae: 6.8591\n",
            "Epoch 92/200\n",
            "13/13 [==============================] - 0s 5ms/step - loss: 6.8029 - mae: 6.8029\n",
            "Epoch 93/200\n",
            "13/13 [==============================] - 0s 5ms/step - loss: 6.6379 - mae: 6.6379\n",
            "Epoch 94/200\n",
            "13/13 [==============================] - 0s 5ms/step - loss: 6.6016 - mae: 6.6016\n",
            "Epoch 95/200\n",
            "13/13 [==============================] - 0s 5ms/step - loss: 6.5867 - mae: 6.5867\n",
            "Epoch 96/200\n",
            "13/13 [==============================] - 0s 5ms/step - loss: 6.6264 - mae: 6.6264\n",
            "Epoch 97/200\n",
            "13/13 [==============================] - 0s 5ms/step - loss: 6.6731 - mae: 6.6731\n",
            "Epoch 98/200\n",
            "13/13 [==============================] - 0s 5ms/step - loss: 6.7215 - mae: 6.7215\n",
            "Epoch 99/200\n",
            "13/13 [==============================] - 0s 6ms/step - loss: 6.8583 - mae: 6.8583\n",
            "Epoch 100/200\n",
            "13/13 [==============================] - 0s 5ms/step - loss: 6.8444 - mae: 6.8444\n",
            "Epoch 101/200\n",
            "13/13 [==============================] - 0s 5ms/step - loss: 6.6094 - mae: 6.6094\n",
            "Epoch 102/200\n",
            "13/13 [==============================] - 0s 5ms/step - loss: 6.6261 - mae: 6.6261\n",
            "Epoch 103/200\n",
            "13/13 [==============================] - 0s 5ms/step - loss: 6.5422 - mae: 6.5422\n",
            "Epoch 104/200\n",
            "13/13 [==============================] - 0s 4ms/step - loss: 6.5322 - mae: 6.5322\n",
            "Epoch 105/200\n",
            "13/13 [==============================] - 0s 5ms/step - loss: 6.6101 - mae: 6.6101\n",
            "Epoch 106/200\n",
            "13/13 [==============================] - 0s 5ms/step - loss: 6.6687 - mae: 6.6687\n",
            "Epoch 107/200\n",
            "13/13 [==============================] - 0s 5ms/step - loss: 6.6703 - mae: 6.6703\n",
            "Epoch 108/200\n",
            "13/13 [==============================] - 0s 5ms/step - loss: 6.7275 - mae: 6.7275\n",
            "Epoch 109/200\n",
            "13/13 [==============================] - 0s 5ms/step - loss: 6.6857 - mae: 6.6857\n",
            "Epoch 110/200\n",
            "13/13 [==============================] - 0s 5ms/step - loss: 6.5528 - mae: 6.5528\n",
            "Epoch 111/200\n",
            "13/13 [==============================] - 0s 5ms/step - loss: 6.6644 - mae: 6.6644\n",
            "Epoch 112/200\n",
            "13/13 [==============================] - 0s 5ms/step - loss: 6.6173 - mae: 6.6173\n",
            "Epoch 113/200\n",
            "13/13 [==============================] - 0s 6ms/step - loss: 6.8355 - mae: 6.8355\n",
            "Epoch 114/200\n",
            "13/13 [==============================] - 0s 5ms/step - loss: 6.7002 - mae: 6.7002\n",
            "Epoch 115/200\n",
            "13/13 [==============================] - 0s 5ms/step - loss: 6.7284 - mae: 6.7284\n",
            "Epoch 116/200\n",
            "13/13 [==============================] - 0s 5ms/step - loss: 6.5965 - mae: 6.5965\n",
            "Epoch 117/200\n",
            "13/13 [==============================] - 0s 5ms/step - loss: 6.7441 - mae: 6.7441\n",
            "Epoch 118/200\n",
            "13/13 [==============================] - 0s 4ms/step - loss: 7.0268 - mae: 7.0268\n",
            "Epoch 119/200\n",
            "13/13 [==============================] - 0s 4ms/step - loss: 7.2791 - mae: 7.2791\n",
            "Epoch 120/200\n",
            "13/13 [==============================] - 0s 5ms/step - loss: 7.1470 - mae: 7.1470\n",
            "Epoch 121/200\n",
            "13/13 [==============================] - 0s 5ms/step - loss: 6.8457 - mae: 6.8457\n",
            "Epoch 122/200\n",
            "13/13 [==============================] - 0s 5ms/step - loss: 6.5623 - mae: 6.5623\n",
            "Epoch 123/200\n",
            "13/13 [==============================] - 0s 5ms/step - loss: 6.5302 - mae: 6.5302\n",
            "Epoch 124/200\n",
            "13/13 [==============================] - 0s 5ms/step - loss: 6.7335 - mae: 6.7335\n",
            "Epoch 125/200\n",
            "13/13 [==============================] - 0s 5ms/step - loss: 6.6392 - mae: 6.6392\n",
            "Epoch 126/200\n",
            "13/13 [==============================] - 0s 5ms/step - loss: 6.7378 - mae: 6.7378\n",
            "Epoch 127/200\n",
            "13/13 [==============================] - 0s 5ms/step - loss: 6.6409 - mae: 6.6409\n",
            "Epoch 128/200\n",
            "13/13 [==============================] - 0s 5ms/step - loss: 6.5954 - mae: 6.5954\n",
            "Epoch 129/200\n",
            "13/13 [==============================] - 0s 5ms/step - loss: 6.7879 - mae: 6.7879\n",
            "Epoch 130/200\n",
            "13/13 [==============================] - 0s 5ms/step - loss: 6.8822 - mae: 6.8822\n",
            "Epoch 131/200\n",
            "13/13 [==============================] - 0s 5ms/step - loss: 6.8718 - mae: 6.8718\n",
            "Epoch 132/200\n",
            "13/13 [==============================] - 0s 6ms/step - loss: 6.6177 - mae: 6.6177\n",
            "Epoch 133/200\n",
            "13/13 [==============================] - 0s 7ms/step - loss: 6.6540 - mae: 6.6540\n",
            "Epoch 134/200\n",
            "13/13 [==============================] - 0s 8ms/step - loss: 6.5916 - mae: 6.5916\n",
            "Epoch 135/200\n",
            "13/13 [==============================] - 0s 8ms/step - loss: 6.5742 - mae: 6.5742\n",
            "Epoch 136/200\n",
            "13/13 [==============================] - 0s 7ms/step - loss: 6.5929 - mae: 6.5929\n",
            "Epoch 137/200\n",
            "13/13 [==============================] - 0s 7ms/step - loss: 6.8274 - mae: 6.8274\n",
            "Epoch 138/200\n",
            "13/13 [==============================] - 0s 7ms/step - loss: 6.8489 - mae: 6.8489\n",
            "Epoch 139/200\n",
            "13/13 [==============================] - 0s 9ms/step - loss: 6.6817 - mae: 6.6817\n",
            "Epoch 140/200\n",
            "13/13 [==============================] - 0s 8ms/step - loss: 6.6034 - mae: 6.6034\n",
            "Epoch 141/200\n",
            "13/13 [==============================] - 0s 8ms/step - loss: 6.5436 - mae: 6.5436\n",
            "Epoch 142/200\n",
            "13/13 [==============================] - 0s 7ms/step - loss: 6.8846 - mae: 6.8846\n",
            "Epoch 143/200\n",
            "13/13 [==============================] - 0s 7ms/step - loss: 6.5822 - mae: 6.5822\n",
            "Epoch 144/200\n",
            "13/13 [==============================] - 0s 7ms/step - loss: 6.6504 - mae: 6.6504\n",
            "Epoch 145/200\n",
            "13/13 [==============================] - 0s 7ms/step - loss: 6.6722 - mae: 6.6722\n",
            "Epoch 146/200\n",
            "13/13 [==============================] - 0s 7ms/step - loss: 6.5956 - mae: 6.5956\n",
            "Epoch 147/200\n",
            "13/13 [==============================] - 0s 9ms/step - loss: 6.5543 - mae: 6.5543\n",
            "Epoch 148/200\n",
            "13/13 [==============================] - 0s 9ms/step - loss: 6.6965 - mae: 6.6965\n",
            "Epoch 149/200\n",
            "13/13 [==============================] - 0s 8ms/step - loss: 6.8113 - mae: 6.8113\n",
            "Epoch 150/200\n",
            "13/13 [==============================] - 0s 8ms/step - loss: 6.6163 - mae: 6.6163\n",
            "Epoch 151/200\n",
            "13/13 [==============================] - 0s 7ms/step - loss: 6.7515 - mae: 6.7515\n",
            "Epoch 152/200\n",
            "13/13 [==============================] - 0s 7ms/step - loss: 6.9423 - mae: 6.9423\n",
            "Epoch 153/200\n",
            "13/13 [==============================] - 0s 7ms/step - loss: 6.9997 - mae: 6.9997\n",
            "Epoch 154/200\n",
            "13/13 [==============================] - 0s 8ms/step - loss: 6.5621 - mae: 6.5621\n",
            "Epoch 155/200\n",
            "13/13 [==============================] - 0s 7ms/step - loss: 6.5817 - mae: 6.5817\n",
            "Epoch 156/200\n",
            "13/13 [==============================] - 0s 7ms/step - loss: 6.5947 - mae: 6.5947\n",
            "Epoch 157/200\n",
            "13/13 [==============================] - 0s 8ms/step - loss: 6.5602 - mae: 6.5602\n",
            "Epoch 158/200\n",
            "13/13 [==============================] - 0s 8ms/step - loss: 6.5483 - mae: 6.5483\n",
            "Epoch 159/200\n",
            "13/13 [==============================] - 0s 7ms/step - loss: 6.7325 - mae: 6.7325\n",
            "Epoch 160/200\n",
            "13/13 [==============================] - 0s 8ms/step - loss: 6.9141 - mae: 6.9141\n",
            "Epoch 161/200\n",
            "13/13 [==============================] - 0s 8ms/step - loss: 6.6800 - mae: 6.6800\n",
            "Epoch 162/200\n",
            "13/13 [==============================] - 0s 8ms/step - loss: 6.6907 - mae: 6.6907\n",
            "Epoch 163/200\n",
            "13/13 [==============================] - 0s 8ms/step - loss: 6.6427 - mae: 6.6427\n",
            "Epoch 164/200\n",
            "13/13 [==============================] - 0s 8ms/step - loss: 6.5905 - mae: 6.5905\n",
            "Epoch 165/200\n",
            "13/13 [==============================] - 0s 8ms/step - loss: 6.5458 - mae: 6.5458\n",
            "Epoch 166/200\n",
            "13/13 [==============================] - 0s 8ms/step - loss: 6.6409 - mae: 6.6409\n",
            "Epoch 167/200\n",
            "13/13 [==============================] - 0s 8ms/step - loss: 6.6339 - mae: 6.6339\n",
            "Epoch 168/200\n",
            "13/13 [==============================] - 0s 8ms/step - loss: 6.6349 - mae: 6.6349\n",
            "Epoch 169/200\n",
            "13/13 [==============================] - 0s 8ms/step - loss: 6.7086 - mae: 6.7086\n",
            "Epoch 170/200\n",
            "13/13 [==============================] - 0s 8ms/step - loss: 6.7369 - mae: 6.7369\n",
            "Epoch 171/200\n",
            "13/13 [==============================] - 0s 7ms/step - loss: 6.8733 - mae: 6.8733\n",
            "Epoch 172/200\n",
            "13/13 [==============================] - 0s 5ms/step - loss: 7.1462 - mae: 7.1462\n",
            "Epoch 173/200\n",
            "13/13 [==============================] - 0s 5ms/step - loss: 6.7747 - mae: 6.7747\n",
            "Epoch 174/200\n",
            "13/13 [==============================] - 0s 5ms/step - loss: 6.5591 - mae: 6.5591\n",
            "Epoch 175/200\n",
            "13/13 [==============================] - 0s 6ms/step - loss: 6.6423 - mae: 6.6423\n",
            "Epoch 176/200\n",
            "13/13 [==============================] - 0s 5ms/step - loss: 6.6831 - mae: 6.6831\n",
            "Epoch 177/200\n",
            "13/13 [==============================] - 0s 5ms/step - loss: 6.7270 - mae: 6.7270\n",
            "Epoch 178/200\n",
            "13/13 [==============================] - 0s 6ms/step - loss: 6.7723 - mae: 6.7723\n",
            "Epoch 179/200\n",
            "13/13 [==============================] - 0s 6ms/step - loss: 6.8706 - mae: 6.8706\n",
            "Epoch 180/200\n",
            "13/13 [==============================] - 0s 5ms/step - loss: 6.6150 - mae: 6.6150\n",
            "Epoch 181/200\n",
            "13/13 [==============================] - 0s 5ms/step - loss: 6.5470 - mae: 6.5470\n",
            "Epoch 182/200\n",
            "13/13 [==============================] - 0s 6ms/step - loss: 6.6043 - mae: 6.6043\n",
            "Epoch 183/200\n",
            "13/13 [==============================] - 0s 5ms/step - loss: 6.6489 - mae: 6.6489\n",
            "Epoch 184/200\n",
            "13/13 [==============================] - 0s 5ms/step - loss: 6.6580 - mae: 6.6580\n",
            "Epoch 185/200\n",
            "13/13 [==============================] - 0s 5ms/step - loss: 6.5321 - mae: 6.5321\n",
            "Epoch 186/200\n",
            "13/13 [==============================] - 0s 5ms/step - loss: 6.5553 - mae: 6.5553\n",
            "Epoch 187/200\n",
            "13/13 [==============================] - 0s 5ms/step - loss: 6.6602 - mae: 6.6602\n",
            "Epoch 188/200\n",
            "13/13 [==============================] - 0s 5ms/step - loss: 6.6096 - mae: 6.6096\n",
            "Epoch 189/200\n",
            "13/13 [==============================] - 0s 5ms/step - loss: 6.5605 - mae: 6.5605\n",
            "Epoch 190/200\n",
            "13/13 [==============================] - 0s 5ms/step - loss: 6.5789 - mae: 6.5789\n",
            "Epoch 191/200\n",
            "13/13 [==============================] - 0s 5ms/step - loss: 6.5621 - mae: 6.5621\n",
            "Epoch 192/200\n",
            "13/13 [==============================] - 0s 6ms/step - loss: 6.6451 - mae: 6.6451\n",
            "Epoch 193/200\n",
            "13/13 [==============================] - 0s 5ms/step - loss: 6.6391 - mae: 6.6391\n",
            "Epoch 194/200\n",
            "13/13 [==============================] - 0s 5ms/step - loss: 6.6290 - mae: 6.6290\n",
            "Epoch 195/200\n",
            "13/13 [==============================] - 0s 5ms/step - loss: 6.8085 - mae: 6.8085\n",
            "Epoch 196/200\n",
            "13/13 [==============================] - 0s 5ms/step - loss: 6.7329 - mae: 6.7329\n",
            "Epoch 197/200\n",
            "13/13 [==============================] - 0s 4ms/step - loss: 6.6192 - mae: 6.6193\n",
            "Epoch 198/200\n",
            "13/13 [==============================] - 0s 5ms/step - loss: 6.5798 - mae: 6.5798\n",
            "Epoch 199/200\n",
            "13/13 [==============================] - 0s 5ms/step - loss: 6.7277 - mae: 6.7277\n",
            "Epoch 200/200\n",
            "13/13 [==============================] - 0s 5ms/step - loss: 6.7940 - mae: 6.7940\n"
          ]
        }
      ]
    },
    {
      "cell_type": "code",
      "source": [
        "model_bh.evaluate(x_test, y_test)"
      ],
      "metadata": {
        "colab": {
          "base_uri": "https://localhost:8080/"
        },
        "id": "9AXBCfiaH3mN",
        "outputId": "9a726c99-f105-4926-8bd1-55cb16e1d1d9"
      },
      "execution_count": 17,
      "outputs": [
        {
          "output_type": "stream",
          "name": "stdout",
          "text": [
            "4/4 [==============================] - 0s 11ms/step - loss: 6.6671 - mae: 6.6671\n"
          ]
        },
        {
          "output_type": "execute_result",
          "data": {
            "text/plain": [
              "[6.667118549346924, 6.667118072509766]"
            ]
          },
          "metadata": {},
          "execution_count": 17
        }
      ]
    },
    {
      "cell_type": "code",
      "source": [
        "pd.DataFrame(hist.history).plot()\n",
        "plt.ylabel(\"loss\")\n",
        "plt.xlabel(\"epochs\")"
      ],
      "metadata": {
        "colab": {
          "base_uri": "https://localhost:8080/",
          "height": 466
        },
        "id": "8yvX5MGeIgke",
        "outputId": "3193e610-06ef-442f-dfc4-e8f8fbb9eead"
      },
      "execution_count": 20,
      "outputs": [
        {
          "output_type": "execute_result",
          "data": {
            "text/plain": [
              "Text(0.5, 0, 'epochs')"
            ]
          },
          "metadata": {},
          "execution_count": 20
        },
        {
          "output_type": "display_data",
          "data": {
            "text/plain": [
              "<Figure size 640x480 with 1 Axes>"
            ],
            "image/png": "[encoded data removed]"
          },
          "metadata": {}
        }
      ]
    }
  ]
}